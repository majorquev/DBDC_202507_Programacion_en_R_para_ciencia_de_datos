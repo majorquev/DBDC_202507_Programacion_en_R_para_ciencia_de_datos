{
  "nbformat": 4,
  "nbformat_minor": 0,
  "metadata": {
    "colab": {
      "provenance": [],
      "include_colab_link": true
    },
    "kernelspec": {
      "name": "ir",
      "display_name": "R"
    }
  },
  "cells": [
    {
      "cell_type": "markdown",
      "metadata": {
        "id": "view-in-github",
        "colab_type": "text"
      },
      "source": [
        "<a href=\"https://colab.research.google.com/github/majorquev/DBDC_202507_Programacion_en_R_para_ciencia_de_datos/blob/main/Clases/Clase1/Clase_1_02_vectores.ipynb\" target=\"_parent\"><img src=\"https://colab.research.google.com/assets/colab-badge.svg\" alt=\"Open In Colab\"/></a>"
      ]
    },
    {
      "cell_type": "markdown",
      "metadata": {
        "collapsed": true,
        "id": "Yb2RXjL2Igun"
      },
      "source": [
        "# Parte 1: Introducción a R (continuación)\n",
        "\n",
        "**Autor:** Miguel Jorquera Viguera<br>\n",
        "**E-mail:** majorquev@gmail.com<br>\n",
        "**Ayudante:** Rodrigo Morales <br>\n",
        "**E-mail ayudante:** rumorale1@gmail.com\n",
        "\n"
      ]
    },
    {
      "cell_type": "markdown",
      "metadata": {
        "id": "d_bHZs66Iguo"
      },
      "source": [
        "## 3. Vectores y matrices\n",
        "\n",
        "### 3.1 Vectores\n",
        "\n",
        "En R, así como en la mayoría de los lenguajes de programación, uno de los objetos más usuales para almacenar información son los vectores, los que corresponden a arreglos unidimensionales que almacenan un mismo tipo de dato en cada una de sus entradas.\n",
        "\n",
        "Todo vector en R se puede declarar con la letra \"c\" seguido de los elementos que lo componen entre paréntesis y separados por comas."
      ]
    },
    {
      "cell_type": "code",
      "metadata": {
        "id": "ljQ0JcsTIgup"
      },
      "source": [
        "# Declaración de dos vectores\n",
        "v1 <- c(1,1,2,3,5,8)\n",
        "v2 <- c(13,21)\n",
        "p1 <- c(\"hola\", \"buen\", \"dia\", \"random\")\n"
      ],
      "execution_count": 2,
      "outputs": []
    },
    {
      "cell_type": "code",
      "source": [
        "v1\n",
        "v2\n",
        "p1"
      ],
      "metadata": {
        "id": "vSzj-fQe26Dy",
        "outputId": "4f5df412-99a9-4477-e0f8-5d3b109b1fd1",
        "colab": {
          "base_uri": "https://localhost:8080/",
          "height": 69
        }
      },
      "execution_count": 3,
      "outputs": [
        {
          "output_type": "display_data",
          "data": {
            "text/html": [
              "<style>\n",
              ".list-inline {list-style: none; margin:0; padding: 0}\n",
              ".list-inline>li {display: inline-block}\n",
              ".list-inline>li:not(:last-child)::after {content: \"\\00b7\"; padding: 0 .5ex}\n",
              "</style>\n",
              "<ol class=list-inline><li>1</li><li>1</li><li>2</li><li>3</li><li>5</li><li>8</li></ol>\n"
            ],
            "text/markdown": "1. 1\n2. 1\n3. 2\n4. 3\n5. 5\n6. 8\n\n\n",
            "text/latex": "\\begin{enumerate*}\n\\item 1\n\\item 1\n\\item 2\n\\item 3\n\\item 5\n\\item 8\n\\end{enumerate*}\n",
            "text/plain": [
              "[1] 1 1 2 3 5 8"
            ]
          },
          "metadata": {}
        },
        {
          "output_type": "display_data",
          "data": {
            "text/html": [
              "<style>\n",
              ".list-inline {list-style: none; margin:0; padding: 0}\n",
              ".list-inline>li {display: inline-block}\n",
              ".list-inline>li:not(:last-child)::after {content: \"\\00b7\"; padding: 0 .5ex}\n",
              "</style>\n",
              "<ol class=list-inline><li>13</li><li>21</li></ol>\n"
            ],
            "text/markdown": "1. 13\n2. 21\n\n\n",
            "text/latex": "\\begin{enumerate*}\n\\item 13\n\\item 21\n\\end{enumerate*}\n",
            "text/plain": [
              "[1] 13 21"
            ]
          },
          "metadata": {}
        },
        {
          "output_type": "display_data",
          "data": {
            "text/html": [
              "<style>\n",
              ".list-inline {list-style: none; margin:0; padding: 0}\n",
              ".list-inline>li {display: inline-block}\n",
              ".list-inline>li:not(:last-child)::after {content: \"\\00b7\"; padding: 0 .5ex}\n",
              "</style>\n",
              "<ol class=list-inline><li>'hola'</li><li>'buen'</li><li>'dia'</li><li>'random'</li></ol>\n"
            ],
            "text/markdown": "1. 'hola'\n2. 'buen'\n3. 'dia'\n4. 'random'\n\n\n",
            "text/latex": "\\begin{enumerate*}\n\\item 'hola'\n\\item 'buen'\n\\item 'dia'\n\\item 'random'\n\\end{enumerate*}\n",
            "text/plain": [
              "[1] \"hola\"   \"buen\"   \"dia\"    \"random\""
            ]
          },
          "metadata": {}
        }
      ]
    },
    {
      "cell_type": "code",
      "metadata": {
        "id": "GxHhDdS4Iguy",
        "outputId": "8d72d622-bef1-459f-c4f5-f0c4f84131d2",
        "colab": {
          "base_uri": "https://localhost:8080/",
          "height": 69
        }
      },
      "source": [
        "# clase y tipo de dato\n",
        "class(v1)\n",
        "typeof(v1)\n",
        "\n",
        "class(p1)"
      ],
      "execution_count": 4,
      "outputs": [
        {
          "output_type": "display_data",
          "data": {
            "text/html": [
              "'numeric'"
            ],
            "text/markdown": "'numeric'",
            "text/latex": "'numeric'",
            "text/plain": [
              "[1] \"numeric\""
            ]
          },
          "metadata": {}
        },
        {
          "output_type": "display_data",
          "data": {
            "text/html": [
              "'double'"
            ],
            "text/markdown": "'double'",
            "text/latex": "'double'",
            "text/plain": [
              "[1] \"double\""
            ]
          },
          "metadata": {}
        },
        {
          "output_type": "display_data",
          "data": {
            "text/html": [
              "'character'"
            ],
            "text/markdown": "'character'",
            "text/latex": "'character'",
            "text/plain": [
              "[1] \"character\""
            ]
          },
          "metadata": {}
        }
      ]
    },
    {
      "cell_type": "code",
      "metadata": {
        "id": "FUBvbIN9Igu4",
        "outputId": "36c098d4-080c-4018-f623-cd22c32d9e35",
        "colab": {
          "base_uri": "https://localhost:8080/",
          "height": 34
        }
      },
      "source": [
        "# vectores lógicos\n",
        "boll1 <- c(T,F,F,T,T)\n",
        "boll1"
      ],
      "execution_count": 5,
      "outputs": [
        {
          "output_type": "display_data",
          "data": {
            "text/html": [
              "<style>\n",
              ".list-inline {list-style: none; margin:0; padding: 0}\n",
              ".list-inline>li {display: inline-block}\n",
              ".list-inline>li:not(:last-child)::after {content: \"\\00b7\"; padding: 0 .5ex}\n",
              "</style>\n",
              "<ol class=list-inline><li>TRUE</li><li>FALSE</li><li>FALSE</li><li>TRUE</li><li>TRUE</li></ol>\n"
            ],
            "text/markdown": "1. TRUE\n2. FALSE\n3. FALSE\n4. TRUE\n5. TRUE\n\n\n",
            "text/latex": "\\begin{enumerate*}\n\\item TRUE\n\\item FALSE\n\\item FALSE\n\\item TRUE\n\\item TRUE\n\\end{enumerate*}\n",
            "text/plain": [
              "[1]  TRUE FALSE FALSE  TRUE  TRUE"
            ]
          },
          "metadata": {}
        }
      ]
    },
    {
      "cell_type": "code",
      "metadata": {
        "id": "R88mjniaIgu_",
        "outputId": "4c74de73-4fd9-454c-be05-abcb25aa3a29",
        "colab": {
          "base_uri": "https://localhost:8080/",
          "height": 34
        }
      },
      "source": [
        "# Nombres de las entradas de un vector\n",
        "v3 <- c(num1 = 99, num2 = -5)\n",
        "v3\n"
      ],
      "execution_count": 6,
      "outputs": [
        {
          "output_type": "display_data",
          "data": {
            "text/html": [
              "<style>\n",
              ".dl-inline {width: auto; margin:0; padding: 0}\n",
              ".dl-inline>dt, .dl-inline>dd {float: none; width: auto; display: inline-block}\n",
              ".dl-inline>dt::after {content: \":\\0020\"; padding-right: .5ex}\n",
              ".dl-inline>dt:not(:first-of-type) {padding-left: .5ex}\n",
              "</style><dl class=dl-inline><dt>num1</dt><dd>99</dd><dt>num2</dt><dd>-5</dd></dl>\n"
            ],
            "text/markdown": "num1\n:   99num2\n:   -5\n\n",
            "text/latex": "\\begin{description*}\n\\item[num1] 99\n\\item[num2] -5\n\\end{description*}\n",
            "text/plain": [
              "num1 num2 \n",
              "  99   -5 "
            ]
          },
          "metadata": {}
        }
      ]
    },
    {
      "cell_type": "code",
      "metadata": {
        "id": "E6dxkyP5IgvF",
        "outputId": "87504ee8-bf4b-422a-c14c-9f459dfdc58c",
        "colab": {
          "base_uri": "https://localhost:8080/",
          "height": 52
        }
      },
      "source": [
        "# nombres de las entradas con la función, names()\n",
        "names(v3) # Retorna un vector con los nombres del objeto.\n",
        "names(v2)"
      ],
      "execution_count": 7,
      "outputs": [
        {
          "output_type": "display_data",
          "data": {
            "text/html": [
              "<style>\n",
              ".list-inline {list-style: none; margin:0; padding: 0}\n",
              ".list-inline>li {display: inline-block}\n",
              ".list-inline>li:not(:last-child)::after {content: \"\\00b7\"; padding: 0 .5ex}\n",
              "</style>\n",
              "<ol class=list-inline><li>'num1'</li><li>'num2'</li></ol>\n"
            ],
            "text/markdown": "1. 'num1'\n2. 'num2'\n\n\n",
            "text/latex": "\\begin{enumerate*}\n\\item 'num1'\n\\item 'num2'\n\\end{enumerate*}\n",
            "text/plain": [
              "[1] \"num1\" \"num2\""
            ]
          },
          "metadata": {}
        },
        {
          "output_type": "display_data",
          "data": {
            "text/plain": [
              "NULL"
            ]
          },
          "metadata": {}
        }
      ]
    },
    {
      "cell_type": "code",
      "source": [
        "v2"
      ],
      "metadata": {
        "id": "arsjCfEc5FYm",
        "outputId": "80f215b0-5029-4ad9-a0d4-7fd6fa14fab9",
        "colab": {
          "base_uri": "https://localhost:8080/",
          "height": 34
        }
      },
      "execution_count": 8,
      "outputs": [
        {
          "output_type": "display_data",
          "data": {
            "text/html": [
              "<style>\n",
              ".list-inline {list-style: none; margin:0; padding: 0}\n",
              ".list-inline>li {display: inline-block}\n",
              ".list-inline>li:not(:last-child)::after {content: \"\\00b7\"; padding: 0 .5ex}\n",
              "</style>\n",
              "<ol class=list-inline><li>13</li><li>21</li></ol>\n"
            ],
            "text/markdown": "1. 13\n2. 21\n\n\n",
            "text/latex": "\\begin{enumerate*}\n\\item 13\n\\item 21\n\\end{enumerate*}\n",
            "text/plain": [
              "[1] 13 21"
            ]
          },
          "metadata": {}
        }
      ]
    },
    {
      "cell_type": "code",
      "metadata": {
        "id": "OAhPpN3vIgvB"
      },
      "source": [
        "# podemos asignar los nombres a v2\n",
        "names(v2) <- c(\"n7\",\"n8\")"
      ],
      "execution_count": 9,
      "outputs": []
    },
    {
      "cell_type": "code",
      "source": [
        "v2\n",
        "names(v2)"
      ],
      "metadata": {
        "id": "vT1xX5385gsI",
        "outputId": "4b27960b-c218-4d86-adcf-6bdf341ddbb6",
        "colab": {
          "base_uri": "https://localhost:8080/",
          "height": 52
        }
      },
      "execution_count": 10,
      "outputs": [
        {
          "output_type": "display_data",
          "data": {
            "text/html": [
              "<style>\n",
              ".dl-inline {width: auto; margin:0; padding: 0}\n",
              ".dl-inline>dt, .dl-inline>dd {float: none; width: auto; display: inline-block}\n",
              ".dl-inline>dt::after {content: \":\\0020\"; padding-right: .5ex}\n",
              ".dl-inline>dt:not(:first-of-type) {padding-left: .5ex}\n",
              "</style><dl class=dl-inline><dt>n7</dt><dd>13</dd><dt>n8</dt><dd>21</dd></dl>\n"
            ],
            "text/markdown": "n7\n:   13n8\n:   21\n\n",
            "text/latex": "\\begin{description*}\n\\item[n7] 13\n\\item[n8] 21\n\\end{description*}\n",
            "text/plain": [
              "n7 n8 \n",
              "13 21 "
            ]
          },
          "metadata": {}
        },
        {
          "output_type": "display_data",
          "data": {
            "text/html": [
              "<style>\n",
              ".list-inline {list-style: none; margin:0; padding: 0}\n",
              ".list-inline>li {display: inline-block}\n",
              ".list-inline>li:not(:last-child)::after {content: \"\\00b7\"; padding: 0 .5ex}\n",
              "</style>\n",
              "<ol class=list-inline><li>'n7'</li><li>'n8'</li></ol>\n"
            ],
            "text/markdown": "1. 'n7'\n2. 'n8'\n\n\n",
            "text/latex": "\\begin{enumerate*}\n\\item 'n7'\n\\item 'n8'\n\\end{enumerate*}\n",
            "text/plain": [
              "[1] \"n7\" \"n8\""
            ]
          },
          "metadata": {}
        }
      ]
    },
    {
      "cell_type": "code",
      "metadata": {
        "id": "7Ayre5BlIgvH",
        "outputId": "0c55f441-cf89-4ba5-9867-e6a2e59ced50",
        "colab": {
          "base_uri": "https://localhost:8080/",
          "height": 34
        }
      },
      "source": [
        "#combinar vectores\n",
        "v4 <- c(v3,v2)\n",
        "v4"
      ],
      "execution_count": 11,
      "outputs": [
        {
          "output_type": "display_data",
          "data": {
            "text/html": [
              "<style>\n",
              ".dl-inline {width: auto; margin:0; padding: 0}\n",
              ".dl-inline>dt, .dl-inline>dd {float: none; width: auto; display: inline-block}\n",
              ".dl-inline>dt::after {content: \":\\0020\"; padding-right: .5ex}\n",
              ".dl-inline>dt:not(:first-of-type) {padding-left: .5ex}\n",
              "</style><dl class=dl-inline><dt>num1</dt><dd>99</dd><dt>num2</dt><dd>-5</dd><dt>n7</dt><dd>13</dd><dt>n8</dt><dd>21</dd></dl>\n"
            ],
            "text/markdown": "num1\n:   99num2\n:   -5n7\n:   13n8\n:   21\n\n",
            "text/latex": "\\begin{description*}\n\\item[num1] 99\n\\item[num2] -5\n\\item[n7] 13\n\\item[n8] 21\n\\end{description*}\n",
            "text/plain": [
              "num1 num2   n7   n8 \n",
              "  99   -5   13   21 "
            ]
          },
          "metadata": {}
        }
      ]
    },
    {
      "cell_type": "code",
      "metadata": {
        "id": "QETBghXxIgvI"
      },
      "source": [
        "# c : es una abreviación de \"combine\"\n"
      ],
      "execution_count": 12,
      "outputs": []
    },
    {
      "cell_type": "code",
      "source": [
        "# NOTA:\n",
        "# Un ventor puede tener nombres en sus casilaas , y las podemos consultar y/o definir/modificar mediante la función names()\n",
        "# El largo de unvcetor a través de la función length()\n",
        "length(v4)\n",
        "length(v1)"
      ],
      "metadata": {
        "id": "F-A6DdCz6DDA",
        "outputId": "eb461f11-0948-402e-ee0e-a914e56db655",
        "colab": {
          "base_uri": "https://localhost:8080/",
          "height": 52
        }
      },
      "execution_count": 13,
      "outputs": [
        {
          "output_type": "display_data",
          "data": {
            "text/html": [
              "4"
            ],
            "text/markdown": "4",
            "text/latex": "4",
            "text/plain": [
              "[1] 4"
            ]
          },
          "metadata": {}
        },
        {
          "output_type": "display_data",
          "data": {
            "text/html": [
              "6"
            ],
            "text/markdown": "6",
            "text/latex": "6",
            "text/plain": [
              "[1] 6"
            ]
          },
          "metadata": {}
        }
      ]
    },
    {
      "cell_type": "markdown",
      "metadata": {
        "id": "MX35j24_IgvN"
      },
      "source": [
        "#### 3.1.1 Acceso a los elementos de un vector\n",
        "\n",
        "El acceso a los elementos de un vector se puede llevar acabo indicando la posición del elemento (los naturales parten en 1!), el nombre de la casilla que lo contiene, o bien mediante sentencias lógicas que retornen \"TRUE\" en la posición deseada.\n",
        "\n"
      ]
    },
    {
      "cell_type": "code",
      "source": [
        "v1"
      ],
      "metadata": {
        "id": "k53ND0Nc6zs8",
        "outputId": "d1788551-d4e3-45f8-8a13-72679492a947",
        "colab": {
          "base_uri": "https://localhost:8080/",
          "height": 34
        }
      },
      "execution_count": 14,
      "outputs": [
        {
          "output_type": "display_data",
          "data": {
            "text/html": [
              "<style>\n",
              ".list-inline {list-style: none; margin:0; padding: 0}\n",
              ".list-inline>li {display: inline-block}\n",
              ".list-inline>li:not(:last-child)::after {content: \"\\00b7\"; padding: 0 .5ex}\n",
              "</style>\n",
              "<ol class=list-inline><li>1</li><li>1</li><li>2</li><li>3</li><li>5</li><li>8</li></ol>\n"
            ],
            "text/markdown": "1. 1\n2. 1\n3. 2\n4. 3\n5. 5\n6. 8\n\n\n",
            "text/latex": "\\begin{enumerate*}\n\\item 1\n\\item 1\n\\item 2\n\\item 3\n\\item 5\n\\item 8\n\\end{enumerate*}\n",
            "text/plain": [
              "[1] 1 1 2 3 5 8"
            ]
          },
          "metadata": {}
        }
      ]
    },
    {
      "cell_type": "code",
      "metadata": {
        "id": "zW2_TzKxIgvN",
        "outputId": "f927625e-3415-4d53-fb17-83378bbd6e37",
        "colab": {
          "base_uri": "https://localhost:8080/",
          "height": 34
        }
      },
      "source": [
        "# Mediante posición\n",
        "v1[4] # Retorna el elemtno de la posición número 4 del vector v1"
      ],
      "execution_count": 15,
      "outputs": [
        {
          "output_type": "display_data",
          "data": {
            "text/html": [
              "3"
            ],
            "text/markdown": "3",
            "text/latex": "3",
            "text/plain": [
              "[1] 3"
            ]
          },
          "metadata": {}
        }
      ]
    },
    {
      "cell_type": "code",
      "metadata": {
        "id": "XWL1ZIyMIgvR",
        "outputId": "959b1be2-0c06-4048-c929-a5e3e626b6c2",
        "colab": {
          "base_uri": "https://localhost:8080/",
          "height": 34
        }
      },
      "source": [
        "# retorna los elementos de las casillas 1  y 4 de v1\n",
        "v1[c(1,4)]\n"
      ],
      "execution_count": 16,
      "outputs": [
        {
          "output_type": "display_data",
          "data": {
            "text/html": [
              "<style>\n",
              ".list-inline {list-style: none; margin:0; padding: 0}\n",
              ".list-inline>li {display: inline-block}\n",
              ".list-inline>li:not(:last-child)::after {content: \"\\00b7\"; padding: 0 .5ex}\n",
              "</style>\n",
              "<ol class=list-inline><li>1</li><li>3</li></ol>\n"
            ],
            "text/markdown": "1. 1\n2. 3\n\n\n",
            "text/latex": "\\begin{enumerate*}\n\\item 1\n\\item 3\n\\end{enumerate*}\n",
            "text/plain": [
              "[1] 1 3"
            ]
          },
          "metadata": {}
        }
      ]
    },
    {
      "cell_type": "code",
      "metadata": {
        "id": "uBqEKq1aIgvT",
        "outputId": "1745347f-e796-47b6-90cd-bb7043aa35ee",
        "colab": {
          "base_uri": "https://localhost:8080/",
          "height": 34
        }
      },
      "source": [
        "#NOTA 3:5, R lo interpreta como c(3,4,5)\n",
        "v1[2:5]"
      ],
      "execution_count": 17,
      "outputs": [
        {
          "output_type": "display_data",
          "data": {
            "text/html": [
              "<style>\n",
              ".list-inline {list-style: none; margin:0; padding: 0}\n",
              ".list-inline>li {display: inline-block}\n",
              ".list-inline>li:not(:last-child)::after {content: \"\\00b7\"; padding: 0 .5ex}\n",
              "</style>\n",
              "<ol class=list-inline><li>1</li><li>2</li><li>3</li><li>5</li></ol>\n"
            ],
            "text/markdown": "1. 1\n2. 2\n3. 3\n4. 5\n\n\n",
            "text/latex": "\\begin{enumerate*}\n\\item 1\n\\item 2\n\\item 3\n\\item 5\n\\end{enumerate*}\n",
            "text/plain": [
              "[1] 1 2 3 5"
            ]
          },
          "metadata": {}
        }
      ]
    },
    {
      "cell_type": "code",
      "metadata": {
        "id": "XIuQSfvKIgvV",
        "outputId": "9b8a5cf5-4a29-47d3-e96f-6f0302518b82",
        "colab": {
          "base_uri": "https://localhost:8080/",
          "height": 69
        }
      },
      "source": [
        "# podemos acceder a los elmentos mediante el nombre\n",
        "v4\n",
        "\n",
        "v4[\"num2\"]\n",
        "v4[c(\"num2\",\"n8\")]"
      ],
      "execution_count": 18,
      "outputs": [
        {
          "output_type": "display_data",
          "data": {
            "text/html": [
              "<style>\n",
              ".dl-inline {width: auto; margin:0; padding: 0}\n",
              ".dl-inline>dt, .dl-inline>dd {float: none; width: auto; display: inline-block}\n",
              ".dl-inline>dt::after {content: \":\\0020\"; padding-right: .5ex}\n",
              ".dl-inline>dt:not(:first-of-type) {padding-left: .5ex}\n",
              "</style><dl class=dl-inline><dt>num1</dt><dd>99</dd><dt>num2</dt><dd>-5</dd><dt>n7</dt><dd>13</dd><dt>n8</dt><dd>21</dd></dl>\n"
            ],
            "text/markdown": "num1\n:   99num2\n:   -5n7\n:   13n8\n:   21\n\n",
            "text/latex": "\\begin{description*}\n\\item[num1] 99\n\\item[num2] -5\n\\item[n7] 13\n\\item[n8] 21\n\\end{description*}\n",
            "text/plain": [
              "num1 num2   n7   n8 \n",
              "  99   -5   13   21 "
            ]
          },
          "metadata": {}
        },
        {
          "output_type": "display_data",
          "data": {
            "text/html": [
              "<strong>num2:</strong> -5"
            ],
            "text/markdown": "**num2:** -5",
            "text/latex": "\\textbf{num2:} -5",
            "text/plain": [
              "num2 \n",
              "  -5 "
            ]
          },
          "metadata": {}
        },
        {
          "output_type": "display_data",
          "data": {
            "text/html": [
              "<style>\n",
              ".dl-inline {width: auto; margin:0; padding: 0}\n",
              ".dl-inline>dt, .dl-inline>dd {float: none; width: auto; display: inline-block}\n",
              ".dl-inline>dt::after {content: \":\\0020\"; padding-right: .5ex}\n",
              ".dl-inline>dt:not(:first-of-type) {padding-left: .5ex}\n",
              "</style><dl class=dl-inline><dt>num2</dt><dd>-5</dd><dt>n8</dt><dd>21</dd></dl>\n"
            ],
            "text/markdown": "num2\n:   -5n8\n:   21\n\n",
            "text/latex": "\\begin{description*}\n\\item[num2] -5\n\\item[n8] 21\n\\end{description*}\n",
            "text/plain": [
              "num2   n8 \n",
              "  -5   21 "
            ]
          },
          "metadata": {}
        }
      ]
    },
    {
      "cell_type": "code",
      "metadata": {
        "id": "IHjnaSSyIgvX"
      },
      "source": [
        "# cambiar una entrada de un vector o cambiar un nombre\n",
        "v4[1] <- 100\n"
      ],
      "execution_count": 19,
      "outputs": []
    },
    {
      "cell_type": "code",
      "metadata": {
        "id": "KCKDbYtRIgvZ",
        "outputId": "dfdca4ca-bc29-4aed-e1b1-543306446507",
        "colab": {
          "base_uri": "https://localhost:8080/",
          "height": 34
        }
      },
      "source": [
        "v4"
      ],
      "execution_count": 20,
      "outputs": [
        {
          "output_type": "display_data",
          "data": {
            "text/html": [
              "<style>\n",
              ".dl-inline {width: auto; margin:0; padding: 0}\n",
              ".dl-inline>dt, .dl-inline>dd {float: none; width: auto; display: inline-block}\n",
              ".dl-inline>dt::after {content: \":\\0020\"; padding-right: .5ex}\n",
              ".dl-inline>dt:not(:first-of-type) {padding-left: .5ex}\n",
              "</style><dl class=dl-inline><dt>num1</dt><dd>100</dd><dt>num2</dt><dd>-5</dd><dt>n7</dt><dd>13</dd><dt>n8</dt><dd>21</dd></dl>\n"
            ],
            "text/markdown": "num1\n:   100num2\n:   -5n7\n:   13n8\n:   21\n\n",
            "text/latex": "\\begin{description*}\n\\item[num1] 100\n\\item[num2] -5\n\\item[n7] 13\n\\item[n8] 21\n\\end{description*}\n",
            "text/plain": [
              "num1 num2   n7   n8 \n",
              " 100   -5   13   21 "
            ]
          },
          "metadata": {}
        }
      ]
    },
    {
      "cell_type": "code",
      "metadata": {
        "id": "cVzhj4ASIgvb"
      },
      "source": [
        "# podemos cambiar uno de los nombres (ej, queremos cambiar el segundo nombre de v4, por \"n6\")\n",
        "names(v4)[2] <- \"n6\"\n"
      ],
      "execution_count": 21,
      "outputs": []
    },
    {
      "cell_type": "code",
      "source": [
        "v4"
      ],
      "metadata": {
        "id": "9uLOVWYh8U-o",
        "outputId": "179aeb47-0fe5-4fb9-c17d-2b9f3ba737e2",
        "colab": {
          "base_uri": "https://localhost:8080/",
          "height": 34
        }
      },
      "execution_count": 22,
      "outputs": [
        {
          "output_type": "display_data",
          "data": {
            "text/html": [
              "<style>\n",
              ".dl-inline {width: auto; margin:0; padding: 0}\n",
              ".dl-inline>dt, .dl-inline>dd {float: none; width: auto; display: inline-block}\n",
              ".dl-inline>dt::after {content: \":\\0020\"; padding-right: .5ex}\n",
              ".dl-inline>dt:not(:first-of-type) {padding-left: .5ex}\n",
              "</style><dl class=dl-inline><dt>num1</dt><dd>100</dd><dt>n6</dt><dd>-5</dd><dt>n7</dt><dd>13</dd><dt>n8</dt><dd>21</dd></dl>\n"
            ],
            "text/markdown": "num1\n:   100n6\n:   -5n7\n:   13n8\n:   21\n\n",
            "text/latex": "\\begin{description*}\n\\item[num1] 100\n\\item[n6] -5\n\\item[n7] 13\n\\item[n8] 21\n\\end{description*}\n",
            "text/plain": [
              "num1   n6   n7   n8 \n",
              " 100   -5   13   21 "
            ]
          },
          "metadata": {}
        }
      ]
    },
    {
      "cell_type": "code",
      "metadata": {
        "id": "b6oqx_D4Igvd"
      },
      "source": [
        "# podemos modificar varias posiciones a la vez\n",
        "# queremos re-asignar los valores -30 y -99 en las posiciones 3 y 4 respecivamente\n",
        "\n",
        "v4[c(3,4)] <- c(-30,-99)\n"
      ],
      "execution_count": 23,
      "outputs": []
    },
    {
      "cell_type": "code",
      "source": [
        "v4"
      ],
      "metadata": {
        "id": "CUUDTikl882n",
        "outputId": "fb41450d-95b2-4725-84b2-d3c6aa846f21",
        "colab": {
          "base_uri": "https://localhost:8080/",
          "height": 34
        }
      },
      "execution_count": 24,
      "outputs": [
        {
          "output_type": "display_data",
          "data": {
            "text/html": [
              "<style>\n",
              ".dl-inline {width: auto; margin:0; padding: 0}\n",
              ".dl-inline>dt, .dl-inline>dd {float: none; width: auto; display: inline-block}\n",
              ".dl-inline>dt::after {content: \":\\0020\"; padding-right: .5ex}\n",
              ".dl-inline>dt:not(:first-of-type) {padding-left: .5ex}\n",
              "</style><dl class=dl-inline><dt>num1</dt><dd>100</dd><dt>n6</dt><dd>-5</dd><dt>n7</dt><dd>-30</dd><dt>n8</dt><dd>-99</dd></dl>\n"
            ],
            "text/markdown": "num1\n:   100n6\n:   -5n7\n:   -30n8\n:   -99\n\n",
            "text/latex": "\\begin{description*}\n\\item[num1] 100\n\\item[n6] -5\n\\item[n7] -30\n\\item[n8] -99\n\\end{description*}\n",
            "text/plain": [
              "num1   n6   n7   n8 \n",
              " 100   -5  -30  -99 "
            ]
          },
          "metadata": {}
        }
      ]
    },
    {
      "cell_type": "markdown",
      "metadata": {
        "id": "XzyIBLZxIgvg"
      },
      "source": [
        "**Algunas sentencias de utilidad**\n",
        "\n",
        "También es posible acceder a los alementos de un vector mediante sentencias lógicas que retornen \"TRUE\" en la posición deseada. Para ello algunas funciones que son de utilidad son las siguientes.\n",
        "\n",
        "   **Conectores lógicos**\n",
        "\n",
        "    &,                       : conector y\n",
        "    |,                       : conector o\n",
        "    ==                       : igual\n",
        "    !                        : negación\n",
        "    !=                       : distinto de\n",
        "    >, >=                    : mayor que, mayor o igual que\n",
        "    <,<=                     : menor que, menor o igual que\n",
        "    is.na()                  : es NA?\n",
        "    which()                  : en qué posición es verdadera la expresión evaluada?\n",
        "    which.min(), which.max() : en qué posición se alcanza el mínimi/máximo\n",
        "    %in%                     : los elementos están en?\n",
        "    \n",
        "    "
      ]
    },
    {
      "cell_type": "code",
      "metadata": {
        "id": "NhZPJo56Igvh",
        "outputId": "b7d7b677-f740-42e1-93f0-de07deb38d59",
        "colab": {
          "base_uri": "https://localhost:8080/",
          "height": 52
        }
      },
      "source": [
        "# para acceder a elementos de un vector tenemos:\n",
        "# 1. por posicion\n",
        "# 2. por nombre\n",
        "# 3. por indicatrices lógicas (un vector con TRUE (T) o FALSE (F) del mismo largo del que quiero consultar)\n",
        "v4\n",
        "length(v4)\n",
        "\n",
        "\n",
        "\n"
      ],
      "execution_count": 31,
      "outputs": [
        {
          "output_type": "display_data",
          "data": {
            "text/html": [
              "<style>\n",
              ".dl-inline {width: auto; margin:0; padding: 0}\n",
              ".dl-inline>dt, .dl-inline>dd {float: none; width: auto; display: inline-block}\n",
              ".dl-inline>dt::after {content: \":\\0020\"; padding-right: .5ex}\n",
              ".dl-inline>dt:not(:first-of-type) {padding-left: .5ex}\n",
              "</style><dl class=dl-inline><dt>num1</dt><dd>100</dd><dt>n6</dt><dd>-5</dd><dt>n7</dt><dd>-30</dd><dt>n8</dt><dd>-99</dd></dl>\n"
            ],
            "text/markdown": "num1\n:   100n6\n:   -5n7\n:   -30n8\n:   -99\n\n",
            "text/latex": "\\begin{description*}\n\\item[num1] 100\n\\item[n6] -5\n\\item[n7] -30\n\\item[n8] -99\n\\end{description*}\n",
            "text/plain": [
              "num1   n6   n7   n8 \n",
              " 100   -5  -30  -99 "
            ]
          },
          "metadata": {}
        },
        {
          "output_type": "display_data",
          "data": {
            "text/html": [
              "4"
            ],
            "text/markdown": "4",
            "text/latex": "4",
            "text/plain": [
              "[1] 4"
            ]
          },
          "metadata": {}
        }
      ]
    },
    {
      "cell_type": "code",
      "source": [
        "# Si queremos rescatar las celdas en pos 2 y 4. Nuestro vector de TRUEs y FALSEs sería\n",
        "v4[c(F,T,F,T)]"
      ],
      "metadata": {
        "id": "usHQJBGOV_PI",
        "outputId": "338f5eaa-c4ea-4c4a-fc93-e7846694c0d0",
        "colab": {
          "base_uri": "https://localhost:8080/",
          "height": 34
        }
      },
      "execution_count": 32,
      "outputs": [
        {
          "output_type": "display_data",
          "data": {
            "text/html": [
              "<style>\n",
              ".dl-inline {width: auto; margin:0; padding: 0}\n",
              ".dl-inline>dt, .dl-inline>dd {float: none; width: auto; display: inline-block}\n",
              ".dl-inline>dt::after {content: \":\\0020\"; padding-right: .5ex}\n",
              ".dl-inline>dt:not(:first-of-type) {padding-left: .5ex}\n",
              "</style><dl class=dl-inline><dt>n6</dt><dd>-5</dd><dt>n8</dt><dd>-99</dd></dl>\n"
            ],
            "text/markdown": "n6\n:   -5n8\n:   -99\n\n",
            "text/latex": "\\begin{description*}\n\\item[n6] -5\n\\item[n8] -99\n\\end{description*}\n",
            "text/plain": [
              " n6  n8 \n",
              " -5 -99 "
            ]
          },
          "metadata": {}
        }
      ]
    },
    {
      "cell_type": "code",
      "metadata": {
        "id": "5C4hDsvSIgvj",
        "outputId": "312fa04b-d6af-4be3-85d7-3ac1cf5d0997",
        "colab": {
          "base_uri": "https://localhost:8080/",
          "height": 52
        }
      },
      "source": [
        "# Esto facilita la búsqueda dentro de un un vector. Ej: retornar los elementos mayores aun valor dado\n",
        "v4\n",
        "v4 >= -5 # Retorna un vector del mismo largo que v4, con TRUEs donde se cumple la condción evaluada."
      ],
      "execution_count": 35,
      "outputs": [
        {
          "output_type": "display_data",
          "data": {
            "text/html": [
              "<style>\n",
              ".dl-inline {width: auto; margin:0; padding: 0}\n",
              ".dl-inline>dt, .dl-inline>dd {float: none; width: auto; display: inline-block}\n",
              ".dl-inline>dt::after {content: \":\\0020\"; padding-right: .5ex}\n",
              ".dl-inline>dt:not(:first-of-type) {padding-left: .5ex}\n",
              "</style><dl class=dl-inline><dt>num1</dt><dd>100</dd><dt>n6</dt><dd>-5</dd><dt>n7</dt><dd>-30</dd><dt>n8</dt><dd>-99</dd></dl>\n"
            ],
            "text/markdown": "num1\n:   100n6\n:   -5n7\n:   -30n8\n:   -99\n\n",
            "text/latex": "\\begin{description*}\n\\item[num1] 100\n\\item[n6] -5\n\\item[n7] -30\n\\item[n8] -99\n\\end{description*}\n",
            "text/plain": [
              "num1   n6   n7   n8 \n",
              " 100   -5  -30  -99 "
            ]
          },
          "metadata": {}
        },
        {
          "output_type": "display_data",
          "data": {
            "text/html": [
              "<style>\n",
              ".dl-inline {width: auto; margin:0; padding: 0}\n",
              ".dl-inline>dt, .dl-inline>dd {float: none; width: auto; display: inline-block}\n",
              ".dl-inline>dt::after {content: \":\\0020\"; padding-right: .5ex}\n",
              ".dl-inline>dt:not(:first-of-type) {padding-left: .5ex}\n",
              "</style><dl class=dl-inline><dt>num1</dt><dd>TRUE</dd><dt>n6</dt><dd>TRUE</dd><dt>n7</dt><dd>FALSE</dd><dt>n8</dt><dd>FALSE</dd></dl>\n"
            ],
            "text/markdown": "num1\n:   TRUEn6\n:   TRUEn7\n:   FALSEn8\n:   FALSE\n\n",
            "text/latex": "\\begin{description*}\n\\item[num1] TRUE\n\\item[n6] TRUE\n\\item[n7] FALSE\n\\item[n8] FALSE\n\\end{description*}\n",
            "text/plain": [
              " num1    n6    n7    n8 \n",
              " TRUE  TRUE FALSE FALSE "
            ]
          },
          "metadata": {}
        }
      ]
    },
    {
      "cell_type": "code",
      "source": [
        "# Qué valores de v4 son mayores o iguales a -5?\n",
        "v4[v4 >= -5]\n",
        "# Cuáles son los valores de v4 que no cumplen la condición?\n",
        "v4[!(v4 >= -5)] # Negando usando \"!\"\n",
        "v4[v4 < -5] # Explicitando la condición negada."
      ],
      "metadata": {
        "id": "jPtgfPSqWtwv",
        "outputId": "334f3426-6c55-4045-d183-ad38780050d3",
        "colab": {
          "base_uri": "https://localhost:8080/",
          "height": 69
        }
      },
      "execution_count": 39,
      "outputs": [
        {
          "output_type": "display_data",
          "data": {
            "text/html": [
              "<style>\n",
              ".dl-inline {width: auto; margin:0; padding: 0}\n",
              ".dl-inline>dt, .dl-inline>dd {float: none; width: auto; display: inline-block}\n",
              ".dl-inline>dt::after {content: \":\\0020\"; padding-right: .5ex}\n",
              ".dl-inline>dt:not(:first-of-type) {padding-left: .5ex}\n",
              "</style><dl class=dl-inline><dt>num1</dt><dd>100</dd><dt>n6</dt><dd>-5</dd></dl>\n"
            ],
            "text/markdown": "num1\n:   100n6\n:   -5\n\n",
            "text/latex": "\\begin{description*}\n\\item[num1] 100\n\\item[n6] -5\n\\end{description*}\n",
            "text/plain": [
              "num1   n6 \n",
              " 100   -5 "
            ]
          },
          "metadata": {}
        },
        {
          "output_type": "display_data",
          "data": {
            "text/html": [
              "<style>\n",
              ".dl-inline {width: auto; margin:0; padding: 0}\n",
              ".dl-inline>dt, .dl-inline>dd {float: none; width: auto; display: inline-block}\n",
              ".dl-inline>dt::after {content: \":\\0020\"; padding-right: .5ex}\n",
              ".dl-inline>dt:not(:first-of-type) {padding-left: .5ex}\n",
              "</style><dl class=dl-inline><dt>n7</dt><dd>-30</dd><dt>n8</dt><dd>-99</dd></dl>\n"
            ],
            "text/markdown": "n7\n:   -30n8\n:   -99\n\n",
            "text/latex": "\\begin{description*}\n\\item[n7] -30\n\\item[n8] -99\n\\end{description*}\n",
            "text/plain": [
              " n7  n8 \n",
              "-30 -99 "
            ]
          },
          "metadata": {}
        },
        {
          "output_type": "display_data",
          "data": {
            "text/html": [
              "<style>\n",
              ".dl-inline {width: auto; margin:0; padding: 0}\n",
              ".dl-inline>dt, .dl-inline>dd {float: none; width: auto; display: inline-block}\n",
              ".dl-inline>dt::after {content: \":\\0020\"; padding-right: .5ex}\n",
              ".dl-inline>dt:not(:first-of-type) {padding-left: .5ex}\n",
              "</style><dl class=dl-inline><dt>n7</dt><dd>-30</dd><dt>n8</dt><dd>-99</dd></dl>\n"
            ],
            "text/markdown": "n7\n:   -30n8\n:   -99\n\n",
            "text/latex": "\\begin{description*}\n\\item[n7] -30\n\\item[n8] -99\n\\end{description*}\n",
            "text/plain": [
              " n7  n8 \n",
              "-30 -99 "
            ]
          },
          "metadata": {}
        }
      ]
    },
    {
      "cell_type": "code",
      "metadata": {
        "id": "bj-wjeddIgvl"
      },
      "source": [
        "# con esta idea en mente podríamos, por ejemplo, rescatar las edades con valor mayor o igual a 34 años\n",
        "set.seed(20250709)\n",
        "edades <- rnorm(1000, mean = 30, sd = 3)"
      ],
      "execution_count": 41,
      "outputs": []
    },
    {
      "cell_type": "code",
      "source": [
        "edades[edades >= 34]\n"
      ],
      "metadata": {
        "id": "xuIrjsVWX01e",
        "outputId": "fe487b41-a998-49ec-b179-536211ce6189",
        "colab": {
          "base_uri": "https://localhost:8080/",
          "height": 295
        }
      },
      "execution_count": 43,
      "outputs": [
        {
          "output_type": "display_data",
          "data": {
            "text/html": [
              "<style>\n",
              ".list-inline {list-style: none; margin:0; padding: 0}\n",
              ".list-inline>li {display: inline-block}\n",
              ".list-inline>li:not(:last-child)::after {content: \"\\00b7\"; padding: 0 .5ex}\n",
              "</style>\n",
              "<ol class=list-inline><li>35.9685516319077</li><li>34.6732505548989</li><li>34.7261476207374</li><li>37.6078462011022</li><li>34.3223271563652</li><li>34.0470295160345</li><li>34.15136338678</li><li>34.2460326514226</li><li>35.2673374723982</li><li>38.2032914712712</li><li>34.9722335876891</li><li>34.0870356180924</li><li>36.4153676417316</li><li>34.4343329044572</li><li>38.2143035406533</li><li>34.8478762384789</li><li>34.3529449266161</li><li>34.2700944933686</li><li>34.0453611748501</li><li>35.9850508183698</li><li>34.2613397122739</li><li>35.2745064334472</li><li>34.5223620685001</li><li>34.206247611157</li><li>35.6505985384771</li><li>34.3465341304589</li><li>36.2095009781607</li><li>36.2707837601198</li><li>37.2909318246893</li><li>34.0917747684586</li><li>34.7933643421284</li><li>34.2790336135303</li><li>35.5778275336063</li><li>34.1657238787654</li><li>35.1536888826143</li><li>36.3292744857604</li><li>36.0602666366607</li><li>34.4170145509265</li><li>36.5706742901703</li><li>36.192555831015</li><li>34.1050802030787</li><li>35.1895105861194</li><li>34.7338643169038</li><li>36.2104067449553</li><li>34.6246224973432</li><li>34.4804445694931</li><li>36.6091359131413</li><li>34.0576177065955</li><li>34.0775410634514</li><li>36.3584362309065</li><li>35.5410783427789</li><li>34.6203173322066</li><li>34.4075391935219</li><li>34.8298477752388</li><li>34.7206454753925</li><li>34.3455333026901</li><li>35.6948665339185</li><li>37.0060990724845</li><li>34.937437399393</li><li>34.0654053827498</li><li>38.1263674370065</li><li>34.4390489197985</li><li>38.0963904040008</li><li>36.7022932984099</li><li>34.9297260887491</li><li>35.1776206896126</li><li>34.742945435831</li><li>34.3714873813673</li><li>35.8539709147478</li><li>34.9892058390434</li><li>34.6197412913464</li><li>34.3167594350816</li><li>38.2061514693618</li><li>34.000612124004</li><li>34.6688495167612</li><li>35.294798144804</li><li>34.4026222559941</li><li>37.4457729606685</li><li>36.872223279059</li><li>37.2874503109475</li><li>34.1913863336905</li><li>34.675373617802</li><li>34.7405625845664</li><li>35.3918132257634</li><li>34.8396557057789</li><li>34.3982801365911</li><li>34.5760097211771</li><li>35.4245568396212</li><li>34.8124936742615</li><li>35.0616158765117</li><li>34.3661015020288</li><li>34.381044688914</li><li>35.6011029821871</li><li>36.389773081716</li><li>34.0585540058709</li></ol>\n"
            ],
            "text/markdown": "1. 35.9685516319077\n2. 34.6732505548989\n3. 34.7261476207374\n4. 37.6078462011022\n5. 34.3223271563652\n6. 34.0470295160345\n7. 34.15136338678\n8. 34.2460326514226\n9. 35.2673374723982\n10. 38.2032914712712\n11. 34.9722335876891\n12. 34.0870356180924\n13. 36.4153676417316\n14. 34.4343329044572\n15. 38.2143035406533\n16. 34.8478762384789\n17. 34.3529449266161\n18. 34.2700944933686\n19. 34.0453611748501\n20. 35.9850508183698\n21. 34.2613397122739\n22. 35.2745064334472\n23. 34.5223620685001\n24. 34.206247611157\n25. 35.6505985384771\n26. 34.3465341304589\n27. 36.2095009781607\n28. 36.2707837601198\n29. 37.2909318246893\n30. 34.0917747684586\n31. 34.7933643421284\n32. 34.2790336135303\n33. 35.5778275336063\n34. 34.1657238787654\n35. 35.1536888826143\n36. 36.3292744857604\n37. 36.0602666366607\n38. 34.4170145509265\n39. 36.5706742901703\n40. 36.192555831015\n41. 34.1050802030787\n42. 35.1895105861194\n43. 34.7338643169038\n44. 36.2104067449553\n45. 34.6246224973432\n46. 34.4804445694931\n47. 36.6091359131413\n48. 34.0576177065955\n49. 34.0775410634514\n50. 36.3584362309065\n51. 35.5410783427789\n52. 34.6203173322066\n53. 34.4075391935219\n54. 34.8298477752388\n55. 34.7206454753925\n56. 34.3455333026901\n57. 35.6948665339185\n58. 37.0060990724845\n59. 34.937437399393\n60. 34.0654053827498\n61. 38.1263674370065\n62. 34.4390489197985\n63. 38.0963904040008\n64. 36.7022932984099\n65. 34.9297260887491\n66. 35.1776206896126\n67. 34.742945435831\n68. 34.3714873813673\n69. 35.8539709147478\n70. 34.9892058390434\n71. 34.6197412913464\n72. 34.3167594350816\n73. 38.2061514693618\n74. 34.000612124004\n75. 34.6688495167612\n76. 35.294798144804\n77. 34.4026222559941\n78. 37.4457729606685\n79. 36.872223279059\n80. 37.2874503109475\n81. 34.1913863336905\n82. 34.675373617802\n83. 34.7405625845664\n84. 35.3918132257634\n85. 34.8396557057789\n86. 34.3982801365911\n87. 34.5760097211771\n88. 35.4245568396212\n89. 34.8124936742615\n90. 35.0616158765117\n91. 34.3661015020288\n92. 34.381044688914\n93. 35.6011029821871\n94. 36.389773081716\n95. 34.0585540058709\n\n\n",
            "text/latex": "\\begin{enumerate*}\n\\item 35.9685516319077\n\\item 34.6732505548989\n\\item 34.7261476207374\n\\item 37.6078462011022\n\\item 34.3223271563652\n\\item 34.0470295160345\n\\item 34.15136338678\n\\item 34.2460326514226\n\\item 35.2673374723982\n\\item 38.2032914712712\n\\item 34.9722335876891\n\\item 34.0870356180924\n\\item 36.4153676417316\n\\item 34.4343329044572\n\\item 38.2143035406533\n\\item 34.8478762384789\n\\item 34.3529449266161\n\\item 34.2700944933686\n\\item 34.0453611748501\n\\item 35.9850508183698\n\\item 34.2613397122739\n\\item 35.2745064334472\n\\item 34.5223620685001\n\\item 34.206247611157\n\\item 35.6505985384771\n\\item 34.3465341304589\n\\item 36.2095009781607\n\\item 36.2707837601198\n\\item 37.2909318246893\n\\item 34.0917747684586\n\\item 34.7933643421284\n\\item 34.2790336135303\n\\item 35.5778275336063\n\\item 34.1657238787654\n\\item 35.1536888826143\n\\item 36.3292744857604\n\\item 36.0602666366607\n\\item 34.4170145509265\n\\item 36.5706742901703\n\\item 36.192555831015\n\\item 34.1050802030787\n\\item 35.1895105861194\n\\item 34.7338643169038\n\\item 36.2104067449553\n\\item 34.6246224973432\n\\item 34.4804445694931\n\\item 36.6091359131413\n\\item 34.0576177065955\n\\item 34.0775410634514\n\\item 36.3584362309065\n\\item 35.5410783427789\n\\item 34.6203173322066\n\\item 34.4075391935219\n\\item 34.8298477752388\n\\item 34.7206454753925\n\\item 34.3455333026901\n\\item 35.6948665339185\n\\item 37.0060990724845\n\\item 34.937437399393\n\\item 34.0654053827498\n\\item 38.1263674370065\n\\item 34.4390489197985\n\\item 38.0963904040008\n\\item 36.7022932984099\n\\item 34.9297260887491\n\\item 35.1776206896126\n\\item 34.742945435831\n\\item 34.3714873813673\n\\item 35.8539709147478\n\\item 34.9892058390434\n\\item 34.6197412913464\n\\item 34.3167594350816\n\\item 38.2061514693618\n\\item 34.000612124004\n\\item 34.6688495167612\n\\item 35.294798144804\n\\item 34.4026222559941\n\\item 37.4457729606685\n\\item 36.872223279059\n\\item 37.2874503109475\n\\item 34.1913863336905\n\\item 34.675373617802\n\\item 34.7405625845664\n\\item 35.3918132257634\n\\item 34.8396557057789\n\\item 34.3982801365911\n\\item 34.5760097211771\n\\item 35.4245568396212\n\\item 34.8124936742615\n\\item 35.0616158765117\n\\item 34.3661015020288\n\\item 34.381044688914\n\\item 35.6011029821871\n\\item 36.389773081716\n\\item 34.0585540058709\n\\end{enumerate*}\n",
            "text/plain": [
              " [1] 35.96855 34.67325 34.72615 37.60785 34.32233 34.04703 34.15136 34.24603\n",
              " [9] 35.26734 38.20329 34.97223 34.08704 36.41537 34.43433 38.21430 34.84788\n",
              "[17] 34.35294 34.27009 34.04536 35.98505 34.26134 35.27451 34.52236 34.20625\n",
              "[25] 35.65060 34.34653 36.20950 36.27078 37.29093 34.09177 34.79336 34.27903\n",
              "[33] 35.57783 34.16572 35.15369 36.32927 36.06027 34.41701 36.57067 36.19256\n",
              "[41] 34.10508 35.18951 34.73386 36.21041 34.62462 34.48044 36.60914 34.05762\n",
              "[49] 34.07754 36.35844 35.54108 34.62032 34.40754 34.82985 34.72065 34.34553\n",
              "[57] 35.69487 37.00610 34.93744 34.06541 38.12637 34.43905 38.09639 36.70229\n",
              "[65] 34.92973 35.17762 34.74295 34.37149 35.85397 34.98921 34.61974 34.31676\n",
              "[73] 38.20615 34.00061 34.66885 35.29480 34.40262 37.44577 36.87222 37.28745\n",
              "[81] 34.19139 34.67537 34.74056 35.39181 34.83966 34.39828 34.57601 35.42456\n",
              "[89] 34.81249 35.06162 34.36610 34.38104 35.60110 36.38977 34.05855"
            ]
          },
          "metadata": {}
        }
      ]
    },
    {
      "cell_type": "code",
      "source": [
        "# Cuántos registros tienen 34 o más años?\n",
        "length(edades[edades >= 34])"
      ],
      "metadata": {
        "id": "4m5RO0k1YTfT",
        "outputId": "c68a9251-8d0f-4a93-e721-80b1e6e61cf4",
        "colab": {
          "base_uri": "https://localhost:8080/",
          "height": 34
        }
      },
      "execution_count": 44,
      "outputs": [
        {
          "output_type": "display_data",
          "data": {
            "text/html": [
              "95"
            ],
            "text/markdown": "95",
            "text/latex": "95",
            "text/plain": [
              "[1] 95"
            ]
          },
          "metadata": {}
        }
      ]
    },
    {
      "cell_type": "code",
      "metadata": {
        "id": "fvq5tBXVIgvm",
        "outputId": "59379939-4f1d-42c6-b1f5-34be6949846c",
        "colab": {
          "base_uri": "https://localhost:8080/",
          "height": 295
        }
      },
      "source": [
        "# podríamos guardar el vector de T o F's en una variable para luego referenciarla\n",
        "ind <- edades >= 34\n",
        "\n",
        "edades[ind]"
      ],
      "execution_count": 46,
      "outputs": [
        {
          "output_type": "display_data",
          "data": {
            "text/html": [
              "<style>\n",
              ".list-inline {list-style: none; margin:0; padding: 0}\n",
              ".list-inline>li {display: inline-block}\n",
              ".list-inline>li:not(:last-child)::after {content: \"\\00b7\"; padding: 0 .5ex}\n",
              "</style>\n",
              "<ol class=list-inline><li>35.9685516319077</li><li>34.6732505548989</li><li>34.7261476207374</li><li>37.6078462011022</li><li>34.3223271563652</li><li>34.0470295160345</li><li>34.15136338678</li><li>34.2460326514226</li><li>35.2673374723982</li><li>38.2032914712712</li><li>34.9722335876891</li><li>34.0870356180924</li><li>36.4153676417316</li><li>34.4343329044572</li><li>38.2143035406533</li><li>34.8478762384789</li><li>34.3529449266161</li><li>34.2700944933686</li><li>34.0453611748501</li><li>35.9850508183698</li><li>34.2613397122739</li><li>35.2745064334472</li><li>34.5223620685001</li><li>34.206247611157</li><li>35.6505985384771</li><li>34.3465341304589</li><li>36.2095009781607</li><li>36.2707837601198</li><li>37.2909318246893</li><li>34.0917747684586</li><li>34.7933643421284</li><li>34.2790336135303</li><li>35.5778275336063</li><li>34.1657238787654</li><li>35.1536888826143</li><li>36.3292744857604</li><li>36.0602666366607</li><li>34.4170145509265</li><li>36.5706742901703</li><li>36.192555831015</li><li>34.1050802030787</li><li>35.1895105861194</li><li>34.7338643169038</li><li>36.2104067449553</li><li>34.6246224973432</li><li>34.4804445694931</li><li>36.6091359131413</li><li>34.0576177065955</li><li>34.0775410634514</li><li>36.3584362309065</li><li>35.5410783427789</li><li>34.6203173322066</li><li>34.4075391935219</li><li>34.8298477752388</li><li>34.7206454753925</li><li>34.3455333026901</li><li>35.6948665339185</li><li>37.0060990724845</li><li>34.937437399393</li><li>34.0654053827498</li><li>38.1263674370065</li><li>34.4390489197985</li><li>38.0963904040008</li><li>36.7022932984099</li><li>34.9297260887491</li><li>35.1776206896126</li><li>34.742945435831</li><li>34.3714873813673</li><li>35.8539709147478</li><li>34.9892058390434</li><li>34.6197412913464</li><li>34.3167594350816</li><li>38.2061514693618</li><li>34.000612124004</li><li>34.6688495167612</li><li>35.294798144804</li><li>34.4026222559941</li><li>37.4457729606685</li><li>36.872223279059</li><li>37.2874503109475</li><li>34.1913863336905</li><li>34.675373617802</li><li>34.7405625845664</li><li>35.3918132257634</li><li>34.8396557057789</li><li>34.3982801365911</li><li>34.5760097211771</li><li>35.4245568396212</li><li>34.8124936742615</li><li>35.0616158765117</li><li>34.3661015020288</li><li>34.381044688914</li><li>35.6011029821871</li><li>36.389773081716</li><li>34.0585540058709</li></ol>\n"
            ],
            "text/markdown": "1. 35.9685516319077\n2. 34.6732505548989\n3. 34.7261476207374\n4. 37.6078462011022\n5. 34.3223271563652\n6. 34.0470295160345\n7. 34.15136338678\n8. 34.2460326514226\n9. 35.2673374723982\n10. 38.2032914712712\n11. 34.9722335876891\n12. 34.0870356180924\n13. 36.4153676417316\n14. 34.4343329044572\n15. 38.2143035406533\n16. 34.8478762384789\n17. 34.3529449266161\n18. 34.2700944933686\n19. 34.0453611748501\n20. 35.9850508183698\n21. 34.2613397122739\n22. 35.2745064334472\n23. 34.5223620685001\n24. 34.206247611157\n25. 35.6505985384771\n26. 34.3465341304589\n27. 36.2095009781607\n28. 36.2707837601198\n29. 37.2909318246893\n30. 34.0917747684586\n31. 34.7933643421284\n32. 34.2790336135303\n33. 35.5778275336063\n34. 34.1657238787654\n35. 35.1536888826143\n36. 36.3292744857604\n37. 36.0602666366607\n38. 34.4170145509265\n39. 36.5706742901703\n40. 36.192555831015\n41. 34.1050802030787\n42. 35.1895105861194\n43. 34.7338643169038\n44. 36.2104067449553\n45. 34.6246224973432\n46. 34.4804445694931\n47. 36.6091359131413\n48. 34.0576177065955\n49. 34.0775410634514\n50. 36.3584362309065\n51. 35.5410783427789\n52. 34.6203173322066\n53. 34.4075391935219\n54. 34.8298477752388\n55. 34.7206454753925\n56. 34.3455333026901\n57. 35.6948665339185\n58. 37.0060990724845\n59. 34.937437399393\n60. 34.0654053827498\n61. 38.1263674370065\n62. 34.4390489197985\n63. 38.0963904040008\n64. 36.7022932984099\n65. 34.9297260887491\n66. 35.1776206896126\n67. 34.742945435831\n68. 34.3714873813673\n69. 35.8539709147478\n70. 34.9892058390434\n71. 34.6197412913464\n72. 34.3167594350816\n73. 38.2061514693618\n74. 34.000612124004\n75. 34.6688495167612\n76. 35.294798144804\n77. 34.4026222559941\n78. 37.4457729606685\n79. 36.872223279059\n80. 37.2874503109475\n81. 34.1913863336905\n82. 34.675373617802\n83. 34.7405625845664\n84. 35.3918132257634\n85. 34.8396557057789\n86. 34.3982801365911\n87. 34.5760097211771\n88. 35.4245568396212\n89. 34.8124936742615\n90. 35.0616158765117\n91. 34.3661015020288\n92. 34.381044688914\n93. 35.6011029821871\n94. 36.389773081716\n95. 34.0585540058709\n\n\n",
            "text/latex": "\\begin{enumerate*}\n\\item 35.9685516319077\n\\item 34.6732505548989\n\\item 34.7261476207374\n\\item 37.6078462011022\n\\item 34.3223271563652\n\\item 34.0470295160345\n\\item 34.15136338678\n\\item 34.2460326514226\n\\item 35.2673374723982\n\\item 38.2032914712712\n\\item 34.9722335876891\n\\item 34.0870356180924\n\\item 36.4153676417316\n\\item 34.4343329044572\n\\item 38.2143035406533\n\\item 34.8478762384789\n\\item 34.3529449266161\n\\item 34.2700944933686\n\\item 34.0453611748501\n\\item 35.9850508183698\n\\item 34.2613397122739\n\\item 35.2745064334472\n\\item 34.5223620685001\n\\item 34.206247611157\n\\item 35.6505985384771\n\\item 34.3465341304589\n\\item 36.2095009781607\n\\item 36.2707837601198\n\\item 37.2909318246893\n\\item 34.0917747684586\n\\item 34.7933643421284\n\\item 34.2790336135303\n\\item 35.5778275336063\n\\item 34.1657238787654\n\\item 35.1536888826143\n\\item 36.3292744857604\n\\item 36.0602666366607\n\\item 34.4170145509265\n\\item 36.5706742901703\n\\item 36.192555831015\n\\item 34.1050802030787\n\\item 35.1895105861194\n\\item 34.7338643169038\n\\item 36.2104067449553\n\\item 34.6246224973432\n\\item 34.4804445694931\n\\item 36.6091359131413\n\\item 34.0576177065955\n\\item 34.0775410634514\n\\item 36.3584362309065\n\\item 35.5410783427789\n\\item 34.6203173322066\n\\item 34.4075391935219\n\\item 34.8298477752388\n\\item 34.7206454753925\n\\item 34.3455333026901\n\\item 35.6948665339185\n\\item 37.0060990724845\n\\item 34.937437399393\n\\item 34.0654053827498\n\\item 38.1263674370065\n\\item 34.4390489197985\n\\item 38.0963904040008\n\\item 36.7022932984099\n\\item 34.9297260887491\n\\item 35.1776206896126\n\\item 34.742945435831\n\\item 34.3714873813673\n\\item 35.8539709147478\n\\item 34.9892058390434\n\\item 34.6197412913464\n\\item 34.3167594350816\n\\item 38.2061514693618\n\\item 34.000612124004\n\\item 34.6688495167612\n\\item 35.294798144804\n\\item 34.4026222559941\n\\item 37.4457729606685\n\\item 36.872223279059\n\\item 37.2874503109475\n\\item 34.1913863336905\n\\item 34.675373617802\n\\item 34.7405625845664\n\\item 35.3918132257634\n\\item 34.8396557057789\n\\item 34.3982801365911\n\\item 34.5760097211771\n\\item 35.4245568396212\n\\item 34.8124936742615\n\\item 35.0616158765117\n\\item 34.3661015020288\n\\item 34.381044688914\n\\item 35.6011029821871\n\\item 36.389773081716\n\\item 34.0585540058709\n\\end{enumerate*}\n",
            "text/plain": [
              " [1] 35.96855 34.67325 34.72615 37.60785 34.32233 34.04703 34.15136 34.24603\n",
              " [9] 35.26734 38.20329 34.97223 34.08704 36.41537 34.43433 38.21430 34.84788\n",
              "[17] 34.35294 34.27009 34.04536 35.98505 34.26134 35.27451 34.52236 34.20625\n",
              "[25] 35.65060 34.34653 36.20950 36.27078 37.29093 34.09177 34.79336 34.27903\n",
              "[33] 35.57783 34.16572 35.15369 36.32927 36.06027 34.41701 36.57067 36.19256\n",
              "[41] 34.10508 35.18951 34.73386 36.21041 34.62462 34.48044 36.60914 34.05762\n",
              "[49] 34.07754 36.35844 35.54108 34.62032 34.40754 34.82985 34.72065 34.34553\n",
              "[57] 35.69487 37.00610 34.93744 34.06541 38.12637 34.43905 38.09639 36.70229\n",
              "[65] 34.92973 35.17762 34.74295 34.37149 35.85397 34.98921 34.61974 34.31676\n",
              "[73] 38.20615 34.00061 34.66885 35.29480 34.40262 37.44577 36.87222 37.28745\n",
              "[81] 34.19139 34.67537 34.74056 35.39181 34.83966 34.39828 34.57601 35.42456\n",
              "[89] 34.81249 35.06162 34.36610 34.38104 35.60110 36.38977 34.05855"
            ]
          },
          "metadata": {}
        }
      ]
    },
    {
      "cell_type": "code",
      "source": [
        "# Funciones/conectores adicionales de utilidad"
      ],
      "metadata": {
        "id": "0BDuh54qZDMJ"
      },
      "execution_count": null,
      "outputs": []
    },
    {
      "cell_type": "code",
      "metadata": {
        "id": "ioUJy8UEIgvz",
        "outputId": "a0813a86-7b6b-44a7-b92e-4733120324b7",
        "colab": {
          "base_uri": "https://localhost:8080/",
          "height": 86
        }
      },
      "source": [
        "#?which.max\n",
        "v4\n",
        "which.max(v4)\n",
        "# En qué posición se encuentra el registro con mayor edad?\n",
        "which.max(edades)\n",
        "#podemos rescatar el valor mediante el índice guardado\n",
        "pos_mayor <- which.max(edades)\n",
        "edades[pos_mayor]"
      ],
      "execution_count": 50,
      "outputs": [
        {
          "output_type": "display_data",
          "data": {
            "text/html": [
              "<style>\n",
              ".dl-inline {width: auto; margin:0; padding: 0}\n",
              ".dl-inline>dt, .dl-inline>dd {float: none; width: auto; display: inline-block}\n",
              ".dl-inline>dt::after {content: \":\\0020\"; padding-right: .5ex}\n",
              ".dl-inline>dt:not(:first-of-type) {padding-left: .5ex}\n",
              "</style><dl class=dl-inline><dt>num1</dt><dd>100</dd><dt>n6</dt><dd>-5</dd><dt>n7</dt><dd>-30</dd><dt>n8</dt><dd>-99</dd></dl>\n"
            ],
            "text/markdown": "num1\n:   100n6\n:   -5n7\n:   -30n8\n:   -99\n\n",
            "text/latex": "\\begin{description*}\n\\item[num1] 100\n\\item[n6] -5\n\\item[n7] -30\n\\item[n8] -99\n\\end{description*}\n",
            "text/plain": [
              "num1   n6   n7   n8 \n",
              " 100   -5  -30  -99 "
            ]
          },
          "metadata": {}
        },
        {
          "output_type": "display_data",
          "data": {
            "text/html": [
              "<strong>num1:</strong> 1"
            ],
            "text/markdown": "**num1:** 1",
            "text/latex": "\\textbf{num1:} 1",
            "text/plain": [
              "num1 \n",
              "   1 "
            ]
          },
          "metadata": {}
        },
        {
          "output_type": "display_data",
          "data": {
            "text/html": [
              "123"
            ],
            "text/markdown": "123",
            "text/latex": "123",
            "text/plain": [
              "[1] 123"
            ]
          },
          "metadata": {}
        },
        {
          "output_type": "display_data",
          "data": {
            "text/html": [
              "38.2143035406533"
            ],
            "text/markdown": "38.2143035406533",
            "text/latex": "38.2143035406533",
            "text/plain": [
              "[1] 38.2143"
            ]
          },
          "metadata": {}
        }
      ]
    },
    {
      "cell_type": "code",
      "source": [
        "# NOTA: which.max/min retorna la posición del \"primer\" máx o min.\n",
        "which.max(c(4,1,7,2,7,1))\n",
        "which.min(c(4,1,7,2,7,1))"
      ],
      "metadata": {
        "id": "1NTcD2f9ZrMF",
        "outputId": "2d99b224-3da7-4702-ab10-4a52bc288684",
        "colab": {
          "base_uri": "https://localhost:8080/",
          "height": 52
        }
      },
      "execution_count": 52,
      "outputs": [
        {
          "output_type": "display_data",
          "data": {
            "text/html": [
              "3"
            ],
            "text/markdown": "3",
            "text/latex": "3",
            "text/plain": [
              "[1] 3"
            ]
          },
          "metadata": {}
        },
        {
          "output_type": "display_data",
          "data": {
            "text/html": [
              "2"
            ],
            "text/markdown": "2",
            "text/latex": "2",
            "text/plain": [
              "[1] 2"
            ]
          },
          "metadata": {}
        }
      ]
    },
    {
      "cell_type": "code",
      "source": [
        "v5 <- c(4,1,7,2,7,1)\n",
        "# existen otras funciones que permiten generar métricas sobre un vector\n",
        "# mean(), sum(), sd(), max(), min(), etc.\n",
        "\n",
        "sum(v5)\n",
        "max(v5)\n",
        "min(v5)"
      ],
      "metadata": {
        "id": "4MoETLapaF_N",
        "outputId": "9bc23061-6b5e-42a0-b3dc-dd71c3096f30",
        "colab": {
          "base_uri": "https://localhost:8080/",
          "height": 69
        }
      },
      "execution_count": 55,
      "outputs": [
        {
          "output_type": "display_data",
          "data": {
            "text/html": [
              "22"
            ],
            "text/markdown": "22",
            "text/latex": "22",
            "text/plain": [
              "[1] 22"
            ]
          },
          "metadata": {}
        },
        {
          "output_type": "display_data",
          "data": {
            "text/html": [
              "7"
            ],
            "text/markdown": "7",
            "text/latex": "7",
            "text/plain": [
              "[1] 7"
            ]
          },
          "metadata": {}
        },
        {
          "output_type": "display_data",
          "data": {
            "text/html": [
              "1"
            ],
            "text/markdown": "1",
            "text/latex": "1",
            "text/plain": [
              "[1] 1"
            ]
          },
          "metadata": {}
        }
      ]
    },
    {
      "cell_type": "code",
      "source": [
        "# which(). retorna las posiciones donde el argumento es TRUE. El argumento de which debe ser un vector de T y F.\n",
        "which(v5 == 4) # nos retorna 1. Que es la posición donde se cumple la condición (ser igual a 4)\n"
      ],
      "metadata": {
        "id": "ZTbVBJS1awBK",
        "outputId": "1938164b-ad08-4b44-f5bc-8587c2fd80e7",
        "colab": {
          "base_uri": "https://localhost:8080/",
          "height": 34
        }
      },
      "execution_count": 57,
      "outputs": [
        {
          "output_type": "display_data",
          "data": {
            "text/html": [
              "1"
            ],
            "text/markdown": "1",
            "text/latex": "1",
            "text/plain": [
              "[1] 1"
            ]
          },
          "metadata": {}
        }
      ]
    },
    {
      "cell_type": "code",
      "source": [
        "# Si quisiera rescatar las dos (o más) posicicones donde se alcance el máx/min de un vector.\n",
        "which(v5 == max(v5))"
      ],
      "metadata": {
        "id": "KiRjPdXxbnG4",
        "outputId": "ddf19a86-2a61-46eb-ed4b-878b7142db43",
        "colab": {
          "base_uri": "https://localhost:8080/",
          "height": 34
        }
      },
      "execution_count": 58,
      "outputs": [
        {
          "output_type": "display_data",
          "data": {
            "text/html": [
              "<style>\n",
              ".list-inline {list-style: none; margin:0; padding: 0}\n",
              ".list-inline>li {display: inline-block}\n",
              ".list-inline>li:not(:last-child)::after {content: \"\\00b7\"; padding: 0 .5ex}\n",
              "</style>\n",
              "<ol class=list-inline><li>3</li><li>5</li></ol>\n"
            ],
            "text/markdown": "1. 3\n2. 5\n\n\n",
            "text/latex": "\\begin{enumerate*}\n\\item 3\n\\item 5\n\\end{enumerate*}\n",
            "text/plain": [
              "[1] 3 5"
            ]
          },
          "metadata": {}
        }
      ]
    },
    {
      "cell_type": "code",
      "metadata": {
        "id": "_8-SMxfWIgv0",
        "outputId": "dcd0ca43-0d55-4461-a1f7-3c9301314a6f",
        "colab": {
          "base_uri": "https://localhost:8080/",
          "height": 34
        }
      },
      "source": [
        "# Operador %in%\n",
        "# vector_a %in% vector_b (qué elementos del vector a están en el vector b)\n",
        "# retorna un  vector de TRUE's y FALSE's del largo del primer vector(a) (izquierda)\n",
        "c(1,3,7,5) %in% c(4,7,5)\n",
        "# pais %in% c(\"CL\", \"AR\")"
      ],
      "execution_count": 59,
      "outputs": [
        {
          "output_type": "display_data",
          "data": {
            "text/html": [
              "<style>\n",
              ".list-inline {list-style: none; margin:0; padding: 0}\n",
              ".list-inline>li {display: inline-block}\n",
              ".list-inline>li:not(:last-child)::after {content: \"\\00b7\"; padding: 0 .5ex}\n",
              "</style>\n",
              "<ol class=list-inline><li>FALSE</li><li>FALSE</li><li>TRUE</li><li>TRUE</li></ol>\n"
            ],
            "text/markdown": "1. FALSE\n2. FALSE\n3. TRUE\n4. TRUE\n\n\n",
            "text/latex": "\\begin{enumerate*}\n\\item FALSE\n\\item FALSE\n\\item TRUE\n\\item TRUE\n\\end{enumerate*}\n",
            "text/plain": [
              "[1] FALSE FALSE  TRUE  TRUE"
            ]
          },
          "metadata": {}
        }
      ]
    },
    {
      "cell_type": "code",
      "source": [
        "w1 <- c(1,3,7,5)\n",
        "w2 <- c(4,7,5)"
      ],
      "metadata": {
        "id": "Wh-iVXFaeDpp"
      },
      "execution_count": 63,
      "outputs": []
    },
    {
      "cell_type": "code",
      "source": [
        "sum(w1 %in% w2) # alternativa para contar la cantidad de elementos de w1 presentes en w2."
      ],
      "metadata": {
        "id": "5eMtze9teK6T",
        "outputId": "4a297dcb-d73e-40dc-a783-36d45f23c59b",
        "colab": {
          "base_uri": "https://localhost:8080/",
          "height": 34
        }
      },
      "execution_count": 65,
      "outputs": [
        {
          "output_type": "display_data",
          "data": {
            "text/html": [
              "2"
            ],
            "text/markdown": "2",
            "text/latex": "2",
            "text/plain": [
              "[1] 2"
            ]
          },
          "metadata": {}
        }
      ]
    },
    {
      "cell_type": "code",
      "metadata": {
        "id": "s9bYOQ4GIgv2",
        "outputId": "5e5d88e5-5c61-4b76-9ac5-12abe2f9cf40",
        "colab": {
          "base_uri": "https://localhost:8080/",
          "height": 52
        }
      },
      "source": [
        "# podemos utilizar la función all() para evaluar si todos los elementos de un vector son TRUE.\n",
        "all(c(T,T,T,T,T,F))\n",
        "all(c(T,T,T,T,T,T))"
      ],
      "execution_count": 62,
      "outputs": [
        {
          "output_type": "display_data",
          "data": {
            "text/html": [
              "FALSE"
            ],
            "text/markdown": "FALSE",
            "text/latex": "FALSE",
            "text/plain": [
              "[1] FALSE"
            ]
          },
          "metadata": {}
        },
        {
          "output_type": "display_data",
          "data": {
            "text/html": [
              "TRUE"
            ],
            "text/markdown": "TRUE",
            "text/latex": "TRUE",
            "text/plain": [
              "[1] TRUE"
            ]
          },
          "metadata": {}
        }
      ]
    },
    {
      "cell_type": "code",
      "metadata": {
        "id": "Wd-mSv3PIgv4"
      },
      "source": [
        "# si quisiéramos evaluar que todos los elementos de la izq. estén en la derecha,\n",
        "# podemos utilizar la función all()."
      ],
      "execution_count": null,
      "outputs": []
    },
    {
      "cell_type": "code",
      "metadata": {
        "id": "1YGnzt1zIgv7",
        "outputId": "0b1e8254-82ac-42af-c7e0-8f5c7fe57600",
        "colab": {
          "base_uri": "https://localhost:8080/",
          "height": 86
        }
      },
      "source": [
        "# aritmética con vectores\n",
        "# operación de vectore de igual largo\n",
        "\n",
        "c(1,4,8) + c(10,20,30)\n",
        "c(1,4,8) - c(10,20,30)\n",
        "c(1,4,8) * c(10,20,30)\n",
        "c(1,4,8) / c(10,20,30)\n"
      ],
      "execution_count": 67,
      "outputs": [
        {
          "output_type": "display_data",
          "data": {
            "text/html": [
              "<style>\n",
              ".list-inline {list-style: none; margin:0; padding: 0}\n",
              ".list-inline>li {display: inline-block}\n",
              ".list-inline>li:not(:last-child)::after {content: \"\\00b7\"; padding: 0 .5ex}\n",
              "</style>\n",
              "<ol class=list-inline><li>11</li><li>24</li><li>38</li></ol>\n"
            ],
            "text/markdown": "1. 11\n2. 24\n3. 38\n\n\n",
            "text/latex": "\\begin{enumerate*}\n\\item 11\n\\item 24\n\\item 38\n\\end{enumerate*}\n",
            "text/plain": [
              "[1] 11 24 38"
            ]
          },
          "metadata": {}
        },
        {
          "output_type": "display_data",
          "data": {
            "text/html": [
              "<style>\n",
              ".list-inline {list-style: none; margin:0; padding: 0}\n",
              ".list-inline>li {display: inline-block}\n",
              ".list-inline>li:not(:last-child)::after {content: \"\\00b7\"; padding: 0 .5ex}\n",
              "</style>\n",
              "<ol class=list-inline><li>-9</li><li>-16</li><li>-22</li></ol>\n"
            ],
            "text/markdown": "1. -9\n2. -16\n3. -22\n\n\n",
            "text/latex": "\\begin{enumerate*}\n\\item -9\n\\item -16\n\\item -22\n\\end{enumerate*}\n",
            "text/plain": [
              "[1]  -9 -16 -22"
            ]
          },
          "metadata": {}
        },
        {
          "output_type": "display_data",
          "data": {
            "text/html": [
              "<style>\n",
              ".list-inline {list-style: none; margin:0; padding: 0}\n",
              ".list-inline>li {display: inline-block}\n",
              ".list-inline>li:not(:last-child)::after {content: \"\\00b7\"; padding: 0 .5ex}\n",
              "</style>\n",
              "<ol class=list-inline><li>10</li><li>80</li><li>240</li></ol>\n"
            ],
            "text/markdown": "1. 10\n2. 80\n3. 240\n\n\n",
            "text/latex": "\\begin{enumerate*}\n\\item 10\n\\item 80\n\\item 240\n\\end{enumerate*}\n",
            "text/plain": [
              "[1]  10  80 240"
            ]
          },
          "metadata": {}
        },
        {
          "output_type": "display_data",
          "data": {
            "text/html": [
              "<style>\n",
              ".list-inline {list-style: none; margin:0; padding: 0}\n",
              ".list-inline>li {display: inline-block}\n",
              ".list-inline>li:not(:last-child)::after {content: \"\\00b7\"; padding: 0 .5ex}\n",
              "</style>\n",
              "<ol class=list-inline><li>0.1</li><li>0.2</li><li>0.266666666666667</li></ol>\n"
            ],
            "text/markdown": "1. 0.1\n2. 0.2\n3. 0.266666666666667\n\n\n",
            "text/latex": "\\begin{enumerate*}\n\\item 0.1\n\\item 0.2\n\\item 0.266666666666667\n\\end{enumerate*}\n",
            "text/plain": [
              "[1] 0.1000000 0.2000000 0.2666667"
            ]
          },
          "metadata": {}
        }
      ]
    },
    {
      "cell_type": "code",
      "metadata": {
        "id": "Bw8lX76XIgv8",
        "outputId": "b9dbbd0f-0c58-4716-fc3b-e80f7975a63f",
        "colab": {
          "base_uri": "https://localhost:8080/",
          "height": 86
        }
      },
      "source": [
        "#ponderaciones por escalares\n",
        "c(1,4,8) + 1\n",
        "c(1,4,8) - 1\n",
        "c(1,4,8) * 10\n",
        "c(1,4,8) / 10"
      ],
      "execution_count": 69,
      "outputs": [
        {
          "output_type": "display_data",
          "data": {
            "text/html": [
              "<style>\n",
              ".list-inline {list-style: none; margin:0; padding: 0}\n",
              ".list-inline>li {display: inline-block}\n",
              ".list-inline>li:not(:last-child)::after {content: \"\\00b7\"; padding: 0 .5ex}\n",
              "</style>\n",
              "<ol class=list-inline><li>2</li><li>5</li><li>9</li></ol>\n"
            ],
            "text/markdown": "1. 2\n2. 5\n3. 9\n\n\n",
            "text/latex": "\\begin{enumerate*}\n\\item 2\n\\item 5\n\\item 9\n\\end{enumerate*}\n",
            "text/plain": [
              "[1] 2 5 9"
            ]
          },
          "metadata": {}
        },
        {
          "output_type": "display_data",
          "data": {
            "text/html": [
              "<style>\n",
              ".list-inline {list-style: none; margin:0; padding: 0}\n",
              ".list-inline>li {display: inline-block}\n",
              ".list-inline>li:not(:last-child)::after {content: \"\\00b7\"; padding: 0 .5ex}\n",
              "</style>\n",
              "<ol class=list-inline><li>0</li><li>3</li><li>7</li></ol>\n"
            ],
            "text/markdown": "1. 0\n2. 3\n3. 7\n\n\n",
            "text/latex": "\\begin{enumerate*}\n\\item 0\n\\item 3\n\\item 7\n\\end{enumerate*}\n",
            "text/plain": [
              "[1] 0 3 7"
            ]
          },
          "metadata": {}
        },
        {
          "output_type": "display_data",
          "data": {
            "text/html": [
              "<style>\n",
              ".list-inline {list-style: none; margin:0; padding: 0}\n",
              ".list-inline>li {display: inline-block}\n",
              ".list-inline>li:not(:last-child)::after {content: \"\\00b7\"; padding: 0 .5ex}\n",
              "</style>\n",
              "<ol class=list-inline><li>10</li><li>40</li><li>80</li></ol>\n"
            ],
            "text/markdown": "1. 10\n2. 40\n3. 80\n\n\n",
            "text/latex": "\\begin{enumerate*}\n\\item 10\n\\item 40\n\\item 80\n\\end{enumerate*}\n",
            "text/plain": [
              "[1] 10 40 80"
            ]
          },
          "metadata": {}
        },
        {
          "output_type": "display_data",
          "data": {
            "text/html": [
              "<style>\n",
              ".list-inline {list-style: none; margin:0; padding: 0}\n",
              ".list-inline>li {display: inline-block}\n",
              ".list-inline>li:not(:last-child)::after {content: \"\\00b7\"; padding: 0 .5ex}\n",
              "</style>\n",
              "<ol class=list-inline><li>0.1</li><li>0.4</li><li>0.8</li></ol>\n"
            ],
            "text/markdown": "1. 0.1\n2. 0.4\n3. 0.8\n\n\n",
            "text/latex": "\\begin{enumerate*}\n\\item 0.1\n\\item 0.4\n\\item 0.8\n\\end{enumerate*}\n",
            "text/plain": [
              "[1] 0.1 0.4 0.8"
            ]
          },
          "metadata": {}
        }
      ]
    },
    {
      "cell_type": "code",
      "metadata": {
        "id": "syufc9_OIgv_",
        "outputId": "e7afa87c-8c33-48a1-fc67-47f4f19bbf6b",
        "colab": {
          "base_uri": "https://localhost:8080/",
          "height": 69
        }
      },
      "source": [
        "#CUIDADO: Si se operan vectores de dstinto largo se reciclan los valores del vector más pequeño\n",
        "c(1,4,8) + c(10,20)"
      ],
      "execution_count": 70,
      "outputs": [
        {
          "output_type": "stream",
          "name": "stderr",
          "text": [
            "Warning message in c(1, 4, 8) + c(10, 20):\n",
            "“longer object length is not a multiple of shorter object length”\n"
          ]
        },
        {
          "output_type": "display_data",
          "data": {
            "text/html": [
              "<style>\n",
              ".list-inline {list-style: none; margin:0; padding: 0}\n",
              ".list-inline>li {display: inline-block}\n",
              ".list-inline>li:not(:last-child)::after {content: \"\\00b7\"; padding: 0 .5ex}\n",
              "</style>\n",
              "<ol class=list-inline><li>11</li><li>24</li><li>18</li></ol>\n"
            ],
            "text/markdown": "1. 11\n2. 24\n3. 18\n\n\n",
            "text/latex": "\\begin{enumerate*}\n\\item 11\n\\item 24\n\\item 18\n\\end{enumerate*}\n",
            "text/plain": [
              "[1] 11 24 18"
            ]
          },
          "metadata": {}
        }
      ]
    },
    {
      "cell_type": "code",
      "source": [
        "c(1,4,8,9) + c(10,20)"
      ],
      "metadata": {
        "id": "5luxX6ejfiTJ",
        "outputId": "5379131f-9d70-4df1-9ef5-c3ff51bb8ebd",
        "colab": {
          "base_uri": "https://localhost:8080/",
          "height": 34
        }
      },
      "execution_count": 71,
      "outputs": [
        {
          "output_type": "display_data",
          "data": {
            "text/html": [
              "<style>\n",
              ".list-inline {list-style: none; margin:0; padding: 0}\n",
              ".list-inline>li {display: inline-block}\n",
              ".list-inline>li:not(:last-child)::after {content: \"\\00b7\"; padding: 0 .5ex}\n",
              "</style>\n",
              "<ol class=list-inline><li>11</li><li>24</li><li>18</li><li>29</li></ol>\n"
            ],
            "text/markdown": "1. 11\n2. 24\n3. 18\n4. 29\n\n\n",
            "text/latex": "\\begin{enumerate*}\n\\item 11\n\\item 24\n\\item 18\n\\item 29\n\\end{enumerate*}\n",
            "text/plain": [
              "[1] 11 24 18 29"
            ]
          },
          "metadata": {}
        }
      ]
    },
    {
      "cell_type": "code",
      "metadata": {
        "id": "9kfbx6J4IgwC"
      },
      "source": [
        "# NOTA:\n",
        "# podemos determinar el largo de un vector mediante la función length()\n"
      ],
      "execution_count": null,
      "outputs": []
    },
    {
      "cell_type": "markdown",
      "metadata": {
        "id": "LIr-IFowIgwD"
      },
      "source": [
        "**Secuencias**\n",
        "\n",
        "En R es posible generar de manera rápida y sencilla algunas secuencias numéricas y almacenarlas en un vector.\n",
        "\n",
        "Ejemplo de estas funciones son :\n",
        "\n",
        "    rep()\n",
        "    seq()\n",
        "    \n",
        "Más adelante veremos como generar números aleatorios siguiendo alguna función de distribución de interés.\n",
        "\n"
      ]
    },
    {
      "cell_type": "code",
      "metadata": {
        "id": "wk0fB_gWIgwE",
        "outputId": "238adf42-50a7-49c3-b55c-b15c488b5463",
        "colab": {
          "base_uri": "https://localhost:8080/",
          "height": 52
        }
      },
      "source": [
        "# a vimos que fácilmente ppodemos generar vectores de enteros consecutivos vía \":\"\n",
        "4:7\n",
        "-5:10"
      ],
      "execution_count": 73,
      "outputs": [
        {
          "output_type": "display_data",
          "data": {
            "text/html": [
              "<style>\n",
              ".list-inline {list-style: none; margin:0; padding: 0}\n",
              ".list-inline>li {display: inline-block}\n",
              ".list-inline>li:not(:last-child)::after {content: \"\\00b7\"; padding: 0 .5ex}\n",
              "</style>\n",
              "<ol class=list-inline><li>4</li><li>5</li><li>6</li><li>7</li></ol>\n"
            ],
            "text/markdown": "1. 4\n2. 5\n3. 6\n4. 7\n\n\n",
            "text/latex": "\\begin{enumerate*}\n\\item 4\n\\item 5\n\\item 6\n\\item 7\n\\end{enumerate*}\n",
            "text/plain": [
              "[1] 4 5 6 7"
            ]
          },
          "metadata": {}
        },
        {
          "output_type": "display_data",
          "data": {
            "text/html": [
              "<style>\n",
              ".list-inline {list-style: none; margin:0; padding: 0}\n",
              ".list-inline>li {display: inline-block}\n",
              ".list-inline>li:not(:last-child)::after {content: \"\\00b7\"; padding: 0 .5ex}\n",
              "</style>\n",
              "<ol class=list-inline><li>-5</li><li>-4</li><li>-3</li><li>-2</li><li>-1</li><li>0</li><li>1</li><li>2</li><li>3</li><li>4</li><li>5</li><li>6</li><li>7</li><li>8</li><li>9</li><li>10</li></ol>\n"
            ],
            "text/markdown": "1. -5\n2. -4\n3. -3\n4. -2\n5. -1\n6. 0\n7. 1\n8. 2\n9. 3\n10. 4\n11. 5\n12. 6\n13. 7\n14. 8\n15. 9\n16. 10\n\n\n",
            "text/latex": "\\begin{enumerate*}\n\\item -5\n\\item -4\n\\item -3\n\\item -2\n\\item -1\n\\item 0\n\\item 1\n\\item 2\n\\item 3\n\\item 4\n\\item 5\n\\item 6\n\\item 7\n\\item 8\n\\item 9\n\\item 10\n\\end{enumerate*}\n",
            "text/plain": [
              " [1] -5 -4 -3 -2 -1  0  1  2  3  4  5  6  7  8  9 10"
            ]
          },
          "metadata": {}
        }
      ]
    },
    {
      "cell_type": "code",
      "metadata": {
        "id": "rG-Q3PmhIgwG",
        "outputId": "c56201cc-222a-4a7d-be3a-ef850be7a750",
        "colab": {
          "base_uri": "https://localhost:8080/",
          "height": 69
        }
      },
      "source": [
        "# Función seq()\n",
        "seq(from = 1, to = 10, by = 2)\n",
        "seq(from = 0, to = 10, by = 2)\n",
        "seq(from = -0.3, to = 0, by = 0.02)"
      ],
      "execution_count": 78,
      "outputs": [
        {
          "output_type": "display_data",
          "data": {
            "text/html": [
              "<style>\n",
              ".list-inline {list-style: none; margin:0; padding: 0}\n",
              ".list-inline>li {display: inline-block}\n",
              ".list-inline>li:not(:last-child)::after {content: \"\\00b7\"; padding: 0 .5ex}\n",
              "</style>\n",
              "<ol class=list-inline><li>1</li><li>3</li><li>5</li><li>7</li><li>9</li></ol>\n"
            ],
            "text/markdown": "1. 1\n2. 3\n3. 5\n4. 7\n5. 9\n\n\n",
            "text/latex": "\\begin{enumerate*}\n\\item 1\n\\item 3\n\\item 5\n\\item 7\n\\item 9\n\\end{enumerate*}\n",
            "text/plain": [
              "[1] 1 3 5 7 9"
            ]
          },
          "metadata": {}
        },
        {
          "output_type": "display_data",
          "data": {
            "text/html": [
              "<style>\n",
              ".list-inline {list-style: none; margin:0; padding: 0}\n",
              ".list-inline>li {display: inline-block}\n",
              ".list-inline>li:not(:last-child)::after {content: \"\\00b7\"; padding: 0 .5ex}\n",
              "</style>\n",
              "<ol class=list-inline><li>0</li><li>2</li><li>4</li><li>6</li><li>8</li><li>10</li></ol>\n"
            ],
            "text/markdown": "1. 0\n2. 2\n3. 4\n4. 6\n5. 8\n6. 10\n\n\n",
            "text/latex": "\\begin{enumerate*}\n\\item 0\n\\item 2\n\\item 4\n\\item 6\n\\item 8\n\\item 10\n\\end{enumerate*}\n",
            "text/plain": [
              "[1]  0  2  4  6  8 10"
            ]
          },
          "metadata": {}
        },
        {
          "output_type": "display_data",
          "data": {
            "text/html": [
              "<style>\n",
              ".list-inline {list-style: none; margin:0; padding: 0}\n",
              ".list-inline>li {display: inline-block}\n",
              ".list-inline>li:not(:last-child)::after {content: \"\\00b7\"; padding: 0 .5ex}\n",
              "</style>\n",
              "<ol class=list-inline><li>-0.3</li><li>-0.28</li><li>-0.26</li><li>-0.24</li><li>-0.22</li><li>-0.2</li><li>-0.18</li><li>-0.16</li><li>-0.14</li><li>-0.12</li><li>-0.1</li><li>-0.08</li><li>-0.06</li><li>-0.04</li><li>-0.02</li><li>0</li></ol>\n"
            ],
            "text/markdown": "1. -0.3\n2. -0.28\n3. -0.26\n4. -0.24\n5. -0.22\n6. -0.2\n7. -0.18\n8. -0.16\n9. -0.14\n10. -0.12\n11. -0.1\n12. -0.08\n13. -0.06\n14. -0.04\n15. -0.02\n16. 0\n\n\n",
            "text/latex": "\\begin{enumerate*}\n\\item -0.3\n\\item -0.28\n\\item -0.26\n\\item -0.24\n\\item -0.22\n\\item -0.2\n\\item -0.18\n\\item -0.16\n\\item -0.14\n\\item -0.12\n\\item -0.1\n\\item -0.08\n\\item -0.06\n\\item -0.04\n\\item -0.02\n\\item 0\n\\end{enumerate*}\n",
            "text/plain": [
              " [1] -0.30 -0.28 -0.26 -0.24 -0.22 -0.20 -0.18 -0.16 -0.14 -0.12 -0.10 -0.08\n",
              "[13] -0.06 -0.04 -0.02  0.00"
            ]
          },
          "metadata": {}
        }
      ]
    },
    {
      "cell_type": "code",
      "metadata": {
        "id": "gGkgGylnIgwK",
        "outputId": "ac686c56-93da-408f-a0dd-6842abdc3dce",
        "colab": {
          "base_uri": "https://localhost:8080/",
          "height": 156
        }
      },
      "source": [
        "# ejemplo de función seq (utilice argumento by, y otro ejemplo con argumento length.out)\n",
        "x_sq <- seq(from = 5, to = 6.7, length.out = 50)\n",
        "x_sq"
      ],
      "execution_count": 81,
      "outputs": [
        {
          "output_type": "display_data",
          "data": {
            "text/html": [
              "<style>\n",
              ".list-inline {list-style: none; margin:0; padding: 0}\n",
              ".list-inline>li {display: inline-block}\n",
              ".list-inline>li:not(:last-child)::after {content: \"\\00b7\"; padding: 0 .5ex}\n",
              "</style>\n",
              "<ol class=list-inline><li>5</li><li>5.03469387755102</li><li>5.06938775510204</li><li>5.10408163265306</li><li>5.13877551020408</li><li>5.1734693877551</li><li>5.20816326530612</li><li>5.24285714285714</li><li>5.27755102040816</li><li>5.31224489795918</li><li>5.3469387755102</li><li>5.38163265306122</li><li>5.41632653061225</li><li>5.45102040816327</li><li>5.48571428571429</li><li>5.52040816326531</li><li>5.55510204081633</li><li>5.58979591836735</li><li>5.62448979591837</li><li>5.65918367346939</li><li>5.69387755102041</li><li>5.72857142857143</li><li>5.76326530612245</li><li>5.79795918367347</li><li>5.83265306122449</li><li>5.86734693877551</li><li>5.90204081632653</li><li>5.93673469387755</li><li>5.97142857142857</li><li>6.00612244897959</li><li>6.04081632653061</li><li>6.07551020408163</li><li>6.11020408163265</li><li>6.14489795918367</li><li>6.17959183673469</li><li>6.21428571428571</li><li>6.24897959183673</li><li>6.28367346938776</li><li>6.31836734693878</li><li>6.3530612244898</li><li>6.38775510204082</li><li>6.42244897959184</li><li>6.45714285714286</li><li>6.49183673469388</li><li>6.5265306122449</li><li>6.56122448979592</li><li>6.59591836734694</li><li>6.63061224489796</li><li>6.66530612244898</li><li>6.7</li></ol>\n"
            ],
            "text/markdown": "1. 5\n2. 5.03469387755102\n3. 5.06938775510204\n4. 5.10408163265306\n5. 5.13877551020408\n6. 5.1734693877551\n7. 5.20816326530612\n8. 5.24285714285714\n9. 5.27755102040816\n10. 5.31224489795918\n11. 5.3469387755102\n12. 5.38163265306122\n13. 5.41632653061225\n14. 5.45102040816327\n15. 5.48571428571429\n16. 5.52040816326531\n17. 5.55510204081633\n18. 5.58979591836735\n19. 5.62448979591837\n20. 5.65918367346939\n21. 5.69387755102041\n22. 5.72857142857143\n23. 5.76326530612245\n24. 5.79795918367347\n25. 5.83265306122449\n26. 5.86734693877551\n27. 5.90204081632653\n28. 5.93673469387755\n29. 5.97142857142857\n30. 6.00612244897959\n31. 6.04081632653061\n32. 6.07551020408163\n33. 6.11020408163265\n34. 6.14489795918367\n35. 6.17959183673469\n36. 6.21428571428571\n37. 6.24897959183673\n38. 6.28367346938776\n39. 6.31836734693878\n40. 6.3530612244898\n41. 6.38775510204082\n42. 6.42244897959184\n43. 6.45714285714286\n44. 6.49183673469388\n45. 6.5265306122449\n46. 6.56122448979592\n47. 6.59591836734694\n48. 6.63061224489796\n49. 6.66530612244898\n50. 6.7\n\n\n",
            "text/latex": "\\begin{enumerate*}\n\\item 5\n\\item 5.03469387755102\n\\item 5.06938775510204\n\\item 5.10408163265306\n\\item 5.13877551020408\n\\item 5.1734693877551\n\\item 5.20816326530612\n\\item 5.24285714285714\n\\item 5.27755102040816\n\\item 5.31224489795918\n\\item 5.3469387755102\n\\item 5.38163265306122\n\\item 5.41632653061225\n\\item 5.45102040816327\n\\item 5.48571428571429\n\\item 5.52040816326531\n\\item 5.55510204081633\n\\item 5.58979591836735\n\\item 5.62448979591837\n\\item 5.65918367346939\n\\item 5.69387755102041\n\\item 5.72857142857143\n\\item 5.76326530612245\n\\item 5.79795918367347\n\\item 5.83265306122449\n\\item 5.86734693877551\n\\item 5.90204081632653\n\\item 5.93673469387755\n\\item 5.97142857142857\n\\item 6.00612244897959\n\\item 6.04081632653061\n\\item 6.07551020408163\n\\item 6.11020408163265\n\\item 6.14489795918367\n\\item 6.17959183673469\n\\item 6.21428571428571\n\\item 6.24897959183673\n\\item 6.28367346938776\n\\item 6.31836734693878\n\\item 6.3530612244898\n\\item 6.38775510204082\n\\item 6.42244897959184\n\\item 6.45714285714286\n\\item 6.49183673469388\n\\item 6.5265306122449\n\\item 6.56122448979592\n\\item 6.59591836734694\n\\item 6.63061224489796\n\\item 6.66530612244898\n\\item 6.7\n\\end{enumerate*}\n",
            "text/plain": [
              " [1] 5.000000 5.034694 5.069388 5.104082 5.138776 5.173469 5.208163 5.242857\n",
              " [9] 5.277551 5.312245 5.346939 5.381633 5.416327 5.451020 5.485714 5.520408\n",
              "[17] 5.555102 5.589796 5.624490 5.659184 5.693878 5.728571 5.763265 5.797959\n",
              "[25] 5.832653 5.867347 5.902041 5.936735 5.971429 6.006122 6.040816 6.075510\n",
              "[33] 6.110204 6.144898 6.179592 6.214286 6.248980 6.283673 6.318367 6.353061\n",
              "[41] 6.387755 6.422449 6.457143 6.491837 6.526531 6.561224 6.595918 6.630612\n",
              "[49] 6.665306 6.700000"
            ]
          },
          "metadata": {}
        }
      ]
    },
    {
      "cell_type": "code",
      "source": [
        "# Respondemos la pregunta de Guido, por el largo del salto.\n",
        "x_sq[2] - x_sq[1]\n",
        "((6.7- 5)/(50 - 1))"
      ],
      "metadata": {
        "id": "0aZ1d6PliMS9",
        "outputId": "390b7aae-5bd0-456b-b8dc-3f805170fdd7",
        "colab": {
          "base_uri": "https://localhost:8080/",
          "height": 52
        }
      },
      "execution_count": 83,
      "outputs": [
        {
          "output_type": "display_data",
          "data": {
            "text/html": [
              "0.0346938775510202"
            ],
            "text/markdown": "0.0346938775510202",
            "text/latex": "0.0346938775510202",
            "text/plain": [
              "[1] 0.03469388"
            ]
          },
          "metadata": {}
        },
        {
          "output_type": "display_data",
          "data": {
            "text/html": [
              "0.0346938775510204"
            ],
            "text/markdown": "0.0346938775510204",
            "text/latex": "0.0346938775510204",
            "text/plain": [
              "[1] 0.03469388"
            ]
          },
          "metadata": {}
        }
      ]
    },
    {
      "cell_type": "code",
      "source": [
        "# Ejemplo de secuencia con rep (utilice distintos tipos de datos)\n",
        "?rep"
      ],
      "metadata": {
        "id": "rcQfVE7zhSKW"
      },
      "execution_count": 84,
      "outputs": []
    },
    {
      "cell_type": "code",
      "source": [
        "rep(3, times = 4)"
      ],
      "metadata": {
        "id": "hsE45UOpjAAX",
        "outputId": "df0b56a2-dbfb-4526-f6a8-04fa20cfbcd0",
        "colab": {
          "base_uri": "https://localhost:8080/",
          "height": 34
        }
      },
      "execution_count": 85,
      "outputs": [
        {
          "output_type": "display_data",
          "data": {
            "text/html": [
              "<style>\n",
              ".list-inline {list-style: none; margin:0; padding: 0}\n",
              ".list-inline>li {display: inline-block}\n",
              ".list-inline>li:not(:last-child)::after {content: \"\\00b7\"; padding: 0 .5ex}\n",
              "</style>\n",
              "<ol class=list-inline><li>3</li><li>3</li><li>3</li><li>3</li></ol>\n"
            ],
            "text/markdown": "1. 3\n2. 3\n3. 3\n4. 3\n\n\n",
            "text/latex": "\\begin{enumerate*}\n\\item 3\n\\item 3\n\\item 3\n\\item 3\n\\end{enumerate*}\n",
            "text/plain": [
              "[1] 3 3 3 3"
            ]
          },
          "metadata": {}
        }
      ]
    },
    {
      "cell_type": "code",
      "source": [
        "rep(c(\"a\",\"b\",\"c\"), times = 4)"
      ],
      "metadata": {
        "id": "lCx4zsYYjEdJ",
        "outputId": "d645eed1-bb41-4346-968b-0feea8adf12b",
        "colab": {
          "base_uri": "https://localhost:8080/",
          "height": 34
        }
      },
      "execution_count": 86,
      "outputs": [
        {
          "output_type": "display_data",
          "data": {
            "text/html": [
              "<style>\n",
              ".list-inline {list-style: none; margin:0; padding: 0}\n",
              ".list-inline>li {display: inline-block}\n",
              ".list-inline>li:not(:last-child)::after {content: \"\\00b7\"; padding: 0 .5ex}\n",
              "</style>\n",
              "<ol class=list-inline><li>'a'</li><li>'b'</li><li>'c'</li><li>'a'</li><li>'b'</li><li>'c'</li><li>'a'</li><li>'b'</li><li>'c'</li><li>'a'</li><li>'b'</li><li>'c'</li></ol>\n"
            ],
            "text/markdown": "1. 'a'\n2. 'b'\n3. 'c'\n4. 'a'\n5. 'b'\n6. 'c'\n7. 'a'\n8. 'b'\n9. 'c'\n10. 'a'\n11. 'b'\n12. 'c'\n\n\n",
            "text/latex": "\\begin{enumerate*}\n\\item 'a'\n\\item 'b'\n\\item 'c'\n\\item 'a'\n\\item 'b'\n\\item 'c'\n\\item 'a'\n\\item 'b'\n\\item 'c'\n\\item 'a'\n\\item 'b'\n\\item 'c'\n\\end{enumerate*}\n",
            "text/plain": [
              " [1] \"a\" \"b\" \"c\" \"a\" \"b\" \"c\" \"a\" \"b\" \"c\" \"a\" \"b\" \"c\""
            ]
          },
          "metadata": {}
        }
      ]
    },
    {
      "cell_type": "code",
      "source": [
        "rep(c(\"a\",\"b\",\"c\"), length.out = 10)"
      ],
      "metadata": {
        "id": "oJE9E7jEjNh2",
        "outputId": "a3d9d7d9-f6c6-49b1-a90c-fa986cce5631",
        "colab": {
          "base_uri": "https://localhost:8080/",
          "height": 34
        }
      },
      "execution_count": 87,
      "outputs": [
        {
          "output_type": "display_data",
          "data": {
            "text/html": [
              "<style>\n",
              ".list-inline {list-style: none; margin:0; padding: 0}\n",
              ".list-inline>li {display: inline-block}\n",
              ".list-inline>li:not(:last-child)::after {content: \"\\00b7\"; padding: 0 .5ex}\n",
              "</style>\n",
              "<ol class=list-inline><li>'a'</li><li>'b'</li><li>'c'</li><li>'a'</li><li>'b'</li><li>'c'</li><li>'a'</li><li>'b'</li><li>'c'</li><li>'a'</li></ol>\n"
            ],
            "text/markdown": "1. 'a'\n2. 'b'\n3. 'c'\n4. 'a'\n5. 'b'\n6. 'c'\n7. 'a'\n8. 'b'\n9. 'c'\n10. 'a'\n\n\n",
            "text/latex": "\\begin{enumerate*}\n\\item 'a'\n\\item 'b'\n\\item 'c'\n\\item 'a'\n\\item 'b'\n\\item 'c'\n\\item 'a'\n\\item 'b'\n\\item 'c'\n\\item 'a'\n\\end{enumerate*}\n",
            "text/plain": [
              " [1] \"a\" \"b\" \"c\" \"a\" \"b\" \"c\" \"a\" \"b\" \"c\" \"a\""
            ]
          },
          "metadata": {}
        }
      ]
    },
    {
      "cell_type": "code",
      "source": [
        "rep(c(\"a\",\"b\",\"c\"), times = 4, each = 2)"
      ],
      "metadata": {
        "id": "HTkCfW3Xjahu",
        "outputId": "8a5bada3-2906-4eb0-da87-233a3ab1b117",
        "colab": {
          "base_uri": "https://localhost:8080/",
          "height": 34
        }
      },
      "execution_count": 88,
      "outputs": [
        {
          "output_type": "display_data",
          "data": {
            "text/html": [
              "<style>\n",
              ".list-inline {list-style: none; margin:0; padding: 0}\n",
              ".list-inline>li {display: inline-block}\n",
              ".list-inline>li:not(:last-child)::after {content: \"\\00b7\"; padding: 0 .5ex}\n",
              "</style>\n",
              "<ol class=list-inline><li>'a'</li><li>'a'</li><li>'b'</li><li>'b'</li><li>'c'</li><li>'c'</li><li>'a'</li><li>'a'</li><li>'b'</li><li>'b'</li><li>'c'</li><li>'c'</li><li>'a'</li><li>'a'</li><li>'b'</li><li>'b'</li><li>'c'</li><li>'c'</li><li>'a'</li><li>'a'</li><li>'b'</li><li>'b'</li><li>'c'</li><li>'c'</li></ol>\n"
            ],
            "text/markdown": "1. 'a'\n2. 'a'\n3. 'b'\n4. 'b'\n5. 'c'\n6. 'c'\n7. 'a'\n8. 'a'\n9. 'b'\n10. 'b'\n11. 'c'\n12. 'c'\n13. 'a'\n14. 'a'\n15. 'b'\n16. 'b'\n17. 'c'\n18. 'c'\n19. 'a'\n20. 'a'\n21. 'b'\n22. 'b'\n23. 'c'\n24. 'c'\n\n\n",
            "text/latex": "\\begin{enumerate*}\n\\item 'a'\n\\item 'a'\n\\item 'b'\n\\item 'b'\n\\item 'c'\n\\item 'c'\n\\item 'a'\n\\item 'a'\n\\item 'b'\n\\item 'b'\n\\item 'c'\n\\item 'c'\n\\item 'a'\n\\item 'a'\n\\item 'b'\n\\item 'b'\n\\item 'c'\n\\item 'c'\n\\item 'a'\n\\item 'a'\n\\item 'b'\n\\item 'b'\n\\item 'c'\n\\item 'c'\n\\end{enumerate*}\n",
            "text/plain": [
              " [1] \"a\" \"a\" \"b\" \"b\" \"c\" \"c\" \"a\" \"a\" \"b\" \"b\" \"c\" \"c\" \"a\" \"a\" \"b\" \"b\" \"c\" \"c\" \"a\"\n",
              "[20] \"a\" \"b\" \"b\" \"c\" \"c\""
            ]
          },
          "metadata": {}
        }
      ]
    },
    {
      "cell_type": "code",
      "source": [],
      "metadata": {
        "id": "WOyw3l4Bj6pp"
      },
      "execution_count": null,
      "outputs": []
    },
    {
      "cell_type": "markdown",
      "metadata": {
        "id": "TlnEINwUIgwP"
      },
      "source": [
        "### 3.2 Funciones (primera parte)\n",
        "\n",
        "#### 3.2.1 Funciones vectorizadas y operaciones con vectores\n",
        "\n",
        "R es un lenguaje funcional, en el sentido de que prácticamente cada llamada a R corresponde a una función que puede (o no) recibir argumentos de entrada.\n",
        "Una de las ventajas es que existe una amplia, muy amplia,... verdaderamente amplia!, variedad de funciones disponibles, tanto en las librerías que vienen con la instalación por defecto como las librerías disponibles en CRAN o en toda la comunidad R.\n",
        "\n",
        "En R, una función $f$ se dice vectorizada si dado un vector $\\mathbf{x}=(x_1,x_2,\\dots,x_n)$, se tiene que $f(\\mathbf{x})=(f(x_1),f(x_2),\\dots,f(x_n))$.\n",
        "Esto hace que, por ejemplo, la aritmética de vectores se más sencilla de implentar y con un menor tiempo de cómputo . Gran parte de las funciones disponibles en la librerías (bibliotecas o *packages*) de R corresponden a funciones vectorizadas.\n",
        "A modo de ejemplo, a cotinuación se muestran algunas funciones (de las más básicas) aritméticas, y funciones para trabajar con texto:\n",
        "    \n",
        "    +,-,*,/\n",
        "    abs()\n",
        "    sqrt()\n",
        "    cos()\n",
        "    sin()\n",
        "    tan()\n",
        "    nchar()\n",
        "    susbtr()\n",
        "    grepl()\n",
        "    gsub()\n",
        "    \n",
        "   \n",
        "   \n",
        "   "
      ]
    },
    {
      "cell_type": "code",
      "source": [
        "sqrt(4)"
      ],
      "metadata": {
        "id": "ggZWE2wen-s6",
        "outputId": "338c058b-198a-44a9-dcb5-013f0d0a5bbc",
        "colab": {
          "base_uri": "https://localhost:8080/",
          "height": 34
        }
      },
      "execution_count": 89,
      "outputs": [
        {
          "output_type": "display_data",
          "data": {
            "text/html": [
              "2"
            ],
            "text/markdown": "2",
            "text/latex": "2",
            "text/plain": [
              "[1] 2"
            ]
          },
          "metadata": {}
        }
      ]
    },
    {
      "cell_type": "code",
      "source": [
        "sqrt(c(4,16,25))"
      ],
      "metadata": {
        "id": "CMcAApkgoCWG",
        "outputId": "260c5913-acaa-48e4-b296-aa14d4e8793b",
        "colab": {
          "base_uri": "https://localhost:8080/",
          "height": 34
        }
      },
      "execution_count": 90,
      "outputs": [
        {
          "output_type": "display_data",
          "data": {
            "text/html": [
              "<style>\n",
              ".list-inline {list-style: none; margin:0; padding: 0}\n",
              ".list-inline>li {display: inline-block}\n",
              ".list-inline>li:not(:last-child)::after {content: \"\\00b7\"; padding: 0 .5ex}\n",
              "</style>\n",
              "<ol class=list-inline><li>2</li><li>4</li><li>5</li></ol>\n"
            ],
            "text/markdown": "1. 2\n2. 4\n3. 5\n\n\n",
            "text/latex": "\\begin{enumerate*}\n\\item 2\n\\item 4\n\\item 5\n\\end{enumerate*}\n",
            "text/plain": [
              "[1] 2 4 5"
            ]
          },
          "metadata": {}
        }
      ]
    },
    {
      "cell_type": "code",
      "metadata": {
        "id": "tO3oB1bnIgwP",
        "outputId": "f07aa4aa-a7dc-4e5f-b7ce-fbb1bccb9ff9",
        "colab": {
          "base_uri": "https://localhost:8080/",
          "height": 52
        }
      },
      "source": [
        "# 3.2. Funciones (primera parte) ------------\n",
        "# 3.2.1 Funciones vectorizadas\n",
        "# Ejemplos básicos de funciones(vectorizadas)\n",
        "sqrt(c(4,16,25))\n",
        "abs(c(-1,50,-6))"
      ],
      "execution_count": 91,
      "outputs": [
        {
          "output_type": "display_data",
          "data": {
            "text/html": [
              "<style>\n",
              ".list-inline {list-style: none; margin:0; padding: 0}\n",
              ".list-inline>li {display: inline-block}\n",
              ".list-inline>li:not(:last-child)::after {content: \"\\00b7\"; padding: 0 .5ex}\n",
              "</style>\n",
              "<ol class=list-inline><li>2</li><li>4</li><li>5</li></ol>\n"
            ],
            "text/markdown": "1. 2\n2. 4\n3. 5\n\n\n",
            "text/latex": "\\begin{enumerate*}\n\\item 2\n\\item 4\n\\item 5\n\\end{enumerate*}\n",
            "text/plain": [
              "[1] 2 4 5"
            ]
          },
          "metadata": {}
        },
        {
          "output_type": "display_data",
          "data": {
            "text/html": [
              "<style>\n",
              ".list-inline {list-style: none; margin:0; padding: 0}\n",
              ".list-inline>li {display: inline-block}\n",
              ".list-inline>li:not(:last-child)::after {content: \"\\00b7\"; padding: 0 .5ex}\n",
              "</style>\n",
              "<ol class=list-inline><li>1</li><li>50</li><li>6</li></ol>\n"
            ],
            "text/markdown": "1. 1\n2. 50\n3. 6\n\n\n",
            "text/latex": "\\begin{enumerate*}\n\\item 1\n\\item 50\n\\item 6\n\\end{enumerate*}\n",
            "text/plain": [
              "[1]  1 50  6"
            ]
          },
          "metadata": {}
        }
      ]
    },
    {
      "cell_type": "code",
      "metadata": {
        "id": "NivskO3jIgwT",
        "outputId": "d1facd75-064b-4ae3-c713-a9e8a684a124",
        "colab": {
          "base_uri": "https://localhost:8080/",
          "height": 69
        }
      },
      "source": [
        "# funciones para manipular texto\n",
        "# cantidad de caracteres\n",
        "nchar(\"hola\")\n",
        "nchar(\" hola \")\n",
        "nchar(c(\"hola\", \"cómo\", \"estamos?\"))"
      ],
      "execution_count": 94,
      "outputs": [
        {
          "output_type": "display_data",
          "data": {
            "text/html": [
              "4"
            ],
            "text/markdown": "4",
            "text/latex": "4",
            "text/plain": [
              "[1] 4"
            ]
          },
          "metadata": {}
        },
        {
          "output_type": "display_data",
          "data": {
            "text/html": [
              "6"
            ],
            "text/markdown": "6",
            "text/latex": "6",
            "text/plain": [
              "[1] 6"
            ]
          },
          "metadata": {}
        },
        {
          "output_type": "display_data",
          "data": {
            "text/html": [
              "<style>\n",
              ".list-inline {list-style: none; margin:0; padding: 0}\n",
              ".list-inline>li {display: inline-block}\n",
              ".list-inline>li:not(:last-child)::after {content: \"\\00b7\"; padding: 0 .5ex}\n",
              "</style>\n",
              "<ol class=list-inline><li>4</li><li>4</li><li>8</li></ol>\n"
            ],
            "text/markdown": "1. 4\n2. 4\n3. 8\n\n\n",
            "text/latex": "\\begin{enumerate*}\n\\item 4\n\\item 4\n\\item 8\n\\end{enumerate*}\n",
            "text/plain": [
              "[1] 4 4 8"
            ]
          },
          "metadata": {}
        }
      ]
    },
    {
      "cell_type": "code",
      "source": [
        "?substr"
      ],
      "metadata": {
        "id": "JgIv282jpAHG"
      },
      "execution_count": 104,
      "outputs": []
    },
    {
      "cell_type": "code",
      "metadata": {
        "id": "tA55foL1IgwX",
        "outputId": "242f04fc-ef97-4bae-c4b2-58db3546f7ec",
        "colab": {
          "base_uri": "https://localhost:8080/",
          "height": 52
        }
      },
      "source": [
        "# substring substr() o substring()\n",
        "substr(\"buenas noches\", start = 3, stop = 8)\n",
        "substr(c(\"buenas noches\", \"Hola buenas tardes\", \"Hoy\"), start = 3, stop = 8)\n"
      ],
      "execution_count": 97,
      "outputs": [
        {
          "output_type": "display_data",
          "data": {
            "text/html": [
              "'enas n'"
            ],
            "text/markdown": "'enas n'",
            "text/latex": "'enas n'",
            "text/plain": [
              "[1] \"enas n\""
            ]
          },
          "metadata": {}
        },
        {
          "output_type": "display_data",
          "data": {
            "text/html": [
              "<style>\n",
              ".list-inline {list-style: none; margin:0; padding: 0}\n",
              ".list-inline>li {display: inline-block}\n",
              ".list-inline>li:not(:last-child)::after {content: \"\\00b7\"; padding: 0 .5ex}\n",
              "</style>\n",
              "<ol class=list-inline><li>'enas n'</li><li>'la bue'</li><li>'y'</li></ol>\n"
            ],
            "text/markdown": "1. 'enas n'\n2. 'la bue'\n3. 'y'\n\n\n",
            "text/latex": "\\begin{enumerate*}\n\\item 'enas n'\n\\item 'la bue'\n\\item 'y'\n\\end{enumerate*}\n",
            "text/plain": [
              "[1] \"enas n\" \"la bue\" \"y\"     "
            ]
          },
          "metadata": {}
        }
      ]
    },
    {
      "cell_type": "code",
      "source": [
        "# NOTA: Se pueden omitir los nombres de los parámetros en una función, siempre que se respete el orden según lo documentado\n",
        "substr(x = \"buenas noches\", start = 3, stop = 8)\n",
        "substr(\"buenas noches\", 3, 8)\n"
      ],
      "metadata": {
        "id": "WTBh8ctuq3U5",
        "outputId": "e2589b89-3335-4a0a-86f6-75325c7a39dd",
        "colab": {
          "base_uri": "https://localhost:8080/",
          "height": 52
        }
      },
      "execution_count": 105,
      "outputs": [
        {
          "output_type": "display_data",
          "data": {
            "text/html": [
              "'enas n'"
            ],
            "text/markdown": "'enas n'",
            "text/latex": "'enas n'",
            "text/plain": [
              "[1] \"enas n\""
            ]
          },
          "metadata": {}
        },
        {
          "output_type": "display_data",
          "data": {
            "text/html": [
              "'enas n'"
            ],
            "text/markdown": "'enas n'",
            "text/latex": "'enas n'",
            "text/plain": [
              "[1] \"enas n\""
            ]
          },
          "metadata": {}
        }
      ]
    },
    {
      "cell_type": "code",
      "source": [
        "substr(\"buenas noches\", 8, 3)\n",
        "substr( 8,\"buenas noches\", 3)\n",
        "substr(\"buenas noches\", stop = 8, start = 3)\n",
        "substr( stop = 8, x = \"buenas noches\", start = 3)"
      ],
      "metadata": {
        "id": "cgHRoPaYrIHz",
        "outputId": "62ad320b-4709-4496-de98-6a6d25f7f229",
        "colab": {
          "base_uri": "https://localhost:8080/",
          "height": 121
        }
      },
      "execution_count": 109,
      "outputs": [
        {
          "output_type": "display_data",
          "data": {
            "text/html": [
              "''"
            ],
            "text/markdown": "''",
            "text/latex": "''",
            "text/plain": [
              "[1] \"\""
            ]
          },
          "metadata": {}
        },
        {
          "output_type": "stream",
          "name": "stderr",
          "text": [
            "Warning message in substr(8, \"buenas noches\", 3):\n",
            "“NAs introduced by coercion”\n"
          ]
        },
        {
          "output_type": "display_data",
          "data": {
            "text/html": [
              "NA"
            ],
            "text/markdown": "NA",
            "text/latex": "NA",
            "text/plain": [
              "[1] NA"
            ]
          },
          "metadata": {}
        },
        {
          "output_type": "display_data",
          "data": {
            "text/html": [
              "'enas n'"
            ],
            "text/markdown": "'enas n'",
            "text/latex": "'enas n'",
            "text/plain": [
              "[1] \"enas n\""
            ]
          },
          "metadata": {}
        },
        {
          "output_type": "display_data",
          "data": {
            "text/html": [
              "'enas n'"
            ],
            "text/markdown": "'enas n'",
            "text/latex": "'enas n'",
            "text/plain": [
              "[1] \"enas n\""
            ]
          },
          "metadata": {}
        }
      ]
    },
    {
      "cell_type": "code",
      "metadata": {
        "id": "vjRwdUbiIgwY",
        "outputId": "26fb6ac6-3cc4-49c4-e2cd-9ff0ad187850",
        "colab": {
          "base_uri": "https://localhost:8080/",
          "height": 69
        }
      },
      "source": [
        "# grepl() evlaúa si un  caracter está contenido en otro. (LIKE)\n",
        "#?grepl()\n",
        "grepl(\"ala\", \"palabra\")\n",
        "grepl(\"alo\", \"palabra\")\n",
        "grepl(pattern = \"alo\", x = c(\"palabra\", \"Lalo\", \"Holahalo\") )\n",
        "\n",
        "\n"
      ],
      "execution_count": 110,
      "outputs": [
        {
          "output_type": "display_data",
          "data": {
            "text/html": [
              "TRUE"
            ],
            "text/markdown": "TRUE",
            "text/latex": "TRUE",
            "text/plain": [
              "[1] TRUE"
            ]
          },
          "metadata": {}
        },
        {
          "output_type": "display_data",
          "data": {
            "text/html": [
              "FALSE"
            ],
            "text/markdown": "FALSE",
            "text/latex": "FALSE",
            "text/plain": [
              "[1] FALSE"
            ]
          },
          "metadata": {}
        },
        {
          "output_type": "display_data",
          "data": {
            "text/html": [
              "<style>\n",
              ".list-inline {list-style: none; margin:0; padding: 0}\n",
              ".list-inline>li {display: inline-block}\n",
              ".list-inline>li:not(:last-child)::after {content: \"\\00b7\"; padding: 0 .5ex}\n",
              "</style>\n",
              "<ol class=list-inline><li>FALSE</li><li>TRUE</li><li>TRUE</li></ol>\n"
            ],
            "text/markdown": "1. FALSE\n2. TRUE\n3. TRUE\n\n\n",
            "text/latex": "\\begin{enumerate*}\n\\item FALSE\n\\item TRUE\n\\item TRUE\n\\end{enumerate*}\n",
            "text/plain": [
              "[1] FALSE  TRUE  TRUE"
            ]
          },
          "metadata": {}
        }
      ]
    },
    {
      "cell_type": "code",
      "source": [
        "# NOTA: tolower() toupper()\n",
        "tolower(\"BueNas\")\n",
        "toupper(\"BueNas\")"
      ],
      "metadata": {
        "id": "2TOKrWtGqIuZ",
        "outputId": "5bc37074-cb3a-443e-ae55-360a9da42764",
        "colab": {
          "base_uri": "https://localhost:8080/",
          "height": 52
        }
      },
      "execution_count": 102,
      "outputs": [
        {
          "output_type": "display_data",
          "data": {
            "text/html": [
              "'buenas'"
            ],
            "text/markdown": "'buenas'",
            "text/latex": "'buenas'",
            "text/plain": [
              "[1] \"buenas\""
            ]
          },
          "metadata": {}
        },
        {
          "output_type": "display_data",
          "data": {
            "text/html": [
              "'BUENAS'"
            ],
            "text/markdown": "'BUENAS'",
            "text/latex": "'BUENAS'",
            "text/plain": [
              "[1] \"BUENAS\""
            ]
          },
          "metadata": {}
        }
      ]
    },
    {
      "cell_type": "code",
      "source": [
        "\n",
        "#gsub() reemblaza un substring por otro\n",
        "#?gsub\n",
        "gsub(pattern = \"ala\", replacement = \"XX\", x = c(\"palabra\", \"Lala\", \"Holahalo\",\"ala\"))\n",
        "# si reemplazamos en un vector de palabras\n"
      ],
      "metadata": {
        "id": "ymnYppFhqIJD",
        "outputId": "a1ba7a13-18eb-4aa4-bc7a-5b862e636e0b",
        "colab": {
          "base_uri": "https://localhost:8080/",
          "height": 34
        }
      },
      "execution_count": 112,
      "outputs": [
        {
          "output_type": "display_data",
          "data": {
            "text/html": [
              "<style>\n",
              ".list-inline {list-style: none; margin:0; padding: 0}\n",
              ".list-inline>li {display: inline-block}\n",
              ".list-inline>li:not(:last-child)::after {content: \"\\00b7\"; padding: 0 .5ex}\n",
              "</style>\n",
              "<ol class=list-inline><li>'pXXbra'</li><li>'LXX'</li><li>'Holahalo'</li><li>'XX'</li></ol>\n"
            ],
            "text/markdown": "1. 'pXXbra'\n2. 'LXX'\n3. 'Holahalo'\n4. 'XX'\n\n\n",
            "text/latex": "\\begin{enumerate*}\n\\item 'pXXbra'\n\\item 'LXX'\n\\item 'Holahalo'\n\\item 'XX'\n\\end{enumerate*}\n",
            "text/plain": [
              "[1] \"pXXbra\"   \"LXX\"      \"Holahalo\" \"XX\"      "
            ]
          },
          "metadata": {}
        }
      ]
    },
    {
      "cell_type": "markdown",
      "source": [],
      "metadata": {
        "id": "quOIFfmotuYv"
      }
    },
    {
      "cell_type": "code",
      "metadata": {
        "id": "0j9kKUbzIgwZ"
      },
      "source": [
        "#gsub() reemplaza caracteres dentro de un texto\n",
        "#https://www.tidytextmining.com/\n"
      ],
      "execution_count": null,
      "outputs": []
    }
  ]
}