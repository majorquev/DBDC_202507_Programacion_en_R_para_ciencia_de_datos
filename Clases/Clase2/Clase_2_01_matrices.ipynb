{
  "nbformat": 4,
  "nbformat_minor": 0,
  "metadata": {
    "colab": {
      "provenance": [],
      "include_colab_link": true
    },
    "kernelspec": {
      "name": "ir",
      "display_name": "R"
    }
  },
  "cells": [
    {
      "cell_type": "markdown",
      "metadata": {
        "id": "view-in-github",
        "colab_type": "text"
      },
      "source": [
        "<a href=\"https://colab.research.google.com/github/majorquev/DBDC_202507_Programacion_en_R_para_ciencia_de_datos/blob/main/Clases/Clase2/Clase_2_01_matrices.ipynb\" target=\"_parent\"><img src=\"https://colab.research.google.com/assets/colab-badge.svg\" alt=\"Open In Colab\"/></a>"
      ]
    },
    {
      "cell_type": "markdown",
      "metadata": {
        "collapsed": true,
        "id": "qGvtNqVzSqoX"
      },
      "source": [
        "# Parte 1: Introducción a R (continuación)\n",
        "\n",
        "**Autor:** Miguel Jorquera Viguera<br>\n",
        "**E-mail:** majorquev@gmail.com<br>\n",
        "**Ayudante:** Rodrigo Morales <br>\n",
        "**E-mail ayudante:** rumorale1@gmail.com\n",
        "\n",
        "\n",
        "\n",
        "### 3.2 Matrices\n",
        "\n",
        "En R, así como en otros lenguajes de programación, una matriz es básicamente un arreglo bi-dimensional, donde las entradas horizontales se entienden como filas y las verticales como columnas. Es posible imaginar una matriz como un arreglo de vectores como columnas (o filas) del mismo largo.\n",
        "\n",
        " * ¿Qué se guarda en una matriz?<br>\n",
        "    Sólo datos de un mismo tipo.\n",
        "     \n",
        " * ¿Cómo se declara una matriz?<br>\n",
        "    Se puede definir de varias maneras, indicando los elementos que la componen, o combinando vectores como filas o columnas.\n",
        "\n",
        " * ¿Cómo se accede a sus elementos?<br>\n",
        "    Indicando la posición del vector fila, seguido de la posición del vector columna (como es usual)."
      ]
    },
    {
      "cell_type": "code",
      "metadata": {
        "trusted": true,
        "id": "TKVO3cuZSqoY",
        "outputId": "1adbcf4f-53e5-4664-e78a-20df2369ab1a",
        "colab": {
          "base_uri": "https://localhost:8080/",
          "height": 247
        }
      },
      "source": [
        "# 3.2 Matrices ------------\n",
        "#?matrix de dos filas y 3 columnas, parametros ncol, nrow y byrow\n",
        "# recibe un vector de elementos\n",
        "A <- matrix(c(1,1,2,3,5,8), nrow = 2, ncol = 3)\n",
        "A\n",
        "\n",
        "B <- matrix(c(1,1,2,3,5,8), nrow = 2, ncol = 3,  byrow = T)\n",
        "B"
      ],
      "execution_count": 4,
      "outputs": [
        {
          "output_type": "display_data",
          "data": {
            "text/html": [
              "<table class=\"dataframe\">\n",
              "<caption>A matrix: 2 × 3 of type dbl</caption>\n",
              "<tbody>\n",
              "\t<tr><td>1</td><td>2</td><td>5</td></tr>\n",
              "\t<tr><td>1</td><td>3</td><td>8</td></tr>\n",
              "</tbody>\n",
              "</table>\n"
            ],
            "text/markdown": "\nA matrix: 2 × 3 of type dbl\n\n| 1 | 2 | 5 |\n| 1 | 3 | 8 |\n\n",
            "text/latex": "A matrix: 2 × 3 of type dbl\n\\begin{tabular}{lll}\n\t 1 & 2 & 5\\\\\n\t 1 & 3 & 8\\\\\n\\end{tabular}\n",
            "text/plain": [
              "     [,1] [,2] [,3]\n",
              "[1,] 1    2    5   \n",
              "[2,] 1    3    8   "
            ]
          },
          "metadata": {}
        },
        {
          "output_type": "display_data",
          "data": {
            "text/html": [
              "<table class=\"dataframe\">\n",
              "<caption>A matrix: 2 × 3 of type dbl</caption>\n",
              "<tbody>\n",
              "\t<tr><td>1</td><td>1</td><td>2</td></tr>\n",
              "\t<tr><td>3</td><td>5</td><td>8</td></tr>\n",
              "</tbody>\n",
              "</table>\n"
            ],
            "text/markdown": "\nA matrix: 2 × 3 of type dbl\n\n| 1 | 1 | 2 |\n| 3 | 5 | 8 |\n\n",
            "text/latex": "A matrix: 2 × 3 of type dbl\n\\begin{tabular}{lll}\n\t 1 & 1 & 2\\\\\n\t 3 & 5 & 8\\\\\n\\end{tabular}\n",
            "text/plain": [
              "     [,1] [,2] [,3]\n",
              "[1,] 1    1    2   \n",
              "[2,] 3    5    8   "
            ]
          },
          "metadata": {}
        }
      ]
    },
    {
      "cell_type": "code",
      "metadata": {
        "trusted": true,
        "id": "Gm3PDTciSqof",
        "outputId": "011aa4da-7966-4222-d857-56983150012e",
        "colab": {
          "base_uri": "https://localhost:8080/",
          "height": 86
        }
      },
      "source": [
        "# clase y atributo dim\n",
        "class(A)\n",
        "dim(A)\n",
        "nrow(A)\n",
        "ncol(A)"
      ],
      "execution_count": 8,
      "outputs": [
        {
          "output_type": "display_data",
          "data": {
            "text/html": [
              "<style>\n",
              ".list-inline {list-style: none; margin:0; padding: 0}\n",
              ".list-inline>li {display: inline-block}\n",
              ".list-inline>li:not(:last-child)::after {content: \"\\00b7\"; padding: 0 .5ex}\n",
              "</style>\n",
              "<ol class=list-inline><li>'matrix'</li><li>'array'</li></ol>\n"
            ],
            "text/markdown": "1. 'matrix'\n2. 'array'\n\n\n",
            "text/latex": "\\begin{enumerate*}\n\\item 'matrix'\n\\item 'array'\n\\end{enumerate*}\n",
            "text/plain": [
              "[1] \"matrix\" \"array\" "
            ]
          },
          "metadata": {}
        },
        {
          "output_type": "display_data",
          "data": {
            "text/html": [
              "<style>\n",
              ".list-inline {list-style: none; margin:0; padding: 0}\n",
              ".list-inline>li {display: inline-block}\n",
              ".list-inline>li:not(:last-child)::after {content: \"\\00b7\"; padding: 0 .5ex}\n",
              "</style>\n",
              "<ol class=list-inline><li>2</li><li>3</li></ol>\n"
            ],
            "text/markdown": "1. 2\n2. 3\n\n\n",
            "text/latex": "\\begin{enumerate*}\n\\item 2\n\\item 3\n\\end{enumerate*}\n",
            "text/plain": [
              "[1] 2 3"
            ]
          },
          "metadata": {}
        },
        {
          "output_type": "display_data",
          "data": {
            "text/html": [
              "2"
            ],
            "text/markdown": "2",
            "text/latex": "2",
            "text/plain": [
              "[1] 2"
            ]
          },
          "metadata": {}
        },
        {
          "output_type": "display_data",
          "data": {
            "text/html": [
              "3"
            ],
            "text/markdown": "3",
            "text/latex": "3",
            "text/plain": [
              "[1] 3"
            ]
          },
          "metadata": {}
        }
      ]
    },
    {
      "cell_type": "code",
      "metadata": {
        "trusted": true,
        "id": "2TXNSoedSqoh"
      },
      "source": [
        "# Genere dos vectores del mismo largo y forme una matriz.\n",
        "c1 <- c(1,2,3)\n",
        "c2 <- c(9,8,7)\n",
        "\n",
        "f1 <- c(\"A\",\"B\",\"B\")\n",
        "f2 <- c(\"X\",\"Y\",\"Z\")\n",
        "\n"
      ],
      "execution_count": 20,
      "outputs": []
    },
    {
      "cell_type": "code",
      "metadata": {
        "trusted": true,
        "id": "W3g76XEkSqok",
        "outputId": "4445c947-34c2-4bde-c5d1-caa1ce7f29e9",
        "colab": {
          "base_uri": "https://localhost:8080/",
          "height": 293
        }
      },
      "source": [
        "# funciones cbind() [une vectores como columnas]\n",
        "# y rbind() [une vectores como filas] (pensadas para matrices)\n",
        "#?cbind\n",
        "\n",
        "\n",
        "(M1 <- cbind(c1,c2))\n",
        "(M2 <- rbind(f1,f2))"
      ],
      "execution_count": 21,
      "outputs": [
        {
          "output_type": "display_data",
          "data": {
            "text/html": [
              "<table class=\"dataframe\">\n",
              "<caption>A matrix: 3 × 2 of type dbl</caption>\n",
              "<thead>\n",
              "\t<tr><th scope=col>c1</th><th scope=col>c2</th></tr>\n",
              "</thead>\n",
              "<tbody>\n",
              "\t<tr><td>1</td><td>9</td></tr>\n",
              "\t<tr><td>2</td><td>8</td></tr>\n",
              "\t<tr><td>3</td><td>7</td></tr>\n",
              "</tbody>\n",
              "</table>\n"
            ],
            "text/markdown": "\nA matrix: 3 × 2 of type dbl\n\n| c1 | c2 |\n|---|---|\n| 1 | 9 |\n| 2 | 8 |\n| 3 | 7 |\n\n",
            "text/latex": "A matrix: 3 × 2 of type dbl\n\\begin{tabular}{ll}\n c1 & c2\\\\\n\\hline\n\t 1 & 9\\\\\n\t 2 & 8\\\\\n\t 3 & 7\\\\\n\\end{tabular}\n",
            "text/plain": [
              "     c1 c2\n",
              "[1,] 1  9 \n",
              "[2,] 2  8 \n",
              "[3,] 3  7 "
            ]
          },
          "metadata": {}
        },
        {
          "output_type": "display_data",
          "data": {
            "text/html": [
              "<table class=\"dataframe\">\n",
              "<caption>A matrix: 2 × 3 of type chr</caption>\n",
              "<tbody>\n",
              "\t<tr><th scope=row>f1</th><td>A</td><td>B</td><td>B</td></tr>\n",
              "\t<tr><th scope=row>f2</th><td>X</td><td>Y</td><td>Z</td></tr>\n",
              "</tbody>\n",
              "</table>\n"
            ],
            "text/markdown": "\nA matrix: 2 × 3 of type chr\n\n| f1 | A | B | B |\n| f2 | X | Y | Z |\n\n",
            "text/latex": "A matrix: 2 × 3 of type chr\n\\begin{tabular}{r|lll}\n\tf1 & A & B & B\\\\\n\tf2 & X & Y & Z\\\\\n\\end{tabular}\n",
            "text/plain": [
              "   [,1] [,2] [,3]\n",
              "f1 A    B    B   \n",
              "f2 X    Y    Z   "
            ]
          },
          "metadata": {}
        }
      ]
    },
    {
      "cell_type": "code",
      "source": [
        "# NOTA: Podemos añadir una fila/columna a una matriz existente\n",
        "f3 <- c(\"M\", \"N\", \"K\")\n",
        "# Queremos añadir f3 a M2.\n",
        "rbind(M2,f3)\n",
        "M2"
      ],
      "metadata": {
        "id": "ds9erwbP3sMG",
        "outputId": "47796672-0706-43cb-eb3e-c8ad88c231f9",
        "colab": {
          "base_uri": "https://localhost:8080/",
          "height": 243
        }
      },
      "execution_count": 22,
      "outputs": [
        {
          "output_type": "display_data",
          "data": {
            "text/html": [
              "<table class=\"dataframe\">\n",
              "<caption>A matrix: 3 × 3 of type chr</caption>\n",
              "<tbody>\n",
              "\t<tr><th scope=row>f1</th><td>A</td><td>B</td><td>B</td></tr>\n",
              "\t<tr><th scope=row>f2</th><td>X</td><td>Y</td><td>Z</td></tr>\n",
              "\t<tr><th scope=row>f3</th><td>M</td><td>N</td><td>K</td></tr>\n",
              "</tbody>\n",
              "</table>\n"
            ],
            "text/markdown": "\nA matrix: 3 × 3 of type chr\n\n| f1 | A | B | B |\n| f2 | X | Y | Z |\n| f3 | M | N | K |\n\n",
            "text/latex": "A matrix: 3 × 3 of type chr\n\\begin{tabular}{r|lll}\n\tf1 & A & B & B\\\\\n\tf2 & X & Y & Z\\\\\n\tf3 & M & N & K\\\\\n\\end{tabular}\n",
            "text/plain": [
              "   [,1] [,2] [,3]\n",
              "f1 A    B    B   \n",
              "f2 X    Y    Z   \n",
              "f3 M    N    K   "
            ]
          },
          "metadata": {}
        },
        {
          "output_type": "display_data",
          "data": {
            "text/html": [
              "<table class=\"dataframe\">\n",
              "<caption>A matrix: 2 × 3 of type chr</caption>\n",
              "<tbody>\n",
              "\t<tr><th scope=row>f1</th><td>A</td><td>B</td><td>B</td></tr>\n",
              "\t<tr><th scope=row>f2</th><td>X</td><td>Y</td><td>Z</td></tr>\n",
              "</tbody>\n",
              "</table>\n"
            ],
            "text/markdown": "\nA matrix: 2 × 3 of type chr\n\n| f1 | A | B | B |\n| f2 | X | Y | Z |\n\n",
            "text/latex": "A matrix: 2 × 3 of type chr\n\\begin{tabular}{r|lll}\n\tf1 & A & B & B\\\\\n\tf2 & X & Y & Z\\\\\n\\end{tabular}\n",
            "text/plain": [
              "   [,1] [,2] [,3]\n",
              "f1 A    B    B   \n",
              "f2 X    Y    Z   "
            ]
          },
          "metadata": {}
        }
      ]
    },
    {
      "cell_type": "code",
      "source": [
        "# Si quiero actualizar M2 y que contenga a f3.\n",
        "M2 <- rbind(M2,f3)\n",
        "M2"
      ],
      "metadata": {
        "id": "onlG8TRHxVAO",
        "outputId": "50b1d07a-268b-4569-c31a-6639cf0f8198",
        "colab": {
          "base_uri": "https://localhost:8080/",
          "height": 146
        }
      },
      "execution_count": 23,
      "outputs": [
        {
          "output_type": "display_data",
          "data": {
            "text/html": [
              "<table class=\"dataframe\">\n",
              "<caption>A matrix: 3 × 3 of type chr</caption>\n",
              "<tbody>\n",
              "\t<tr><th scope=row>f1</th><td>A</td><td>B</td><td>B</td></tr>\n",
              "\t<tr><th scope=row>f2</th><td>X</td><td>Y</td><td>Z</td></tr>\n",
              "\t<tr><th scope=row>f3</th><td>M</td><td>N</td><td>K</td></tr>\n",
              "</tbody>\n",
              "</table>\n"
            ],
            "text/markdown": "\nA matrix: 3 × 3 of type chr\n\n| f1 | A | B | B |\n| f2 | X | Y | Z |\n| f3 | M | N | K |\n\n",
            "text/latex": "A matrix: 3 × 3 of type chr\n\\begin{tabular}{r|lll}\n\tf1 & A & B & B\\\\\n\tf2 & X & Y & Z\\\\\n\tf3 & M & N & K\\\\\n\\end{tabular}\n",
            "text/plain": [
              "   [,1] [,2] [,3]\n",
              "f1 A    B    B   \n",
              "f2 X    Y    Z   \n",
              "f3 M    N    K   "
            ]
          },
          "metadata": {}
        }
      ]
    },
    {
      "cell_type": "code",
      "metadata": {
        "trusted": true,
        "id": "gDzbcsNVSqom",
        "outputId": "b65d7f61-6d3c-4fb8-d516-d232008c1479",
        "colab": {
          "base_uri": "https://localhost:8080/",
          "height": 146
        }
      },
      "source": [
        "# si combinamos vectores de distinto largo?\n",
        "# R recicla valores (recordar explicación)\n",
        "\n",
        "f4 <- c(1,2)\n",
        " M2\n"
      ],
      "execution_count": 25,
      "outputs": [
        {
          "output_type": "display_data",
          "data": {
            "text/html": [
              "<table class=\"dataframe\">\n",
              "<caption>A matrix: 3 × 3 of type chr</caption>\n",
              "<tbody>\n",
              "\t<tr><th scope=row>f1</th><td>A</td><td>B</td><td>B</td></tr>\n",
              "\t<tr><th scope=row>f2</th><td>X</td><td>Y</td><td>Z</td></tr>\n",
              "\t<tr><th scope=row>f3</th><td>M</td><td>N</td><td>K</td></tr>\n",
              "</tbody>\n",
              "</table>\n"
            ],
            "text/markdown": "\nA matrix: 3 × 3 of type chr\n\n| f1 | A | B | B |\n| f2 | X | Y | Z |\n| f3 | M | N | K |\n\n",
            "text/latex": "A matrix: 3 × 3 of type chr\n\\begin{tabular}{r|lll}\n\tf1 & A & B & B\\\\\n\tf2 & X & Y & Z\\\\\n\tf3 & M & N & K\\\\\n\\end{tabular}\n",
            "text/plain": [
              "   [,1] [,2] [,3]\n",
              "f1 A    B    B   \n",
              "f2 X    Y    Z   \n",
              "f3 M    N    K   "
            ]
          },
          "metadata": {}
        }
      ]
    },
    {
      "cell_type": "code",
      "source": [
        "rbind(M2,f4)"
      ],
      "metadata": {
        "id": "rLLxZRZmx2Vs",
        "outputId": "bebdb130-2b5b-4544-af2b-38bb9695c515",
        "colab": {
          "base_uri": "https://localhost:8080/",
          "height": 213
        }
      },
      "execution_count": 26,
      "outputs": [
        {
          "output_type": "stream",
          "name": "stderr",
          "text": [
            "Warning message in rbind(M2, f4):\n",
            "“number of columns of result is not a multiple of vector length (arg 2)”\n"
          ]
        },
        {
          "output_type": "display_data",
          "data": {
            "text/html": [
              "<table class=\"dataframe\">\n",
              "<caption>A matrix: 4 × 3 of type chr</caption>\n",
              "<tbody>\n",
              "\t<tr><th scope=row>f1</th><td>A</td><td>B</td><td>B</td></tr>\n",
              "\t<tr><th scope=row>f2</th><td>X</td><td>Y</td><td>Z</td></tr>\n",
              "\t<tr><th scope=row>f3</th><td>M</td><td>N</td><td>K</td></tr>\n",
              "\t<tr><th scope=row>f4</th><td>1</td><td>2</td><td>1</td></tr>\n",
              "</tbody>\n",
              "</table>\n"
            ],
            "text/markdown": "\nA matrix: 4 × 3 of type chr\n\n| f1 | A | B | B |\n| f2 | X | Y | Z |\n| f3 | M | N | K |\n| f4 | 1 | 2 | 1 |\n\n",
            "text/latex": "A matrix: 4 × 3 of type chr\n\\begin{tabular}{r|lll}\n\tf1 & A & B & B\\\\\n\tf2 & X & Y & Z\\\\\n\tf3 & M & N & K\\\\\n\tf4 & 1 & 2 & 1\\\\\n\\end{tabular}\n",
            "text/plain": [
              "   [,1] [,2] [,3]\n",
              "f1 A    B    B   \n",
              "f2 X    Y    Z   \n",
              "f3 M    N    K   \n",
              "f4 1    2    1   "
            ]
          },
          "metadata": {}
        }
      ]
    },
    {
      "cell_type": "code",
      "metadata": {
        "trusted": true,
        "id": "QLOH0514Sqoo",
        "outputId": "cae3dd49-51bf-4e37-ba9a-6ab67e6bc020",
        "colab": {
          "base_uri": "https://localhost:8080/",
          "height": 208
        }
      },
      "source": [
        "# función diag para la definición de matrices diagonales\n",
        "#?diag\n",
        "diag(1:5)\n",
        "\n"
      ],
      "execution_count": 27,
      "outputs": [
        {
          "output_type": "display_data",
          "data": {
            "text/html": [
              "<table class=\"dataframe\">\n",
              "<caption>A matrix: 5 × 5 of type int</caption>\n",
              "<tbody>\n",
              "\t<tr><td>1</td><td>0</td><td>0</td><td>0</td><td>0</td></tr>\n",
              "\t<tr><td>0</td><td>2</td><td>0</td><td>0</td><td>0</td></tr>\n",
              "\t<tr><td>0</td><td>0</td><td>3</td><td>0</td><td>0</td></tr>\n",
              "\t<tr><td>0</td><td>0</td><td>0</td><td>4</td><td>0</td></tr>\n",
              "\t<tr><td>0</td><td>0</td><td>0</td><td>0</td><td>5</td></tr>\n",
              "</tbody>\n",
              "</table>\n"
            ],
            "text/markdown": "\nA matrix: 5 × 5 of type int\n\n| 1 | 0 | 0 | 0 | 0 |\n| 0 | 2 | 0 | 0 | 0 |\n| 0 | 0 | 3 | 0 | 0 |\n| 0 | 0 | 0 | 4 | 0 |\n| 0 | 0 | 0 | 0 | 5 |\n\n",
            "text/latex": "A matrix: 5 × 5 of type int\n\\begin{tabular}{lllll}\n\t 1 & 0 & 0 & 0 & 0\\\\\n\t 0 & 2 & 0 & 0 & 0\\\\\n\t 0 & 0 & 3 & 0 & 0\\\\\n\t 0 & 0 & 0 & 4 & 0\\\\\n\t 0 & 0 & 0 & 0 & 5\\\\\n\\end{tabular}\n",
            "text/plain": [
              "     [,1] [,2] [,3] [,4] [,5]\n",
              "[1,] 1    0    0    0    0   \n",
              "[2,] 0    2    0    0    0   \n",
              "[3,] 0    0    3    0    0   \n",
              "[4,] 0    0    0    4    0   \n",
              "[5,] 0    0    0    0    5   "
            ]
          },
          "metadata": {}
        }
      ]
    },
    {
      "cell_type": "code",
      "metadata": {
        "trusted": true,
        "id": "xIfUV82ASqot",
        "outputId": "e822682e-2ebb-44f3-f299-96ccbaddf690",
        "colab": {
          "base_uri": "https://localhost:8080/",
          "height": 146
        }
      },
      "source": [
        "# Podemos acceder a los elementos de una matriz\n",
        "# indicando la posición de la fila y la columna de la casilla correspondiente.\n",
        "# Ejemplo:\n",
        "M2\n"
      ],
      "execution_count": 28,
      "outputs": [
        {
          "output_type": "display_data",
          "data": {
            "text/html": [
              "<table class=\"dataframe\">\n",
              "<caption>A matrix: 3 × 3 of type chr</caption>\n",
              "<tbody>\n",
              "\t<tr><th scope=row>f1</th><td>A</td><td>B</td><td>B</td></tr>\n",
              "\t<tr><th scope=row>f2</th><td>X</td><td>Y</td><td>Z</td></tr>\n",
              "\t<tr><th scope=row>f3</th><td>M</td><td>N</td><td>K</td></tr>\n",
              "</tbody>\n",
              "</table>\n"
            ],
            "text/markdown": "\nA matrix: 3 × 3 of type chr\n\n| f1 | A | B | B |\n| f2 | X | Y | Z |\n| f3 | M | N | K |\n\n",
            "text/latex": "A matrix: 3 × 3 of type chr\n\\begin{tabular}{r|lll}\n\tf1 & A & B & B\\\\\n\tf2 & X & Y & Z\\\\\n\tf3 & M & N & K\\\\\n\\end{tabular}\n",
            "text/plain": [
              "   [,1] [,2] [,3]\n",
              "f1 A    B    B   \n",
              "f2 X    Y    Z   \n",
              "f3 M    N    K   "
            ]
          },
          "metadata": {}
        }
      ]
    },
    {
      "cell_type": "code",
      "source": [
        "# quiero rescatar el elemento \"(2,1)\"\n",
        "M2[2,1]\n"
      ],
      "metadata": {
        "id": "xpChz7f25BTv",
        "outputId": "585dcd5f-a84f-4cb9-8b15-abe6509eaad6",
        "colab": {
          "base_uri": "https://localhost:8080/",
          "height": 34
        }
      },
      "execution_count": 29,
      "outputs": [
        {
          "output_type": "display_data",
          "data": {
            "text/html": [
              "<strong>f2:</strong> 'X'"
            ],
            "text/markdown": "**f2:** 'X'",
            "text/latex": "\\textbf{f2:} 'X'",
            "text/plain": [
              " f2 \n",
              "\"X\" "
            ]
          },
          "metadata": {}
        }
      ]
    },
    {
      "cell_type": "code",
      "source": [
        "# CUIDADO:No es lo mismo que\n",
        "M2[c(2,1)] # Acá R interpreta M2 como el vector que define a todas las columnas de la matriz."
      ],
      "metadata": {
        "id": "XZ9li5x25CT5",
        "outputId": "ae3cd928-a035-4498-9ca3-940a1332122a",
        "colab": {
          "base_uri": "https://localhost:8080/",
          "height": 34
        }
      },
      "execution_count": 30,
      "outputs": [
        {
          "output_type": "display_data",
          "data": {
            "text/html": [
              "<style>\n",
              ".list-inline {list-style: none; margin:0; padding: 0}\n",
              ".list-inline>li {display: inline-block}\n",
              ".list-inline>li:not(:last-child)::after {content: \"\\00b7\"; padding: 0 .5ex}\n",
              "</style>\n",
              "<ol class=list-inline><li>'X'</li><li>'A'</li></ol>\n"
            ],
            "text/markdown": "1. 'X'\n2. 'A'\n\n\n",
            "text/latex": "\\begin{enumerate*}\n\\item 'X'\n\\item 'A'\n\\end{enumerate*}\n",
            "text/plain": [
              "[1] \"X\" \"A\""
            ]
          },
          "metadata": {}
        }
      ]
    },
    {
      "cell_type": "code",
      "metadata": {
        "trusted": true,
        "id": "0irI-CBJSqou",
        "outputId": "14528c25-665e-4d0a-f009-ef7d004c6baa",
        "colab": {
          "base_uri": "https://localhost:8080/",
          "height": 52
        }
      },
      "source": [
        "# Para acceder a una fila completa\n",
        "M2[2,]\n",
        "\n",
        "# Para acceder a una columna completa\n",
        "M2[,2]\n"
      ],
      "execution_count": 32,
      "outputs": [
        {
          "output_type": "display_data",
          "data": {
            "text/html": [
              "<style>\n",
              ".list-inline {list-style: none; margin:0; padding: 0}\n",
              ".list-inline>li {display: inline-block}\n",
              ".list-inline>li:not(:last-child)::after {content: \"\\00b7\"; padding: 0 .5ex}\n",
              "</style>\n",
              "<ol class=list-inline><li>'X'</li><li>'Y'</li><li>'Z'</li></ol>\n"
            ],
            "text/markdown": "1. 'X'\n2. 'Y'\n3. 'Z'\n\n\n",
            "text/latex": "\\begin{enumerate*}\n\\item 'X'\n\\item 'Y'\n\\item 'Z'\n\\end{enumerate*}\n",
            "text/plain": [
              "[1] \"X\" \"Y\" \"Z\""
            ]
          },
          "metadata": {}
        },
        {
          "output_type": "display_data",
          "data": {
            "text/html": [
              "<style>\n",
              ".dl-inline {width: auto; margin:0; padding: 0}\n",
              ".dl-inline>dt, .dl-inline>dd {float: none; width: auto; display: inline-block}\n",
              ".dl-inline>dt::after {content: \":\\0020\"; padding-right: .5ex}\n",
              ".dl-inline>dt:not(:first-of-type) {padding-left: .5ex}\n",
              "</style><dl class=dl-inline><dt>f1</dt><dd>'B'</dd><dt>f2</dt><dd>'Y'</dd><dt>f3</dt><dd>'N'</dd></dl>\n"
            ],
            "text/markdown": "f1\n:   'B'f2\n:   'Y'f3\n:   'N'\n\n",
            "text/latex": "\\begin{description*}\n\\item[f1] 'B'\n\\item[f2] 'Y'\n\\item[f3] 'N'\n\\end{description*}\n",
            "text/plain": [
              " f1  f2  f3 \n",
              "\"B\" \"Y\" \"N\" "
            ]
          },
          "metadata": {}
        }
      ]
    },
    {
      "cell_type": "code",
      "source": [
        "M2"
      ],
      "metadata": {
        "id": "ovnHvxSP2n04",
        "outputId": "7cdd59ef-a4d3-43b0-e3c7-d48a1fb0cc92",
        "colab": {
          "base_uri": "https://localhost:8080/",
          "height": 146
        }
      },
      "execution_count": 33,
      "outputs": [
        {
          "output_type": "display_data",
          "data": {
            "text/html": [
              "<table class=\"dataframe\">\n",
              "<caption>A matrix: 3 × 3 of type chr</caption>\n",
              "<tbody>\n",
              "\t<tr><th scope=row>f1</th><td>A</td><td>B</td><td>B</td></tr>\n",
              "\t<tr><th scope=row>f2</th><td>X</td><td>Y</td><td>Z</td></tr>\n",
              "\t<tr><th scope=row>f3</th><td>M</td><td>N</td><td>K</td></tr>\n",
              "</tbody>\n",
              "</table>\n"
            ],
            "text/markdown": "\nA matrix: 3 × 3 of type chr\n\n| f1 | A | B | B |\n| f2 | X | Y | Z |\n| f3 | M | N | K |\n\n",
            "text/latex": "A matrix: 3 × 3 of type chr\n\\begin{tabular}{r|lll}\n\tf1 & A & B & B\\\\\n\tf2 & X & Y & Z\\\\\n\tf3 & M & N & K\\\\\n\\end{tabular}\n",
            "text/plain": [
              "   [,1] [,2] [,3]\n",
              "f1 A    B    B   \n",
              "f2 X    Y    Z   \n",
              "f3 M    N    K   "
            ]
          },
          "metadata": {}
        }
      ]
    },
    {
      "cell_type": "code",
      "metadata": {
        "trusted": true,
        "id": "rkq7J4nLSqow"
      },
      "source": [
        "#Recordemos que podemos actualizar elementos de un vector como:\n",
        "\n",
        "# quiero cambiar el \"Z\" por un \"W\" (el Z de la pos (2,3))\n",
        "M2[2,3] <- \"W\"\n"
      ],
      "execution_count": 35,
      "outputs": []
    },
    {
      "cell_type": "code",
      "source": [
        "M2"
      ],
      "metadata": {
        "id": "jIjavEdg21Ok",
        "outputId": "4aad09e3-faa3-4801-8a45-cb901a94d381",
        "colab": {
          "base_uri": "https://localhost:8080/",
          "height": 146
        }
      },
      "execution_count": 36,
      "outputs": [
        {
          "output_type": "display_data",
          "data": {
            "text/html": [
              "<table class=\"dataframe\">\n",
              "<caption>A matrix: 3 × 3 of type chr</caption>\n",
              "<tbody>\n",
              "\t<tr><th scope=row>f1</th><td>A</td><td>B</td><td>B</td></tr>\n",
              "\t<tr><th scope=row>f2</th><td>X</td><td>Y</td><td>W</td></tr>\n",
              "\t<tr><th scope=row>f3</th><td>M</td><td>N</td><td>K</td></tr>\n",
              "</tbody>\n",
              "</table>\n"
            ],
            "text/markdown": "\nA matrix: 3 × 3 of type chr\n\n| f1 | A | B | B |\n| f2 | X | Y | W |\n| f3 | M | N | K |\n\n",
            "text/latex": "A matrix: 3 × 3 of type chr\n\\begin{tabular}{r|lll}\n\tf1 & A & B & B\\\\\n\tf2 & X & Y & W\\\\\n\tf3 & M & N & K\\\\\n\\end{tabular}\n",
            "text/plain": [
              "   [,1] [,2] [,3]\n",
              "f1 A    B    B   \n",
              "f2 X    Y    W   \n",
              "f3 M    N    K   "
            ]
          },
          "metadata": {}
        }
      ]
    },
    {
      "cell_type": "code",
      "source": [
        "# NOTA: Nombres de filas y columnas en una matriz\n",
        "# antes en un vector podíamos acceder a los nombres con names()\n",
        "# Ahora colnames() y rownames() para nombres de columnas y filas respectivamente.\n",
        "rownames(M2)\n",
        "colnames(M2) <- c(\"c1\",\"c2\",\"c3\")"
      ],
      "metadata": {
        "id": "yb2dYBtk6QT8",
        "outputId": "b7bf3c36-2ae0-44d8-e9c3-aec24f577781",
        "colab": {
          "base_uri": "https://localhost:8080/",
          "height": 34
        }
      },
      "execution_count": 39,
      "outputs": [
        {
          "output_type": "display_data",
          "data": {
            "text/html": [
              "<style>\n",
              ".list-inline {list-style: none; margin:0; padding: 0}\n",
              ".list-inline>li {display: inline-block}\n",
              ".list-inline>li:not(:last-child)::after {content: \"\\00b7\"; padding: 0 .5ex}\n",
              "</style>\n",
              "<ol class=list-inline><li>'f1'</li><li>'f2'</li><li>'f3'</li></ol>\n"
            ],
            "text/markdown": "1. 'f1'\n2. 'f2'\n3. 'f3'\n\n\n",
            "text/latex": "\\begin{enumerate*}\n\\item 'f1'\n\\item 'f2'\n\\item 'f3'\n\\end{enumerate*}\n",
            "text/plain": [
              "[1] \"f1\" \"f2\" \"f3\""
            ]
          },
          "metadata": {}
        }
      ]
    },
    {
      "cell_type": "code",
      "source": [
        "M2"
      ],
      "metadata": {
        "id": "8Y9Kq1pG3jj8",
        "outputId": "b5505251-048b-42f0-cfae-04b938e98ef1",
        "colab": {
          "base_uri": "https://localhost:8080/",
          "height": 178
        }
      },
      "execution_count": 40,
      "outputs": [
        {
          "output_type": "display_data",
          "data": {
            "text/html": [
              "<table class=\"dataframe\">\n",
              "<caption>A matrix: 3 × 3 of type chr</caption>\n",
              "<thead>\n",
              "\t<tr><th></th><th scope=col>c1</th><th scope=col>c2</th><th scope=col>c3</th></tr>\n",
              "</thead>\n",
              "<tbody>\n",
              "\t<tr><th scope=row>f1</th><td>A</td><td>B</td><td>B</td></tr>\n",
              "\t<tr><th scope=row>f2</th><td>X</td><td>Y</td><td>W</td></tr>\n",
              "\t<tr><th scope=row>f3</th><td>M</td><td>N</td><td>K</td></tr>\n",
              "</tbody>\n",
              "</table>\n"
            ],
            "text/markdown": "\nA matrix: 3 × 3 of type chr\n\n| <!--/--> | c1 | c2 | c3 |\n|---|---|---|---|\n| f1 | A | B | B |\n| f2 | X | Y | W |\n| f3 | M | N | K |\n\n",
            "text/latex": "A matrix: 3 × 3 of type chr\n\\begin{tabular}{r|lll}\n  & c1 & c2 & c3\\\\\n\\hline\n\tf1 & A & B & B\\\\\n\tf2 & X & Y & W\\\\\n\tf3 & M & N & K\\\\\n\\end{tabular}\n",
            "text/plain": [
              "   c1 c2 c3\n",
              "f1 A  B  B \n",
              "f2 X  Y  W \n",
              "f3 M  N  K "
            ]
          },
          "metadata": {}
        }
      ]
    },
    {
      "cell_type": "code",
      "metadata": {
        "id": "KstW38ylSkSV"
      },
      "source": [
        "# Acceso mediante nombres\n"
      ],
      "execution_count": null,
      "outputs": []
    },
    {
      "cell_type": "code",
      "metadata": {
        "id": "0mKL1vhcSkVc",
        "outputId": "07abe7e8-e75b-46da-c30e-8ba941d5d2dd",
        "colab": {
          "base_uri": "https://localhost:8080/",
          "height": 34
        }
      },
      "source": [
        "# Acceso mediante nomnbres\n",
        "# Elemento de la segunda fila tercera columna (2,3)\n",
        "\n",
        "M2[\"f2\",\"c3\"]"
      ],
      "execution_count": 41,
      "outputs": [
        {
          "output_type": "display_data",
          "data": {
            "text/html": [
              "'W'"
            ],
            "text/markdown": "'W'",
            "text/latex": "'W'",
            "text/plain": [
              "[1] \"W\""
            ]
          },
          "metadata": {}
        }
      ]
    },
    {
      "cell_type": "code",
      "source": [
        "M2"
      ],
      "metadata": {
        "id": "F-YmBKMV3--W",
        "outputId": "d00fc6e1-0850-4be4-fbe5-e9efd2145d8f",
        "colab": {
          "base_uri": "https://localhost:8080/",
          "height": 178
        }
      },
      "execution_count": 44,
      "outputs": [
        {
          "output_type": "display_data",
          "data": {
            "text/html": [
              "<table class=\"dataframe\">\n",
              "<caption>A matrix: 3 × 3 of type chr</caption>\n",
              "<thead>\n",
              "\t<tr><th></th><th scope=col>c1</th><th scope=col>c2</th><th scope=col>c3</th></tr>\n",
              "</thead>\n",
              "<tbody>\n",
              "\t<tr><th scope=row>f1</th><td>A</td><td>B</td><td>B</td></tr>\n",
              "\t<tr><th scope=row>f2</th><td>X</td><td>Y</td><td>W</td></tr>\n",
              "\t<tr><th scope=row>f3</th><td>M</td><td>N</td><td>K</td></tr>\n",
              "</tbody>\n",
              "</table>\n"
            ],
            "text/markdown": "\nA matrix: 3 × 3 of type chr\n\n| <!--/--> | c1 | c2 | c3 |\n|---|---|---|---|\n| f1 | A | B | B |\n| f2 | X | Y | W |\n| f3 | M | N | K |\n\n",
            "text/latex": "A matrix: 3 × 3 of type chr\n\\begin{tabular}{r|lll}\n  & c1 & c2 & c3\\\\\n\\hline\n\tf1 & A & B & B\\\\\n\tf2 & X & Y & W\\\\\n\tf3 & M & N & K\\\\\n\\end{tabular}\n",
            "text/plain": [
              "   c1 c2 c3\n",
              "f1 A  B  B \n",
              "f2 X  Y  W \n",
              "f3 M  N  K "
            ]
          },
          "metadata": {}
        }
      ]
    },
    {
      "cell_type": "code",
      "source": [
        "# Una fila/columna completa\n",
        "M2[\"f2\",]\n",
        "M2[,\"c3\"]"
      ],
      "metadata": {
        "id": "tJkAcd8332bj",
        "outputId": "6e5d6ee2-be81-4aaf-9dba-e79262ff66f1",
        "colab": {
          "base_uri": "https://localhost:8080/",
          "height": 52
        }
      },
      "execution_count": 43,
      "outputs": [
        {
          "output_type": "display_data",
          "data": {
            "text/html": [
              "<style>\n",
              ".dl-inline {width: auto; margin:0; padding: 0}\n",
              ".dl-inline>dt, .dl-inline>dd {float: none; width: auto; display: inline-block}\n",
              ".dl-inline>dt::after {content: \":\\0020\"; padding-right: .5ex}\n",
              ".dl-inline>dt:not(:first-of-type) {padding-left: .5ex}\n",
              "</style><dl class=dl-inline><dt>c1</dt><dd>'X'</dd><dt>c2</dt><dd>'Y'</dd><dt>c3</dt><dd>'W'</dd></dl>\n"
            ],
            "text/markdown": "c1\n:   'X'c2\n:   'Y'c3\n:   'W'\n\n",
            "text/latex": "\\begin{description*}\n\\item[c1] 'X'\n\\item[c2] 'Y'\n\\item[c3] 'W'\n\\end{description*}\n",
            "text/plain": [
              " c1  c2  c3 \n",
              "\"X\" \"Y\" \"W\" "
            ]
          },
          "metadata": {}
        },
        {
          "output_type": "display_data",
          "data": {
            "text/html": [
              "<style>\n",
              ".dl-inline {width: auto; margin:0; padding: 0}\n",
              ".dl-inline>dt, .dl-inline>dd {float: none; width: auto; display: inline-block}\n",
              ".dl-inline>dt::after {content: \":\\0020\"; padding-right: .5ex}\n",
              ".dl-inline>dt:not(:first-of-type) {padding-left: .5ex}\n",
              "</style><dl class=dl-inline><dt>f1</dt><dd>'B'</dd><dt>f2</dt><dd>'W'</dd><dt>f3</dt><dd>'K'</dd></dl>\n"
            ],
            "text/markdown": "f1\n:   'B'f2\n:   'W'f3\n:   'K'\n\n",
            "text/latex": "\\begin{description*}\n\\item[f1] 'B'\n\\item[f2] 'W'\n\\item[f3] 'K'\n\\end{description*}\n",
            "text/plain": [
              " f1  f2  f3 \n",
              "\"B\" \"W\" \"K\" "
            ]
          },
          "metadata": {}
        }
      ]
    },
    {
      "cell_type": "code",
      "source": [
        "# NOTA: Podemos rescatar más de una fila/columna indicando un vector de posiciones/nombres de filas/columnas\n",
        "# Ej: Quiero seleccionar solo las columnas 1(c1) y 3 (c3)\n",
        "M2[,c(1,3)] # Indicando posiciones de las columnas de interés\n",
        "M2[,c(\"c1\",\"c3\")] # Indicando nombres de las columnas de interés\n",
        "\n"
      ],
      "metadata": {
        "id": "brVvgloT3wIc",
        "outputId": "952d90c9-5252-4475-d1ec-2cec6220117a",
        "colab": {
          "base_uri": "https://localhost:8080/",
          "height": 339
        }
      },
      "execution_count": 46,
      "outputs": [
        {
          "output_type": "display_data",
          "data": {
            "text/html": [
              "<table class=\"dataframe\">\n",
              "<caption>A matrix: 3 × 2 of type chr</caption>\n",
              "<thead>\n",
              "\t<tr><th></th><th scope=col>c1</th><th scope=col>c3</th></tr>\n",
              "</thead>\n",
              "<tbody>\n",
              "\t<tr><th scope=row>f1</th><td>A</td><td>B</td></tr>\n",
              "\t<tr><th scope=row>f2</th><td>X</td><td>W</td></tr>\n",
              "\t<tr><th scope=row>f3</th><td>M</td><td>K</td></tr>\n",
              "</tbody>\n",
              "</table>\n"
            ],
            "text/markdown": "\nA matrix: 3 × 2 of type chr\n\n| <!--/--> | c1 | c3 |\n|---|---|---|\n| f1 | A | B |\n| f2 | X | W |\n| f3 | M | K |\n\n",
            "text/latex": "A matrix: 3 × 2 of type chr\n\\begin{tabular}{r|ll}\n  & c1 & c3\\\\\n\\hline\n\tf1 & A & B\\\\\n\tf2 & X & W\\\\\n\tf3 & M & K\\\\\n\\end{tabular}\n",
            "text/plain": [
              "   c1 c3\n",
              "f1 A  B \n",
              "f2 X  W \n",
              "f3 M  K "
            ]
          },
          "metadata": {}
        },
        {
          "output_type": "display_data",
          "data": {
            "text/html": [
              "<table class=\"dataframe\">\n",
              "<caption>A matrix: 3 × 2 of type chr</caption>\n",
              "<thead>\n",
              "\t<tr><th></th><th scope=col>c1</th><th scope=col>c3</th></tr>\n",
              "</thead>\n",
              "<tbody>\n",
              "\t<tr><th scope=row>f1</th><td>A</td><td>B</td></tr>\n",
              "\t<tr><th scope=row>f2</th><td>X</td><td>W</td></tr>\n",
              "\t<tr><th scope=row>f3</th><td>M</td><td>K</td></tr>\n",
              "</tbody>\n",
              "</table>\n"
            ],
            "text/markdown": "\nA matrix: 3 × 2 of type chr\n\n| <!--/--> | c1 | c3 |\n|---|---|---|\n| f1 | A | B |\n| f2 | X | W |\n| f3 | M | K |\n\n",
            "text/latex": "A matrix: 3 × 2 of type chr\n\\begin{tabular}{r|ll}\n  & c1 & c3\\\\\n\\hline\n\tf1 & A & B\\\\\n\tf2 & X & W\\\\\n\tf3 & M & K\\\\\n\\end{tabular}\n",
            "text/plain": [
              "   c1 c3\n",
              "f1 A  B \n",
              "f2 X  W \n",
              "f3 M  K "
            ]
          },
          "metadata": {}
        }
      ]
    },
    {
      "cell_type": "code",
      "source": [
        "M2[c(1,3),] # Indicando posiciones de las filas de interés\n",
        "M2[c(\"f1\",\"f3\"),] # Indicando nombres de las columnas de interés"
      ],
      "metadata": {
        "id": "IxKPqxNf4nv6",
        "outputId": "b4f18b30-c620-4504-fadb-27b837e99403",
        "colab": {
          "base_uri": "https://localhost:8080/",
          "height": 276
        }
      },
      "execution_count": 48,
      "outputs": [
        {
          "output_type": "display_data",
          "data": {
            "text/html": [
              "<table class=\"dataframe\">\n",
              "<caption>A matrix: 2 × 3 of type chr</caption>\n",
              "<thead>\n",
              "\t<tr><th></th><th scope=col>c1</th><th scope=col>c2</th><th scope=col>c3</th></tr>\n",
              "</thead>\n",
              "<tbody>\n",
              "\t<tr><th scope=row>f1</th><td>A</td><td>B</td><td>B</td></tr>\n",
              "\t<tr><th scope=row>f3</th><td>M</td><td>N</td><td>K</td></tr>\n",
              "</tbody>\n",
              "</table>\n"
            ],
            "text/markdown": "\nA matrix: 2 × 3 of type chr\n\n| <!--/--> | c1 | c2 | c3 |\n|---|---|---|---|\n| f1 | A | B | B |\n| f3 | M | N | K |\n\n",
            "text/latex": "A matrix: 2 × 3 of type chr\n\\begin{tabular}{r|lll}\n  & c1 & c2 & c3\\\\\n\\hline\n\tf1 & A & B & B\\\\\n\tf3 & M & N & K\\\\\n\\end{tabular}\n",
            "text/plain": [
              "   c1 c2 c3\n",
              "f1 A  B  B \n",
              "f3 M  N  K "
            ]
          },
          "metadata": {}
        },
        {
          "output_type": "display_data",
          "data": {
            "text/html": [
              "<table class=\"dataframe\">\n",
              "<caption>A matrix: 2 × 3 of type chr</caption>\n",
              "<thead>\n",
              "\t<tr><th></th><th scope=col>c1</th><th scope=col>c2</th><th scope=col>c3</th></tr>\n",
              "</thead>\n",
              "<tbody>\n",
              "\t<tr><th scope=row>f1</th><td>A</td><td>B</td><td>B</td></tr>\n",
              "\t<tr><th scope=row>f3</th><td>M</td><td>N</td><td>K</td></tr>\n",
              "</tbody>\n",
              "</table>\n"
            ],
            "text/markdown": "\nA matrix: 2 × 3 of type chr\n\n| <!--/--> | c1 | c2 | c3 |\n|---|---|---|---|\n| f1 | A | B | B |\n| f3 | M | N | K |\n\n",
            "text/latex": "A matrix: 2 × 3 of type chr\n\\begin{tabular}{r|lll}\n  & c1 & c2 & c3\\\\\n\\hline\n\tf1 & A & B & B\\\\\n\tf3 & M & N & K\\\\\n\\end{tabular}\n",
            "text/plain": [
              "   c1 c2 c3\n",
              "f1 A  B  B \n",
              "f3 M  N  K "
            ]
          },
          "metadata": {}
        }
      ]
    },
    {
      "cell_type": "code",
      "source": [
        "M2"
      ],
      "metadata": {
        "id": "jHQlWuMY5SO8",
        "outputId": "b7ff217a-b605-43a4-8621-ab6e9fab6a09",
        "colab": {
          "base_uri": "https://localhost:8080/",
          "height": 178
        }
      },
      "execution_count": 49,
      "outputs": [
        {
          "output_type": "display_data",
          "data": {
            "text/html": [
              "<table class=\"dataframe\">\n",
              "<caption>A matrix: 3 × 3 of type chr</caption>\n",
              "<thead>\n",
              "\t<tr><th></th><th scope=col>c1</th><th scope=col>c2</th><th scope=col>c3</th></tr>\n",
              "</thead>\n",
              "<tbody>\n",
              "\t<tr><th scope=row>f1</th><td>A</td><td>B</td><td>B</td></tr>\n",
              "\t<tr><th scope=row>f2</th><td>X</td><td>Y</td><td>W</td></tr>\n",
              "\t<tr><th scope=row>f3</th><td>M</td><td>N</td><td>K</td></tr>\n",
              "</tbody>\n",
              "</table>\n"
            ],
            "text/markdown": "\nA matrix: 3 × 3 of type chr\n\n| <!--/--> | c1 | c2 | c3 |\n|---|---|---|---|\n| f1 | A | B | B |\n| f2 | X | Y | W |\n| f3 | M | N | K |\n\n",
            "text/latex": "A matrix: 3 × 3 of type chr\n\\begin{tabular}{r|lll}\n  & c1 & c2 & c3\\\\\n\\hline\n\tf1 & A & B & B\\\\\n\tf2 & X & Y & W\\\\\n\tf3 & M & N & K\\\\\n\\end{tabular}\n",
            "text/plain": [
              "   c1 c2 c3\n",
              "f1 A  B  B \n",
              "f2 X  Y  W \n",
              "f3 M  N  K "
            ]
          },
          "metadata": {}
        }
      ]
    },
    {
      "cell_type": "code",
      "metadata": {
        "trusted": true,
        "id": "qt9bcwQgSqo0",
        "outputId": "a6363872-fad4-4ab5-c867-b1a7759d3f1d",
        "colab": {
          "base_uri": "https://localhost:8080/",
          "height": 128
        }
      },
      "source": [
        "# Acceso mediante \"indicatrices\" lógicas\n",
        "#Quiero obtener los elementos (1,1) y (3,3) de M2\n",
        "# 1: Crear una matriz de 3x3 con TRUE en dichas posiciones y FALSE en las restantes.\n",
        "M_ind <- matrix(c(T,F,F,F,F,F,F,F,T), nrow = 3, ncol = 3, byrow = T)\n",
        "M_ind"
      ],
      "execution_count": 50,
      "outputs": [
        {
          "output_type": "display_data",
          "data": {
            "text/html": [
              "<table class=\"dataframe\">\n",
              "<caption>A matrix: 3 × 3 of type lgl</caption>\n",
              "<tbody>\n",
              "\t<tr><td> TRUE</td><td>FALSE</td><td>FALSE</td></tr>\n",
              "\t<tr><td>FALSE</td><td>FALSE</td><td>FALSE</td></tr>\n",
              "\t<tr><td>FALSE</td><td>FALSE</td><td> TRUE</td></tr>\n",
              "</tbody>\n",
              "</table>\n"
            ],
            "text/markdown": "\nA matrix: 3 × 3 of type lgl\n\n|  TRUE | FALSE | FALSE |\n| FALSE | FALSE | FALSE |\n| FALSE | FALSE |  TRUE |\n\n",
            "text/latex": "A matrix: 3 × 3 of type lgl\n\\begin{tabular}{lll}\n\t  TRUE & FALSE & FALSE\\\\\n\t FALSE & FALSE & FALSE\\\\\n\t FALSE & FALSE &  TRUE\\\\\n\\end{tabular}\n",
            "text/plain": [
              "     [,1]  [,2]  [,3] \n",
              "[1,]  TRUE FALSE FALSE\n",
              "[2,] FALSE FALSE FALSE\n",
              "[3,] FALSE FALSE  TRUE"
            ]
          },
          "metadata": {}
        }
      ]
    },
    {
      "cell_type": "code",
      "source": [
        "M2[M_ind]"
      ],
      "metadata": {
        "id": "7J6avJS774KM",
        "outputId": "5896dd06-4c0c-4b85-ab06-578ec1d0f41b",
        "colab": {
          "base_uri": "https://localhost:8080/",
          "height": 34
        }
      },
      "execution_count": 51,
      "outputs": [
        {
          "output_type": "display_data",
          "data": {
            "text/html": [
              "<style>\n",
              ".list-inline {list-style: none; margin:0; padding: 0}\n",
              ".list-inline>li {display: inline-block}\n",
              ".list-inline>li:not(:last-child)::after {content: \"\\00b7\"; padding: 0 .5ex}\n",
              "</style>\n",
              "<ol class=list-inline><li>'A'</li><li>'K'</li></ol>\n"
            ],
            "text/markdown": "1. 'A'\n2. 'K'\n\n\n",
            "text/latex": "\\begin{enumerate*}\n\\item 'A'\n\\item 'K'\n\\end{enumerate*}\n",
            "text/plain": [
              "[1] \"A\" \"K\""
            ]
          },
          "metadata": {}
        }
      ]
    },
    {
      "cell_type": "code",
      "source": [
        "M2"
      ],
      "metadata": {
        "id": "GNmHqPxj5-z0",
        "outputId": "9bd71a49-344a-4ea0-c683-91179310bbd7",
        "colab": {
          "base_uri": "https://localhost:8080/",
          "height": 178
        }
      },
      "execution_count": 52,
      "outputs": [
        {
          "output_type": "display_data",
          "data": {
            "text/html": [
              "<table class=\"dataframe\">\n",
              "<caption>A matrix: 3 × 3 of type chr</caption>\n",
              "<thead>\n",
              "\t<tr><th></th><th scope=col>c1</th><th scope=col>c2</th><th scope=col>c3</th></tr>\n",
              "</thead>\n",
              "<tbody>\n",
              "\t<tr><th scope=row>f1</th><td>A</td><td>B</td><td>B</td></tr>\n",
              "\t<tr><th scope=row>f2</th><td>X</td><td>Y</td><td>W</td></tr>\n",
              "\t<tr><th scope=row>f3</th><td>M</td><td>N</td><td>K</td></tr>\n",
              "</tbody>\n",
              "</table>\n"
            ],
            "text/markdown": "\nA matrix: 3 × 3 of type chr\n\n| <!--/--> | c1 | c2 | c3 |\n|---|---|---|---|\n| f1 | A | B | B |\n| f2 | X | Y | W |\n| f3 | M | N | K |\n\n",
            "text/latex": "A matrix: 3 × 3 of type chr\n\\begin{tabular}{r|lll}\n  & c1 & c2 & c3\\\\\n\\hline\n\tf1 & A & B & B\\\\\n\tf2 & X & Y & W\\\\\n\tf3 & M & N & K\\\\\n\\end{tabular}\n",
            "text/plain": [
              "   c1 c2 c3\n",
              "f1 A  B  B \n",
              "f2 X  Y  W \n",
              "f3 M  N  K "
            ]
          },
          "metadata": {}
        }
      ]
    },
    {
      "cell_type": "code",
      "metadata": {
        "trusted": true,
        "id": "m4DDikCTSqo2",
        "outputId": "61be3872-224f-465e-bb09-70f8fe4159af",
        "colab": {
          "base_uri": "https://localhost:8080/",
          "height": 34
        }
      },
      "source": [
        "# Podemos evaluar las casillas de una atriz mediante sentencias lógicas\n",
        "M2[c(T,F,F),]"
      ],
      "execution_count": 53,
      "outputs": [
        {
          "output_type": "display_data",
          "data": {
            "text/html": [
              "<style>\n",
              ".dl-inline {width: auto; margin:0; padding: 0}\n",
              ".dl-inline>dt, .dl-inline>dd {float: none; width: auto; display: inline-block}\n",
              ".dl-inline>dt::after {content: \":\\0020\"; padding-right: .5ex}\n",
              ".dl-inline>dt:not(:first-of-type) {padding-left: .5ex}\n",
              "</style><dl class=dl-inline><dt>c1</dt><dd>'A'</dd><dt>c2</dt><dd>'B'</dd><dt>c3</dt><dd>'B'</dd></dl>\n"
            ],
            "text/markdown": "c1\n:   'A'c2\n:   'B'c3\n:   'B'\n\n",
            "text/latex": "\\begin{description*}\n\\item[c1] 'A'\n\\item[c2] 'B'\n\\item[c3] 'B'\n\\end{description*}\n",
            "text/plain": [
              " c1  c2  c3 \n",
              "\"A\" \"B\" \"B\" "
            ]
          },
          "metadata": {}
        }
      ]
    },
    {
      "cell_type": "code",
      "source": [
        "M2[M2[,\"c1\"] == \"A\", ]"
      ],
      "metadata": {
        "id": "6QUGwQv46el9",
        "outputId": "9a1250b0-da55-4542-ec6e-77a2f25b05e9",
        "colab": {
          "base_uri": "https://localhost:8080/",
          "height": 34
        }
      },
      "execution_count": 55,
      "outputs": [
        {
          "output_type": "display_data",
          "data": {
            "text/html": [
              "<style>\n",
              ".dl-inline {width: auto; margin:0; padding: 0}\n",
              ".dl-inline>dt, .dl-inline>dd {float: none; width: auto; display: inline-block}\n",
              ".dl-inline>dt::after {content: \":\\0020\"; padding-right: .5ex}\n",
              ".dl-inline>dt:not(:first-of-type) {padding-left: .5ex}\n",
              "</style><dl class=dl-inline><dt>c1</dt><dd>'A'</dd><dt>c2</dt><dd>'B'</dd><dt>c3</dt><dd>'B'</dd></dl>\n"
            ],
            "text/markdown": "c1\n:   'A'c2\n:   'B'c3\n:   'B'\n\n",
            "text/latex": "\\begin{description*}\n\\item[c1] 'A'\n\\item[c2] 'B'\n\\item[c3] 'B'\n\\end{description*}\n",
            "text/plain": [
              " c1  c2  c3 \n",
              "\"A\" \"B\" \"B\" "
            ]
          },
          "metadata": {}
        }
      ]
    },
    {
      "cell_type": "markdown",
      "metadata": {
        "id": "DtKi8VpVSqo8"
      },
      "source": [
        "**Álgebra de matrices**\n",
        "\n",
        "Las operaciones suma (resta) y ponderación por escalar se llevan cabo mediante los mismos operadores utilizados para valores numéricos y vectores (+,-,*, /). Para multiplicar matrices en cambio, se utiliza el operador %*%, mientras que para invertirlas se utiliza la función solve(), t() para transponer y det() para el cálculo del determinante en el caso de matrices cuadradas."
      ]
    },
    {
      "cell_type": "code",
      "metadata": {
        "trusted": true,
        "id": "yxrjsz27Sqo8",
        "outputId": "2cfb57b4-0bea-470d-848a-8b707f8f8adf",
        "colab": {
          "base_uri": "https://localhost:8080/",
          "height": 339
        }
      },
      "source": [
        "# transponer una matriz\n",
        "M2\n",
        "t(M2)"
      ],
      "execution_count": 57,
      "outputs": [
        {
          "output_type": "display_data",
          "data": {
            "text/html": [
              "<table class=\"dataframe\">\n",
              "<caption>A matrix: 3 × 3 of type chr</caption>\n",
              "<thead>\n",
              "\t<tr><th></th><th scope=col>c1</th><th scope=col>c2</th><th scope=col>c3</th></tr>\n",
              "</thead>\n",
              "<tbody>\n",
              "\t<tr><th scope=row>f1</th><td>A</td><td>B</td><td>B</td></tr>\n",
              "\t<tr><th scope=row>f2</th><td>X</td><td>Y</td><td>W</td></tr>\n",
              "\t<tr><th scope=row>f3</th><td>M</td><td>N</td><td>K</td></tr>\n",
              "</tbody>\n",
              "</table>\n"
            ],
            "text/markdown": "\nA matrix: 3 × 3 of type chr\n\n| <!--/--> | c1 | c2 | c3 |\n|---|---|---|---|\n| f1 | A | B | B |\n| f2 | X | Y | W |\n| f3 | M | N | K |\n\n",
            "text/latex": "A matrix: 3 × 3 of type chr\n\\begin{tabular}{r|lll}\n  & c1 & c2 & c3\\\\\n\\hline\n\tf1 & A & B & B\\\\\n\tf2 & X & Y & W\\\\\n\tf3 & M & N & K\\\\\n\\end{tabular}\n",
            "text/plain": [
              "   c1 c2 c3\n",
              "f1 A  B  B \n",
              "f2 X  Y  W \n",
              "f3 M  N  K "
            ]
          },
          "metadata": {}
        },
        {
          "output_type": "display_data",
          "data": {
            "text/html": [
              "<table class=\"dataframe\">\n",
              "<caption>A matrix: 3 × 3 of type chr</caption>\n",
              "<thead>\n",
              "\t<tr><th></th><th scope=col>f1</th><th scope=col>f2</th><th scope=col>f3</th></tr>\n",
              "</thead>\n",
              "<tbody>\n",
              "\t<tr><th scope=row>c1</th><td>A</td><td>X</td><td>M</td></tr>\n",
              "\t<tr><th scope=row>c2</th><td>B</td><td>Y</td><td>N</td></tr>\n",
              "\t<tr><th scope=row>c3</th><td>B</td><td>W</td><td>K</td></tr>\n",
              "</tbody>\n",
              "</table>\n"
            ],
            "text/markdown": "\nA matrix: 3 × 3 of type chr\n\n| <!--/--> | f1 | f2 | f3 |\n|---|---|---|---|\n| c1 | A | X | M |\n| c2 | B | Y | N |\n| c3 | B | W | K |\n\n",
            "text/latex": "A matrix: 3 × 3 of type chr\n\\begin{tabular}{r|lll}\n  & f1 & f2 & f3\\\\\n\\hline\n\tc1 & A & X & M\\\\\n\tc2 & B & Y & N\\\\\n\tc3 & B & W & K\\\\\n\\end{tabular}\n",
            "text/plain": [
              "   f1 f2 f3\n",
              "c1 A  X  M \n",
              "c2 B  Y  N \n",
              "c3 B  W  K "
            ]
          },
          "metadata": {}
        }
      ]
    },
    {
      "cell_type": "code",
      "metadata": {
        "trusted": true,
        "id": "tSphDch3Sqo-"
      },
      "source": [
        "# 3.2 Álgbra de matrices  ------------\n",
        "# Ejemplo simple de álgebra de matrices\n",
        "\n"
      ],
      "execution_count": null,
      "outputs": []
    },
    {
      "cell_type": "code",
      "source": [
        "A;B"
      ],
      "metadata": {
        "id": "rx7HnPxw7q4n",
        "outputId": "07cb1a1e-058a-46a2-a5bf-aa1a46f854c7",
        "colab": {
          "base_uri": "https://localhost:8080/",
          "height": 247
        }
      },
      "execution_count": 61,
      "outputs": [
        {
          "output_type": "display_data",
          "data": {
            "text/html": [
              "<table class=\"dataframe\">\n",
              "<caption>A matrix: 2 × 3 of type dbl</caption>\n",
              "<tbody>\n",
              "\t<tr><td>1</td><td>2</td><td>5</td></tr>\n",
              "\t<tr><td>1</td><td>3</td><td>8</td></tr>\n",
              "</tbody>\n",
              "</table>\n"
            ],
            "text/markdown": "\nA matrix: 2 × 3 of type dbl\n\n| 1 | 2 | 5 |\n| 1 | 3 | 8 |\n\n",
            "text/latex": "A matrix: 2 × 3 of type dbl\n\\begin{tabular}{lll}\n\t 1 & 2 & 5\\\\\n\t 1 & 3 & 8\\\\\n\\end{tabular}\n",
            "text/plain": [
              "     [,1] [,2] [,3]\n",
              "[1,] 1    2    5   \n",
              "[2,] 1    3    8   "
            ]
          },
          "metadata": {}
        },
        {
          "output_type": "display_data",
          "data": {
            "text/html": [
              "<table class=\"dataframe\">\n",
              "<caption>A matrix: 2 × 3 of type dbl</caption>\n",
              "<tbody>\n",
              "\t<tr><td>1</td><td>1</td><td>2</td></tr>\n",
              "\t<tr><td>3</td><td>5</td><td>8</td></tr>\n",
              "</tbody>\n",
              "</table>\n"
            ],
            "text/markdown": "\nA matrix: 2 × 3 of type dbl\n\n| 1 | 1 | 2 |\n| 3 | 5 | 8 |\n\n",
            "text/latex": "A matrix: 2 × 3 of type dbl\n\\begin{tabular}{lll}\n\t 1 & 1 & 2\\\\\n\t 3 & 5 & 8\\\\\n\\end{tabular}\n",
            "text/plain": [
              "     [,1] [,2] [,3]\n",
              "[1,] 1    1    2   \n",
              "[2,] 3    5    8   "
            ]
          },
          "metadata": {}
        }
      ]
    },
    {
      "cell_type": "code",
      "metadata": {
        "trusted": true,
        "id": "crNocLSqSqpA",
        "outputId": "1f8a83fb-8095-49be-f56f-23e9a8877b0b",
        "colab": {
          "base_uri": "https://localhost:8080/",
          "height": 114
        }
      },
      "source": [
        "# Multiplicación de matrices\n",
        "A * B\n"
      ],
      "execution_count": 60,
      "outputs": [
        {
          "output_type": "display_data",
          "data": {
            "text/html": [
              "<table class=\"dataframe\">\n",
              "<caption>A matrix: 2 × 3 of type dbl</caption>\n",
              "<tbody>\n",
              "\t<tr><td>1</td><td> 2</td><td>10</td></tr>\n",
              "\t<tr><td>3</td><td>15</td><td>64</td></tr>\n",
              "</tbody>\n",
              "</table>\n"
            ],
            "text/markdown": "\nA matrix: 2 × 3 of type dbl\n\n| 1 |  2 | 10 |\n| 3 | 15 | 64 |\n\n",
            "text/latex": "A matrix: 2 × 3 of type dbl\n\\begin{tabular}{lll}\n\t 1 &  2 & 10\\\\\n\t 3 & 15 & 64\\\\\n\\end{tabular}\n",
            "text/plain": [
              "     [,1] [,2] [,3]\n",
              "[1,] 1     2   10  \n",
              "[2,] 3    15   64  "
            ]
          },
          "metadata": {}
        }
      ]
    },
    {
      "cell_type": "code",
      "source": [
        "A %*% t(B)"
      ],
      "metadata": {
        "id": "yZfko9N47yXs",
        "outputId": "ac722805-dedc-4f8e-8950-b4dc815d559c",
        "colab": {
          "base_uri": "https://localhost:8080/",
          "height": 132
        }
      },
      "execution_count": 62,
      "outputs": [
        {
          "output_type": "display_data",
          "data": {
            "text/html": [
              "<table class=\"dataframe\">\n",
              "<caption>A matrix: 2 × 2 of type dbl</caption>\n",
              "<tbody>\n",
              "\t<tr><td>13</td><td>53</td></tr>\n",
              "\t<tr><td>20</td><td>82</td></tr>\n",
              "</tbody>\n",
              "</table>\n"
            ],
            "text/markdown": "\nA matrix: 2 × 2 of type dbl\n\n| 13 | 53 |\n| 20 | 82 |\n\n",
            "text/latex": "A matrix: 2 × 2 of type dbl\n\\begin{tabular}{ll}\n\t 13 & 53\\\\\n\t 20 & 82\\\\\n\\end{tabular}\n",
            "text/plain": [
              "     [,1] [,2]\n",
              "[1,] 13   53  \n",
              "[2,] 20   82  "
            ]
          },
          "metadata": {}
        }
      ]
    },
    {
      "cell_type": "code",
      "metadata": {
        "trusted": true,
        "id": "RdPKIzaySqpC",
        "outputId": "c62b3df3-9dd9-41ab-c3ee-651ea8ed23ba",
        "colab": {
          "base_uri": "https://localhost:8080/",
          "height": 34
        }
      },
      "source": [
        "# podemos calcular determinantes\n",
        "# ?det\n",
        "det(A %*% t(B))\n"
      ],
      "execution_count": 63,
      "outputs": [
        {
          "output_type": "display_data",
          "data": {
            "text/html": [
              "6.00000000000009"
            ],
            "text/markdown": "6.00000000000009",
            "text/latex": "6.00000000000009",
            "text/plain": [
              "[1] 6"
            ]
          },
          "metadata": {}
        }
      ]
    },
    {
      "cell_type": "code",
      "metadata": {
        "trusted": true,
        "id": "Tymq9t9NSqpH",
        "outputId": "9dc4ac69-f1cd-49f8-c65a-3d1040cd2b1a",
        "colab": {
          "base_uri": "https://localhost:8080/",
          "height": 114
        }
      },
      "source": [
        "# Podemos invertir matrices\n",
        "# ?solve\n",
        "solve(A %*% t(B))"
      ],
      "execution_count": 64,
      "outputs": [
        {
          "output_type": "display_data",
          "data": {
            "text/html": [
              "<table class=\"dataframe\">\n",
              "<caption>A matrix: 2 × 2 of type dbl</caption>\n",
              "<tbody>\n",
              "\t<tr><td>13.666667</td><td>-8.833333</td></tr>\n",
              "\t<tr><td>-3.333333</td><td> 2.166667</td></tr>\n",
              "</tbody>\n",
              "</table>\n"
            ],
            "text/markdown": "\nA matrix: 2 × 2 of type dbl\n\n| 13.666667 | -8.833333 |\n| -3.333333 |  2.166667 |\n\n",
            "text/latex": "A matrix: 2 × 2 of type dbl\n\\begin{tabular}{ll}\n\t 13.666667 & -8.833333\\\\\n\t -3.333333 &  2.166667\\\\\n\\end{tabular}\n",
            "text/plain": [
              "     [,1]      [,2]     \n",
              "[1,] 13.666667 -8.833333\n",
              "[2,] -3.333333  2.166667"
            ]
          },
          "metadata": {}
        }
      ]
    }
  ]
}