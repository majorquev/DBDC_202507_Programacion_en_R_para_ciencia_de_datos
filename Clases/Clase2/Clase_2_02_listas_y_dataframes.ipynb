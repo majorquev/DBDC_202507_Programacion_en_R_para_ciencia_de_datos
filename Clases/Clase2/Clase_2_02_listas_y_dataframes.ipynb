{
  "nbformat": 4,
  "nbformat_minor": 0,
  "metadata": {
    "colab": {
      "provenance": [],
      "include_colab_link": true
    },
    "kernelspec": {
      "name": "ir",
      "display_name": "R"
    }
  },
  "cells": [
    {
      "cell_type": "markdown",
      "metadata": {
        "id": "view-in-github",
        "colab_type": "text"
      },
      "source": [
        "<a href=\"https://colab.research.google.com/github/majorquev/DBDC_202507_Programacion_en_R_para_ciencia_de_datos/blob/main/Clases/Clase2/Clase_2_02_listas_y_dataframes.ipynb\" target=\"_parent\"><img src=\"https://colab.research.google.com/assets/colab-badge.svg\" alt=\"Open In Colab\"/></a>"
      ]
    },
    {
      "cell_type": "markdown",
      "metadata": {
        "collapsed": true,
        "id": "fgQ2azLwTpRn"
      },
      "source": [
        "# Parte 1: Introducción a R (continuación)\n",
        "\n",
        "**Autor:** Miguel Jorquera Viguera<br>\n",
        "**E-mail:** majorquev@gmail.com<br>\n",
        "**Ayudante:** Rodrigo Morales <br>\n",
        "**E-mail ayudante:** rumorale1@gmail.com\n",
        "\n",
        "\n",
        "## 5. Listas y Dataframes\n",
        "\n",
        "### 5.1 Listas\n",
        "\n",
        "Hasta aquí contamos con dos tipos de objetos para almacenar datos; vectores y matrices. Sin embargo, en ambos casos se tiene la limitante de que no es posible combinar distintos tipos de datos en diferentes entradas. Un objeto que permite una mayor flexibilidad son las listas. En R, una lista es básicamente un arreglo unidimensional, donde en cada entrada es posible almacenar distintos **objetos** (los cuales a su vez pueden almacenar distintos tipos de datos (u otros objetos).\n",
        "En resumen,\n",
        "\n",
        "   * ¿Qué son?<br>\n",
        "    Arreglos unidimensionales que guardan distintos tipos de datos u objetos.<br>\n",
        "\n",
        "   * ¿Cómo se declaran?<br>\n",
        "    Se pueden declarar mediante el comando list() o combinando listas existentes. <br>\n",
        "    \n",
        "   * ¿Cómo se accede a sus elementos?<br>\n",
        "    Usando [ ] (retorna lista), o bien usando [ [ ] ] (retorna el objeto).\n",
        "    En cada caso se puede indicar la posición o nombre del objeto que se quiere rescatar.<br>\n",
        "    Otra manera es mediante el símbolo $ seguido del nombre del objeto.\n",
        "\n"
      ]
    },
    {
      "cell_type": "code",
      "source": [
        "LETTERS\n",
        "letters"
      ],
      "metadata": {
        "id": "X4huYYeq9qgN",
        "outputId": "49c2da3a-83bf-4a61-9511-c6ff741db205",
        "colab": {
          "base_uri": "https://localhost:8080/",
          "height": 52
        }
      },
      "execution_count": 1,
      "outputs": [
        {
          "output_type": "display_data",
          "data": {
            "text/html": [
              "<style>\n",
              ".list-inline {list-style: none; margin:0; padding: 0}\n",
              ".list-inline>li {display: inline-block}\n",
              ".list-inline>li:not(:last-child)::after {content: \"\\00b7\"; padding: 0 .5ex}\n",
              "</style>\n",
              "<ol class=list-inline><li>'A'</li><li>'B'</li><li>'C'</li><li>'D'</li><li>'E'</li><li>'F'</li><li>'G'</li><li>'H'</li><li>'I'</li><li>'J'</li><li>'K'</li><li>'L'</li><li>'M'</li><li>'N'</li><li>'O'</li><li>'P'</li><li>'Q'</li><li>'R'</li><li>'S'</li><li>'T'</li><li>'U'</li><li>'V'</li><li>'W'</li><li>'X'</li><li>'Y'</li><li>'Z'</li></ol>\n"
            ],
            "text/markdown": "1. 'A'\n2. 'B'\n3. 'C'\n4. 'D'\n5. 'E'\n6. 'F'\n7. 'G'\n8. 'H'\n9. 'I'\n10. 'J'\n11. 'K'\n12. 'L'\n13. 'M'\n14. 'N'\n15. 'O'\n16. 'P'\n17. 'Q'\n18. 'R'\n19. 'S'\n20. 'T'\n21. 'U'\n22. 'V'\n23. 'W'\n24. 'X'\n25. 'Y'\n26. 'Z'\n\n\n",
            "text/latex": "\\begin{enumerate*}\n\\item 'A'\n\\item 'B'\n\\item 'C'\n\\item 'D'\n\\item 'E'\n\\item 'F'\n\\item 'G'\n\\item 'H'\n\\item 'I'\n\\item 'J'\n\\item 'K'\n\\item 'L'\n\\item 'M'\n\\item 'N'\n\\item 'O'\n\\item 'P'\n\\item 'Q'\n\\item 'R'\n\\item 'S'\n\\item 'T'\n\\item 'U'\n\\item 'V'\n\\item 'W'\n\\item 'X'\n\\item 'Y'\n\\item 'Z'\n\\end{enumerate*}\n",
            "text/plain": [
              " [1] \"A\" \"B\" \"C\" \"D\" \"E\" \"F\" \"G\" \"H\" \"I\" \"J\" \"K\" \"L\" \"M\" \"N\" \"O\" \"P\" \"Q\" \"R\" \"S\"\n",
              "[20] \"T\" \"U\" \"V\" \"W\" \"X\" \"Y\" \"Z\""
            ]
          },
          "metadata": {}
        },
        {
          "output_type": "display_data",
          "data": {
            "text/html": [
              "<style>\n",
              ".list-inline {list-style: none; margin:0; padding: 0}\n",
              ".list-inline>li {display: inline-block}\n",
              ".list-inline>li:not(:last-child)::after {content: \"\\00b7\"; padding: 0 .5ex}\n",
              "</style>\n",
              "<ol class=list-inline><li>'a'</li><li>'b'</li><li>'c'</li><li>'d'</li><li>'e'</li><li>'f'</li><li>'g'</li><li>'h'</li><li>'i'</li><li>'j'</li><li>'k'</li><li>'l'</li><li>'m'</li><li>'n'</li><li>'o'</li><li>'p'</li><li>'q'</li><li>'r'</li><li>'s'</li><li>'t'</li><li>'u'</li><li>'v'</li><li>'w'</li><li>'x'</li><li>'y'</li><li>'z'</li></ol>\n"
            ],
            "text/markdown": "1. 'a'\n2. 'b'\n3. 'c'\n4. 'd'\n5. 'e'\n6. 'f'\n7. 'g'\n8. 'h'\n9. 'i'\n10. 'j'\n11. 'k'\n12. 'l'\n13. 'm'\n14. 'n'\n15. 'o'\n16. 'p'\n17. 'q'\n18. 'r'\n19. 's'\n20. 't'\n21. 'u'\n22. 'v'\n23. 'w'\n24. 'x'\n25. 'y'\n26. 'z'\n\n\n",
            "text/latex": "\\begin{enumerate*}\n\\item 'a'\n\\item 'b'\n\\item 'c'\n\\item 'd'\n\\item 'e'\n\\item 'f'\n\\item 'g'\n\\item 'h'\n\\item 'i'\n\\item 'j'\n\\item 'k'\n\\item 'l'\n\\item 'm'\n\\item 'n'\n\\item 'o'\n\\item 'p'\n\\item 'q'\n\\item 'r'\n\\item 's'\n\\item 't'\n\\item 'u'\n\\item 'v'\n\\item 'w'\n\\item 'x'\n\\item 'y'\n\\item 'z'\n\\end{enumerate*}\n",
            "text/plain": [
              " [1] \"a\" \"b\" \"c\" \"d\" \"e\" \"f\" \"g\" \"h\" \"i\" \"j\" \"k\" \"l\" \"m\" \"n\" \"o\" \"p\" \"q\" \"r\" \"s\"\n",
              "[20] \"t\" \"u\" \"v\" \"w\" \"x\" \"y\" \"z\""
            ]
          },
          "metadata": {}
        }
      ]
    },
    {
      "cell_type": "code",
      "metadata": {
        "trusted": true,
        "id": "zZHpLzzRTpRp"
      },
      "source": [
        "# 5. Listas y dataframes ------------\n",
        "# 5.1 Listas  ------------\n",
        "# Cómo declarar una lista (comando list() )\n",
        "#num,letra, pl, mat, lista\n",
        "l1 <- list(num = 1:5,\n",
        "           letra = \"X\",\n",
        "           pl = c(\"hola\", \"buenas\", \"noches\"),\n",
        "           mat = diag(1:5),\n",
        "           lista = list(a = as.Date(\"2025-07-09\"),\n",
        "                        b = LETTERS))"
      ],
      "execution_count": 2,
      "outputs": []
    },
    {
      "cell_type": "code",
      "source": [
        "l1"
      ],
      "metadata": {
        "id": "7F2DYee1-Bx5",
        "outputId": "599fdf6f-6b8e-4478-d5c5-68bc0296ca98",
        "colab": {
          "base_uri": "https://localhost:8080/",
          "height": 445
        }
      },
      "execution_count": 3,
      "outputs": [
        {
          "output_type": "display_data",
          "data": {
            "text/html": [
              "<dl>\n",
              "\t<dt>$num</dt>\n",
              "\t\t<dd><style>\n",
              ".list-inline {list-style: none; margin:0; padding: 0}\n",
              ".list-inline>li {display: inline-block}\n",
              ".list-inline>li:not(:last-child)::after {content: \"\\00b7\"; padding: 0 .5ex}\n",
              "</style>\n",
              "<ol class=list-inline><li>1</li><li>2</li><li>3</li><li>4</li><li>5</li></ol>\n",
              "</dd>\n",
              "\t<dt>$letra</dt>\n",
              "\t\t<dd>'X'</dd>\n",
              "\t<dt>$pl</dt>\n",
              "\t\t<dd><style>\n",
              ".list-inline {list-style: none; margin:0; padding: 0}\n",
              ".list-inline>li {display: inline-block}\n",
              ".list-inline>li:not(:last-child)::after {content: \"\\00b7\"; padding: 0 .5ex}\n",
              "</style>\n",
              "<ol class=list-inline><li>'hola'</li><li>'buenas'</li><li>'noches'</li></ol>\n",
              "</dd>\n",
              "\t<dt>$mat</dt>\n",
              "\t\t<dd><table class=\"dataframe\">\n",
              "<caption>A matrix: 5 × 5 of type int</caption>\n",
              "<tbody>\n",
              "\t<tr><td>1</td><td>0</td><td>0</td><td>0</td><td>0</td></tr>\n",
              "\t<tr><td>0</td><td>2</td><td>0</td><td>0</td><td>0</td></tr>\n",
              "\t<tr><td>0</td><td>0</td><td>3</td><td>0</td><td>0</td></tr>\n",
              "\t<tr><td>0</td><td>0</td><td>0</td><td>4</td><td>0</td></tr>\n",
              "\t<tr><td>0</td><td>0</td><td>0</td><td>0</td><td>5</td></tr>\n",
              "</tbody>\n",
              "</table>\n",
              "</dd>\n",
              "\t<dt>$lista</dt>\n",
              "\t\t<dd><dl>\n",
              "\t<dt>$a</dt>\n",
              "\t\t<dd><time datetime=\"2025-07-09\">2025-07-09</time></dd>\n",
              "\t<dt>$b</dt>\n",
              "\t\t<dd><style>\n",
              ".list-inline {list-style: none; margin:0; padding: 0}\n",
              ".list-inline>li {display: inline-block}\n",
              ".list-inline>li:not(:last-child)::after {content: \"\\00b7\"; padding: 0 .5ex}\n",
              "</style>\n",
              "<ol class=list-inline><li>'A'</li><li>'B'</li><li>'C'</li><li>'D'</li><li>'E'</li><li>'F'</li><li>'G'</li><li>'H'</li><li>'I'</li><li>'J'</li><li>'K'</li><li>'L'</li><li>'M'</li><li>'N'</li><li>'O'</li><li>'P'</li><li>'Q'</li><li>'R'</li><li>'S'</li><li>'T'</li><li>'U'</li><li>'V'</li><li>'W'</li><li>'X'</li><li>'Y'</li><li>'Z'</li></ol>\n",
              "</dd>\n",
              "</dl>\n",
              "</dd>\n",
              "</dl>\n"
            ],
            "text/markdown": "$num\n:   1. 1\n2. 2\n3. 3\n4. 4\n5. 5\n\n\n\n$letra\n:   'X'\n$pl\n:   1. 'hola'\n2. 'buenas'\n3. 'noches'\n\n\n\n$mat\n:   \nA matrix: 5 × 5 of type int\n\n| 1 | 0 | 0 | 0 | 0 |\n| 0 | 2 | 0 | 0 | 0 |\n| 0 | 0 | 3 | 0 | 0 |\n| 0 | 0 | 0 | 4 | 0 |\n| 0 | 0 | 0 | 0 | 5 |\n\n\n$lista\n:   $a\n:   2025-07-09\n$b\n:   1. 'A'\n2. 'B'\n3. 'C'\n4. 'D'\n5. 'E'\n6. 'F'\n7. 'G'\n8. 'H'\n9. 'I'\n10. 'J'\n11. 'K'\n12. 'L'\n13. 'M'\n14. 'N'\n15. 'O'\n16. 'P'\n17. 'Q'\n18. 'R'\n19. 'S'\n20. 'T'\n21. 'U'\n22. 'V'\n23. 'W'\n24. 'X'\n25. 'Y'\n26. 'Z'\n\n\n\n\n\n\n\n\n",
            "text/latex": "\\begin{description}\n\\item[\\$num] \\begin{enumerate*}\n\\item 1\n\\item 2\n\\item 3\n\\item 4\n\\item 5\n\\end{enumerate*}\n\n\\item[\\$letra] 'X'\n\\item[\\$pl] \\begin{enumerate*}\n\\item 'hola'\n\\item 'buenas'\n\\item 'noches'\n\\end{enumerate*}\n\n\\item[\\$mat] A matrix: 5 × 5 of type int\n\\begin{tabular}{lllll}\n\t 1 & 0 & 0 & 0 & 0\\\\\n\t 0 & 2 & 0 & 0 & 0\\\\\n\t 0 & 0 & 3 & 0 & 0\\\\\n\t 0 & 0 & 0 & 4 & 0\\\\\n\t 0 & 0 & 0 & 0 & 5\\\\\n\\end{tabular}\n\n\\item[\\$lista] \\begin{description}\n\\item[\\$a] 2025-07-09\n\\item[\\$b] \\begin{enumerate*}\n\\item 'A'\n\\item 'B'\n\\item 'C'\n\\item 'D'\n\\item 'E'\n\\item 'F'\n\\item 'G'\n\\item 'H'\n\\item 'I'\n\\item 'J'\n\\item 'K'\n\\item 'L'\n\\item 'M'\n\\item 'N'\n\\item 'O'\n\\item 'P'\n\\item 'Q'\n\\item 'R'\n\\item 'S'\n\\item 'T'\n\\item 'U'\n\\item 'V'\n\\item 'W'\n\\item 'X'\n\\item 'Y'\n\\item 'Z'\n\\end{enumerate*}\n\n\\end{description}\n\n\\end{description}\n",
            "text/plain": [
              "$num\n",
              "[1] 1 2 3 4 5\n",
              "\n",
              "$letra\n",
              "[1] \"X\"\n",
              "\n",
              "$pl\n",
              "[1] \"hola\"   \"buenas\" \"noches\"\n",
              "\n",
              "$mat\n",
              "     [,1] [,2] [,3] [,4] [,5]\n",
              "[1,]    1    0    0    0    0\n",
              "[2,]    0    2    0    0    0\n",
              "[3,]    0    0    3    0    0\n",
              "[4,]    0    0    0    4    0\n",
              "[5,]    0    0    0    0    5\n",
              "\n",
              "$lista\n",
              "$lista$a\n",
              "[1] \"2025-07-09\"\n",
              "\n",
              "$lista$b\n",
              " [1] \"A\" \"B\" \"C\" \"D\" \"E\" \"F\" \"G\" \"H\" \"I\" \"J\" \"K\" \"L\" \"M\" \"N\" \"O\" \"P\" \"Q\" \"R\" \"S\"\n",
              "[20] \"T\" \"U\" \"V\" \"W\" \"X\" \"Y\" \"Z\"\n",
              "\n"
            ]
          },
          "metadata": {}
        }
      ]
    },
    {
      "cell_type": "code",
      "metadata": {
        "id": "_iwOQA-xTzww",
        "outputId": "d256ecbf-ce33-4928-fb0f-773e56c1cbfb",
        "colab": {
          "base_uri": "https://localhost:8080/"
        }
      },
      "source": [
        "# estructura\n",
        "str(l1)"
      ],
      "execution_count": 4,
      "outputs": [
        {
          "output_type": "stream",
          "name": "stdout",
          "text": [
            "List of 5\n",
            " $ num  : int [1:5] 1 2 3 4 5\n",
            " $ letra: chr \"X\"\n",
            " $ pl   : chr [1:3] \"hola\" \"buenas\" \"noches\"\n",
            " $ mat  : int [1:5, 1:5] 1 0 0 0 0 0 2 0 0 0 ...\n",
            " $ lista:List of 2\n",
            "  ..$ a: Date[1:1], format: \"2025-07-09\"\n",
            "  ..$ b: chr [1:26] \"A\" \"B\" \"C\" \"D\" ...\n"
          ]
        }
      ]
    },
    {
      "cell_type": "code",
      "metadata": {
        "trusted": true,
        "id": "Ao1wFCByTpRx",
        "outputId": "5fa88689-8cd1-456c-e6b8-9808003c3dbd",
        "colab": {
          "base_uri": "https://localhost:8080/",
          "height": 52
        }
      },
      "source": [
        "# atributos básicos\n",
        "length(l1)\n",
        "names(l1)"
      ],
      "execution_count": 5,
      "outputs": [
        {
          "output_type": "display_data",
          "data": {
            "text/html": [
              "5"
            ],
            "text/markdown": "5",
            "text/latex": "5",
            "text/plain": [
              "[1] 5"
            ]
          },
          "metadata": {}
        },
        {
          "output_type": "display_data",
          "data": {
            "text/html": [
              "<style>\n",
              ".list-inline {list-style: none; margin:0; padding: 0}\n",
              ".list-inline>li {display: inline-block}\n",
              ".list-inline>li:not(:last-child)::after {content: \"\\00b7\"; padding: 0 .5ex}\n",
              "</style>\n",
              "<ol class=list-inline><li>'num'</li><li>'letra'</li><li>'pl'</li><li>'mat'</li><li>'lista'</li></ol>\n"
            ],
            "text/markdown": "1. 'num'\n2. 'letra'\n3. 'pl'\n4. 'mat'\n5. 'lista'\n\n\n",
            "text/latex": "\\begin{enumerate*}\n\\item 'num'\n\\item 'letra'\n\\item 'pl'\n\\item 'mat'\n\\item 'lista'\n\\end{enumerate*}\n",
            "text/plain": [
              "[1] \"num\"   \"letra\" \"pl\"    \"mat\"   \"lista\""
            ]
          },
          "metadata": {}
        }
      ]
    },
    {
      "cell_type": "code",
      "source": [],
      "metadata": {
        "id": "WWMYNAER-0Tv"
      },
      "execution_count": null,
      "outputs": []
    },
    {
      "cell_type": "code",
      "source": [
        "# Podemos guardar los objetos en slots con nombres (o no)\n",
        "l2 <- list(1:4, \"X\", diag(1:2))"
      ],
      "metadata": {
        "id": "pXhxkKQx-o8w"
      },
      "execution_count": 6,
      "outputs": []
    },
    {
      "cell_type": "code",
      "source": [
        "str(l2)"
      ],
      "metadata": {
        "id": "09J0cezy-_Xn",
        "outputId": "71c284bd-48da-469d-90a7-07187192f212",
        "colab": {
          "base_uri": "https://localhost:8080/"
        }
      },
      "execution_count": 7,
      "outputs": [
        {
          "output_type": "stream",
          "name": "stdout",
          "text": [
            "List of 3\n",
            " $ : int [1:4] 1 2 3 4\n",
            " $ : chr \"X\"\n",
            " $ : int [1:2, 1:2] 1 0 0 2\n"
          ]
        }
      ]
    },
    {
      "cell_type": "code",
      "source": [
        "names(l2) <- c(\"n1\",\"n2\",\"n3\")"
      ],
      "metadata": {
        "id": "hJ3-Kzkn_JIB"
      },
      "execution_count": 8,
      "outputs": []
    },
    {
      "cell_type": "code",
      "source": [
        "str(l2)"
      ],
      "metadata": {
        "id": "7dlfbG1V_VPS",
        "outputId": "f8e7aad3-65a8-43ad-df56-f2dffe210c56",
        "colab": {
          "base_uri": "https://localhost:8080/"
        }
      },
      "execution_count": 9,
      "outputs": [
        {
          "output_type": "stream",
          "name": "stdout",
          "text": [
            "List of 3\n",
            " $ n1: int [1:4] 1 2 3 4\n",
            " $ n2: chr \"X\"\n",
            " $ n3: int [1:2, 1:2] 1 0 0 2\n"
          ]
        }
      ]
    },
    {
      "cell_type": "code",
      "metadata": {
        "trusted": true,
        "id": "GBuxGL4cTpR0",
        "outputId": "6460abfa-c930-46b2-980e-5c4d852ab4cb",
        "colab": {
          "base_uri": "https://localhost:8080/"
        }
      },
      "source": [
        "# Podemos combinar listas\n",
        "l3 <- c(l1,l2)\n",
        "str(l3)"
      ],
      "execution_count": 10,
      "outputs": [
        {
          "output_type": "stream",
          "name": "stdout",
          "text": [
            "List of 8\n",
            " $ num  : int [1:5] 1 2 3 4 5\n",
            " $ letra: chr \"X\"\n",
            " $ pl   : chr [1:3] \"hola\" \"buenas\" \"noches\"\n",
            " $ mat  : int [1:5, 1:5] 1 0 0 0 0 0 2 0 0 0 ...\n",
            " $ lista:List of 2\n",
            "  ..$ a: Date[1:1], format: \"2025-07-09\"\n",
            "  ..$ b: chr [1:26] \"A\" \"B\" \"C\" \"D\" ...\n",
            " $ n1   : int [1:4] 1 2 3 4\n",
            " $ n2   : chr \"X\"\n",
            " $ n3   : int [1:2, 1:2] 1 0 0 2\n"
          ]
        }
      ]
    },
    {
      "cell_type": "code",
      "metadata": {
        "trusted": true,
        "id": "uUv7BQfnTpR3",
        "outputId": "426c81d0-d2a5-4153-b60c-69a7f6f7f6ec",
        "colab": {
          "base_uri": "https://localhost:8080/",
          "height": 52
        }
      },
      "source": [
        "# Acceso mediante posición\n",
        "l3[3]"
      ],
      "execution_count": 11,
      "outputs": [
        {
          "output_type": "display_data",
          "data": {
            "text/html": [
              "<strong>$pl</strong> = <style>\n",
              ".list-inline {list-style: none; margin:0; padding: 0}\n",
              ".list-inline>li {display: inline-block}\n",
              ".list-inline>li:not(:last-child)::after {content: \"\\00b7\"; padding: 0 .5ex}\n",
              "</style>\n",
              "<ol class=list-inline><li>'hola'</li><li>'buenas'</li><li>'noches'</li></ol>\n"
            ],
            "text/markdown": "**$pl** = 1. 'hola'\n2. 'buenas'\n3. 'noches'\n\n\n",
            "text/latex": "\\textbf{\\$pl} = \\begin{enumerate*}\n\\item 'hola'\n\\item 'buenas'\n\\item 'noches'\n\\end{enumerate*}\n",
            "text/plain": [
              "$pl\n",
              "[1] \"hola\"   \"buenas\" \"noches\"\n"
            ]
          },
          "metadata": {}
        }
      ]
    },
    {
      "cell_type": "code",
      "source": [
        "class(l3)\n",
        "class(l3[3])"
      ],
      "metadata": {
        "id": "V56VIucnAYw6",
        "outputId": "2142b91c-d6bf-4341-d693-ac1293e73703",
        "colab": {
          "base_uri": "https://localhost:8080/",
          "height": 52
        }
      },
      "execution_count": null,
      "outputs": [
        {
          "output_type": "display_data",
          "data": {
            "text/html": [
              "'list'"
            ],
            "text/markdown": "'list'",
            "text/latex": "'list'",
            "text/plain": [
              "[1] \"list\""
            ]
          },
          "metadata": {}
        },
        {
          "output_type": "display_data",
          "data": {
            "text/html": [
              "'list'"
            ],
            "text/markdown": "'list'",
            "text/latex": "'list'",
            "text/plain": [
              "[1] \"list\""
            ]
          },
          "metadata": {}
        }
      ]
    },
    {
      "cell_type": "code",
      "metadata": {
        "trusted": true,
        "id": "QbQ8QHARTpR7",
        "outputId": "ba18bf4a-6eaa-4e97-acff-519fd5900171",
        "colab": {
          "base_uri": "https://localhost:8080/",
          "height": 52
        }
      },
      "source": [
        "# NOTA lista[.] retorna un lista con un elemento,\n",
        "# lista[[.]] retorna el elmento de la lista lista[.]\n",
        "l3[3]\n",
        "\n"
      ],
      "execution_count": null,
      "outputs": [
        {
          "output_type": "display_data",
          "data": {
            "text/html": [
              "<strong>$pl</strong> = <style>\n",
              ".list-inline {list-style: none; margin:0; padding: 0}\n",
              ".list-inline>li {display: inline-block}\n",
              ".list-inline>li:not(:last-child)::after {content: \"\\00b7\"; padding: 0 .5ex}\n",
              "</style>\n",
              "<ol class=list-inline><li>'hola'</li><li>'buenas'</li><li>'noches'</li></ol>\n"
            ],
            "text/markdown": "**$pl** = 1. 'hola'\n2. 'buenas'\n3. 'noches'\n\n\n",
            "text/latex": "\\textbf{\\$pl} = \\begin{enumerate*}\n\\item 'hola'\n\\item 'buenas'\n\\item 'noches'\n\\end{enumerate*}\n",
            "text/plain": [
              "$pl\n",
              "[1] \"hola\"   \"buenas\" \"noches\"\n"
            ]
          },
          "metadata": {}
        }
      ]
    },
    {
      "cell_type": "code",
      "source": [
        "l3[[3]]"
      ],
      "metadata": {
        "id": "b2NDcvVpAsSr",
        "outputId": "2327e964-1ab4-4ddd-b20a-14b3a98e73e3",
        "colab": {
          "base_uri": "https://localhost:8080/",
          "height": 34
        }
      },
      "execution_count": 12,
      "outputs": [
        {
          "output_type": "display_data",
          "data": {
            "text/html": [
              "<style>\n",
              ".list-inline {list-style: none; margin:0; padding: 0}\n",
              ".list-inline>li {display: inline-block}\n",
              ".list-inline>li:not(:last-child)::after {content: \"\\00b7\"; padding: 0 .5ex}\n",
              "</style>\n",
              "<ol class=list-inline><li>'hola'</li><li>'buenas'</li><li>'noches'</li></ol>\n"
            ],
            "text/markdown": "1. 'hola'\n2. 'buenas'\n3. 'noches'\n\n\n",
            "text/latex": "\\begin{enumerate*}\n\\item 'hola'\n\\item 'buenas'\n\\item 'noches'\n\\end{enumerate*}\n",
            "text/plain": [
              "[1] \"hola\"   \"buenas\" \"noches\""
            ]
          },
          "metadata": {}
        }
      ]
    },
    {
      "cell_type": "code",
      "source": [
        "class(l3[[3]])"
      ],
      "metadata": {
        "id": "7VMOKuExAw8j",
        "outputId": "7b734863-ce90-4c35-f845-ad579f44d821",
        "colab": {
          "base_uri": "https://localhost:8080/",
          "height": 34
        }
      },
      "execution_count": 13,
      "outputs": [
        {
          "output_type": "display_data",
          "data": {
            "text/html": [
              "'character'"
            ],
            "text/markdown": "'character'",
            "text/latex": "'character'",
            "text/plain": [
              "[1] \"character\""
            ]
          },
          "metadata": {}
        }
      ]
    },
    {
      "cell_type": "code",
      "source": [
        "l3[[3]][2]"
      ],
      "metadata": {
        "id": "ojcxTWnoA0Bq",
        "outputId": "a02272ff-6bd0-491b-bfae-578a817f2db4",
        "colab": {
          "base_uri": "https://localhost:8080/",
          "height": 34
        }
      },
      "execution_count": 14,
      "outputs": [
        {
          "output_type": "display_data",
          "data": {
            "text/html": [
              "'buenas'"
            ],
            "text/markdown": "'buenas'",
            "text/latex": "'buenas'",
            "text/plain": [
              "[1] \"buenas\""
            ]
          },
          "metadata": {}
        }
      ]
    },
    {
      "cell_type": "code",
      "source": [
        "str(l3)"
      ],
      "metadata": {
        "id": "L20YD0oucIn-",
        "outputId": "b73be88a-9d5c-4502-8a5c-62b327229048",
        "colab": {
          "base_uri": "https://localhost:8080/"
        }
      },
      "execution_count": 15,
      "outputs": [
        {
          "output_type": "stream",
          "name": "stdout",
          "text": [
            "List of 8\n",
            " $ num  : int [1:5] 1 2 3 4 5\n",
            " $ letra: chr \"X\"\n",
            " $ pl   : chr [1:3] \"hola\" \"buenas\" \"noches\"\n",
            " $ mat  : int [1:5, 1:5] 1 0 0 0 0 0 2 0 0 0 ...\n",
            " $ lista:List of 2\n",
            "  ..$ a: Date[1:1], format: \"2025-07-09\"\n",
            "  ..$ b: chr [1:26] \"A\" \"B\" \"C\" \"D\" ...\n",
            " $ n1   : int [1:4] 1 2 3 4\n",
            " $ n2   : chr \"X\"\n",
            " $ n3   : int [1:2, 1:2] 1 0 0 2\n"
          ]
        }
      ]
    },
    {
      "cell_type": "code",
      "metadata": {
        "trusted": true,
        "id": "kaOJqYJETpSC",
        "outputId": "ae0c74bd-046c-494c-9c42-dd56b8c6ddbd",
        "colab": {
          "base_uri": "https://localhost:8080/",
          "height": 132
        }
      },
      "source": [
        "# de la lista l3[[5]], quieo el vector que está en el slot llamado \"b\" (segundo elemento)\n",
        "l3[5]# Recordar que retorna una lista (de largo 1) con lo que está adentro"
      ],
      "execution_count": 16,
      "outputs": [
        {
          "output_type": "display_data",
          "data": {
            "text/html": [
              "<strong>$lista</strong> = <dl>\n",
              "\t<dt>$a</dt>\n",
              "\t\t<dd><time datetime=\"2025-07-09\">2025-07-09</time></dd>\n",
              "\t<dt>$b</dt>\n",
              "\t\t<dd><style>\n",
              ".list-inline {list-style: none; margin:0; padding: 0}\n",
              ".list-inline>li {display: inline-block}\n",
              ".list-inline>li:not(:last-child)::after {content: \"\\00b7\"; padding: 0 .5ex}\n",
              "</style>\n",
              "<ol class=list-inline><li>'A'</li><li>'B'</li><li>'C'</li><li>'D'</li><li>'E'</li><li>'F'</li><li>'G'</li><li>'H'</li><li>'I'</li><li>'J'</li><li>'K'</li><li>'L'</li><li>'M'</li><li>'N'</li><li>'O'</li><li>'P'</li><li>'Q'</li><li>'R'</li><li>'S'</li><li>'T'</li><li>'U'</li><li>'V'</li><li>'W'</li><li>'X'</li><li>'Y'</li><li>'Z'</li></ol>\n",
              "</dd>\n",
              "</dl>\n"
            ],
            "text/markdown": "**$lista** = $a\n:   2025-07-09\n$b\n:   1. 'A'\n2. 'B'\n3. 'C'\n4. 'D'\n5. 'E'\n6. 'F'\n7. 'G'\n8. 'H'\n9. 'I'\n10. 'J'\n11. 'K'\n12. 'L'\n13. 'M'\n14. 'N'\n15. 'O'\n16. 'P'\n17. 'Q'\n18. 'R'\n19. 'S'\n20. 'T'\n21. 'U'\n22. 'V'\n23. 'W'\n24. 'X'\n25. 'Y'\n26. 'Z'\n\n\n\n\n\n",
            "text/latex": "\\textbf{\\$lista} = \\begin{description}\n\\item[\\$a] 2025-07-09\n\\item[\\$b] \\begin{enumerate*}\n\\item 'A'\n\\item 'B'\n\\item 'C'\n\\item 'D'\n\\item 'E'\n\\item 'F'\n\\item 'G'\n\\item 'H'\n\\item 'I'\n\\item 'J'\n\\item 'K'\n\\item 'L'\n\\item 'M'\n\\item 'N'\n\\item 'O'\n\\item 'P'\n\\item 'Q'\n\\item 'R'\n\\item 'S'\n\\item 'T'\n\\item 'U'\n\\item 'V'\n\\item 'W'\n\\item 'X'\n\\item 'Y'\n\\item 'Z'\n\\end{enumerate*}\n\n\\end{description}\n",
            "text/plain": [
              "$lista\n",
              "$lista$a\n",
              "[1] \"2025-07-09\"\n",
              "\n",
              "$lista$b\n",
              " [1] \"A\" \"B\" \"C\" \"D\" \"E\" \"F\" \"G\" \"H\" \"I\" \"J\" \"K\" \"L\" \"M\" \"N\" \"O\" \"P\" \"Q\" \"R\" \"S\"\n",
              "[20] \"T\" \"U\" \"V\" \"W\" \"X\" \"Y\" \"Z\"\n",
              "\n"
            ]
          },
          "metadata": {}
        }
      ]
    },
    {
      "cell_type": "code",
      "metadata": {
        "trusted": true,
        "id": "UZ4k5DQ9TpSE",
        "outputId": "15c9d57a-55f6-41fc-c28f-9aac514e5b54",
        "colab": {
          "base_uri": "https://localhost:8080/",
          "height": 114
        }
      },
      "source": [
        "l3[[5]]# Esto es el elmento que está en la posición 5  (que en particular, en este caso, es un lista tbn)\n"
      ],
      "execution_count": 17,
      "outputs": [
        {
          "output_type": "display_data",
          "data": {
            "text/html": [
              "<dl>\n",
              "\t<dt>$a</dt>\n",
              "\t\t<dd><time datetime=\"2025-07-09\">2025-07-09</time></dd>\n",
              "\t<dt>$b</dt>\n",
              "\t\t<dd><style>\n",
              ".list-inline {list-style: none; margin:0; padding: 0}\n",
              ".list-inline>li {display: inline-block}\n",
              ".list-inline>li:not(:last-child)::after {content: \"\\00b7\"; padding: 0 .5ex}\n",
              "</style>\n",
              "<ol class=list-inline><li>'A'</li><li>'B'</li><li>'C'</li><li>'D'</li><li>'E'</li><li>'F'</li><li>'G'</li><li>'H'</li><li>'I'</li><li>'J'</li><li>'K'</li><li>'L'</li><li>'M'</li><li>'N'</li><li>'O'</li><li>'P'</li><li>'Q'</li><li>'R'</li><li>'S'</li><li>'T'</li><li>'U'</li><li>'V'</li><li>'W'</li><li>'X'</li><li>'Y'</li><li>'Z'</li></ol>\n",
              "</dd>\n",
              "</dl>\n"
            ],
            "text/markdown": "$a\n:   2025-07-09\n$b\n:   1. 'A'\n2. 'B'\n3. 'C'\n4. 'D'\n5. 'E'\n6. 'F'\n7. 'G'\n8. 'H'\n9. 'I'\n10. 'J'\n11. 'K'\n12. 'L'\n13. 'M'\n14. 'N'\n15. 'O'\n16. 'P'\n17. 'Q'\n18. 'R'\n19. 'S'\n20. 'T'\n21. 'U'\n22. 'V'\n23. 'W'\n24. 'X'\n25. 'Y'\n26. 'Z'\n\n\n\n\n\n",
            "text/latex": "\\begin{description}\n\\item[\\$a] 2025-07-09\n\\item[\\$b] \\begin{enumerate*}\n\\item 'A'\n\\item 'B'\n\\item 'C'\n\\item 'D'\n\\item 'E'\n\\item 'F'\n\\item 'G'\n\\item 'H'\n\\item 'I'\n\\item 'J'\n\\item 'K'\n\\item 'L'\n\\item 'M'\n\\item 'N'\n\\item 'O'\n\\item 'P'\n\\item 'Q'\n\\item 'R'\n\\item 'S'\n\\item 'T'\n\\item 'U'\n\\item 'V'\n\\item 'W'\n\\item 'X'\n\\item 'Y'\n\\item 'Z'\n\\end{enumerate*}\n\n\\end{description}\n",
            "text/plain": [
              "$a\n",
              "[1] \"2025-07-09\"\n",
              "\n",
              "$b\n",
              " [1] \"A\" \"B\" \"C\" \"D\" \"E\" \"F\" \"G\" \"H\" \"I\" \"J\" \"K\" \"L\" \"M\" \"N\" \"O\" \"P\" \"Q\" \"R\" \"S\"\n",
              "[20] \"T\" \"U\" \"V\" \"W\" \"X\" \"Y\" \"Z\"\n"
            ]
          },
          "metadata": {}
        }
      ]
    },
    {
      "cell_type": "code",
      "source": [
        "str(l3[5])"
      ],
      "metadata": {
        "id": "iIHNduCbc5SZ",
        "outputId": "d47ed079-e90c-485f-896a-aa14d6f4c11e",
        "colab": {
          "base_uri": "https://localhost:8080/"
        }
      },
      "execution_count": 19,
      "outputs": [
        {
          "output_type": "stream",
          "name": "stdout",
          "text": [
            "List of 1\n",
            " $ lista:List of 2\n",
            "  ..$ a: Date[1:1], format: \"2025-07-09\"\n",
            "  ..$ b: chr [1:26] \"A\" \"B\" \"C\" \"D\" ...\n"
          ]
        }
      ]
    },
    {
      "cell_type": "code",
      "source": [
        "str(l3[[5]])"
      ],
      "metadata": {
        "id": "j0qGEHyDc3ZM",
        "outputId": "60fed4ca-2997-43b1-fddd-46ab65e0a82e",
        "colab": {
          "base_uri": "https://localhost:8080/"
        }
      },
      "execution_count": 18,
      "outputs": [
        {
          "output_type": "stream",
          "name": "stdout",
          "text": [
            "List of 2\n",
            " $ a: Date[1:1], format: \"2025-07-09\"\n",
            " $ b: chr [1:26] \"A\" \"B\" \"C\" \"D\" ...\n"
          ]
        }
      ]
    },
    {
      "cell_type": "code",
      "source": [
        "l3[[5]][2] # una lista con el vector b"
      ],
      "metadata": {
        "id": "B3N7ebbhdFOe",
        "outputId": "a30fb859-ca3e-4acb-b6bb-f0aaafba6438",
        "colab": {
          "base_uri": "https://localhost:8080/",
          "height": 52
        }
      },
      "execution_count": 20,
      "outputs": [
        {
          "output_type": "display_data",
          "data": {
            "text/html": [
              "<strong>$b</strong> = <style>\n",
              ".list-inline {list-style: none; margin:0; padding: 0}\n",
              ".list-inline>li {display: inline-block}\n",
              ".list-inline>li:not(:last-child)::after {content: \"\\00b7\"; padding: 0 .5ex}\n",
              "</style>\n",
              "<ol class=list-inline><li>'A'</li><li>'B'</li><li>'C'</li><li>'D'</li><li>'E'</li><li>'F'</li><li>'G'</li><li>'H'</li><li>'I'</li><li>'J'</li><li>'K'</li><li>'L'</li><li>'M'</li><li>'N'</li><li>'O'</li><li>'P'</li><li>'Q'</li><li>'R'</li><li>'S'</li><li>'T'</li><li>'U'</li><li>'V'</li><li>'W'</li><li>'X'</li><li>'Y'</li><li>'Z'</li></ol>\n"
            ],
            "text/markdown": "**$b** = 1. 'A'\n2. 'B'\n3. 'C'\n4. 'D'\n5. 'E'\n6. 'F'\n7. 'G'\n8. 'H'\n9. 'I'\n10. 'J'\n11. 'K'\n12. 'L'\n13. 'M'\n14. 'N'\n15. 'O'\n16. 'P'\n17. 'Q'\n18. 'R'\n19. 'S'\n20. 'T'\n21. 'U'\n22. 'V'\n23. 'W'\n24. 'X'\n25. 'Y'\n26. 'Z'\n\n\n",
            "text/latex": "\\textbf{\\$b} = \\begin{enumerate*}\n\\item 'A'\n\\item 'B'\n\\item 'C'\n\\item 'D'\n\\item 'E'\n\\item 'F'\n\\item 'G'\n\\item 'H'\n\\item 'I'\n\\item 'J'\n\\item 'K'\n\\item 'L'\n\\item 'M'\n\\item 'N'\n\\item 'O'\n\\item 'P'\n\\item 'Q'\n\\item 'R'\n\\item 'S'\n\\item 'T'\n\\item 'U'\n\\item 'V'\n\\item 'W'\n\\item 'X'\n\\item 'Y'\n\\item 'Z'\n\\end{enumerate*}\n",
            "text/plain": [
              "$b\n",
              " [1] \"A\" \"B\" \"C\" \"D\" \"E\" \"F\" \"G\" \"H\" \"I\" \"J\" \"K\" \"L\" \"M\" \"N\" \"O\" \"P\" \"Q\" \"R\" \"S\"\n",
              "[20] \"T\" \"U\" \"V\" \"W\" \"X\" \"Y\" \"Z\"\n"
            ]
          },
          "metadata": {}
        }
      ]
    },
    {
      "cell_type": "code",
      "source": [
        "l3[[5]][[2]] # El vector b"
      ],
      "metadata": {
        "id": "ZdxWW29NdTMy",
        "outputId": "3f026410-a10e-42f1-b2c3-95917a8f9028",
        "colab": {
          "base_uri": "https://localhost:8080/",
          "height": 34
        }
      },
      "execution_count": 21,
      "outputs": [
        {
          "output_type": "display_data",
          "data": {
            "text/html": [
              "<style>\n",
              ".list-inline {list-style: none; margin:0; padding: 0}\n",
              ".list-inline>li {display: inline-block}\n",
              ".list-inline>li:not(:last-child)::after {content: \"\\00b7\"; padding: 0 .5ex}\n",
              "</style>\n",
              "<ol class=list-inline><li>'A'</li><li>'B'</li><li>'C'</li><li>'D'</li><li>'E'</li><li>'F'</li><li>'G'</li><li>'H'</li><li>'I'</li><li>'J'</li><li>'K'</li><li>'L'</li><li>'M'</li><li>'N'</li><li>'O'</li><li>'P'</li><li>'Q'</li><li>'R'</li><li>'S'</li><li>'T'</li><li>'U'</li><li>'V'</li><li>'W'</li><li>'X'</li><li>'Y'</li><li>'Z'</li></ol>\n"
            ],
            "text/markdown": "1. 'A'\n2. 'B'\n3. 'C'\n4. 'D'\n5. 'E'\n6. 'F'\n7. 'G'\n8. 'H'\n9. 'I'\n10. 'J'\n11. 'K'\n12. 'L'\n13. 'M'\n14. 'N'\n15. 'O'\n16. 'P'\n17. 'Q'\n18. 'R'\n19. 'S'\n20. 'T'\n21. 'U'\n22. 'V'\n23. 'W'\n24. 'X'\n25. 'Y'\n26. 'Z'\n\n\n",
            "text/latex": "\\begin{enumerate*}\n\\item 'A'\n\\item 'B'\n\\item 'C'\n\\item 'D'\n\\item 'E'\n\\item 'F'\n\\item 'G'\n\\item 'H'\n\\item 'I'\n\\item 'J'\n\\item 'K'\n\\item 'L'\n\\item 'M'\n\\item 'N'\n\\item 'O'\n\\item 'P'\n\\item 'Q'\n\\item 'R'\n\\item 'S'\n\\item 'T'\n\\item 'U'\n\\item 'V'\n\\item 'W'\n\\item 'X'\n\\item 'Y'\n\\item 'Z'\n\\end{enumerate*}\n",
            "text/plain": [
              " [1] \"A\" \"B\" \"C\" \"D\" \"E\" \"F\" \"G\" \"H\" \"I\" \"J\" \"K\" \"L\" \"M\" \"N\" \"O\" \"P\" \"Q\" \"R\" \"S\"\n",
              "[20] \"T\" \"U\" \"V\" \"W\" \"X\" \"Y\" \"Z\""
            ]
          },
          "metadata": {}
        }
      ]
    },
    {
      "cell_type": "code",
      "source": [
        "str(l3)"
      ],
      "metadata": {
        "id": "GgogB0jWdr3_",
        "outputId": "1461ff46-aae1-4e6d-c6ec-0270a1c9b8e6",
        "colab": {
          "base_uri": "https://localhost:8080/"
        }
      },
      "execution_count": 22,
      "outputs": [
        {
          "output_type": "stream",
          "name": "stdout",
          "text": [
            "List of 8\n",
            " $ num  : int [1:5] 1 2 3 4 5\n",
            " $ letra: chr \"X\"\n",
            " $ pl   : chr [1:3] \"hola\" \"buenas\" \"noches\"\n",
            " $ mat  : int [1:5, 1:5] 1 0 0 0 0 0 2 0 0 0 ...\n",
            " $ lista:List of 2\n",
            "  ..$ a: Date[1:1], format: \"2025-07-09\"\n",
            "  ..$ b: chr [1:26] \"A\" \"B\" \"C\" \"D\" ...\n",
            " $ n1   : int [1:4] 1 2 3 4\n",
            " $ n2   : chr \"X\"\n",
            " $ n3   : int [1:2, 1:2] 1 0 0 2\n"
          ]
        }
      ]
    },
    {
      "cell_type": "code",
      "metadata": {
        "trusted": true,
        "id": "jYFKb27-TpSG",
        "outputId": "7d3da316-a8e9-4a7d-a34b-b98de4b42518",
        "colab": {
          "base_uri": "https://localhost:8080/",
          "height": 34
        }
      },
      "source": [
        "# Acceso mediante nombre\n",
        "l3[[\"lista\"]][[\"b\"]] # El vector b\n"
      ],
      "execution_count": 23,
      "outputs": [
        {
          "output_type": "display_data",
          "data": {
            "text/html": [
              "<style>\n",
              ".list-inline {list-style: none; margin:0; padding: 0}\n",
              ".list-inline>li {display: inline-block}\n",
              ".list-inline>li:not(:last-child)::after {content: \"\\00b7\"; padding: 0 .5ex}\n",
              "</style>\n",
              "<ol class=list-inline><li>'A'</li><li>'B'</li><li>'C'</li><li>'D'</li><li>'E'</li><li>'F'</li><li>'G'</li><li>'H'</li><li>'I'</li><li>'J'</li><li>'K'</li><li>'L'</li><li>'M'</li><li>'N'</li><li>'O'</li><li>'P'</li><li>'Q'</li><li>'R'</li><li>'S'</li><li>'T'</li><li>'U'</li><li>'V'</li><li>'W'</li><li>'X'</li><li>'Y'</li><li>'Z'</li></ol>\n"
            ],
            "text/markdown": "1. 'A'\n2. 'B'\n3. 'C'\n4. 'D'\n5. 'E'\n6. 'F'\n7. 'G'\n8. 'H'\n9. 'I'\n10. 'J'\n11. 'K'\n12. 'L'\n13. 'M'\n14. 'N'\n15. 'O'\n16. 'P'\n17. 'Q'\n18. 'R'\n19. 'S'\n20. 'T'\n21. 'U'\n22. 'V'\n23. 'W'\n24. 'X'\n25. 'Y'\n26. 'Z'\n\n\n",
            "text/latex": "\\begin{enumerate*}\n\\item 'A'\n\\item 'B'\n\\item 'C'\n\\item 'D'\n\\item 'E'\n\\item 'F'\n\\item 'G'\n\\item 'H'\n\\item 'I'\n\\item 'J'\n\\item 'K'\n\\item 'L'\n\\item 'M'\n\\item 'N'\n\\item 'O'\n\\item 'P'\n\\item 'Q'\n\\item 'R'\n\\item 'S'\n\\item 'T'\n\\item 'U'\n\\item 'V'\n\\item 'W'\n\\item 'X'\n\\item 'Y'\n\\item 'Z'\n\\end{enumerate*}\n",
            "text/plain": [
              " [1] \"A\" \"B\" \"C\" \"D\" \"E\" \"F\" \"G\" \"H\" \"I\" \"J\" \"K\" \"L\" \"M\" \"N\" \"O\" \"P\" \"Q\" \"R\" \"S\"\n",
              "[20] \"T\" \"U\" \"V\" \"W\" \"X\" \"Y\" \"Z\""
            ]
          },
          "metadata": {}
        }
      ]
    },
    {
      "cell_type": "code",
      "metadata": {
        "trusted": true,
        "id": "a9UBaNOuTpSI",
        "outputId": "faa54135-62b3-4071-d06d-9e2c7a715a6b",
        "colab": {
          "base_uri": "https://localhost:8080/",
          "height": 592
        }
      },
      "source": [
        "# acceso vía \"$\"\n",
        "l3$mat\n",
        "#es equivalente a\n",
        "l3[[\"mat\"]]\n",
        "l3[[4]]\n",
        "\n",
        "\n"
      ],
      "execution_count": 26,
      "outputs": [
        {
          "output_type": "display_data",
          "data": {
            "text/html": [
              "<table class=\"dataframe\">\n",
              "<caption>A matrix: 5 × 5 of type int</caption>\n",
              "<tbody>\n",
              "\t<tr><td>1</td><td>0</td><td>0</td><td>0</td><td>0</td></tr>\n",
              "\t<tr><td>0</td><td>2</td><td>0</td><td>0</td><td>0</td></tr>\n",
              "\t<tr><td>0</td><td>0</td><td>3</td><td>0</td><td>0</td></tr>\n",
              "\t<tr><td>0</td><td>0</td><td>0</td><td>4</td><td>0</td></tr>\n",
              "\t<tr><td>0</td><td>0</td><td>0</td><td>0</td><td>5</td></tr>\n",
              "</tbody>\n",
              "</table>\n"
            ],
            "text/markdown": "\nA matrix: 5 × 5 of type int\n\n| 1 | 0 | 0 | 0 | 0 |\n| 0 | 2 | 0 | 0 | 0 |\n| 0 | 0 | 3 | 0 | 0 |\n| 0 | 0 | 0 | 4 | 0 |\n| 0 | 0 | 0 | 0 | 5 |\n\n",
            "text/latex": "A matrix: 5 × 5 of type int\n\\begin{tabular}{lllll}\n\t 1 & 0 & 0 & 0 & 0\\\\\n\t 0 & 2 & 0 & 0 & 0\\\\\n\t 0 & 0 & 3 & 0 & 0\\\\\n\t 0 & 0 & 0 & 4 & 0\\\\\n\t 0 & 0 & 0 & 0 & 5\\\\\n\\end{tabular}\n",
            "text/plain": [
              "     [,1] [,2] [,3] [,4] [,5]\n",
              "[1,] 1    0    0    0    0   \n",
              "[2,] 0    2    0    0    0   \n",
              "[3,] 0    0    3    0    0   \n",
              "[4,] 0    0    0    4    0   \n",
              "[5,] 0    0    0    0    5   "
            ]
          },
          "metadata": {}
        },
        {
          "output_type": "display_data",
          "data": {
            "text/html": [
              "<table class=\"dataframe\">\n",
              "<caption>A matrix: 5 × 5 of type int</caption>\n",
              "<tbody>\n",
              "\t<tr><td>1</td><td>0</td><td>0</td><td>0</td><td>0</td></tr>\n",
              "\t<tr><td>0</td><td>2</td><td>0</td><td>0</td><td>0</td></tr>\n",
              "\t<tr><td>0</td><td>0</td><td>3</td><td>0</td><td>0</td></tr>\n",
              "\t<tr><td>0</td><td>0</td><td>0</td><td>4</td><td>0</td></tr>\n",
              "\t<tr><td>0</td><td>0</td><td>0</td><td>0</td><td>5</td></tr>\n",
              "</tbody>\n",
              "</table>\n"
            ],
            "text/markdown": "\nA matrix: 5 × 5 of type int\n\n| 1 | 0 | 0 | 0 | 0 |\n| 0 | 2 | 0 | 0 | 0 |\n| 0 | 0 | 3 | 0 | 0 |\n| 0 | 0 | 0 | 4 | 0 |\n| 0 | 0 | 0 | 0 | 5 |\n\n",
            "text/latex": "A matrix: 5 × 5 of type int\n\\begin{tabular}{lllll}\n\t 1 & 0 & 0 & 0 & 0\\\\\n\t 0 & 2 & 0 & 0 & 0\\\\\n\t 0 & 0 & 3 & 0 & 0\\\\\n\t 0 & 0 & 0 & 4 & 0\\\\\n\t 0 & 0 & 0 & 0 & 5\\\\\n\\end{tabular}\n",
            "text/plain": [
              "     [,1] [,2] [,3] [,4] [,5]\n",
              "[1,] 1    0    0    0    0   \n",
              "[2,] 0    2    0    0    0   \n",
              "[3,] 0    0    3    0    0   \n",
              "[4,] 0    0    0    4    0   \n",
              "[5,] 0    0    0    0    5   "
            ]
          },
          "metadata": {}
        },
        {
          "output_type": "display_data",
          "data": {
            "text/html": [
              "<table class=\"dataframe\">\n",
              "<caption>A matrix: 5 × 5 of type int</caption>\n",
              "<tbody>\n",
              "\t<tr><td>1</td><td>0</td><td>0</td><td>0</td><td>0</td></tr>\n",
              "\t<tr><td>0</td><td>2</td><td>0</td><td>0</td><td>0</td></tr>\n",
              "\t<tr><td>0</td><td>0</td><td>3</td><td>0</td><td>0</td></tr>\n",
              "\t<tr><td>0</td><td>0</td><td>0</td><td>4</td><td>0</td></tr>\n",
              "\t<tr><td>0</td><td>0</td><td>0</td><td>0</td><td>5</td></tr>\n",
              "</tbody>\n",
              "</table>\n"
            ],
            "text/markdown": "\nA matrix: 5 × 5 of type int\n\n| 1 | 0 | 0 | 0 | 0 |\n| 0 | 2 | 0 | 0 | 0 |\n| 0 | 0 | 3 | 0 | 0 |\n| 0 | 0 | 0 | 4 | 0 |\n| 0 | 0 | 0 | 0 | 5 |\n\n",
            "text/latex": "A matrix: 5 × 5 of type int\n\\begin{tabular}{lllll}\n\t 1 & 0 & 0 & 0 & 0\\\\\n\t 0 & 2 & 0 & 0 & 0\\\\\n\t 0 & 0 & 3 & 0 & 0\\\\\n\t 0 & 0 & 0 & 4 & 0\\\\\n\t 0 & 0 & 0 & 0 & 5\\\\\n\\end{tabular}\n",
            "text/plain": [
              "     [,1] [,2] [,3] [,4] [,5]\n",
              "[1,] 1    0    0    0    0   \n",
              "[2,] 0    2    0    0    0   \n",
              "[3,] 0    0    3    0    0   \n",
              "[4,] 0    0    0    4    0   \n",
              "[5,] 0    0    0    0    5   "
            ]
          },
          "metadata": {}
        }
      ]
    },
    {
      "cell_type": "code",
      "source": [
        "str(l3)"
      ],
      "metadata": {
        "id": "px8AKDVHer4Q",
        "outputId": "1604c5f2-41d6-4979-94ba-a8f2fea0cbe1",
        "colab": {
          "base_uri": "https://localhost:8080/"
        }
      },
      "execution_count": 29,
      "outputs": [
        {
          "output_type": "stream",
          "name": "stdout",
          "text": [
            "List of 8\n",
            " $ num  : int [1:5] 1 2 3 4 5\n",
            " $ letra: chr \"X\"\n",
            " $ pl   : chr [1:3] \"hola\" \"buenas\" \"noches\"\n",
            " $ mat  : int [1:5, 1:5] 1 0 0 0 0 0 2 0 0 0 ...\n",
            " $ lista:List of 2\n",
            "  ..$ a: Date[1:1], format: \"2025-07-09\"\n",
            "  ..$ b: chr [1:26] \"A\" \"B\" \"C\" \"D\" ...\n",
            " $ n1   : int [1:4] 1 2 3 4\n",
            " $ n2   : chr \"X\"\n",
            " $ n3   : int [1:2, 1:2] 1 0 0 2\n"
          ]
        }
      ]
    },
    {
      "cell_type": "code",
      "source": [
        "l3$lista$b\n",
        "#Esto esequivalente a\n",
        "l3[[5]][[2]]\n",
        "l3[[\"lista\"]][[\"b\"]]"
      ],
      "metadata": {
        "id": "iK-6QcMGeWr8",
        "outputId": "572caccf-e479-4d8c-be7e-56fee232ed70",
        "colab": {
          "base_uri": "https://localhost:8080/",
          "height": 69
        }
      },
      "execution_count": 28,
      "outputs": [
        {
          "output_type": "display_data",
          "data": {
            "text/html": [
              "<style>\n",
              ".list-inline {list-style: none; margin:0; padding: 0}\n",
              ".list-inline>li {display: inline-block}\n",
              ".list-inline>li:not(:last-child)::after {content: \"\\00b7\"; padding: 0 .5ex}\n",
              "</style>\n",
              "<ol class=list-inline><li>'A'</li><li>'B'</li><li>'C'</li><li>'D'</li><li>'E'</li><li>'F'</li><li>'G'</li><li>'H'</li><li>'I'</li><li>'J'</li><li>'K'</li><li>'L'</li><li>'M'</li><li>'N'</li><li>'O'</li><li>'P'</li><li>'Q'</li><li>'R'</li><li>'S'</li><li>'T'</li><li>'U'</li><li>'V'</li><li>'W'</li><li>'X'</li><li>'Y'</li><li>'Z'</li></ol>\n"
            ],
            "text/markdown": "1. 'A'\n2. 'B'\n3. 'C'\n4. 'D'\n5. 'E'\n6. 'F'\n7. 'G'\n8. 'H'\n9. 'I'\n10. 'J'\n11. 'K'\n12. 'L'\n13. 'M'\n14. 'N'\n15. 'O'\n16. 'P'\n17. 'Q'\n18. 'R'\n19. 'S'\n20. 'T'\n21. 'U'\n22. 'V'\n23. 'W'\n24. 'X'\n25. 'Y'\n26. 'Z'\n\n\n",
            "text/latex": "\\begin{enumerate*}\n\\item 'A'\n\\item 'B'\n\\item 'C'\n\\item 'D'\n\\item 'E'\n\\item 'F'\n\\item 'G'\n\\item 'H'\n\\item 'I'\n\\item 'J'\n\\item 'K'\n\\item 'L'\n\\item 'M'\n\\item 'N'\n\\item 'O'\n\\item 'P'\n\\item 'Q'\n\\item 'R'\n\\item 'S'\n\\item 'T'\n\\item 'U'\n\\item 'V'\n\\item 'W'\n\\item 'X'\n\\item 'Y'\n\\item 'Z'\n\\end{enumerate*}\n",
            "text/plain": [
              " [1] \"A\" \"B\" \"C\" \"D\" \"E\" \"F\" \"G\" \"H\" \"I\" \"J\" \"K\" \"L\" \"M\" \"N\" \"O\" \"P\" \"Q\" \"R\" \"S\"\n",
              "[20] \"T\" \"U\" \"V\" \"W\" \"X\" \"Y\" \"Z\""
            ]
          },
          "metadata": {}
        },
        {
          "output_type": "display_data",
          "data": {
            "text/html": [
              "<style>\n",
              ".list-inline {list-style: none; margin:0; padding: 0}\n",
              ".list-inline>li {display: inline-block}\n",
              ".list-inline>li:not(:last-child)::after {content: \"\\00b7\"; padding: 0 .5ex}\n",
              "</style>\n",
              "<ol class=list-inline><li>'A'</li><li>'B'</li><li>'C'</li><li>'D'</li><li>'E'</li><li>'F'</li><li>'G'</li><li>'H'</li><li>'I'</li><li>'J'</li><li>'K'</li><li>'L'</li><li>'M'</li><li>'N'</li><li>'O'</li><li>'P'</li><li>'Q'</li><li>'R'</li><li>'S'</li><li>'T'</li><li>'U'</li><li>'V'</li><li>'W'</li><li>'X'</li><li>'Y'</li><li>'Z'</li></ol>\n"
            ],
            "text/markdown": "1. 'A'\n2. 'B'\n3. 'C'\n4. 'D'\n5. 'E'\n6. 'F'\n7. 'G'\n8. 'H'\n9. 'I'\n10. 'J'\n11. 'K'\n12. 'L'\n13. 'M'\n14. 'N'\n15. 'O'\n16. 'P'\n17. 'Q'\n18. 'R'\n19. 'S'\n20. 'T'\n21. 'U'\n22. 'V'\n23. 'W'\n24. 'X'\n25. 'Y'\n26. 'Z'\n\n\n",
            "text/latex": "\\begin{enumerate*}\n\\item 'A'\n\\item 'B'\n\\item 'C'\n\\item 'D'\n\\item 'E'\n\\item 'F'\n\\item 'G'\n\\item 'H'\n\\item 'I'\n\\item 'J'\n\\item 'K'\n\\item 'L'\n\\item 'M'\n\\item 'N'\n\\item 'O'\n\\item 'P'\n\\item 'Q'\n\\item 'R'\n\\item 'S'\n\\item 'T'\n\\item 'U'\n\\item 'V'\n\\item 'W'\n\\item 'X'\n\\item 'Y'\n\\item 'Z'\n\\end{enumerate*}\n",
            "text/plain": [
              " [1] \"A\" \"B\" \"C\" \"D\" \"E\" \"F\" \"G\" \"H\" \"I\" \"J\" \"K\" \"L\" \"M\" \"N\" \"O\" \"P\" \"Q\" \"R\" \"S\"\n",
              "[20] \"T\" \"U\" \"V\" \"W\" \"X\" \"Y\" \"Z\""
            ]
          },
          "metadata": {}
        },
        {
          "output_type": "display_data",
          "data": {
            "text/html": [
              "<style>\n",
              ".list-inline {list-style: none; margin:0; padding: 0}\n",
              ".list-inline>li {display: inline-block}\n",
              ".list-inline>li:not(:last-child)::after {content: \"\\00b7\"; padding: 0 .5ex}\n",
              "</style>\n",
              "<ol class=list-inline><li>'A'</li><li>'B'</li><li>'C'</li><li>'D'</li><li>'E'</li><li>'F'</li><li>'G'</li><li>'H'</li><li>'I'</li><li>'J'</li><li>'K'</li><li>'L'</li><li>'M'</li><li>'N'</li><li>'O'</li><li>'P'</li><li>'Q'</li><li>'R'</li><li>'S'</li><li>'T'</li><li>'U'</li><li>'V'</li><li>'W'</li><li>'X'</li><li>'Y'</li><li>'Z'</li></ol>\n"
            ],
            "text/markdown": "1. 'A'\n2. 'B'\n3. 'C'\n4. 'D'\n5. 'E'\n6. 'F'\n7. 'G'\n8. 'H'\n9. 'I'\n10. 'J'\n11. 'K'\n12. 'L'\n13. 'M'\n14. 'N'\n15. 'O'\n16. 'P'\n17. 'Q'\n18. 'R'\n19. 'S'\n20. 'T'\n21. 'U'\n22. 'V'\n23. 'W'\n24. 'X'\n25. 'Y'\n26. 'Z'\n\n\n",
            "text/latex": "\\begin{enumerate*}\n\\item 'A'\n\\item 'B'\n\\item 'C'\n\\item 'D'\n\\item 'E'\n\\item 'F'\n\\item 'G'\n\\item 'H'\n\\item 'I'\n\\item 'J'\n\\item 'K'\n\\item 'L'\n\\item 'M'\n\\item 'N'\n\\item 'O'\n\\item 'P'\n\\item 'Q'\n\\item 'R'\n\\item 'S'\n\\item 'T'\n\\item 'U'\n\\item 'V'\n\\item 'W'\n\\item 'X'\n\\item 'Y'\n\\item 'Z'\n\\end{enumerate*}\n",
            "text/plain": [
              " [1] \"A\" \"B\" \"C\" \"D\" \"E\" \"F\" \"G\" \"H\" \"I\" \"J\" \"K\" \"L\" \"M\" \"N\" \"O\" \"P\" \"Q\" \"R\" \"S\"\n",
              "[20] \"T\" \"U\" \"V\" \"W\" \"X\" \"Y\" \"Z\""
            ]
          },
          "metadata": {}
        }
      ]
    },
    {
      "cell_type": "code",
      "metadata": {
        "trusted": true,
        "id": "Dumeo0-NTpSM",
        "outputId": "bff9b174-ef9a-4072-8395-c3634e71b819",
        "colab": {
          "base_uri": "https://localhost:8080/",
          "height": 52
        }
      },
      "source": [
        "# para saber el largo de la lista/vector\n",
        "length(l3)\n",
        "# Para obtener los nombres de la lista\n",
        "names(l3)\n",
        "# si quisiéramos renombrar los slots:\n",
        "names(l3)[4] <- \"matriz\""
      ],
      "execution_count": 33,
      "outputs": [
        {
          "output_type": "display_data",
          "data": {
            "text/html": [
              "8"
            ],
            "text/markdown": "8",
            "text/latex": "8",
            "text/plain": [
              "[1] 8"
            ]
          },
          "metadata": {}
        },
        {
          "output_type": "display_data",
          "data": {
            "text/html": [
              "<style>\n",
              ".list-inline {list-style: none; margin:0; padding: 0}\n",
              ".list-inline>li {display: inline-block}\n",
              ".list-inline>li:not(:last-child)::after {content: \"\\00b7\"; padding: 0 .5ex}\n",
              "</style>\n",
              "<ol class=list-inline><li>'num'</li><li>'letra'</li><li>'pl'</li><li>'mat'</li><li>'lista'</li><li>'n1'</li><li>'n2'</li><li>'n3'</li></ol>\n"
            ],
            "text/markdown": "1. 'num'\n2. 'letra'\n3. 'pl'\n4. 'mat'\n5. 'lista'\n6. 'n1'\n7. 'n2'\n8. 'n3'\n\n\n",
            "text/latex": "\\begin{enumerate*}\n\\item 'num'\n\\item 'letra'\n\\item 'pl'\n\\item 'mat'\n\\item 'lista'\n\\item 'n1'\n\\item 'n2'\n\\item 'n3'\n\\end{enumerate*}\n",
            "text/plain": [
              "[1] \"num\"   \"letra\" \"pl\"    \"mat\"   \"lista\" \"n1\"    \"n2\"    \"n3\"   "
            ]
          },
          "metadata": {}
        }
      ]
    },
    {
      "cell_type": "code",
      "source": [
        "names(l3)"
      ],
      "metadata": {
        "id": "X-gIHv_xfPn6",
        "outputId": "193143b1-94c1-435c-8b8d-8ad1f8a36fb0",
        "colab": {
          "base_uri": "https://localhost:8080/",
          "height": 34
        }
      },
      "execution_count": 34,
      "outputs": [
        {
          "output_type": "display_data",
          "data": {
            "text/html": [
              "<style>\n",
              ".list-inline {list-style: none; margin:0; padding: 0}\n",
              ".list-inline>li {display: inline-block}\n",
              ".list-inline>li:not(:last-child)::after {content: \"\\00b7\"; padding: 0 .5ex}\n",
              "</style>\n",
              "<ol class=list-inline><li>'num'</li><li>'letra'</li><li>'pl'</li><li>'matriz'</li><li>'lista'</li><li>'n1'</li><li>'n2'</li><li>'n3'</li></ol>\n"
            ],
            "text/markdown": "1. 'num'\n2. 'letra'\n3. 'pl'\n4. 'matriz'\n5. 'lista'\n6. 'n1'\n7. 'n2'\n8. 'n3'\n\n\n",
            "text/latex": "\\begin{enumerate*}\n\\item 'num'\n\\item 'letra'\n\\item 'pl'\n\\item 'matriz'\n\\item 'lista'\n\\item 'n1'\n\\item 'n2'\n\\item 'n3'\n\\end{enumerate*}\n",
            "text/plain": [
              "[1] \"num\"    \"letra\"  \"pl\"     \"matriz\" \"lista\"  \"n1\"     \"n2\"     \"n3\"    "
            ]
          },
          "metadata": {}
        }
      ]
    },
    {
      "cell_type": "code",
      "source": [
        "str(l3)"
      ],
      "metadata": {
        "id": "xDNaBe98ffnY",
        "outputId": "15d5411b-2d08-4403-9c31-8d36fab20505",
        "colab": {
          "base_uri": "https://localhost:8080/"
        }
      },
      "execution_count": 35,
      "outputs": [
        {
          "output_type": "stream",
          "name": "stdout",
          "text": [
            "List of 8\n",
            " $ num   : int [1:5] 1 2 3 4 5\n",
            " $ letra : chr \"X\"\n",
            " $ pl    : chr [1:3] \"hola\" \"buenas\" \"noches\"\n",
            " $ matriz: int [1:5, 1:5] 1 0 0 0 0 0 2 0 0 0 ...\n",
            " $ lista :List of 2\n",
            "  ..$ a: Date[1:1], format: \"2025-07-09\"\n",
            "  ..$ b: chr [1:26] \"A\" \"B\" \"C\" \"D\" ...\n",
            " $ n1    : int [1:4] 1 2 3 4\n",
            " $ n2    : chr \"X\"\n",
            " $ n3    : int [1:2, 1:2] 1 0 0 2\n"
          ]
        }
      ]
    },
    {
      "cell_type": "code",
      "metadata": {
        "trusted": true,
        "id": "Uij1PdVrTpSO"
      },
      "source": [
        "# También podemos crear nuevos \"slots\"\n",
        "## Indicando nombre en [[]] y luego asignando, o\n",
        "l3[[\"values_lgl\"]] <- c(T,F,T,T)\n",
        "\n",
        "\n",
        "\n",
        "\n"
      ],
      "execution_count": 37,
      "outputs": []
    },
    {
      "cell_type": "code",
      "source": [
        "str(l3)"
      ],
      "metadata": {
        "id": "YxXxYlcvf6Nn",
        "outputId": "4322a00b-8db7-4289-f42d-9c719e1bf990",
        "colab": {
          "base_uri": "https://localhost:8080/"
        }
      },
      "execution_count": 38,
      "outputs": [
        {
          "output_type": "stream",
          "name": "stdout",
          "text": [
            "List of 9\n",
            " $ num       : int [1:5] 1 2 3 4 5\n",
            " $ letra     : chr \"X\"\n",
            " $ pl        : chr [1:3] \"hola\" \"buenas\" \"noches\"\n",
            " $ matriz    : int [1:5, 1:5] 1 0 0 0 0 0 2 0 0 0 ...\n",
            " $ lista     :List of 2\n",
            "  ..$ a: Date[1:1], format: \"2025-07-09\"\n",
            "  ..$ b: chr [1:26] \"A\" \"B\" \"C\" \"D\" ...\n",
            " $ n1        : int [1:4] 1 2 3 4\n",
            " $ n2        : chr \"X\"\n",
            " $ n3        : int [1:2, 1:2] 1 0 0 2\n",
            " $ values_lgl: logi [1:4] TRUE FALSE TRUE TRUE\n"
          ]
        }
      ]
    },
    {
      "cell_type": "code",
      "source": [
        "## Indicando nombre después de \"$\" y luego asignando\n",
        "l3$values_lgl2 <- c(T,F,T,T)\n"
      ],
      "metadata": {
        "id": "VfzoRcq8f5av"
      },
      "execution_count": 40,
      "outputs": []
    },
    {
      "cell_type": "code",
      "source": [
        "str(l3)"
      ],
      "metadata": {
        "id": "K2897VLWgH9z",
        "outputId": "89481308-2872-427d-a7cf-d84ca70babdb",
        "colab": {
          "base_uri": "https://localhost:8080/"
        }
      },
      "execution_count": 41,
      "outputs": [
        {
          "output_type": "stream",
          "name": "stdout",
          "text": [
            "List of 10\n",
            " $ num        : int [1:5] 1 2 3 4 5\n",
            " $ letra      : chr \"X\"\n",
            " $ pl         : chr [1:3] \"hola\" \"buenas\" \"noches\"\n",
            " $ matriz     : int [1:5, 1:5] 1 0 0 0 0 0 2 0 0 0 ...\n",
            " $ lista      :List of 2\n",
            "  ..$ a: Date[1:1], format: \"2025-07-09\"\n",
            "  ..$ b: chr [1:26] \"A\" \"B\" \"C\" \"D\" ...\n",
            " $ n1         : int [1:4] 1 2 3 4\n",
            " $ n2         : chr \"X\"\n",
            " $ n3         : int [1:2, 1:2] 1 0 0 2\n",
            " $ values_lgl : logi [1:4] TRUE FALSE TRUE TRUE\n",
            " $ values_lgl2: logi [1:4] TRUE FALSE TRUE TRUE\n"
          ]
        }
      ]
    },
    {
      "cell_type": "code",
      "metadata": {
        "trusted": true,
        "id": "rBB4hT9RTpSQ"
      },
      "source": [
        "# podemos modificar elementos dentro de un slot\n",
        "# Ejemplo: Cambiar el último TRUE por un FALSE, en values_lgl2\n",
        "\n",
        "l3[[\"values_lgl2\"]][4] <- F\n"
      ],
      "execution_count": 44,
      "outputs": []
    },
    {
      "cell_type": "code",
      "source": [
        "l3"
      ],
      "metadata": {
        "id": "0vELyE8jgxOC",
        "outputId": "6b94b056-7620-4b52-cba0-bf013b241dbb",
        "colab": {
          "base_uri": "https://localhost:8080/",
          "height": 751
        }
      },
      "execution_count": 45,
      "outputs": [
        {
          "output_type": "display_data",
          "data": {
            "text/html": [
              "<dl>\n",
              "\t<dt>$num</dt>\n",
              "\t\t<dd><style>\n",
              ".list-inline {list-style: none; margin:0; padding: 0}\n",
              ".list-inline>li {display: inline-block}\n",
              ".list-inline>li:not(:last-child)::after {content: \"\\00b7\"; padding: 0 .5ex}\n",
              "</style>\n",
              "<ol class=list-inline><li>1</li><li>2</li><li>3</li><li>4</li><li>5</li></ol>\n",
              "</dd>\n",
              "\t<dt>$letra</dt>\n",
              "\t\t<dd>'X'</dd>\n",
              "\t<dt>$pl</dt>\n",
              "\t\t<dd><style>\n",
              ".list-inline {list-style: none; margin:0; padding: 0}\n",
              ".list-inline>li {display: inline-block}\n",
              ".list-inline>li:not(:last-child)::after {content: \"\\00b7\"; padding: 0 .5ex}\n",
              "</style>\n",
              "<ol class=list-inline><li>'hola'</li><li>'buenas'</li><li>'noches'</li></ol>\n",
              "</dd>\n",
              "\t<dt>$matriz</dt>\n",
              "\t\t<dd><table class=\"dataframe\">\n",
              "<caption>A matrix: 5 × 5 of type int</caption>\n",
              "<tbody>\n",
              "\t<tr><td>1</td><td>0</td><td>0</td><td>0</td><td>0</td></tr>\n",
              "\t<tr><td>0</td><td>2</td><td>0</td><td>0</td><td>0</td></tr>\n",
              "\t<tr><td>0</td><td>0</td><td>3</td><td>0</td><td>0</td></tr>\n",
              "\t<tr><td>0</td><td>0</td><td>0</td><td>4</td><td>0</td></tr>\n",
              "\t<tr><td>0</td><td>0</td><td>0</td><td>0</td><td>5</td></tr>\n",
              "</tbody>\n",
              "</table>\n",
              "</dd>\n",
              "\t<dt>$lista</dt>\n",
              "\t\t<dd><dl>\n",
              "\t<dt>$a</dt>\n",
              "\t\t<dd><time datetime=\"2025-07-09\">2025-07-09</time></dd>\n",
              "\t<dt>$b</dt>\n",
              "\t\t<dd><style>\n",
              ".list-inline {list-style: none; margin:0; padding: 0}\n",
              ".list-inline>li {display: inline-block}\n",
              ".list-inline>li:not(:last-child)::after {content: \"\\00b7\"; padding: 0 .5ex}\n",
              "</style>\n",
              "<ol class=list-inline><li>'A'</li><li>'B'</li><li>'C'</li><li>'D'</li><li>'E'</li><li>'F'</li><li>'G'</li><li>'H'</li><li>'I'</li><li>'J'</li><li>'K'</li><li>'L'</li><li>'M'</li><li>'N'</li><li>'O'</li><li>'P'</li><li>'Q'</li><li>'R'</li><li>'S'</li><li>'T'</li><li>'U'</li><li>'V'</li><li>'W'</li><li>'X'</li><li>'Y'</li><li>'Z'</li></ol>\n",
              "</dd>\n",
              "</dl>\n",
              "</dd>\n",
              "\t<dt>$n1</dt>\n",
              "\t\t<dd><style>\n",
              ".list-inline {list-style: none; margin:0; padding: 0}\n",
              ".list-inline>li {display: inline-block}\n",
              ".list-inline>li:not(:last-child)::after {content: \"\\00b7\"; padding: 0 .5ex}\n",
              "</style>\n",
              "<ol class=list-inline><li>1</li><li>2</li><li>3</li><li>4</li></ol>\n",
              "</dd>\n",
              "\t<dt>$n2</dt>\n",
              "\t\t<dd>'X'</dd>\n",
              "\t<dt>$n3</dt>\n",
              "\t\t<dd><table class=\"dataframe\">\n",
              "<caption>A matrix: 2 × 2 of type int</caption>\n",
              "<tbody>\n",
              "\t<tr><td>1</td><td>0</td></tr>\n",
              "\t<tr><td>0</td><td>2</td></tr>\n",
              "</tbody>\n",
              "</table>\n",
              "</dd>\n",
              "\t<dt>$values_lgl</dt>\n",
              "\t\t<dd><style>\n",
              ".list-inline {list-style: none; margin:0; padding: 0}\n",
              ".list-inline>li {display: inline-block}\n",
              ".list-inline>li:not(:last-child)::after {content: \"\\00b7\"; padding: 0 .5ex}\n",
              "</style>\n",
              "<ol class=list-inline><li>TRUE</li><li>FALSE</li><li>TRUE</li><li>TRUE</li></ol>\n",
              "</dd>\n",
              "\t<dt>$values_lgl2</dt>\n",
              "\t\t<dd><style>\n",
              ".list-inline {list-style: none; margin:0; padding: 0}\n",
              ".list-inline>li {display: inline-block}\n",
              ".list-inline>li:not(:last-child)::after {content: \"\\00b7\"; padding: 0 .5ex}\n",
              "</style>\n",
              "<ol class=list-inline><li>TRUE</li><li>FALSE</li><li>TRUE</li><li>FALSE</li></ol>\n",
              "</dd>\n",
              "</dl>\n"
            ],
            "text/markdown": "$num\n:   1. 1\n2. 2\n3. 3\n4. 4\n5. 5\n\n\n\n$letra\n:   'X'\n$pl\n:   1. 'hola'\n2. 'buenas'\n3. 'noches'\n\n\n\n$matriz\n:   \nA matrix: 5 × 5 of type int\n\n| 1 | 0 | 0 | 0 | 0 |\n| 0 | 2 | 0 | 0 | 0 |\n| 0 | 0 | 3 | 0 | 0 |\n| 0 | 0 | 0 | 4 | 0 |\n| 0 | 0 | 0 | 0 | 5 |\n\n\n$lista\n:   $a\n:   2025-07-09\n$b\n:   1. 'A'\n2. 'B'\n3. 'C'\n4. 'D'\n5. 'E'\n6. 'F'\n7. 'G'\n8. 'H'\n9. 'I'\n10. 'J'\n11. 'K'\n12. 'L'\n13. 'M'\n14. 'N'\n15. 'O'\n16. 'P'\n17. 'Q'\n18. 'R'\n19. 'S'\n20. 'T'\n21. 'U'\n22. 'V'\n23. 'W'\n24. 'X'\n25. 'Y'\n26. 'Z'\n\n\n\n\n\n\n$n1\n:   1. 1\n2. 2\n3. 3\n4. 4\n\n\n\n$n2\n:   'X'\n$n3\n:   \nA matrix: 2 × 2 of type int\n\n| 1 | 0 |\n| 0 | 2 |\n\n\n$values_lgl\n:   1. TRUE\n2. FALSE\n3. TRUE\n4. TRUE\n\n\n\n$values_lgl2\n:   1. TRUE\n2. FALSE\n3. TRUE\n4. FALSE\n\n\n\n\n\n",
            "text/latex": "\\begin{description}\n\\item[\\$num] \\begin{enumerate*}\n\\item 1\n\\item 2\n\\item 3\n\\item 4\n\\item 5\n\\end{enumerate*}\n\n\\item[\\$letra] 'X'\n\\item[\\$pl] \\begin{enumerate*}\n\\item 'hola'\n\\item 'buenas'\n\\item 'noches'\n\\end{enumerate*}\n\n\\item[\\$matriz] A matrix: 5 × 5 of type int\n\\begin{tabular}{lllll}\n\t 1 & 0 & 0 & 0 & 0\\\\\n\t 0 & 2 & 0 & 0 & 0\\\\\n\t 0 & 0 & 3 & 0 & 0\\\\\n\t 0 & 0 & 0 & 4 & 0\\\\\n\t 0 & 0 & 0 & 0 & 5\\\\\n\\end{tabular}\n\n\\item[\\$lista] \\begin{description}\n\\item[\\$a] 2025-07-09\n\\item[\\$b] \\begin{enumerate*}\n\\item 'A'\n\\item 'B'\n\\item 'C'\n\\item 'D'\n\\item 'E'\n\\item 'F'\n\\item 'G'\n\\item 'H'\n\\item 'I'\n\\item 'J'\n\\item 'K'\n\\item 'L'\n\\item 'M'\n\\item 'N'\n\\item 'O'\n\\item 'P'\n\\item 'Q'\n\\item 'R'\n\\item 'S'\n\\item 'T'\n\\item 'U'\n\\item 'V'\n\\item 'W'\n\\item 'X'\n\\item 'Y'\n\\item 'Z'\n\\end{enumerate*}\n\n\\end{description}\n\n\\item[\\$n1] \\begin{enumerate*}\n\\item 1\n\\item 2\n\\item 3\n\\item 4\n\\end{enumerate*}\n\n\\item[\\$n2] 'X'\n\\item[\\$n3] A matrix: 2 × 2 of type int\n\\begin{tabular}{ll}\n\t 1 & 0\\\\\n\t 0 & 2\\\\\n\\end{tabular}\n\n\\item[\\$values\\_lgl] \\begin{enumerate*}\n\\item TRUE\n\\item FALSE\n\\item TRUE\n\\item TRUE\n\\end{enumerate*}\n\n\\item[\\$values\\_lgl2] \\begin{enumerate*}\n\\item TRUE\n\\item FALSE\n\\item TRUE\n\\item FALSE\n\\end{enumerate*}\n\n\\end{description}\n",
            "text/plain": [
              "$num\n",
              "[1] 1 2 3 4 5\n",
              "\n",
              "$letra\n",
              "[1] \"X\"\n",
              "\n",
              "$pl\n",
              "[1] \"hola\"   \"buenas\" \"noches\"\n",
              "\n",
              "$matriz\n",
              "     [,1] [,2] [,3] [,4] [,5]\n",
              "[1,]    1    0    0    0    0\n",
              "[2,]    0    2    0    0    0\n",
              "[3,]    0    0    3    0    0\n",
              "[4,]    0    0    0    4    0\n",
              "[5,]    0    0    0    0    5\n",
              "\n",
              "$lista\n",
              "$lista$a\n",
              "[1] \"2025-07-09\"\n",
              "\n",
              "$lista$b\n",
              " [1] \"A\" \"B\" \"C\" \"D\" \"E\" \"F\" \"G\" \"H\" \"I\" \"J\" \"K\" \"L\" \"M\" \"N\" \"O\" \"P\" \"Q\" \"R\" \"S\"\n",
              "[20] \"T\" \"U\" \"V\" \"W\" \"X\" \"Y\" \"Z\"\n",
              "\n",
              "\n",
              "$n1\n",
              "[1] 1 2 3 4\n",
              "\n",
              "$n2\n",
              "[1] \"X\"\n",
              "\n",
              "$n3\n",
              "     [,1] [,2]\n",
              "[1,]    1    0\n",
              "[2,]    0    2\n",
              "\n",
              "$values_lgl\n",
              "[1]  TRUE FALSE  TRUE  TRUE\n",
              "\n",
              "$values_lgl2\n",
              "[1]  TRUE FALSE  TRUE FALSE\n"
            ]
          },
          "metadata": {}
        }
      ]
    },
    {
      "cell_type": "code",
      "source": [
        "l3$lista[[2]]"
      ],
      "metadata": {
        "id": "A8E7neyFhdBA",
        "outputId": "34f5652e-97d2-4ce3-844a-eee04ba7b64b",
        "colab": {
          "base_uri": "https://localhost:8080/",
          "height": 34
        }
      },
      "execution_count": 47,
      "outputs": [
        {
          "output_type": "display_data",
          "data": {
            "text/html": [
              "<style>\n",
              ".list-inline {list-style: none; margin:0; padding: 0}\n",
              ".list-inline>li {display: inline-block}\n",
              ".list-inline>li:not(:last-child)::after {content: \"\\00b7\"; padding: 0 .5ex}\n",
              "</style>\n",
              "<ol class=list-inline><li>'A'</li><li>'B'</li><li>'C'</li><li>'D'</li><li>'E'</li><li>'F'</li><li>'G'</li><li>'H'</li><li>'I'</li><li>'J'</li><li>'K'</li><li>'L'</li><li>'M'</li><li>'N'</li><li>'O'</li><li>'P'</li><li>'Q'</li><li>'R'</li><li>'S'</li><li>'T'</li><li>'U'</li><li>'V'</li><li>'W'</li><li>'X'</li><li>'Y'</li><li>'Z'</li></ol>\n"
            ],
            "text/markdown": "1. 'A'\n2. 'B'\n3. 'C'\n4. 'D'\n5. 'E'\n6. 'F'\n7. 'G'\n8. 'H'\n9. 'I'\n10. 'J'\n11. 'K'\n12. 'L'\n13. 'M'\n14. 'N'\n15. 'O'\n16. 'P'\n17. 'Q'\n18. 'R'\n19. 'S'\n20. 'T'\n21. 'U'\n22. 'V'\n23. 'W'\n24. 'X'\n25. 'Y'\n26. 'Z'\n\n\n",
            "text/latex": "\\begin{enumerate*}\n\\item 'A'\n\\item 'B'\n\\item 'C'\n\\item 'D'\n\\item 'E'\n\\item 'F'\n\\item 'G'\n\\item 'H'\n\\item 'I'\n\\item 'J'\n\\item 'K'\n\\item 'L'\n\\item 'M'\n\\item 'N'\n\\item 'O'\n\\item 'P'\n\\item 'Q'\n\\item 'R'\n\\item 'S'\n\\item 'T'\n\\item 'U'\n\\item 'V'\n\\item 'W'\n\\item 'X'\n\\item 'Y'\n\\item 'Z'\n\\end{enumerate*}\n",
            "text/plain": [
              " [1] \"A\" \"B\" \"C\" \"D\" \"E\" \"F\" \"G\" \"H\" \"I\" \"J\" \"K\" \"L\" \"M\" \"N\" \"O\" \"P\" \"Q\" \"R\" \"S\"\n",
              "[20] \"T\" \"U\" \"V\" \"W\" \"X\" \"Y\" \"Z\""
            ]
          },
          "metadata": {}
        }
      ]
    },
    {
      "cell_type": "code",
      "source": [
        "l3[[5]]$b"
      ],
      "metadata": {
        "id": "bRQ6Q72rhm7w",
        "outputId": "17f82fb5-7c75-436f-fe3d-10db5617fbd6",
        "colab": {
          "base_uri": "https://localhost:8080/",
          "height": 34
        }
      },
      "execution_count": 49,
      "outputs": [
        {
          "output_type": "display_data",
          "data": {
            "text/html": [
              "<style>\n",
              ".list-inline {list-style: none; margin:0; padding: 0}\n",
              ".list-inline>li {display: inline-block}\n",
              ".list-inline>li:not(:last-child)::after {content: \"\\00b7\"; padding: 0 .5ex}\n",
              "</style>\n",
              "<ol class=list-inline><li>'A'</li><li>'B'</li><li>'C'</li><li>'D'</li><li>'E'</li><li>'F'</li><li>'G'</li><li>'H'</li><li>'I'</li><li>'J'</li><li>'K'</li><li>'L'</li><li>'M'</li><li>'N'</li><li>'O'</li><li>'P'</li><li>'Q'</li><li>'R'</li><li>'S'</li><li>'T'</li><li>'U'</li><li>'V'</li><li>'W'</li><li>'X'</li><li>'Y'</li><li>'Z'</li></ol>\n"
            ],
            "text/markdown": "1. 'A'\n2. 'B'\n3. 'C'\n4. 'D'\n5. 'E'\n6. 'F'\n7. 'G'\n8. 'H'\n9. 'I'\n10. 'J'\n11. 'K'\n12. 'L'\n13. 'M'\n14. 'N'\n15. 'O'\n16. 'P'\n17. 'Q'\n18. 'R'\n19. 'S'\n20. 'T'\n21. 'U'\n22. 'V'\n23. 'W'\n24. 'X'\n25. 'Y'\n26. 'Z'\n\n\n",
            "text/latex": "\\begin{enumerate*}\n\\item 'A'\n\\item 'B'\n\\item 'C'\n\\item 'D'\n\\item 'E'\n\\item 'F'\n\\item 'G'\n\\item 'H'\n\\item 'I'\n\\item 'J'\n\\item 'K'\n\\item 'L'\n\\item 'M'\n\\item 'N'\n\\item 'O'\n\\item 'P'\n\\item 'Q'\n\\item 'R'\n\\item 'S'\n\\item 'T'\n\\item 'U'\n\\item 'V'\n\\item 'W'\n\\item 'X'\n\\item 'Y'\n\\item 'Z'\n\\end{enumerate*}\n",
            "text/plain": [
              " [1] \"A\" \"B\" \"C\" \"D\" \"E\" \"F\" \"G\" \"H\" \"I\" \"J\" \"K\" \"L\" \"M\" \"N\" \"O\" \"P\" \"Q\" \"R\" \"S\"\n",
              "[20] \"T\" \"U\" \"V\" \"W\" \"X\" \"Y\" \"Z\""
            ]
          },
          "metadata": {}
        }
      ]
    },
    {
      "cell_type": "code",
      "source": [
        "str(l3)"
      ],
      "metadata": {
        "id": "AX528n1-hsvx",
        "outputId": "678e5292-7c28-4740-f061-dbac9bae028f",
        "colab": {
          "base_uri": "https://localhost:8080/"
        }
      },
      "execution_count": 50,
      "outputs": [
        {
          "output_type": "stream",
          "name": "stdout",
          "text": [
            "List of 10\n",
            " $ num        : int [1:5] 1 2 3 4 5\n",
            " $ letra      : chr \"X\"\n",
            " $ pl         : chr [1:3] \"hola\" \"buenas\" \"noches\"\n",
            " $ matriz     : int [1:5, 1:5] 1 0 0 0 0 0 2 0 0 0 ...\n",
            " $ lista      :List of 2\n",
            "  ..$ a: Date[1:1], format: \"2025-07-09\"\n",
            "  ..$ b: chr [1:26] \"A\" \"B\" \"C\" \"D\" ...\n",
            " $ n1         : int [1:4] 1 2 3 4\n",
            " $ n2         : chr \"X\"\n",
            " $ n3         : int [1:2, 1:2] 1 0 0 2\n",
            " $ values_lgl : logi [1:4] TRUE FALSE TRUE TRUE\n",
            " $ values_lgl2: logi [1:4] TRUE FALSE TRUE FALSE\n"
          ]
        }
      ]
    },
    {
      "cell_type": "markdown",
      "metadata": {
        "id": "128wI4ZoTpSS"
      },
      "source": [
        "### 5.2 Dataframes\n",
        "\n",
        "Un dataframe es un caso particular de una lista, donde los objetos de cada entrada corresponden a vectores de datos del mismo largo. E este caso cada vector corresponde a una columna del data.frame, mientras que la cantidad de filas corresponde al largo común de los vectores de cada entrada. El objeto resultante es una *tabla*, de ahora en adelante *data.frame*, cuyas columnas poseen distintos tipos de datos entre sí.\n",
        "\n",
        " * ¿Cómo se declara un dataframe?<br>\n",
        "     Mediante la función data.frame(), indicando los vectores que conformarán las columnas.\n",
        "\n",
        " * ¿Cómo se accede a los datos de un data.frame?<br>\n",
        "    Al ser una lista, se puede acceder de la misma manera. Sin embargo también es posible acceder del modo en que se accede a los elementos de una matriz."
      ]
    },
    {
      "cell_type": "code",
      "metadata": {
        "trusted": true,
        "id": "qJ-2zVWVTpST"
      },
      "source": [
        "# 5.2 Dataframes ----------\n",
        "# Ejemplo sencillo de definición de un data.frame\n",
        "# recordar que 1:3 es lo mismo que c(10,20,30)\n",
        "\n",
        "df <- data.frame(id = c(10,20,30),\n",
        "                 nombre = c(\"Miguel\", \"Rodrigo\", \"Sol\"),\n",
        "                 edad = c(36,30, 25))\n"
      ],
      "execution_count": 58,
      "outputs": []
    },
    {
      "cell_type": "code",
      "source": [
        "class(df)"
      ],
      "metadata": {
        "id": "HBUqOSWCjFbD",
        "outputId": "a40cf8c7-f4a9-41ab-a766-33856781647b",
        "colab": {
          "base_uri": "https://localhost:8080/",
          "height": 34
        }
      },
      "execution_count": 52,
      "outputs": [
        {
          "output_type": "display_data",
          "data": {
            "text/html": [
              "'data.frame'"
            ],
            "text/markdown": "'data.frame'",
            "text/latex": "'data.frame'",
            "text/plain": [
              "[1] \"data.frame\""
            ]
          },
          "metadata": {}
        }
      ]
    },
    {
      "cell_type": "code",
      "source": [
        "str(df)"
      ],
      "metadata": {
        "id": "FD3itfF6jJnZ",
        "outputId": "4eb54095-9c30-41cb-8603-3b89951fdc73",
        "colab": {
          "base_uri": "https://localhost:8080/"
        }
      },
      "execution_count": 59,
      "outputs": [
        {
          "output_type": "stream",
          "name": "stdout",
          "text": [
            "'data.frame':\t3 obs. of  3 variables:\n",
            " $ id    : num  10 20 30\n",
            " $ nombre: chr  \"Miguel\" \"Rodrigo\" \"Sol\"\n",
            " $ edad  : num  36 30 25\n"
          ]
        }
      ]
    },
    {
      "cell_type": "code",
      "source": [
        "dim(df)"
      ],
      "metadata": {
        "id": "RmEad_6_jYuv",
        "outputId": "5637a27a-e418-4e2c-8551-9194bb0cdb8c",
        "colab": {
          "base_uri": "https://localhost:8080/",
          "height": 34
        }
      },
      "execution_count": 54,
      "outputs": [
        {
          "output_type": "display_data",
          "data": {
            "text/html": [
              "<style>\n",
              ".list-inline {list-style: none; margin:0; padding: 0}\n",
              ".list-inline>li {display: inline-block}\n",
              ".list-inline>li:not(:last-child)::after {content: \"\\00b7\"; padding: 0 .5ex}\n",
              "</style>\n",
              "<ol class=list-inline><li>3</li><li>3</li></ol>\n"
            ],
            "text/markdown": "1. 3\n2. 3\n\n\n",
            "text/latex": "\\begin{enumerate*}\n\\item 3\n\\item 3\n\\end{enumerate*}\n",
            "text/plain": [
              "[1] 3 3"
            ]
          },
          "metadata": {}
        }
      ]
    },
    {
      "cell_type": "code",
      "source": [
        "rownames(df)# ojo que no tiene nombres, pero por defecto nos retorna el vector con el número de fila."
      ],
      "metadata": {
        "id": "n861zKw6jdoY",
        "outputId": "158fb103-e114-4364-9a91-125e5da5f004",
        "colab": {
          "base_uri": "https://localhost:8080/",
          "height": 34
        }
      },
      "execution_count": 60,
      "outputs": [
        {
          "output_type": "display_data",
          "data": {
            "text/html": [
              "<style>\n",
              ".list-inline {list-style: none; margin:0; padding: 0}\n",
              ".list-inline>li {display: inline-block}\n",
              ".list-inline>li:not(:last-child)::after {content: \"\\00b7\"; padding: 0 .5ex}\n",
              "</style>\n",
              "<ol class=list-inline><li>'1'</li><li>'2'</li><li>'3'</li></ol>\n"
            ],
            "text/markdown": "1. '1'\n2. '2'\n3. '3'\n\n\n",
            "text/latex": "\\begin{enumerate*}\n\\item '1'\n\\item '2'\n\\item '3'\n\\end{enumerate*}\n",
            "text/plain": [
              "[1] \"1\" \"2\" \"3\""
            ]
          },
          "metadata": {}
        }
      ]
    },
    {
      "cell_type": "code",
      "source": [
        "colnames(df)\n",
        "names(df)"
      ],
      "metadata": {
        "id": "EE8qEFdmjqPs",
        "outputId": "0d67a5a1-fe6f-442b-ce43-62efb206449c",
        "colab": {
          "base_uri": "https://localhost:8080/",
          "height": 52
        }
      },
      "execution_count": 57,
      "outputs": [
        {
          "output_type": "display_data",
          "data": {
            "text/html": [
              "<style>\n",
              ".list-inline {list-style: none; margin:0; padding: 0}\n",
              ".list-inline>li {display: inline-block}\n",
              ".list-inline>li:not(:last-child)::after {content: \"\\00b7\"; padding: 0 .5ex}\n",
              "</style>\n",
              "<ol class=list-inline><li>'id'</li><li>'nombre'</li><li>'edad'</li></ol>\n"
            ],
            "text/markdown": "1. 'id'\n2. 'nombre'\n3. 'edad'\n\n\n",
            "text/latex": "\\begin{enumerate*}\n\\item 'id'\n\\item 'nombre'\n\\item 'edad'\n\\end{enumerate*}\n",
            "text/plain": [
              "[1] \"id\"     \"nombre\" \"edad\"  "
            ]
          },
          "metadata": {}
        },
        {
          "output_type": "display_data",
          "data": {
            "text/html": [
              "<style>\n",
              ".list-inline {list-style: none; margin:0; padding: 0}\n",
              ".list-inline>li {display: inline-block}\n",
              ".list-inline>li:not(:last-child)::after {content: \"\\00b7\"; padding: 0 .5ex}\n",
              "</style>\n",
              "<ol class=list-inline><li>'id'</li><li>'nombre'</li><li>'edad'</li></ol>\n"
            ],
            "text/markdown": "1. 'id'\n2. 'nombre'\n3. 'edad'\n\n\n",
            "text/latex": "\\begin{enumerate*}\n\\item 'id'\n\\item 'nombre'\n\\item 'edad'\n\\end{enumerate*}\n",
            "text/plain": [
              "[1] \"id\"     \"nombre\" \"edad\"  "
            ]
          },
          "metadata": {}
        }
      ]
    },
    {
      "cell_type": "code",
      "source": [
        "df"
      ],
      "metadata": {
        "id": "F8iAGingkCdJ",
        "outputId": "12d47dc8-939a-45da-d6e4-a0c86d423c7d",
        "colab": {
          "base_uri": "https://localhost:8080/",
          "height": 192
        }
      },
      "execution_count": 61,
      "outputs": [
        {
          "output_type": "display_data",
          "data": {
            "text/html": [
              "<table class=\"dataframe\">\n",
              "<caption>A data.frame: 3 × 3</caption>\n",
              "<thead>\n",
              "\t<tr><th scope=col>id</th><th scope=col>nombre</th><th scope=col>edad</th></tr>\n",
              "\t<tr><th scope=col>&lt;dbl&gt;</th><th scope=col>&lt;chr&gt;</th><th scope=col>&lt;dbl&gt;</th></tr>\n",
              "</thead>\n",
              "<tbody>\n",
              "\t<tr><td>10</td><td>Miguel </td><td>36</td></tr>\n",
              "\t<tr><td>20</td><td>Rodrigo</td><td>30</td></tr>\n",
              "\t<tr><td>30</td><td>Sol    </td><td>25</td></tr>\n",
              "</tbody>\n",
              "</table>\n"
            ],
            "text/markdown": "\nA data.frame: 3 × 3\n\n| id &lt;dbl&gt; | nombre &lt;chr&gt; | edad &lt;dbl&gt; |\n|---|---|---|\n| 10 | Miguel  | 36 |\n| 20 | Rodrigo | 30 |\n| 30 | Sol     | 25 |\n\n",
            "text/latex": "A data.frame: 3 × 3\n\\begin{tabular}{lll}\n id & nombre & edad\\\\\n <dbl> & <chr> & <dbl>\\\\\n\\hline\n\t 10 & Miguel  & 36\\\\\n\t 20 & Rodrigo & 30\\\\\n\t 30 & Sol     & 25\\\\\n\\end{tabular}\n",
            "text/plain": [
              "  id nombre  edad\n",
              "1 10 Miguel  36  \n",
              "2 20 Rodrigo 30  \n",
              "3 30 Sol     25  "
            ]
          },
          "metadata": {}
        }
      ]
    },
    {
      "cell_type": "code",
      "metadata": {
        "trusted": true,
        "id": "nv7stC8ITpSY",
        "outputId": "4a27d480-8ae3-4561-da1b-e1ae1580fdcd",
        "colab": {
          "base_uri": "https://localhost:8080/",
          "height": 69
        }
      },
      "source": [
        "# Acceso a columnas de un data.frame\n",
        "## Igual que en una lista\n",
        "df$nombre\n",
        "df[[\"nombre\"]]\n",
        "df[[2]]"
      ],
      "execution_count": 64,
      "outputs": [
        {
          "output_type": "display_data",
          "data": {
            "text/html": [
              "<style>\n",
              ".list-inline {list-style: none; margin:0; padding: 0}\n",
              ".list-inline>li {display: inline-block}\n",
              ".list-inline>li:not(:last-child)::after {content: \"\\00b7\"; padding: 0 .5ex}\n",
              "</style>\n",
              "<ol class=list-inline><li>'Miguel'</li><li>'Rodrigo'</li><li>'Sol'</li></ol>\n"
            ],
            "text/markdown": "1. 'Miguel'\n2. 'Rodrigo'\n3. 'Sol'\n\n\n",
            "text/latex": "\\begin{enumerate*}\n\\item 'Miguel'\n\\item 'Rodrigo'\n\\item 'Sol'\n\\end{enumerate*}\n",
            "text/plain": [
              "[1] \"Miguel\"  \"Rodrigo\" \"Sol\"    "
            ]
          },
          "metadata": {}
        },
        {
          "output_type": "display_data",
          "data": {
            "text/html": [
              "<style>\n",
              ".list-inline {list-style: none; margin:0; padding: 0}\n",
              ".list-inline>li {display: inline-block}\n",
              ".list-inline>li:not(:last-child)::after {content: \"\\00b7\"; padding: 0 .5ex}\n",
              "</style>\n",
              "<ol class=list-inline><li>'Miguel'</li><li>'Rodrigo'</li><li>'Sol'</li></ol>\n"
            ],
            "text/markdown": "1. 'Miguel'\n2. 'Rodrigo'\n3. 'Sol'\n\n\n",
            "text/latex": "\\begin{enumerate*}\n\\item 'Miguel'\n\\item 'Rodrigo'\n\\item 'Sol'\n\\end{enumerate*}\n",
            "text/plain": [
              "[1] \"Miguel\"  \"Rodrigo\" \"Sol\"    "
            ]
          },
          "metadata": {}
        },
        {
          "output_type": "display_data",
          "data": {
            "text/html": [
              "<style>\n",
              ".list-inline {list-style: none; margin:0; padding: 0}\n",
              ".list-inline>li {display: inline-block}\n",
              ".list-inline>li:not(:last-child)::after {content: \"\\00b7\"; padding: 0 .5ex}\n",
              "</style>\n",
              "<ol class=list-inline><li>'Miguel'</li><li>'Rodrigo'</li><li>'Sol'</li></ol>\n"
            ],
            "text/markdown": "1. 'Miguel'\n2. 'Rodrigo'\n3. 'Sol'\n\n\n",
            "text/latex": "\\begin{enumerate*}\n\\item 'Miguel'\n\\item 'Rodrigo'\n\\item 'Sol'\n\\end{enumerate*}\n",
            "text/plain": [
              "[1] \"Miguel\"  \"Rodrigo\" \"Sol\"    "
            ]
          },
          "metadata": {}
        }
      ]
    },
    {
      "cell_type": "code",
      "metadata": {
        "trusted": true,
        "id": "3t6_J3BHTpSb",
        "outputId": "fe9095d4-6ac4-4ecc-9f53-44382152cd9a",
        "colab": {
          "base_uri": "https://localhost:8080/",
          "height": 436
        }
      },
      "source": [
        "# OJO:\n",
        "df[\"nombre\"] # Replica el comportamiento en listas, es decir, esto retorna un dataframe con el vector (objeto)\n",
        "df[2]"
      ],
      "execution_count": 66,
      "outputs": [
        {
          "output_type": "display_data",
          "data": {
            "text/html": [
              "<table class=\"dataframe\">\n",
              "<caption>A data.frame: 3 × 1</caption>\n",
              "<thead>\n",
              "\t<tr><th scope=col>nombre</th></tr>\n",
              "\t<tr><th scope=col>&lt;chr&gt;</th></tr>\n",
              "</thead>\n",
              "<tbody>\n",
              "\t<tr><td>Miguel </td></tr>\n",
              "\t<tr><td>Rodrigo</td></tr>\n",
              "\t<tr><td>Sol    </td></tr>\n",
              "</tbody>\n",
              "</table>\n"
            ],
            "text/markdown": "\nA data.frame: 3 × 1\n\n| nombre &lt;chr&gt; |\n|---|\n| Miguel  |\n| Rodrigo |\n| Sol     |\n\n",
            "text/latex": "A data.frame: 3 × 1\n\\begin{tabular}{l}\n nombre\\\\\n <chr>\\\\\n\\hline\n\t Miguel \\\\\n\t Rodrigo\\\\\n\t Sol    \\\\\n\\end{tabular}\n",
            "text/plain": [
              "  nombre \n",
              "1 Miguel \n",
              "2 Rodrigo\n",
              "3 Sol    "
            ]
          },
          "metadata": {}
        },
        {
          "output_type": "display_data",
          "data": {
            "text/html": [
              "<table class=\"dataframe\">\n",
              "<caption>A data.frame: 3 × 1</caption>\n",
              "<thead>\n",
              "\t<tr><th scope=col>nombre</th></tr>\n",
              "\t<tr><th scope=col>&lt;chr&gt;</th></tr>\n",
              "</thead>\n",
              "<tbody>\n",
              "\t<tr><td>Miguel </td></tr>\n",
              "\t<tr><td>Rodrigo</td></tr>\n",
              "\t<tr><td>Sol    </td></tr>\n",
              "</tbody>\n",
              "</table>\n"
            ],
            "text/markdown": "\nA data.frame: 3 × 1\n\n| nombre &lt;chr&gt; |\n|---|\n| Miguel  |\n| Rodrigo |\n| Sol     |\n\n",
            "text/latex": "A data.frame: 3 × 1\n\\begin{tabular}{l}\n nombre\\\\\n <chr>\\\\\n\\hline\n\t Miguel \\\\\n\t Rodrigo\\\\\n\t Sol    \\\\\n\\end{tabular}\n",
            "text/plain": [
              "  nombre \n",
              "1 Miguel \n",
              "2 Rodrigo\n",
              "3 Sol    "
            ]
          },
          "metadata": {}
        }
      ]
    },
    {
      "cell_type": "code",
      "source": [
        "df"
      ],
      "metadata": {
        "id": "abhUyAXJlAbB",
        "outputId": "c82e14ad-28f9-4a10-d7eb-22957747d9b6",
        "colab": {
          "base_uri": "https://localhost:8080/",
          "height": 192
        }
      },
      "execution_count": 68,
      "outputs": [
        {
          "output_type": "display_data",
          "data": {
            "text/html": [
              "<table class=\"dataframe\">\n",
              "<caption>A data.frame: 3 × 3</caption>\n",
              "<thead>\n",
              "\t<tr><th scope=col>id</th><th scope=col>nombre</th><th scope=col>edad</th></tr>\n",
              "\t<tr><th scope=col>&lt;dbl&gt;</th><th scope=col>&lt;chr&gt;</th><th scope=col>&lt;dbl&gt;</th></tr>\n",
              "</thead>\n",
              "<tbody>\n",
              "\t<tr><td>10</td><td>Miguel </td><td>36</td></tr>\n",
              "\t<tr><td>20</td><td>Rodrigo</td><td>30</td></tr>\n",
              "\t<tr><td>30</td><td>Sol    </td><td>25</td></tr>\n",
              "</tbody>\n",
              "</table>\n"
            ],
            "text/markdown": "\nA data.frame: 3 × 3\n\n| id &lt;dbl&gt; | nombre &lt;chr&gt; | edad &lt;dbl&gt; |\n|---|---|---|\n| 10 | Miguel  | 36 |\n| 20 | Rodrigo | 30 |\n| 30 | Sol     | 25 |\n\n",
            "text/latex": "A data.frame: 3 × 3\n\\begin{tabular}{lll}\n id & nombre & edad\\\\\n <dbl> & <chr> & <dbl>\\\\\n\\hline\n\t 10 & Miguel  & 36\\\\\n\t 20 & Rodrigo & 30\\\\\n\t 30 & Sol     & 25\\\\\n\\end{tabular}\n",
            "text/plain": [
              "  id nombre  edad\n",
              "1 10 Miguel  36  \n",
              "2 20 Rodrigo 30  \n",
              "3 30 Sol     25  "
            ]
          },
          "metadata": {}
        }
      ]
    },
    {
      "cell_type": "code",
      "metadata": {
        "trusted": true,
        "id": "CojdmEs9TpSd",
        "outputId": "2379e1b9-5064-487e-cfe0-34bd82a7d8ba",
        "colab": {
          "base_uri": "https://localhost:8080/",
          "height": 164
        }
      },
      "source": [
        "##  Ganamos acceso como matriz\n",
        "# segunda fila de df\n",
        "df[2,]\n",
        "\n",
        "# segunda columna y segunda fila\n",
        "df[2,\"nombre\"]\n",
        "df[2,2]\n",
        "\n"
      ],
      "execution_count": 69,
      "outputs": [
        {
          "output_type": "display_data",
          "data": {
            "text/html": [
              "<table class=\"dataframe\">\n",
              "<caption>A data.frame: 1 × 3</caption>\n",
              "<thead>\n",
              "\t<tr><th></th><th scope=col>id</th><th scope=col>nombre</th><th scope=col>edad</th></tr>\n",
              "\t<tr><th></th><th scope=col>&lt;dbl&gt;</th><th scope=col>&lt;chr&gt;</th><th scope=col>&lt;dbl&gt;</th></tr>\n",
              "</thead>\n",
              "<tbody>\n",
              "\t<tr><th scope=row>2</th><td>20</td><td>Rodrigo</td><td>30</td></tr>\n",
              "</tbody>\n",
              "</table>\n"
            ],
            "text/markdown": "\nA data.frame: 1 × 3\n\n| <!--/--> | id &lt;dbl&gt; | nombre &lt;chr&gt; | edad &lt;dbl&gt; |\n|---|---|---|---|\n| 2 | 20 | Rodrigo | 30 |\n\n",
            "text/latex": "A data.frame: 1 × 3\n\\begin{tabular}{r|lll}\n  & id & nombre & edad\\\\\n  & <dbl> & <chr> & <dbl>\\\\\n\\hline\n\t2 & 20 & Rodrigo & 30\\\\\n\\end{tabular}\n",
            "text/plain": [
              "  id nombre  edad\n",
              "2 20 Rodrigo 30  "
            ]
          },
          "metadata": {}
        },
        {
          "output_type": "display_data",
          "data": {
            "text/html": [
              "'Rodrigo'"
            ],
            "text/markdown": "'Rodrigo'",
            "text/latex": "'Rodrigo'",
            "text/plain": [
              "[1] \"Rodrigo\""
            ]
          },
          "metadata": {}
        },
        {
          "output_type": "display_data",
          "data": {
            "text/html": [
              "'Rodrigo'"
            ],
            "text/markdown": "'Rodrigo'",
            "text/latex": "'Rodrigo'",
            "text/plain": [
              "[1] \"Rodrigo\""
            ]
          },
          "metadata": {}
        }
      ]
    },
    {
      "cell_type": "code",
      "metadata": {
        "trusted": true,
        "id": "FgD5Q8hFTpSf"
      },
      "source": [
        "#Podemos crear nuevas columnas , del mismmo modo que creamos \"slots\" en una lista\n",
        "df$tiene_mascota <- c(F,T,F)\n"
      ],
      "execution_count": 71,
      "outputs": []
    },
    {
      "cell_type": "code",
      "source": [
        "df"
      ],
      "metadata": {
        "id": "sSfHg7dTliCu",
        "outputId": "67883e96-109b-486f-bbb2-2d4267d7f203",
        "colab": {
          "base_uri": "https://localhost:8080/",
          "height": 192
        }
      },
      "execution_count": 72,
      "outputs": [
        {
          "output_type": "display_data",
          "data": {
            "text/html": [
              "<table class=\"dataframe\">\n",
              "<caption>A data.frame: 3 × 4</caption>\n",
              "<thead>\n",
              "\t<tr><th scope=col>id</th><th scope=col>nombre</th><th scope=col>edad</th><th scope=col>tiene_mascota</th></tr>\n",
              "\t<tr><th scope=col>&lt;dbl&gt;</th><th scope=col>&lt;chr&gt;</th><th scope=col>&lt;dbl&gt;</th><th scope=col>&lt;lgl&gt;</th></tr>\n",
              "</thead>\n",
              "<tbody>\n",
              "\t<tr><td>10</td><td>Miguel </td><td>36</td><td>FALSE</td></tr>\n",
              "\t<tr><td>20</td><td>Rodrigo</td><td>30</td><td> TRUE</td></tr>\n",
              "\t<tr><td>30</td><td>Sol    </td><td>25</td><td>FALSE</td></tr>\n",
              "</tbody>\n",
              "</table>\n"
            ],
            "text/markdown": "\nA data.frame: 3 × 4\n\n| id &lt;dbl&gt; | nombre &lt;chr&gt; | edad &lt;dbl&gt; | tiene_mascota &lt;lgl&gt; |\n|---|---|---|---|\n| 10 | Miguel  | 36 | FALSE |\n| 20 | Rodrigo | 30 |  TRUE |\n| 30 | Sol     | 25 | FALSE |\n\n",
            "text/latex": "A data.frame: 3 × 4\n\\begin{tabular}{llll}\n id & nombre & edad & tiene\\_mascota\\\\\n <dbl> & <chr> & <dbl> & <lgl>\\\\\n\\hline\n\t 10 & Miguel  & 36 & FALSE\\\\\n\t 20 & Rodrigo & 30 &  TRUE\\\\\n\t 30 & Sol     & 25 & FALSE\\\\\n\\end{tabular}\n",
            "text/plain": [
              "  id nombre  edad tiene_mascota\n",
              "1 10 Miguel  36   FALSE        \n",
              "2 20 Rodrigo 30    TRUE        \n",
              "3 30 Sol     25   FALSE        "
            ]
          },
          "metadata": {}
        }
      ]
    },
    {
      "cell_type": "code",
      "source": [
        "df[[\"nacionalidad\"]] <- \"CL\""
      ],
      "metadata": {
        "id": "YQr7rtU0lk6I"
      },
      "execution_count": 73,
      "outputs": []
    },
    {
      "cell_type": "code",
      "source": [
        "df"
      ],
      "metadata": {
        "id": "JLSEBLSNl2SZ",
        "outputId": "217c9a7d-3e2a-4932-f8b6-6769cdb5a67b",
        "colab": {
          "base_uri": "https://localhost:8080/",
          "height": 192
        }
      },
      "execution_count": 74,
      "outputs": [
        {
          "output_type": "display_data",
          "data": {
            "text/html": [
              "<table class=\"dataframe\">\n",
              "<caption>A data.frame: 3 × 5</caption>\n",
              "<thead>\n",
              "\t<tr><th scope=col>id</th><th scope=col>nombre</th><th scope=col>edad</th><th scope=col>tiene_mascota</th><th scope=col>nacionalidad</th></tr>\n",
              "\t<tr><th scope=col>&lt;dbl&gt;</th><th scope=col>&lt;chr&gt;</th><th scope=col>&lt;dbl&gt;</th><th scope=col>&lt;lgl&gt;</th><th scope=col>&lt;chr&gt;</th></tr>\n",
              "</thead>\n",
              "<tbody>\n",
              "\t<tr><td>10</td><td>Miguel </td><td>36</td><td>FALSE</td><td>CL</td></tr>\n",
              "\t<tr><td>20</td><td>Rodrigo</td><td>30</td><td> TRUE</td><td>CL</td></tr>\n",
              "\t<tr><td>30</td><td>Sol    </td><td>25</td><td>FALSE</td><td>CL</td></tr>\n",
              "</tbody>\n",
              "</table>\n"
            ],
            "text/markdown": "\nA data.frame: 3 × 5\n\n| id &lt;dbl&gt; | nombre &lt;chr&gt; | edad &lt;dbl&gt; | tiene_mascota &lt;lgl&gt; | nacionalidad &lt;chr&gt; |\n|---|---|---|---|---|\n| 10 | Miguel  | 36 | FALSE | CL |\n| 20 | Rodrigo | 30 |  TRUE | CL |\n| 30 | Sol     | 25 | FALSE | CL |\n\n",
            "text/latex": "A data.frame: 3 × 5\n\\begin{tabular}{lllll}\n id & nombre & edad & tiene\\_mascota & nacionalidad\\\\\n <dbl> & <chr> & <dbl> & <lgl> & <chr>\\\\\n\\hline\n\t 10 & Miguel  & 36 & FALSE & CL\\\\\n\t 20 & Rodrigo & 30 &  TRUE & CL\\\\\n\t 30 & Sol     & 25 & FALSE & CL\\\\\n\\end{tabular}\n",
            "text/plain": [
              "  id nombre  edad tiene_mascota nacionalidad\n",
              "1 10 Miguel  36   FALSE         CL          \n",
              "2 20 Rodrigo 30    TRUE         CL          \n",
              "3 30 Sol     25   FALSE         CL          "
            ]
          },
          "metadata": {}
        }
      ]
    },
    {
      "cell_type": "code",
      "source": [],
      "metadata": {
        "id": "eistAntpl900"
      },
      "execution_count": null,
      "outputs": []
    },
    {
      "cell_type": "code",
      "metadata": {
        "trusted": true,
        "id": "LcNQ5JHVTpSh",
        "outputId": "a8d32357-a34e-411f-b304-7a0faa345b45",
        "colab": {
          "base_uri": "https://localhost:8080/",
          "height": 401
        }
      },
      "source": [
        "# podemos seleccionar más de una columna a la vez. Ej: seleccionar col1y col3\n",
        "# Pensamos como si el objeto fuese una matriz\n",
        "df[,c(1,3)]\n",
        "df[,c(\"id\",\"nombre\")]# Referenciando el nombre de las columnas\n",
        "\n"
      ],
      "execution_count": 75,
      "outputs": [
        {
          "output_type": "display_data",
          "data": {
            "text/html": [
              "<table class=\"dataframe\">\n",
              "<caption>A data.frame: 3 × 2</caption>\n",
              "<thead>\n",
              "\t<tr><th scope=col>id</th><th scope=col>edad</th></tr>\n",
              "\t<tr><th scope=col>&lt;dbl&gt;</th><th scope=col>&lt;dbl&gt;</th></tr>\n",
              "</thead>\n",
              "<tbody>\n",
              "\t<tr><td>10</td><td>36</td></tr>\n",
              "\t<tr><td>20</td><td>30</td></tr>\n",
              "\t<tr><td>30</td><td>25</td></tr>\n",
              "</tbody>\n",
              "</table>\n"
            ],
            "text/markdown": "\nA data.frame: 3 × 2\n\n| id &lt;dbl&gt; | edad &lt;dbl&gt; |\n|---|---|\n| 10 | 36 |\n| 20 | 30 |\n| 30 | 25 |\n\n",
            "text/latex": "A data.frame: 3 × 2\n\\begin{tabular}{ll}\n id & edad\\\\\n <dbl> & <dbl>\\\\\n\\hline\n\t 10 & 36\\\\\n\t 20 & 30\\\\\n\t 30 & 25\\\\\n\\end{tabular}\n",
            "text/plain": [
              "  id edad\n",
              "1 10 36  \n",
              "2 20 30  \n",
              "3 30 25  "
            ]
          },
          "metadata": {}
        },
        {
          "output_type": "display_data",
          "data": {
            "text/html": [
              "<table class=\"dataframe\">\n",
              "<caption>A data.frame: 3 × 2</caption>\n",
              "<thead>\n",
              "\t<tr><th scope=col>id</th><th scope=col>nombre</th></tr>\n",
              "\t<tr><th scope=col>&lt;dbl&gt;</th><th scope=col>&lt;chr&gt;</th></tr>\n",
              "</thead>\n",
              "<tbody>\n",
              "\t<tr><td>10</td><td>Miguel </td></tr>\n",
              "\t<tr><td>20</td><td>Rodrigo</td></tr>\n",
              "\t<tr><td>30</td><td>Sol    </td></tr>\n",
              "</tbody>\n",
              "</table>\n"
            ],
            "text/markdown": "\nA data.frame: 3 × 2\n\n| id &lt;dbl&gt; | nombre &lt;chr&gt; |\n|---|---|\n| 10 | Miguel  |\n| 20 | Rodrigo |\n| 30 | Sol     |\n\n",
            "text/latex": "A data.frame: 3 × 2\n\\begin{tabular}{ll}\n id & nombre\\\\\n <dbl> & <chr>\\\\\n\\hline\n\t 10 & Miguel \\\\\n\t 20 & Rodrigo\\\\\n\t 30 & Sol    \\\\\n\\end{tabular}\n",
            "text/plain": [
              "  id nombre \n",
              "1 10 Miguel \n",
              "2 20 Rodrigo\n",
              "3 30 Sol    "
            ]
          },
          "metadata": {}
        }
      ]
    },
    {
      "cell_type": "code",
      "source": [
        "# Pensando como si el objeto fuese una lista\n",
        "df[c(1,3)]\n",
        "df[c(\"id\",\"nombre\")]"
      ],
      "metadata": {
        "id": "QcqYyZTCmsjv",
        "outputId": "074df19b-43e5-4aed-da9b-65bfb77b32f6",
        "colab": {
          "base_uri": "https://localhost:8080/",
          "height": 401
        }
      },
      "execution_count": 76,
      "outputs": [
        {
          "output_type": "display_data",
          "data": {
            "text/html": [
              "<table class=\"dataframe\">\n",
              "<caption>A data.frame: 3 × 2</caption>\n",
              "<thead>\n",
              "\t<tr><th scope=col>id</th><th scope=col>edad</th></tr>\n",
              "\t<tr><th scope=col>&lt;dbl&gt;</th><th scope=col>&lt;dbl&gt;</th></tr>\n",
              "</thead>\n",
              "<tbody>\n",
              "\t<tr><td>10</td><td>36</td></tr>\n",
              "\t<tr><td>20</td><td>30</td></tr>\n",
              "\t<tr><td>30</td><td>25</td></tr>\n",
              "</tbody>\n",
              "</table>\n"
            ],
            "text/markdown": "\nA data.frame: 3 × 2\n\n| id &lt;dbl&gt; | edad &lt;dbl&gt; |\n|---|---|\n| 10 | 36 |\n| 20 | 30 |\n| 30 | 25 |\n\n",
            "text/latex": "A data.frame: 3 × 2\n\\begin{tabular}{ll}\n id & edad\\\\\n <dbl> & <dbl>\\\\\n\\hline\n\t 10 & 36\\\\\n\t 20 & 30\\\\\n\t 30 & 25\\\\\n\\end{tabular}\n",
            "text/plain": [
              "  id edad\n",
              "1 10 36  \n",
              "2 20 30  \n",
              "3 30 25  "
            ]
          },
          "metadata": {}
        },
        {
          "output_type": "display_data",
          "data": {
            "text/html": [
              "<table class=\"dataframe\">\n",
              "<caption>A data.frame: 3 × 2</caption>\n",
              "<thead>\n",
              "\t<tr><th scope=col>id</th><th scope=col>nombre</th></tr>\n",
              "\t<tr><th scope=col>&lt;dbl&gt;</th><th scope=col>&lt;chr&gt;</th></tr>\n",
              "</thead>\n",
              "<tbody>\n",
              "\t<tr><td>10</td><td>Miguel </td></tr>\n",
              "\t<tr><td>20</td><td>Rodrigo</td></tr>\n",
              "\t<tr><td>30</td><td>Sol    </td></tr>\n",
              "</tbody>\n",
              "</table>\n"
            ],
            "text/markdown": "\nA data.frame: 3 × 2\n\n| id &lt;dbl&gt; | nombre &lt;chr&gt; |\n|---|---|\n| 10 | Miguel  |\n| 20 | Rodrigo |\n| 30 | Sol     |\n\n",
            "text/latex": "A data.frame: 3 × 2\n\\begin{tabular}{ll}\n id & nombre\\\\\n <dbl> & <chr>\\\\\n\\hline\n\t 10 & Miguel \\\\\n\t 20 & Rodrigo\\\\\n\t 30 & Sol    \\\\\n\\end{tabular}\n",
            "text/plain": [
              "  id nombre \n",
              "1 10 Miguel \n",
              "2 20 Rodrigo\n",
              "3 30 Sol    "
            ]
          },
          "metadata": {}
        }
      ]
    },
    {
      "cell_type": "code",
      "metadata": {
        "trusted": true,
        "id": "NHtO3MHwTpSj",
        "outputId": "c9fd4160-13f7-4404-99fe-34260c1bcb85",
        "colab": {
          "base_uri": "https://localhost:8080/",
          "height": 34
        }
      },
      "source": [
        "# Consultas\n",
        "df$edad >= 30"
      ],
      "execution_count": 79,
      "outputs": [
        {
          "output_type": "display_data",
          "data": {
            "text/html": [
              "<style>\n",
              ".list-inline {list-style: none; margin:0; padding: 0}\n",
              ".list-inline>li {display: inline-block}\n",
              ".list-inline>li:not(:last-child)::after {content: \"\\00b7\"; padding: 0 .5ex}\n",
              "</style>\n",
              "<ol class=list-inline><li>TRUE</li><li>TRUE</li><li>FALSE</li></ol>\n"
            ],
            "text/markdown": "1. TRUE\n2. TRUE\n3. FALSE\n\n\n",
            "text/latex": "\\begin{enumerate*}\n\\item TRUE\n\\item TRUE\n\\item FALSE\n\\end{enumerate*}\n",
            "text/plain": [
              "[1]  TRUE  TRUE FALSE"
            ]
          },
          "metadata": {}
        }
      ]
    },
    {
      "cell_type": "code",
      "source": [
        "df[df$edad >= 30,]"
      ],
      "metadata": {
        "id": "EYhHMoAKnFd4",
        "outputId": "e77b09d8-d9ac-47dc-e431-97bb558c735d",
        "colab": {
          "base_uri": "https://localhost:8080/",
          "height": 160
        }
      },
      "execution_count": 80,
      "outputs": [
        {
          "output_type": "display_data",
          "data": {
            "text/html": [
              "<table class=\"dataframe\">\n",
              "<caption>A data.frame: 2 × 5</caption>\n",
              "<thead>\n",
              "\t<tr><th></th><th scope=col>id</th><th scope=col>nombre</th><th scope=col>edad</th><th scope=col>tiene_mascota</th><th scope=col>nacionalidad</th></tr>\n",
              "\t<tr><th></th><th scope=col>&lt;dbl&gt;</th><th scope=col>&lt;chr&gt;</th><th scope=col>&lt;dbl&gt;</th><th scope=col>&lt;lgl&gt;</th><th scope=col>&lt;chr&gt;</th></tr>\n",
              "</thead>\n",
              "<tbody>\n",
              "\t<tr><th scope=row>1</th><td>10</td><td>Miguel </td><td>36</td><td>FALSE</td><td>CL</td></tr>\n",
              "\t<tr><th scope=row>2</th><td>20</td><td>Rodrigo</td><td>30</td><td> TRUE</td><td>CL</td></tr>\n",
              "</tbody>\n",
              "</table>\n"
            ],
            "text/markdown": "\nA data.frame: 2 × 5\n\n| <!--/--> | id &lt;dbl&gt; | nombre &lt;chr&gt; | edad &lt;dbl&gt; | tiene_mascota &lt;lgl&gt; | nacionalidad &lt;chr&gt; |\n|---|---|---|---|---|---|\n| 1 | 10 | Miguel  | 36 | FALSE | CL |\n| 2 | 20 | Rodrigo | 30 |  TRUE | CL |\n\n",
            "text/latex": "A data.frame: 2 × 5\n\\begin{tabular}{r|lllll}\n  & id & nombre & edad & tiene\\_mascota & nacionalidad\\\\\n  & <dbl> & <chr> & <dbl> & <lgl> & <chr>\\\\\n\\hline\n\t1 & 10 & Miguel  & 36 & FALSE & CL\\\\\n\t2 & 20 & Rodrigo & 30 &  TRUE & CL\\\\\n\\end{tabular}\n",
            "text/plain": [
              "  id nombre  edad tiene_mascota nacionalidad\n",
              "1 10 Miguel  36   FALSE         CL          \n",
              "2 20 Rodrigo 30    TRUE         CL          "
            ]
          },
          "metadata": {}
        }
      ]
    },
    {
      "cell_type": "code",
      "source": [
        "df[[\"edad\"]] >= 30"
      ],
      "metadata": {
        "id": "GA5vrv2Pn6o0",
        "outputId": "3ea22e13-2607-4bd4-d329-f0b3eafc55e4",
        "colab": {
          "base_uri": "https://localhost:8080/",
          "height": 34
        }
      },
      "execution_count": 81,
      "outputs": [
        {
          "output_type": "display_data",
          "data": {
            "text/html": [
              "<style>\n",
              ".list-inline {list-style: none; margin:0; padding: 0}\n",
              ".list-inline>li {display: inline-block}\n",
              ".list-inline>li:not(:last-child)::after {content: \"\\00b7\"; padding: 0 .5ex}\n",
              "</style>\n",
              "<ol class=list-inline><li>TRUE</li><li>TRUE</li><li>FALSE</li></ol>\n"
            ],
            "text/markdown": "1. TRUE\n2. TRUE\n3. FALSE\n\n\n",
            "text/latex": "\\begin{enumerate*}\n\\item TRUE\n\\item TRUE\n\\item FALSE\n\\end{enumerate*}\n",
            "text/plain": [
              "[1]  TRUE  TRUE FALSE"
            ]
          },
          "metadata": {}
        }
      ]
    },
    {
      "cell_type": "code",
      "source": [
        "# Son equivalentes\n",
        "df[df$edad >= 30,]\n",
        "df[df[[\"edad\"]] >= 30,]"
      ],
      "metadata": {
        "id": "qgeeiWc0oFmz",
        "outputId": "4f88c6da-f7dd-422a-b038-a20d8327566d",
        "colab": {
          "base_uri": "https://localhost:8080/",
          "height": 304
        }
      },
      "execution_count": 82,
      "outputs": [
        {
          "output_type": "display_data",
          "data": {
            "text/html": [
              "<table class=\"dataframe\">\n",
              "<caption>A data.frame: 2 × 5</caption>\n",
              "<thead>\n",
              "\t<tr><th></th><th scope=col>id</th><th scope=col>nombre</th><th scope=col>edad</th><th scope=col>tiene_mascota</th><th scope=col>nacionalidad</th></tr>\n",
              "\t<tr><th></th><th scope=col>&lt;dbl&gt;</th><th scope=col>&lt;chr&gt;</th><th scope=col>&lt;dbl&gt;</th><th scope=col>&lt;lgl&gt;</th><th scope=col>&lt;chr&gt;</th></tr>\n",
              "</thead>\n",
              "<tbody>\n",
              "\t<tr><th scope=row>1</th><td>10</td><td>Miguel </td><td>36</td><td>FALSE</td><td>CL</td></tr>\n",
              "\t<tr><th scope=row>2</th><td>20</td><td>Rodrigo</td><td>30</td><td> TRUE</td><td>CL</td></tr>\n",
              "</tbody>\n",
              "</table>\n"
            ],
            "text/markdown": "\nA data.frame: 2 × 5\n\n| <!--/--> | id &lt;dbl&gt; | nombre &lt;chr&gt; | edad &lt;dbl&gt; | tiene_mascota &lt;lgl&gt; | nacionalidad &lt;chr&gt; |\n|---|---|---|---|---|---|\n| 1 | 10 | Miguel  | 36 | FALSE | CL |\n| 2 | 20 | Rodrigo | 30 |  TRUE | CL |\n\n",
            "text/latex": "A data.frame: 2 × 5\n\\begin{tabular}{r|lllll}\n  & id & nombre & edad & tiene\\_mascota & nacionalidad\\\\\n  & <dbl> & <chr> & <dbl> & <lgl> & <chr>\\\\\n\\hline\n\t1 & 10 & Miguel  & 36 & FALSE & CL\\\\\n\t2 & 20 & Rodrigo & 30 &  TRUE & CL\\\\\n\\end{tabular}\n",
            "text/plain": [
              "  id nombre  edad tiene_mascota nacionalidad\n",
              "1 10 Miguel  36   FALSE         CL          \n",
              "2 20 Rodrigo 30    TRUE         CL          "
            ]
          },
          "metadata": {}
        },
        {
          "output_type": "display_data",
          "data": {
            "text/html": [
              "<table class=\"dataframe\">\n",
              "<caption>A data.frame: 2 × 5</caption>\n",
              "<thead>\n",
              "\t<tr><th></th><th scope=col>id</th><th scope=col>nombre</th><th scope=col>edad</th><th scope=col>tiene_mascota</th><th scope=col>nacionalidad</th></tr>\n",
              "\t<tr><th></th><th scope=col>&lt;dbl&gt;</th><th scope=col>&lt;chr&gt;</th><th scope=col>&lt;dbl&gt;</th><th scope=col>&lt;lgl&gt;</th><th scope=col>&lt;chr&gt;</th></tr>\n",
              "</thead>\n",
              "<tbody>\n",
              "\t<tr><th scope=row>1</th><td>10</td><td>Miguel </td><td>36</td><td>FALSE</td><td>CL</td></tr>\n",
              "\t<tr><th scope=row>2</th><td>20</td><td>Rodrigo</td><td>30</td><td> TRUE</td><td>CL</td></tr>\n",
              "</tbody>\n",
              "</table>\n"
            ],
            "text/markdown": "\nA data.frame: 2 × 5\n\n| <!--/--> | id &lt;dbl&gt; | nombre &lt;chr&gt; | edad &lt;dbl&gt; | tiene_mascota &lt;lgl&gt; | nacionalidad &lt;chr&gt; |\n|---|---|---|---|---|---|\n| 1 | 10 | Miguel  | 36 | FALSE | CL |\n| 2 | 20 | Rodrigo | 30 |  TRUE | CL |\n\n",
            "text/latex": "A data.frame: 2 × 5\n\\begin{tabular}{r|lllll}\n  & id & nombre & edad & tiene\\_mascota & nacionalidad\\\\\n  & <dbl> & <chr> & <dbl> & <lgl> & <chr>\\\\\n\\hline\n\t1 & 10 & Miguel  & 36 & FALSE & CL\\\\\n\t2 & 20 & Rodrigo & 30 &  TRUE & CL\\\\\n\\end{tabular}\n",
            "text/plain": [
              "  id nombre  edad tiene_mascota nacionalidad\n",
              "1 10 Miguel  36   FALSE         CL          \n",
              "2 20 Rodrigo 30    TRUE         CL          "
            ]
          },
          "metadata": {}
        }
      ]
    },
    {
      "cell_type": "code",
      "source": [
        "# los registros con edad mayor o igual a 30 y que tengan mascota.\n",
        "df[df$edad >= 30 & df$tiene_mascota == TRUE ,]"
      ],
      "metadata": {
        "id": "FiIIVPfxoZwx",
        "outputId": "638f64bb-6328-4dc3-facb-23c1dfcf7d21",
        "colab": {
          "base_uri": "https://localhost:8080/",
          "height": 129
        }
      },
      "execution_count": 83,
      "outputs": [
        {
          "output_type": "display_data",
          "data": {
            "text/html": [
              "<table class=\"dataframe\">\n",
              "<caption>A data.frame: 1 × 5</caption>\n",
              "<thead>\n",
              "\t<tr><th></th><th scope=col>id</th><th scope=col>nombre</th><th scope=col>edad</th><th scope=col>tiene_mascota</th><th scope=col>nacionalidad</th></tr>\n",
              "\t<tr><th></th><th scope=col>&lt;dbl&gt;</th><th scope=col>&lt;chr&gt;</th><th scope=col>&lt;dbl&gt;</th><th scope=col>&lt;lgl&gt;</th><th scope=col>&lt;chr&gt;</th></tr>\n",
              "</thead>\n",
              "<tbody>\n",
              "\t<tr><th scope=row>2</th><td>20</td><td>Rodrigo</td><td>30</td><td>TRUE</td><td>CL</td></tr>\n",
              "</tbody>\n",
              "</table>\n"
            ],
            "text/markdown": "\nA data.frame: 1 × 5\n\n| <!--/--> | id &lt;dbl&gt; | nombre &lt;chr&gt; | edad &lt;dbl&gt; | tiene_mascota &lt;lgl&gt; | nacionalidad &lt;chr&gt; |\n|---|---|---|---|---|---|\n| 2 | 20 | Rodrigo | 30 | TRUE | CL |\n\n",
            "text/latex": "A data.frame: 1 × 5\n\\begin{tabular}{r|lllll}\n  & id & nombre & edad & tiene\\_mascota & nacionalidad\\\\\n  & <dbl> & <chr> & <dbl> & <lgl> & <chr>\\\\\n\\hline\n\t2 & 20 & Rodrigo & 30 & TRUE & CL\\\\\n\\end{tabular}\n",
            "text/plain": [
              "  id nombre  edad tiene_mascota nacionalidad\n",
              "2 20 Rodrigo 30   TRUE          CL          "
            ]
          },
          "metadata": {}
        }
      ]
    },
    {
      "cell_type": "code",
      "source": [
        "df[df$edad >= 30 & df$tiene_mascota ,]"
      ],
      "metadata": {
        "id": "QGPDVHSXozbE",
        "outputId": "17160c0d-dc2c-4e98-cf2e-a00064c995d3",
        "colab": {
          "base_uri": "https://localhost:8080/",
          "height": 129
        }
      },
      "execution_count": 84,
      "outputs": [
        {
          "output_type": "display_data",
          "data": {
            "text/html": [
              "<table class=\"dataframe\">\n",
              "<caption>A data.frame: 1 × 5</caption>\n",
              "<thead>\n",
              "\t<tr><th></th><th scope=col>id</th><th scope=col>nombre</th><th scope=col>edad</th><th scope=col>tiene_mascota</th><th scope=col>nacionalidad</th></tr>\n",
              "\t<tr><th></th><th scope=col>&lt;dbl&gt;</th><th scope=col>&lt;chr&gt;</th><th scope=col>&lt;dbl&gt;</th><th scope=col>&lt;lgl&gt;</th><th scope=col>&lt;chr&gt;</th></tr>\n",
              "</thead>\n",
              "<tbody>\n",
              "\t<tr><th scope=row>2</th><td>20</td><td>Rodrigo</td><td>30</td><td>TRUE</td><td>CL</td></tr>\n",
              "</tbody>\n",
              "</table>\n"
            ],
            "text/markdown": "\nA data.frame: 1 × 5\n\n| <!--/--> | id &lt;dbl&gt; | nombre &lt;chr&gt; | edad &lt;dbl&gt; | tiene_mascota &lt;lgl&gt; | nacionalidad &lt;chr&gt; |\n|---|---|---|---|---|---|\n| 2 | 20 | Rodrigo | 30 | TRUE | CL |\n\n",
            "text/latex": "A data.frame: 1 × 5\n\\begin{tabular}{r|lllll}\n  & id & nombre & edad & tiene\\_mascota & nacionalidad\\\\\n  & <dbl> & <chr> & <dbl> & <lgl> & <chr>\\\\\n\\hline\n\t2 & 20 & Rodrigo & 30 & TRUE & CL\\\\\n\\end{tabular}\n",
            "text/plain": [
              "  id nombre  edad tiene_mascota nacionalidad\n",
              "2 20 Rodrigo 30   TRUE          CL          "
            ]
          },
          "metadata": {}
        }
      ]
    },
    {
      "cell_type": "code",
      "source": [
        "df[df[[\"edad\"]] >= 30 & df[[\"tiene_mascota\"]] == TRUE ,]"
      ],
      "metadata": {
        "id": "faAWuA__pDhj",
        "outputId": "af274696-2de6-4d4d-9721-e07d8ecd07e9",
        "colab": {
          "base_uri": "https://localhost:8080/",
          "height": 129
        }
      },
      "execution_count": 85,
      "outputs": [
        {
          "output_type": "display_data",
          "data": {
            "text/html": [
              "<table class=\"dataframe\">\n",
              "<caption>A data.frame: 1 × 5</caption>\n",
              "<thead>\n",
              "\t<tr><th></th><th scope=col>id</th><th scope=col>nombre</th><th scope=col>edad</th><th scope=col>tiene_mascota</th><th scope=col>nacionalidad</th></tr>\n",
              "\t<tr><th></th><th scope=col>&lt;dbl&gt;</th><th scope=col>&lt;chr&gt;</th><th scope=col>&lt;dbl&gt;</th><th scope=col>&lt;lgl&gt;</th><th scope=col>&lt;chr&gt;</th></tr>\n",
              "</thead>\n",
              "<tbody>\n",
              "\t<tr><th scope=row>2</th><td>20</td><td>Rodrigo</td><td>30</td><td>TRUE</td><td>CL</td></tr>\n",
              "</tbody>\n",
              "</table>\n"
            ],
            "text/markdown": "\nA data.frame: 1 × 5\n\n| <!--/--> | id &lt;dbl&gt; | nombre &lt;chr&gt; | edad &lt;dbl&gt; | tiene_mascota &lt;lgl&gt; | nacionalidad &lt;chr&gt; |\n|---|---|---|---|---|---|\n| 2 | 20 | Rodrigo | 30 | TRUE | CL |\n\n",
            "text/latex": "A data.frame: 1 × 5\n\\begin{tabular}{r|lllll}\n  & id & nombre & edad & tiene\\_mascota & nacionalidad\\\\\n  & <dbl> & <chr> & <dbl> & <lgl> & <chr>\\\\\n\\hline\n\t2 & 20 & Rodrigo & 30 & TRUE & CL\\\\\n\\end{tabular}\n",
            "text/plain": [
              "  id nombre  edad tiene_mascota nacionalidad\n",
              "2 20 Rodrigo 30   TRUE          CL          "
            ]
          },
          "metadata": {}
        }
      ]
    },
    {
      "cell_type": "code",
      "source": [
        "df[df[[\"edad\"]] >= 30 & df$tiene_mascota == TRUE ,]"
      ],
      "metadata": {
        "id": "V4_ZMwWnpPOv",
        "outputId": "311fa0ae-9f76-41c0-bfa1-0be7fad97a8c",
        "colab": {
          "base_uri": "https://localhost:8080/",
          "height": 129
        }
      },
      "execution_count": 86,
      "outputs": [
        {
          "output_type": "display_data",
          "data": {
            "text/html": [
              "<table class=\"dataframe\">\n",
              "<caption>A data.frame: 1 × 5</caption>\n",
              "<thead>\n",
              "\t<tr><th></th><th scope=col>id</th><th scope=col>nombre</th><th scope=col>edad</th><th scope=col>tiene_mascota</th><th scope=col>nacionalidad</th></tr>\n",
              "\t<tr><th></th><th scope=col>&lt;dbl&gt;</th><th scope=col>&lt;chr&gt;</th><th scope=col>&lt;dbl&gt;</th><th scope=col>&lt;lgl&gt;</th><th scope=col>&lt;chr&gt;</th></tr>\n",
              "</thead>\n",
              "<tbody>\n",
              "\t<tr><th scope=row>2</th><td>20</td><td>Rodrigo</td><td>30</td><td>TRUE</td><td>CL</td></tr>\n",
              "</tbody>\n",
              "</table>\n"
            ],
            "text/markdown": "\nA data.frame: 1 × 5\n\n| <!--/--> | id &lt;dbl&gt; | nombre &lt;chr&gt; | edad &lt;dbl&gt; | tiene_mascota &lt;lgl&gt; | nacionalidad &lt;chr&gt; |\n|---|---|---|---|---|---|\n| 2 | 20 | Rodrigo | 30 | TRUE | CL |\n\n",
            "text/latex": "A data.frame: 1 × 5\n\\begin{tabular}{r|lllll}\n  & id & nombre & edad & tiene\\_mascota & nacionalidad\\\\\n  & <dbl> & <chr> & <dbl> & <lgl> & <chr>\\\\\n\\hline\n\t2 & 20 & Rodrigo & 30 & TRUE & CL\\\\\n\\end{tabular}\n",
            "text/plain": [
              "  id nombre  edad tiene_mascota nacionalidad\n",
              "2 20 Rodrigo 30   TRUE          CL          "
            ]
          },
          "metadata": {}
        }
      ]
    }
  ]
}