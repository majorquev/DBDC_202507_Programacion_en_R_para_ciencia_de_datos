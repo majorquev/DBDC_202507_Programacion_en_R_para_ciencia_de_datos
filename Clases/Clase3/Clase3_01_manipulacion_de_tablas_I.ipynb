{
  "nbformat": 4,
  "nbformat_minor": 0,
  "metadata": {
    "colab": {
      "provenance": [],
      "include_colab_link": true
    },
    "kernelspec": {
      "name": "ir",
      "display_name": "R"
    }
  },
  "cells": [
    {
      "cell_type": "markdown",
      "metadata": {
        "id": "view-in-github",
        "colab_type": "text"
      },
      "source": [
        "<a href=\"https://colab.research.google.com/github/majorquev/DBDC_202507_Programacion_en_R_para_ciencia_de_datos/blob/main/Clases/Clase3/Clase3_01_manipulacion_de_tablas_I.ipynb\" target=\"_parent\"><img src=\"https://colab.research.google.com/assets/colab-badge.svg\" alt=\"Open In Colab\"/></a>"
      ]
    },
    {
      "cell_type": "markdown",
      "metadata": {
        "trusted": true,
        "id": "ID-hRx0URPyD"
      },
      "source": [
        "# Parte 2: Manipulación de tablas en R (Parte I)\n",
        "\n",
        "\n",
        "**Autor:** Miguel Jorquera Viguera<br>\n",
        "**E-mail:** majorquev@gmail.com<br>\n",
        "**Ayudante:** Rodrigo Morales<br>\n",
        "**E-mail ayudante:** rumorale1@gmail.com\n",
        "\n"
      ]
    },
    {
      "cell_type": "markdown",
      "source": [
        "# 0. misceláneo: Ciclo `for()` en R\n"
      ],
      "metadata": {
        "id": "gveei2czt2e6"
      }
    },
    {
      "cell_type": "code",
      "source": [
        "lf <- list(catA = list(sub_cat1 = data.frame(X = 1:2, Y = c(\"A\",\"B\")),\n",
        "                       sub_cat2 = data.frame(X = c(3,6), Y = c(\"A2\",\"B\")) ),\n",
        "           catB = list(sub_cat1 = data.frame(X = 1:2, Y = c(\"Z\",\"W\")),\n",
        "                       sub_cat2 = data.frame(X = c(4,7), Y = c(\"AA\",\"C\")) ))"
      ],
      "metadata": {
        "id": "nJs0Q0VYt_7D"
      },
      "execution_count": 3,
      "outputs": []
    },
    {
      "cell_type": "code",
      "source": [
        "str(lf)"
      ],
      "metadata": {
        "id": "rXJAC-Smu1ov",
        "outputId": "18a68409-e09a-47ed-e0cc-aeacefc83269",
        "colab": {
          "base_uri": "https://localhost:8080/"
        }
      },
      "execution_count": 4,
      "outputs": [
        {
          "output_type": "stream",
          "name": "stdout",
          "text": [
            "List of 2\n",
            " $ catA:List of 2\n",
            "  ..$ sub_cat1:'data.frame':\t2 obs. of  2 variables:\n",
            "  .. ..$ X: int [1:2] 1 2\n",
            "  .. ..$ Y: chr [1:2] \"A\" \"B\"\n",
            "  ..$ sub_cat2:'data.frame':\t2 obs. of  2 variables:\n",
            "  .. ..$ X: num [1:2] 3 6\n",
            "  .. ..$ Y: chr [1:2] \"A2\" \"B\"\n",
            " $ catB:List of 2\n",
            "  ..$ sub_cat1:'data.frame':\t2 obs. of  2 variables:\n",
            "  .. ..$ X: int [1:2] 1 2\n",
            "  .. ..$ Y: chr [1:2] \"Z\" \"W\"\n",
            "  ..$ sub_cat2:'data.frame':\t2 obs. of  2 variables:\n",
            "  .. ..$ X: num [1:2] 4 7\n",
            "  .. ..$ Y: chr [1:2] \"AA\" \"C\"\n"
          ]
        }
      ]
    },
    {
      "cell_type": "markdown",
      "source": [
        "Nos gustaría generar un solo dataframe con la siguiente estructura\n",
        "\n",
        "| cat | sub_cat | X | Y |\n",
        "|-----|---------|---|---|\n",
        "|  A  |   1     | 1 | A |\n",
        "|  A  |   1     | 2 | B |\n",
        "|  A  |   2     | 3 | A2|\n",
        "|  A  |   2     | 6 | B |\n",
        "|  B  |   1     | 1 | Z |\n",
        "|  B  |   1     | 2 | W |\n",
        "|  B  |   2     | 4 | AA|\n",
        "|  B  |   2     | 7 | C |\n",
        "\n"
      ],
      "metadata": {
        "id": "hrK73ZwsvYBy"
      }
    },
    {
      "cell_type": "code",
      "source": [
        "# Manualmente\n",
        "(aux_A1 <- lf$catA$sub_cat1)\n",
        "(aux_A2 <- lf$catA$sub_cat2)\n",
        "(aux_B1 <- lf$catB$sub_cat1)\n",
        "(aux_B2 <- lf$catB$sub_cat2)\n",
        "\n",
        "aux_A1$cat <- \"A\"\n",
        "aux_A1$sub_cat <- 1\n",
        "aux_A2$cat <- \"A\"\n",
        "aux_A2$sub_cat <- 2\n",
        "\n",
        "aux_B1$cat <- \"B\"\n",
        "aux_B1$sub_cat <- 1\n",
        "\n",
        "aux_B2$cat <- \"B\"\n",
        "aux_B2$sub_cat <- 2\n",
        "\n",
        "\n",
        "\n",
        "aux_A1\n",
        "aux_A2\n",
        "aux_B1\n",
        "aux_B2"
      ],
      "metadata": {
        "id": "LO6JIUNovd5L",
        "outputId": "f8db2a53-9643-4e1a-8903-cf1a6b209a3c",
        "colab": {
          "base_uri": "https://localhost:8080/",
          "height": 1000
        }
      },
      "execution_count": 10,
      "outputs": [
        {
          "output_type": "display_data",
          "data": {
            "text/html": [
              "<table class=\"dataframe\">\n",
              "<caption>A data.frame: 2 × 2</caption>\n",
              "<thead>\n",
              "\t<tr><th scope=col>X</th><th scope=col>Y</th></tr>\n",
              "\t<tr><th scope=col>&lt;int&gt;</th><th scope=col>&lt;chr&gt;</th></tr>\n",
              "</thead>\n",
              "<tbody>\n",
              "\t<tr><td>1</td><td>A</td></tr>\n",
              "\t<tr><td>2</td><td>B</td></tr>\n",
              "</tbody>\n",
              "</table>\n"
            ],
            "text/markdown": "\nA data.frame: 2 × 2\n\n| X &lt;int&gt; | Y &lt;chr&gt; |\n|---|---|\n| 1 | A |\n| 2 | B |\n\n",
            "text/latex": "A data.frame: 2 × 2\n\\begin{tabular}{ll}\n X & Y\\\\\n <int> & <chr>\\\\\n\\hline\n\t 1 & A\\\\\n\t 2 & B\\\\\n\\end{tabular}\n",
            "text/plain": [
              "  X Y\n",
              "1 1 A\n",
              "2 2 B"
            ]
          },
          "metadata": {}
        },
        {
          "output_type": "display_data",
          "data": {
            "text/html": [
              "<table class=\"dataframe\">\n",
              "<caption>A data.frame: 2 × 2</caption>\n",
              "<thead>\n",
              "\t<tr><th scope=col>X</th><th scope=col>Y</th></tr>\n",
              "\t<tr><th scope=col>&lt;dbl&gt;</th><th scope=col>&lt;chr&gt;</th></tr>\n",
              "</thead>\n",
              "<tbody>\n",
              "\t<tr><td>3</td><td>A2</td></tr>\n",
              "\t<tr><td>6</td><td>B </td></tr>\n",
              "</tbody>\n",
              "</table>\n"
            ],
            "text/markdown": "\nA data.frame: 2 × 2\n\n| X &lt;dbl&gt; | Y &lt;chr&gt; |\n|---|---|\n| 3 | A2 |\n| 6 | B  |\n\n",
            "text/latex": "A data.frame: 2 × 2\n\\begin{tabular}{ll}\n X & Y\\\\\n <dbl> & <chr>\\\\\n\\hline\n\t 3 & A2\\\\\n\t 6 & B \\\\\n\\end{tabular}\n",
            "text/plain": [
              "  X Y \n",
              "1 3 A2\n",
              "2 6 B "
            ]
          },
          "metadata": {}
        },
        {
          "output_type": "display_data",
          "data": {
            "text/html": [
              "<table class=\"dataframe\">\n",
              "<caption>A data.frame: 2 × 2</caption>\n",
              "<thead>\n",
              "\t<tr><th scope=col>X</th><th scope=col>Y</th></tr>\n",
              "\t<tr><th scope=col>&lt;int&gt;</th><th scope=col>&lt;chr&gt;</th></tr>\n",
              "</thead>\n",
              "<tbody>\n",
              "\t<tr><td>1</td><td>Z</td></tr>\n",
              "\t<tr><td>2</td><td>W</td></tr>\n",
              "</tbody>\n",
              "</table>\n"
            ],
            "text/markdown": "\nA data.frame: 2 × 2\n\n| X &lt;int&gt; | Y &lt;chr&gt; |\n|---|---|\n| 1 | Z |\n| 2 | W |\n\n",
            "text/latex": "A data.frame: 2 × 2\n\\begin{tabular}{ll}\n X & Y\\\\\n <int> & <chr>\\\\\n\\hline\n\t 1 & Z\\\\\n\t 2 & W\\\\\n\\end{tabular}\n",
            "text/plain": [
              "  X Y\n",
              "1 1 Z\n",
              "2 2 W"
            ]
          },
          "metadata": {}
        },
        {
          "output_type": "display_data",
          "data": {
            "text/html": [
              "<table class=\"dataframe\">\n",
              "<caption>A data.frame: 2 × 2</caption>\n",
              "<thead>\n",
              "\t<tr><th scope=col>X</th><th scope=col>Y</th></tr>\n",
              "\t<tr><th scope=col>&lt;dbl&gt;</th><th scope=col>&lt;chr&gt;</th></tr>\n",
              "</thead>\n",
              "<tbody>\n",
              "\t<tr><td>4</td><td>AA</td></tr>\n",
              "\t<tr><td>7</td><td>C </td></tr>\n",
              "</tbody>\n",
              "</table>\n"
            ],
            "text/markdown": "\nA data.frame: 2 × 2\n\n| X &lt;dbl&gt; | Y &lt;chr&gt; |\n|---|---|\n| 4 | AA |\n| 7 | C  |\n\n",
            "text/latex": "A data.frame: 2 × 2\n\\begin{tabular}{ll}\n X & Y\\\\\n <dbl> & <chr>\\\\\n\\hline\n\t 4 & AA\\\\\n\t 7 & C \\\\\n\\end{tabular}\n",
            "text/plain": [
              "  X Y \n",
              "1 4 AA\n",
              "2 7 C "
            ]
          },
          "metadata": {}
        },
        {
          "output_type": "display_data",
          "data": {
            "text/html": [
              "<table class=\"dataframe\">\n",
              "<caption>A data.frame: 2 × 4</caption>\n",
              "<thead>\n",
              "\t<tr><th scope=col>X</th><th scope=col>Y</th><th scope=col>cat</th><th scope=col>sub_cat</th></tr>\n",
              "\t<tr><th scope=col>&lt;int&gt;</th><th scope=col>&lt;chr&gt;</th><th scope=col>&lt;chr&gt;</th><th scope=col>&lt;dbl&gt;</th></tr>\n",
              "</thead>\n",
              "<tbody>\n",
              "\t<tr><td>1</td><td>A</td><td>A</td><td>1</td></tr>\n",
              "\t<tr><td>2</td><td>B</td><td>A</td><td>1</td></tr>\n",
              "</tbody>\n",
              "</table>\n"
            ],
            "text/markdown": "\nA data.frame: 2 × 4\n\n| X &lt;int&gt; | Y &lt;chr&gt; | cat &lt;chr&gt; | sub_cat &lt;dbl&gt; |\n|---|---|---|---|\n| 1 | A | A | 1 |\n| 2 | B | A | 1 |\n\n",
            "text/latex": "A data.frame: 2 × 4\n\\begin{tabular}{llll}\n X & Y & cat & sub\\_cat\\\\\n <int> & <chr> & <chr> & <dbl>\\\\\n\\hline\n\t 1 & A & A & 1\\\\\n\t 2 & B & A & 1\\\\\n\\end{tabular}\n",
            "text/plain": [
              "  X Y cat sub_cat\n",
              "1 1 A A   1      \n",
              "2 2 B A   1      "
            ]
          },
          "metadata": {}
        },
        {
          "output_type": "display_data",
          "data": {
            "text/html": [
              "<table class=\"dataframe\">\n",
              "<caption>A data.frame: 2 × 4</caption>\n",
              "<thead>\n",
              "\t<tr><th scope=col>X</th><th scope=col>Y</th><th scope=col>cat</th><th scope=col>sub_cat</th></tr>\n",
              "\t<tr><th scope=col>&lt;dbl&gt;</th><th scope=col>&lt;chr&gt;</th><th scope=col>&lt;chr&gt;</th><th scope=col>&lt;dbl&gt;</th></tr>\n",
              "</thead>\n",
              "<tbody>\n",
              "\t<tr><td>3</td><td>A2</td><td>A</td><td>2</td></tr>\n",
              "\t<tr><td>6</td><td>B </td><td>A</td><td>2</td></tr>\n",
              "</tbody>\n",
              "</table>\n"
            ],
            "text/markdown": "\nA data.frame: 2 × 4\n\n| X &lt;dbl&gt; | Y &lt;chr&gt; | cat &lt;chr&gt; | sub_cat &lt;dbl&gt; |\n|---|---|---|---|\n| 3 | A2 | A | 2 |\n| 6 | B  | A | 2 |\n\n",
            "text/latex": "A data.frame: 2 × 4\n\\begin{tabular}{llll}\n X & Y & cat & sub\\_cat\\\\\n <dbl> & <chr> & <chr> & <dbl>\\\\\n\\hline\n\t 3 & A2 & A & 2\\\\\n\t 6 & B  & A & 2\\\\\n\\end{tabular}\n",
            "text/plain": [
              "  X Y  cat sub_cat\n",
              "1 3 A2 A   2      \n",
              "2 6 B  A   2      "
            ]
          },
          "metadata": {}
        },
        {
          "output_type": "display_data",
          "data": {
            "text/html": [
              "<table class=\"dataframe\">\n",
              "<caption>A data.frame: 2 × 4</caption>\n",
              "<thead>\n",
              "\t<tr><th scope=col>X</th><th scope=col>Y</th><th scope=col>cat</th><th scope=col>sub_cat</th></tr>\n",
              "\t<tr><th scope=col>&lt;int&gt;</th><th scope=col>&lt;chr&gt;</th><th scope=col>&lt;chr&gt;</th><th scope=col>&lt;dbl&gt;</th></tr>\n",
              "</thead>\n",
              "<tbody>\n",
              "\t<tr><td>1</td><td>Z</td><td>B</td><td>1</td></tr>\n",
              "\t<tr><td>2</td><td>W</td><td>B</td><td>1</td></tr>\n",
              "</tbody>\n",
              "</table>\n"
            ],
            "text/markdown": "\nA data.frame: 2 × 4\n\n| X &lt;int&gt; | Y &lt;chr&gt; | cat &lt;chr&gt; | sub_cat &lt;dbl&gt; |\n|---|---|---|---|\n| 1 | Z | B | 1 |\n| 2 | W | B | 1 |\n\n",
            "text/latex": "A data.frame: 2 × 4\n\\begin{tabular}{llll}\n X & Y & cat & sub\\_cat\\\\\n <int> & <chr> & <chr> & <dbl>\\\\\n\\hline\n\t 1 & Z & B & 1\\\\\n\t 2 & W & B & 1\\\\\n\\end{tabular}\n",
            "text/plain": [
              "  X Y cat sub_cat\n",
              "1 1 Z B   1      \n",
              "2 2 W B   1      "
            ]
          },
          "metadata": {}
        },
        {
          "output_type": "display_data",
          "data": {
            "text/html": [
              "<table class=\"dataframe\">\n",
              "<caption>A data.frame: 2 × 4</caption>\n",
              "<thead>\n",
              "\t<tr><th scope=col>X</th><th scope=col>Y</th><th scope=col>cat</th><th scope=col>sub_cat</th></tr>\n",
              "\t<tr><th scope=col>&lt;dbl&gt;</th><th scope=col>&lt;chr&gt;</th><th scope=col>&lt;chr&gt;</th><th scope=col>&lt;dbl&gt;</th></tr>\n",
              "</thead>\n",
              "<tbody>\n",
              "\t<tr><td>4</td><td>AA</td><td>B</td><td>2</td></tr>\n",
              "\t<tr><td>7</td><td>C </td><td>B</td><td>2</td></tr>\n",
              "</tbody>\n",
              "</table>\n"
            ],
            "text/markdown": "\nA data.frame: 2 × 4\n\n| X &lt;dbl&gt; | Y &lt;chr&gt; | cat &lt;chr&gt; | sub_cat &lt;dbl&gt; |\n|---|---|---|---|\n| 4 | AA | B | 2 |\n| 7 | C  | B | 2 |\n\n",
            "text/latex": "A data.frame: 2 × 4\n\\begin{tabular}{llll}\n X & Y & cat & sub\\_cat\\\\\n <dbl> & <chr> & <chr> & <dbl>\\\\\n\\hline\n\t 4 & AA & B & 2\\\\\n\t 7 & C  & B & 2\\\\\n\\end{tabular}\n",
            "text/plain": [
              "  X Y  cat sub_cat\n",
              "1 4 AA B   2      \n",
              "2 7 C  B   2      "
            ]
          },
          "metadata": {}
        }
      ]
    },
    {
      "cell_type": "code",
      "source": [
        "rbind(aux_A1,\n",
        "      aux_A2,\n",
        "      aux_B1,\n",
        "      aux_B2)"
      ],
      "metadata": {
        "id": "cSKF4wTwvCCC",
        "outputId": "40d6d8b0-0eba-4c01-aaf4-ed6a5a66d1fe",
        "colab": {
          "base_uri": "https://localhost:8080/",
          "height": 349
        }
      },
      "execution_count": 11,
      "outputs": [
        {
          "output_type": "display_data",
          "data": {
            "text/html": [
              "<table class=\"dataframe\">\n",
              "<caption>A data.frame: 8 × 4</caption>\n",
              "<thead>\n",
              "\t<tr><th scope=col>X</th><th scope=col>Y</th><th scope=col>cat</th><th scope=col>sub_cat</th></tr>\n",
              "\t<tr><th scope=col>&lt;dbl&gt;</th><th scope=col>&lt;chr&gt;</th><th scope=col>&lt;chr&gt;</th><th scope=col>&lt;dbl&gt;</th></tr>\n",
              "</thead>\n",
              "<tbody>\n",
              "\t<tr><td>1</td><td>A </td><td>A</td><td>1</td></tr>\n",
              "\t<tr><td>2</td><td>B </td><td>A</td><td>1</td></tr>\n",
              "\t<tr><td>3</td><td>A2</td><td>A</td><td>2</td></tr>\n",
              "\t<tr><td>6</td><td>B </td><td>A</td><td>2</td></tr>\n",
              "\t<tr><td>1</td><td>Z </td><td>B</td><td>1</td></tr>\n",
              "\t<tr><td>2</td><td>W </td><td>B</td><td>1</td></tr>\n",
              "\t<tr><td>4</td><td>AA</td><td>B</td><td>2</td></tr>\n",
              "\t<tr><td>7</td><td>C </td><td>B</td><td>2</td></tr>\n",
              "</tbody>\n",
              "</table>\n"
            ],
            "text/markdown": "\nA data.frame: 8 × 4\n\n| X &lt;dbl&gt; | Y &lt;chr&gt; | cat &lt;chr&gt; | sub_cat &lt;dbl&gt; |\n|---|---|---|---|\n| 1 | A  | A | 1 |\n| 2 | B  | A | 1 |\n| 3 | A2 | A | 2 |\n| 6 | B  | A | 2 |\n| 1 | Z  | B | 1 |\n| 2 | W  | B | 1 |\n| 4 | AA | B | 2 |\n| 7 | C  | B | 2 |\n\n",
            "text/latex": "A data.frame: 8 × 4\n\\begin{tabular}{llll}\n X & Y & cat & sub\\_cat\\\\\n <dbl> & <chr> & <chr> & <dbl>\\\\\n\\hline\n\t 1 & A  & A & 1\\\\\n\t 2 & B  & A & 1\\\\\n\t 3 & A2 & A & 2\\\\\n\t 6 & B  & A & 2\\\\\n\t 1 & Z  & B & 1\\\\\n\t 2 & W  & B & 1\\\\\n\t 4 & AA & B & 2\\\\\n\t 7 & C  & B & 2\\\\\n\\end{tabular}\n",
            "text/plain": [
              "  X Y  cat sub_cat\n",
              "1 1 A  A   1      \n",
              "2 2 B  A   1      \n",
              "3 3 A2 A   2      \n",
              "4 6 B  A   2      \n",
              "5 1 Z  B   1      \n",
              "6 2 W  B   1      \n",
              "7 4 AA B   2      \n",
              "8 7 C  B   2      "
            ]
          },
          "metadata": {}
        }
      ]
    },
    {
      "cell_type": "code",
      "source": [
        "str(lf)\n"
      ],
      "metadata": {
        "id": "GkJZ3Wrwy3DD",
        "outputId": "43c0d5ed-1bbd-4224-ccd4-53c59310840a",
        "colab": {
          "base_uri": "https://localhost:8080/"
        }
      },
      "execution_count": 12,
      "outputs": [
        {
          "output_type": "stream",
          "name": "stdout",
          "text": [
            "List of 2\n",
            " $ catA:List of 2\n",
            "  ..$ sub_cat1:'data.frame':\t2 obs. of  2 variables:\n",
            "  .. ..$ X: int [1:2] 1 2\n",
            "  .. ..$ Y: chr [1:2] \"A\" \"B\"\n",
            "  ..$ sub_cat2:'data.frame':\t2 obs. of  2 variables:\n",
            "  .. ..$ X: num [1:2] 3 6\n",
            "  .. ..$ Y: chr [1:2] \"A2\" \"B\"\n",
            " $ catB:List of 2\n",
            "  ..$ sub_cat1:'data.frame':\t2 obs. of  2 variables:\n",
            "  .. ..$ X: int [1:2] 1 2\n",
            "  .. ..$ Y: chr [1:2] \"Z\" \"W\"\n",
            "  ..$ sub_cat2:'data.frame':\t2 obs. of  2 variables:\n",
            "  .. ..$ X: num [1:2] 4 7\n",
            "  .. ..$ Y: chr [1:2] \"AA\" \"C\"\n"
          ]
        }
      ]
    },
    {
      "cell_type": "code",
      "source": [
        "categorias <- names(lf)\n",
        "categorias\n",
        "resultado <- data.frame()\n",
        "for(cat in categorias){# cat = \"catA\"\n",
        "  aux_1 <- lf[[cat]]$sub_cat1\n",
        "  aux_2 <- lf[[cat]]$sub_cat2\n",
        "\n",
        "  aux_1$categoria <- cat\n",
        "  aux_2$categoria <- cat\n",
        "\n",
        "  aux_1$sub_categoria <- 1\n",
        "  aux_2$sub_categoria <- 2\n",
        "\n",
        "  print(paste(\"categoria: \", cat) )\n",
        "  print(aux_1)\n",
        "  print(aux_2)\n",
        "\n",
        "  resultado <- rbind(resultado, aux_1,aux_2)\n",
        "\n",
        "}\n"
      ],
      "metadata": {
        "id": "d6hD0vRpzFSy",
        "outputId": "6c46b14a-7c8b-4810-a798-f01c44b60946",
        "colab": {
          "base_uri": "https://localhost:8080/",
          "height": 277
        }
      },
      "execution_count": 18,
      "outputs": [
        {
          "output_type": "display_data",
          "data": {
            "text/html": [
              "<style>\n",
              ".list-inline {list-style: none; margin:0; padding: 0}\n",
              ".list-inline>li {display: inline-block}\n",
              ".list-inline>li:not(:last-child)::after {content: \"\\00b7\"; padding: 0 .5ex}\n",
              "</style>\n",
              "<ol class=list-inline><li>'catA'</li><li>'catB'</li></ol>\n"
            ],
            "text/markdown": "1. 'catA'\n2. 'catB'\n\n\n",
            "text/latex": "\\begin{enumerate*}\n\\item 'catA'\n\\item 'catB'\n\\end{enumerate*}\n",
            "text/plain": [
              "[1] \"catA\" \"catB\""
            ]
          },
          "metadata": {}
        },
        {
          "output_type": "stream",
          "name": "stdout",
          "text": [
            "[1] \"categoria:  catA\"\n",
            "  X Y categoria sub_categoria\n",
            "1 1 A      catA             1\n",
            "2 2 B      catA             1\n",
            "  X  Y categoria sub_categoria\n",
            "1 3 A2      catA             2\n",
            "2 6  B      catA             2\n",
            "[1] \"categoria:  catB\"\n",
            "  X Y categoria sub_categoria\n",
            "1 1 Z      catB             1\n",
            "2 2 W      catB             1\n",
            "  X  Y categoria sub_categoria\n",
            "1 4 AA      catB             2\n",
            "2 7  C      catB             2\n"
          ]
        }
      ]
    },
    {
      "cell_type": "code",
      "source": [
        "resultado"
      ],
      "metadata": {
        "id": "lO8jsfAZ2n9N",
        "outputId": "1505dfd6-73ed-4238-a7ff-a898c770c507",
        "colab": {
          "base_uri": "https://localhost:8080/",
          "height": 349
        }
      },
      "execution_count": 19,
      "outputs": [
        {
          "output_type": "display_data",
          "data": {
            "text/html": [
              "<table class=\"dataframe\">\n",
              "<caption>A data.frame: 8 × 4</caption>\n",
              "<thead>\n",
              "\t<tr><th scope=col>X</th><th scope=col>Y</th><th scope=col>categoria</th><th scope=col>sub_categoria</th></tr>\n",
              "\t<tr><th scope=col>&lt;dbl&gt;</th><th scope=col>&lt;chr&gt;</th><th scope=col>&lt;chr&gt;</th><th scope=col>&lt;dbl&gt;</th></tr>\n",
              "</thead>\n",
              "<tbody>\n",
              "\t<tr><td>1</td><td>A </td><td>catA</td><td>1</td></tr>\n",
              "\t<tr><td>2</td><td>B </td><td>catA</td><td>1</td></tr>\n",
              "\t<tr><td>3</td><td>A2</td><td>catA</td><td>2</td></tr>\n",
              "\t<tr><td>6</td><td>B </td><td>catA</td><td>2</td></tr>\n",
              "\t<tr><td>1</td><td>Z </td><td>catB</td><td>1</td></tr>\n",
              "\t<tr><td>2</td><td>W </td><td>catB</td><td>1</td></tr>\n",
              "\t<tr><td>4</td><td>AA</td><td>catB</td><td>2</td></tr>\n",
              "\t<tr><td>7</td><td>C </td><td>catB</td><td>2</td></tr>\n",
              "</tbody>\n",
              "</table>\n"
            ],
            "text/markdown": "\nA data.frame: 8 × 4\n\n| X &lt;dbl&gt; | Y &lt;chr&gt; | categoria &lt;chr&gt; | sub_categoria &lt;dbl&gt; |\n|---|---|---|---|\n| 1 | A  | catA | 1 |\n| 2 | B  | catA | 1 |\n| 3 | A2 | catA | 2 |\n| 6 | B  | catA | 2 |\n| 1 | Z  | catB | 1 |\n| 2 | W  | catB | 1 |\n| 4 | AA | catB | 2 |\n| 7 | C  | catB | 2 |\n\n",
            "text/latex": "A data.frame: 8 × 4\n\\begin{tabular}{llll}\n X & Y & categoria & sub\\_categoria\\\\\n <dbl> & <chr> & <chr> & <dbl>\\\\\n\\hline\n\t 1 & A  & catA & 1\\\\\n\t 2 & B  & catA & 1\\\\\n\t 3 & A2 & catA & 2\\\\\n\t 6 & B  & catA & 2\\\\\n\t 1 & Z  & catB & 1\\\\\n\t 2 & W  & catB & 1\\\\\n\t 4 & AA & catB & 2\\\\\n\t 7 & C  & catB & 2\\\\\n\\end{tabular}\n",
            "text/plain": [
              "  X Y  categoria sub_categoria\n",
              "1 1 A  catA      1            \n",
              "2 2 B  catA      1            \n",
              "3 3 A2 catA      2            \n",
              "4 6 B  catA      2            \n",
              "5 1 Z  catB      1            \n",
              "6 2 W  catB      1            \n",
              "7 4 AA catB      2            \n",
              "8 7 C  catB      2            "
            ]
          },
          "metadata": {}
        }
      ]
    },
    {
      "cell_type": "code",
      "source": [
        "write.csv(resultado, \"resultado_exp.csv\", row.names = F)"
      ],
      "metadata": {
        "id": "LkIisiA3CnmK"
      },
      "execution_count": 37,
      "outputs": []
    },
    {
      "cell_type": "code",
      "source": [
        "#NOTA: formato *.rds (lo necesitarán para cargar el archivo del control) Descuidar que ya viene escrito.\n",
        "perfiles <- readRDS(\"perfiles.rds\")\n"
      ],
      "metadata": {
        "id": "YYniby21Bo-J"
      },
      "execution_count": 32,
      "outputs": []
    },
    {
      "cell_type": "markdown",
      "source": [
        "## 1. Instalación de librerías\n",
        "\n",
        "En esta sección aprenderemos a realizar operaciones simples de manipulación de tablas en R. Para ello trabajaremos con la librería _dplyr_, la cual cuenta con una gran variedad de funciones para manipular tablas, entre otras.\n",
        "\n",
        "\n",
        "Una manera de instalar librerías en R es me diante la función `install.packages()`, la cual recibe como argunmento principal el nombre (enre comillas) de la librería que se desea cargar.\n",
        "\n",
        "Una vez instalada la librería la debemos cargar en la sesión de trbajao, para lo cual podemos utilizar la función `library()` la cual recibe como argumento el nombre de la librería que se quiere cargar.\n"
      ],
      "metadata": {
        "id": "0BNEDENAt1Rq"
      }
    },
    {
      "cell_type": "code",
      "metadata": {
        "id": "FPF3jDwbRnTs",
        "outputId": "0f9fdd08-4005-41a2-cc04-5c0b7a596f55",
        "colab": {
          "base_uri": "https://localhost:8080/"
        }
      },
      "source": [
        "install.packages(\"ranger\")"
      ],
      "execution_count": 22,
      "outputs": [
        {
          "output_type": "stream",
          "name": "stderr",
          "text": [
            "Installing package into ‘/usr/local/lib/R/site-library’\n",
            "(as ‘lib’ is unspecified)\n",
            "\n",
            "also installing the dependency ‘RcppEigen’\n",
            "\n",
            "\n"
          ]
        }
      ]
    },
    {
      "cell_type": "code",
      "source": [
        "library(ranger)"
      ],
      "metadata": {
        "id": "F-iOruRD6iLk"
      },
      "execution_count": 23,
      "outputs": []
    },
    {
      "cell_type": "code",
      "metadata": {
        "trusted": true,
        "id": "jcbeiXarRPyE",
        "outputId": "97a4c58d-434c-4d24-ac10-0e16b82018de",
        "colab": {
          "base_uri": "https://localhost:8080/"
        }
      },
      "source": [
        "# 1. Instalación de package\n",
        "# install.packages(\"dplyr\") # No instalaremos la librería pues ya viene cargada en los notebooks de azure.Probablemente sea necesario hacerlo en su entorno local.\n",
        "# Para cargar la librería\n",
        "library(\"dplyr\") # sin comillas también funciona\n",
        "\n",
        "\n"
      ],
      "execution_count": 24,
      "outputs": [
        {
          "output_type": "stream",
          "name": "stderr",
          "text": [
            "\n",
            "Attaching package: ‘dplyr’\n",
            "\n",
            "\n",
            "The following objects are masked from ‘package:stats’:\n",
            "\n",
            "    filter, lag\n",
            "\n",
            "\n",
            "The following objects are masked from ‘package:base’:\n",
            "\n",
            "    intersect, setdiff, setequal, union\n",
            "\n",
            "\n"
          ]
        }
      ]
    },
    {
      "cell_type": "code",
      "source": [
        "dplyr::filter(objeto)\n",
        "stats::filter(xts)"
      ],
      "metadata": {
        "id": "BHHX8Tji78th"
      },
      "execution_count": 25,
      "outputs": []
    },
    {
      "cell_type": "markdown",
      "metadata": {
        "trusted": true,
        "id": "97hMfOQQRPyI"
      },
      "source": [
        "## 2. Funciones básicas en dplyr\n",
        "\n",
        "En todo proyecto analítico es necesario procesar, limpar y unificar disntintas fuentes de información para poder generar los análisis requeridos. Para dichas tareas, en la librería _dplyr_ contamos con funciones que nos permitirán filtrar datos, crear columnas, agrupar tablas, y cruzar tablas.\n",
        "\n",
        "A continuación trabajaremos con la siguientes funciones:<br>\n",
        "\n",
        "   `filter()`                        : Para filtrar los datos (por filas).<br>\n",
        "   `arrange()`                       : Para ordenar un dataset.<br>\n",
        "   `select()`                        : Para seleccionar y renombrar columnas.<br>\n",
        "   `mutate()`                        : Para crear (o modificar) nuevas columnas basadas en columnas existentes.<br>\n",
        "   `group_by()`                     : Para agrupar tablas.<br>\n",
        "   `sample_n()` and `sample_frac()`  : Para generar muestras aleatorias<br>\n",
        "   \n",
        "   \n",
        "Para entender el funcionamiento de estas funciones trabjaremos con el set de datos _nycflights13_, el cual contiene la información de los vuelos con salida en los aeropuertos de Nueva York en el año 2013.\n",
        "\n",
        "## 3. Carga de datos\n",
        "\n",
        "En R es posible cargar datos provenientes de archivos de texto plano. Un ejemplo de ellos son los de extensión *.csv (comma separated values). Para cargar los datos a la sesión, lo podemos realizar a través de la función `read.csv()`, la cual recibe como argumento principal la ruta del archivo a cargar.\n",
        "\n",
        "   \n",
        "   \n",
        "   "
      ]
    },
    {
      "cell_type": "code",
      "metadata": {
        "trusted": true,
        "id": "gKV9NYMORPyI",
        "outputId": "f2576c7b-725e-478d-bfa5-86b9b8a540ed",
        "colab": {
          "base_uri": "https://localhost:8080/",
          "height": 34
        }
      },
      "source": [
        "getwd()"
      ],
      "execution_count": 26,
      "outputs": [
        {
          "output_type": "display_data",
          "data": {
            "text/html": [
              "'/content'"
            ],
            "text/markdown": "'/content'",
            "text/latex": "'/content'",
            "text/plain": [
              "[1] \"/content\""
            ]
          },
          "metadata": {}
        }
      ]
    },
    {
      "cell_type": "code",
      "metadata": {
        "trusted": true,
        "id": "Ga1OFuNwRPyL"
      },
      "source": [
        "# Carga de datos ------\n",
        "# Usaremos la función read.csv para cargar el archivo Datasets_flights.csv ubicado en \"./Datasets/\", y lo guardamos en una variable llamada vuelo.\n",
        "vuelos <- read.csv(\"flights.csv\", sep = \",\", header = T)\n",
        "\n"
      ],
      "execution_count": 27,
      "outputs": []
    },
    {
      "cell_type": "code",
      "source": [
        "#Si quisiérmaos cargar un archivo que no está en el directorio de trabajo\n",
        "otro_csv <- read.csv(\"./sample_data/mnist_test.csv\")"
      ],
      "metadata": {
        "id": "5UrWadhM_8Yb"
      },
      "execution_count": 29,
      "outputs": []
    },
    {
      "cell_type": "code",
      "source": [
        "head(otro_csv)"
      ],
      "metadata": {
        "id": "dg-AHdPMAQrH",
        "outputId": "1fa1aead-57b6-47ce-f9ce-e96b6f0c3697",
        "colab": {
          "base_uri": "https://localhost:8080/",
          "height": 306
        }
      },
      "execution_count": 31,
      "outputs": [
        {
          "output_type": "display_data",
          "data": {
            "text/html": [
              "<table class=\"dataframe\">\n",
              "<caption>A data.frame: 6 × 785</caption>\n",
              "<thead>\n",
              "\t<tr><th></th><th scope=col>X7</th><th scope=col>X0</th><th scope=col>X0.1</th><th scope=col>X0.2</th><th scope=col>X0.3</th><th scope=col>X0.4</th><th scope=col>X0.5</th><th scope=col>X0.6</th><th scope=col>X0.7</th><th scope=col>X0.8</th><th scope=col>⋯</th><th scope=col>X0.658</th><th scope=col>X0.659</th><th scope=col>X0.660</th><th scope=col>X0.661</th><th scope=col>X0.662</th><th scope=col>X0.663</th><th scope=col>X0.664</th><th scope=col>X0.665</th><th scope=col>X0.666</th><th scope=col>X0.667</th></tr>\n",
              "\t<tr><th></th><th scope=col>&lt;int&gt;</th><th scope=col>&lt;int&gt;</th><th scope=col>&lt;int&gt;</th><th scope=col>&lt;int&gt;</th><th scope=col>&lt;int&gt;</th><th scope=col>&lt;int&gt;</th><th scope=col>&lt;int&gt;</th><th scope=col>&lt;int&gt;</th><th scope=col>&lt;int&gt;</th><th scope=col>&lt;int&gt;</th><th scope=col>⋯</th><th scope=col>&lt;int&gt;</th><th scope=col>&lt;int&gt;</th><th scope=col>&lt;int&gt;</th><th scope=col>&lt;int&gt;</th><th scope=col>&lt;int&gt;</th><th scope=col>&lt;int&gt;</th><th scope=col>&lt;int&gt;</th><th scope=col>&lt;int&gt;</th><th scope=col>&lt;int&gt;</th><th scope=col>&lt;int&gt;</th></tr>\n",
              "</thead>\n",
              "<tbody>\n",
              "\t<tr><th scope=row>1</th><td>2</td><td>0</td><td>0</td><td>0</td><td>0</td><td>0</td><td>0</td><td>0</td><td>0</td><td>0</td><td>⋯</td><td>0</td><td>0</td><td>0</td><td>0</td><td>0</td><td>0</td><td>0</td><td>0</td><td>0</td><td>0</td></tr>\n",
              "\t<tr><th scope=row>2</th><td>1</td><td>0</td><td>0</td><td>0</td><td>0</td><td>0</td><td>0</td><td>0</td><td>0</td><td>0</td><td>⋯</td><td>0</td><td>0</td><td>0</td><td>0</td><td>0</td><td>0</td><td>0</td><td>0</td><td>0</td><td>0</td></tr>\n",
              "\t<tr><th scope=row>3</th><td>0</td><td>0</td><td>0</td><td>0</td><td>0</td><td>0</td><td>0</td><td>0</td><td>0</td><td>0</td><td>⋯</td><td>0</td><td>0</td><td>0</td><td>0</td><td>0</td><td>0</td><td>0</td><td>0</td><td>0</td><td>0</td></tr>\n",
              "\t<tr><th scope=row>4</th><td>4</td><td>0</td><td>0</td><td>0</td><td>0</td><td>0</td><td>0</td><td>0</td><td>0</td><td>0</td><td>⋯</td><td>0</td><td>0</td><td>0</td><td>0</td><td>0</td><td>0</td><td>0</td><td>0</td><td>0</td><td>0</td></tr>\n",
              "\t<tr><th scope=row>5</th><td>1</td><td>0</td><td>0</td><td>0</td><td>0</td><td>0</td><td>0</td><td>0</td><td>0</td><td>0</td><td>⋯</td><td>0</td><td>0</td><td>0</td><td>0</td><td>0</td><td>0</td><td>0</td><td>0</td><td>0</td><td>0</td></tr>\n",
              "\t<tr><th scope=row>6</th><td>4</td><td>0</td><td>0</td><td>0</td><td>0</td><td>0</td><td>0</td><td>0</td><td>0</td><td>0</td><td>⋯</td><td>0</td><td>0</td><td>0</td><td>0</td><td>0</td><td>0</td><td>0</td><td>0</td><td>0</td><td>0</td></tr>\n",
              "</tbody>\n",
              "</table>\n"
            ],
            "text/markdown": "\nA data.frame: 6 × 785\n\n| <!--/--> | X7 &lt;int&gt; | X0 &lt;int&gt; | X0.1 &lt;int&gt; | X0.2 &lt;int&gt; | X0.3 &lt;int&gt; | X0.4 &lt;int&gt; | X0.5 &lt;int&gt; | X0.6 &lt;int&gt; | X0.7 &lt;int&gt; | X0.8 &lt;int&gt; | ⋯ ⋯ | X0.658 &lt;int&gt; | X0.659 &lt;int&gt; | X0.660 &lt;int&gt; | X0.661 &lt;int&gt; | X0.662 &lt;int&gt; | X0.663 &lt;int&gt; | X0.664 &lt;int&gt; | X0.665 &lt;int&gt; | X0.666 &lt;int&gt; | X0.667 &lt;int&gt; |\n|---|---|---|---|---|---|---|---|---|---|---|---|---|---|---|---|---|---|---|---|---|---|\n| 1 | 2 | 0 | 0 | 0 | 0 | 0 | 0 | 0 | 0 | 0 | ⋯ | 0 | 0 | 0 | 0 | 0 | 0 | 0 | 0 | 0 | 0 |\n| 2 | 1 | 0 | 0 | 0 | 0 | 0 | 0 | 0 | 0 | 0 | ⋯ | 0 | 0 | 0 | 0 | 0 | 0 | 0 | 0 | 0 | 0 |\n| 3 | 0 | 0 | 0 | 0 | 0 | 0 | 0 | 0 | 0 | 0 | ⋯ | 0 | 0 | 0 | 0 | 0 | 0 | 0 | 0 | 0 | 0 |\n| 4 | 4 | 0 | 0 | 0 | 0 | 0 | 0 | 0 | 0 | 0 | ⋯ | 0 | 0 | 0 | 0 | 0 | 0 | 0 | 0 | 0 | 0 |\n| 5 | 1 | 0 | 0 | 0 | 0 | 0 | 0 | 0 | 0 | 0 | ⋯ | 0 | 0 | 0 | 0 | 0 | 0 | 0 | 0 | 0 | 0 |\n| 6 | 4 | 0 | 0 | 0 | 0 | 0 | 0 | 0 | 0 | 0 | ⋯ | 0 | 0 | 0 | 0 | 0 | 0 | 0 | 0 | 0 | 0 |\n\n",
            "text/latex": "A data.frame: 6 × 785\n\\begin{tabular}{r|lllllllllllllllllllll}\n  & X7 & X0 & X0.1 & X0.2 & X0.3 & X0.4 & X0.5 & X0.6 & X0.7 & X0.8 & ⋯ & X0.658 & X0.659 & X0.660 & X0.661 & X0.662 & X0.663 & X0.664 & X0.665 & X0.666 & X0.667\\\\\n  & <int> & <int> & <int> & <int> & <int> & <int> & <int> & <int> & <int> & <int> & ⋯ & <int> & <int> & <int> & <int> & <int> & <int> & <int> & <int> & <int> & <int>\\\\\n\\hline\n\t1 & 2 & 0 & 0 & 0 & 0 & 0 & 0 & 0 & 0 & 0 & ⋯ & 0 & 0 & 0 & 0 & 0 & 0 & 0 & 0 & 0 & 0\\\\\n\t2 & 1 & 0 & 0 & 0 & 0 & 0 & 0 & 0 & 0 & 0 & ⋯ & 0 & 0 & 0 & 0 & 0 & 0 & 0 & 0 & 0 & 0\\\\\n\t3 & 0 & 0 & 0 & 0 & 0 & 0 & 0 & 0 & 0 & 0 & ⋯ & 0 & 0 & 0 & 0 & 0 & 0 & 0 & 0 & 0 & 0\\\\\n\t4 & 4 & 0 & 0 & 0 & 0 & 0 & 0 & 0 & 0 & 0 & ⋯ & 0 & 0 & 0 & 0 & 0 & 0 & 0 & 0 & 0 & 0\\\\\n\t5 & 1 & 0 & 0 & 0 & 0 & 0 & 0 & 0 & 0 & 0 & ⋯ & 0 & 0 & 0 & 0 & 0 & 0 & 0 & 0 & 0 & 0\\\\\n\t6 & 4 & 0 & 0 & 0 & 0 & 0 & 0 & 0 & 0 & 0 & ⋯ & 0 & 0 & 0 & 0 & 0 & 0 & 0 & 0 & 0 & 0\\\\\n\\end{tabular}\n",
            "text/plain": [
              "  X7 X0 X0.1 X0.2 X0.3 X0.4 X0.5 X0.6 X0.7 X0.8 ⋯ X0.658 X0.659 X0.660 X0.661\n",
              "1 2  0  0    0    0    0    0    0    0    0    ⋯ 0      0      0      0     \n",
              "2 1  0  0    0    0    0    0    0    0    0    ⋯ 0      0      0      0     \n",
              "3 0  0  0    0    0    0    0    0    0    0    ⋯ 0      0      0      0     \n",
              "4 4  0  0    0    0    0    0    0    0    0    ⋯ 0      0      0      0     \n",
              "5 1  0  0    0    0    0    0    0    0    0    ⋯ 0      0      0      0     \n",
              "6 4  0  0    0    0    0    0    0    0    0    ⋯ 0      0      0      0     \n",
              "  X0.662 X0.663 X0.664 X0.665 X0.666 X0.667\n",
              "1 0      0      0      0      0      0     \n",
              "2 0      0      0      0      0      0     \n",
              "3 0      0      0      0      0      0     \n",
              "4 0      0      0      0      0      0     \n",
              "5 0      0      0      0      0      0     \n",
              "6 0      0      0      0      0      0     "
            ]
          },
          "metadata": {}
        }
      ]
    },
    {
      "cell_type": "code",
      "source": [
        "head(vuelos)"
      ],
      "metadata": {
        "id": "kzK85Fx7_3vy",
        "outputId": "78192c34-56e2-4254-96d0-5e8a82319959",
        "colab": {
          "base_uri": "https://localhost:8080/",
          "height": 514
        }
      },
      "execution_count": 28,
      "outputs": [
        {
          "output_type": "display_data",
          "data": {
            "text/html": [
              "<table class=\"dataframe\">\n",
              "<caption>A data.frame: 6 × 19</caption>\n",
              "<thead>\n",
              "\t<tr><th></th><th scope=col>year</th><th scope=col>month</th><th scope=col>day</th><th scope=col>dep_time</th><th scope=col>sched_dep_time</th><th scope=col>dep_delay</th><th scope=col>arr_time</th><th scope=col>sched_arr_time</th><th scope=col>arr_delay</th><th scope=col>carrier</th><th scope=col>flight</th><th scope=col>tailnum</th><th scope=col>origin</th><th scope=col>dest</th><th scope=col>air_time</th><th scope=col>distance</th><th scope=col>hour</th><th scope=col>minute</th><th scope=col>time_hour</th></tr>\n",
              "\t<tr><th></th><th scope=col>&lt;int&gt;</th><th scope=col>&lt;int&gt;</th><th scope=col>&lt;int&gt;</th><th scope=col>&lt;int&gt;</th><th scope=col>&lt;int&gt;</th><th scope=col>&lt;int&gt;</th><th scope=col>&lt;int&gt;</th><th scope=col>&lt;int&gt;</th><th scope=col>&lt;int&gt;</th><th scope=col>&lt;chr&gt;</th><th scope=col>&lt;int&gt;</th><th scope=col>&lt;chr&gt;</th><th scope=col>&lt;chr&gt;</th><th scope=col>&lt;chr&gt;</th><th scope=col>&lt;int&gt;</th><th scope=col>&lt;int&gt;</th><th scope=col>&lt;int&gt;</th><th scope=col>&lt;int&gt;</th><th scope=col>&lt;chr&gt;</th></tr>\n",
              "</thead>\n",
              "<tbody>\n",
              "\t<tr><th scope=row>1</th><td>2013</td><td>1</td><td>1</td><td>517</td><td>515</td><td> 2</td><td> 830</td><td> 819</td><td> 11</td><td>UA</td><td>1545</td><td>N14228</td><td>EWR</td><td>IAH</td><td>227</td><td>1400</td><td>5</td><td>15</td><td>2013-01-01 05:00:00</td></tr>\n",
              "\t<tr><th scope=row>2</th><td>2013</td><td>1</td><td>1</td><td>533</td><td>529</td><td> 4</td><td> 850</td><td> 830</td><td> 20</td><td>UA</td><td>1714</td><td>N24211</td><td>LGA</td><td>IAH</td><td>227</td><td>1416</td><td>5</td><td>29</td><td>2013-01-01 05:00:00</td></tr>\n",
              "\t<tr><th scope=row>3</th><td>2013</td><td>1</td><td>1</td><td>542</td><td>540</td><td> 2</td><td> 923</td><td> 850</td><td> 33</td><td>AA</td><td>1141</td><td>N619AA</td><td>JFK</td><td>MIA</td><td>160</td><td>1089</td><td>5</td><td>40</td><td>2013-01-01 05:00:00</td></tr>\n",
              "\t<tr><th scope=row>4</th><td>2013</td><td>1</td><td>1</td><td>544</td><td>545</td><td>-1</td><td>1004</td><td>1022</td><td>-18</td><td>B6</td><td> 725</td><td>N804JB</td><td>JFK</td><td>BQN</td><td>183</td><td>1576</td><td>5</td><td>45</td><td>2013-01-01 05:00:00</td></tr>\n",
              "\t<tr><th scope=row>5</th><td>2013</td><td>1</td><td>1</td><td>554</td><td>600</td><td>-6</td><td> 812</td><td> 837</td><td>-25</td><td>DL</td><td> 461</td><td>N668DN</td><td>LGA</td><td>ATL</td><td>116</td><td> 762</td><td>6</td><td> 0</td><td>2013-01-01 06:00:00</td></tr>\n",
              "\t<tr><th scope=row>6</th><td>2013</td><td>1</td><td>1</td><td>554</td><td>558</td><td>-4</td><td> 740</td><td> 728</td><td> 12</td><td>UA</td><td>1696</td><td>N39463</td><td>EWR</td><td>ORD</td><td>150</td><td> 719</td><td>5</td><td>58</td><td>2013-01-01 05:00:00</td></tr>\n",
              "</tbody>\n",
              "</table>\n"
            ],
            "text/markdown": "\nA data.frame: 6 × 19\n\n| <!--/--> | year &lt;int&gt; | month &lt;int&gt; | day &lt;int&gt; | dep_time &lt;int&gt; | sched_dep_time &lt;int&gt; | dep_delay &lt;int&gt; | arr_time &lt;int&gt; | sched_arr_time &lt;int&gt; | arr_delay &lt;int&gt; | carrier &lt;chr&gt; | flight &lt;int&gt; | tailnum &lt;chr&gt; | origin &lt;chr&gt; | dest &lt;chr&gt; | air_time &lt;int&gt; | distance &lt;int&gt; | hour &lt;int&gt; | minute &lt;int&gt; | time_hour &lt;chr&gt; |\n|---|---|---|---|---|---|---|---|---|---|---|---|---|---|---|---|---|---|---|---|\n| 1 | 2013 | 1 | 1 | 517 | 515 |  2 |  830 |  819 |  11 | UA | 1545 | N14228 | EWR | IAH | 227 | 1400 | 5 | 15 | 2013-01-01 05:00:00 |\n| 2 | 2013 | 1 | 1 | 533 | 529 |  4 |  850 |  830 |  20 | UA | 1714 | N24211 | LGA | IAH | 227 | 1416 | 5 | 29 | 2013-01-01 05:00:00 |\n| 3 | 2013 | 1 | 1 | 542 | 540 |  2 |  923 |  850 |  33 | AA | 1141 | N619AA | JFK | MIA | 160 | 1089 | 5 | 40 | 2013-01-01 05:00:00 |\n| 4 | 2013 | 1 | 1 | 544 | 545 | -1 | 1004 | 1022 | -18 | B6 |  725 | N804JB | JFK | BQN | 183 | 1576 | 5 | 45 | 2013-01-01 05:00:00 |\n| 5 | 2013 | 1 | 1 | 554 | 600 | -6 |  812 |  837 | -25 | DL |  461 | N668DN | LGA | ATL | 116 |  762 | 6 |  0 | 2013-01-01 06:00:00 |\n| 6 | 2013 | 1 | 1 | 554 | 558 | -4 |  740 |  728 |  12 | UA | 1696 | N39463 | EWR | ORD | 150 |  719 | 5 | 58 | 2013-01-01 05:00:00 |\n\n",
            "text/latex": "A data.frame: 6 × 19\n\\begin{tabular}{r|lllllllllllllllllll}\n  & year & month & day & dep\\_time & sched\\_dep\\_time & dep\\_delay & arr\\_time & sched\\_arr\\_time & arr\\_delay & carrier & flight & tailnum & origin & dest & air\\_time & distance & hour & minute & time\\_hour\\\\\n  & <int> & <int> & <int> & <int> & <int> & <int> & <int> & <int> & <int> & <chr> & <int> & <chr> & <chr> & <chr> & <int> & <int> & <int> & <int> & <chr>\\\\\n\\hline\n\t1 & 2013 & 1 & 1 & 517 & 515 &  2 &  830 &  819 &  11 & UA & 1545 & N14228 & EWR & IAH & 227 & 1400 & 5 & 15 & 2013-01-01 05:00:00\\\\\n\t2 & 2013 & 1 & 1 & 533 & 529 &  4 &  850 &  830 &  20 & UA & 1714 & N24211 & LGA & IAH & 227 & 1416 & 5 & 29 & 2013-01-01 05:00:00\\\\\n\t3 & 2013 & 1 & 1 & 542 & 540 &  2 &  923 &  850 &  33 & AA & 1141 & N619AA & JFK & MIA & 160 & 1089 & 5 & 40 & 2013-01-01 05:00:00\\\\\n\t4 & 2013 & 1 & 1 & 544 & 545 & -1 & 1004 & 1022 & -18 & B6 &  725 & N804JB & JFK & BQN & 183 & 1576 & 5 & 45 & 2013-01-01 05:00:00\\\\\n\t5 & 2013 & 1 & 1 & 554 & 600 & -6 &  812 &  837 & -25 & DL &  461 & N668DN & LGA & ATL & 116 &  762 & 6 &  0 & 2013-01-01 06:00:00\\\\\n\t6 & 2013 & 1 & 1 & 554 & 558 & -4 &  740 &  728 &  12 & UA & 1696 & N39463 & EWR & ORD & 150 &  719 & 5 & 58 & 2013-01-01 05:00:00\\\\\n\\end{tabular}\n",
            "text/plain": [
              "  year month day dep_time sched_dep_time dep_delay arr_time sched_arr_time\n",
              "1 2013 1     1   517      515             2         830      819          \n",
              "2 2013 1     1   533      529             4         850      830          \n",
              "3 2013 1     1   542      540             2         923      850          \n",
              "4 2013 1     1   544      545            -1        1004     1022          \n",
              "5 2013 1     1   554      600            -6         812      837          \n",
              "6 2013 1     1   554      558            -4         740      728          \n",
              "  arr_delay carrier flight tailnum origin dest air_time distance hour minute\n",
              "1  11       UA      1545   N14228  EWR    IAH  227      1400     5    15    \n",
              "2  20       UA      1714   N24211  LGA    IAH  227      1416     5    29    \n",
              "3  33       AA      1141   N619AA  JFK    MIA  160      1089     5    40    \n",
              "4 -18       B6       725   N804JB  JFK    BQN  183      1576     5    45    \n",
              "5 -25       DL       461   N668DN  LGA    ATL  116       762     6     0    \n",
              "6  12       UA      1696   N39463  EWR    ORD  150       719     5    58    \n",
              "  time_hour          \n",
              "1 2013-01-01 05:00:00\n",
              "2 2013-01-01 05:00:00\n",
              "3 2013-01-01 05:00:00\n",
              "4 2013-01-01 05:00:00\n",
              "5 2013-01-01 06:00:00\n",
              "6 2013-01-01 05:00:00"
            ]
          },
          "metadata": {}
        }
      ]
    },
    {
      "cell_type": "code",
      "source": [],
      "metadata": {
        "id": "f3m_XfA7Bl2v"
      },
      "execution_count": null,
      "outputs": []
    },
    {
      "cell_type": "code",
      "metadata": {
        "trusted": true,
        "id": "XH_T6QWVRPyN"
      },
      "source": [
        "# Podemos inspeccionar los datos cargados\n",
        "# Para ello son de utilidad las funciones head() y summary()\n",
        "# ¿Cuántos registros tienen las tablas?\n"
      ],
      "execution_count": null,
      "outputs": []
    },
    {
      "cell_type": "code",
      "metadata": {
        "trusted": true,
        "id": "lnAkEF3NRPyQ"
      },
      "source": [
        "summary(vuelos)"
      ],
      "execution_count": null,
      "outputs": []
    },
    {
      "cell_type": "code",
      "metadata": {
        "trusted": true,
        "id": "OlWowRWVRPyS"
      },
      "source": [
        "#glimpse() o str()\n"
      ],
      "execution_count": null,
      "outputs": []
    },
    {
      "cell_type": "markdown",
      "metadata": {
        "id": "jAHBUxNxRPyV"
      },
      "source": [
        "## 4. Funciones básicas de dplyr\n",
        "\n",
        "A continuación exploraremos los datos de vuelos utilizando la librería dplyr.\n",
        "\n",
        "### 4.1 Función filter()\n",
        "\n",
        "La función filter() de dplyr es el equivalente a la sentencia where de sql."
      ]
    },
    {
      "cell_type": "code",
      "metadata": {
        "trusted": true,
        "scrolled": true,
        "id": "mv1lhelWRPyV"
      },
      "source": [
        "# filter() # where de sql----------------------------------------------------------------\n",
        "# Registros que tengan fecha 31 de diciembre\n",
        "# Antes\n",
        "# Ahora"
      ],
      "execution_count": null,
      "outputs": []
    },
    {
      "cell_type": "markdown",
      "metadata": {
        "id": "H4FP6WNIRPyY"
      },
      "source": [
        "### 4.2 Función count()\n",
        "\n",
        "Como su nombre lo indica, esta función nos permite contar registros de una tabla. Es de suma utilidad cuando se utiliza dentro de agrupaciones de tablas. Estas últimas las veremos más adelante.\n",
        "\n",
        "Alternativamente, en la librería _dplyr_, contamos con la función `N()` la cual también retorna el conteo de registros."
      ]
    },
    {
      "cell_type": "code",
      "metadata": {
        "trusted": true,
        "id": "LmMG115pRPyY"
      },
      "source": [
        "# count() y N() ----------------------------------------------------------------\n",
        "# ¿Cuántos vuelos hay registrados para el 25 de dic?¿y el primero de enero?\n",
        "\n"
      ],
      "execution_count": null,
      "outputs": []
    },
    {
      "cell_type": "code",
      "metadata": {
        "trusted": true,
        "id": "pvkqzxk3RPyf"
      },
      "source": [
        "#si quisiéramos guardar resgidtros en el disco, una manera es usando write.csv()\n",
        "\n"
      ],
      "execution_count": null,
      "outputs": []
    },
    {
      "cell_type": "code",
      "metadata": {
        "trusted": true,
        "id": "SIuMwcy8RPyh"
      },
      "source": [
        "# ¿Cuántos vuelos hay registrados entre noviembre y diciembre?¿A qué porcentaje del total corresponde?\n"
      ],
      "execution_count": null,
      "outputs": []
    },
    {
      "cell_type": "code",
      "metadata": {
        "trusted": true,
        "id": "3XFpG_fYRPyj"
      },
      "source": [
        "# ¿Qué porcentaje de vuelos tienen un retraso  (de salida o llegada) mayor a una hora?\n",
        "\n",
        "#columnas arr_delay o dep_delay\n"
      ],
      "execution_count": null,
      "outputs": []
    },
    {
      "cell_type": "code",
      "metadata": {
        "trusted": true,
        "id": "qnB-hTU-RPyl"
      },
      "source": [
        "# ¿Cuántos vuelos llegaron con al menos dos horas de retraso pero no se retrasaron al partir?\n"
      ],
      "execution_count": null,
      "outputs": []
    },
    {
      "cell_type": "markdown",
      "metadata": {
        "id": "zr5FIczKRPym"
      },
      "source": [
        "### 4.3 Función arrange()\n",
        "\n",
        "Esta función nos permite ordernar registros basándose en la indexación de alguna columna. Es el equivalente a la sentencia `order by` en sql.\n",
        "Esta función recibe como argumento principal un dataset a ordenar, y los nombres de las columnas por las cuales se quiere ordenar. Para más información consultar la ayuda de esta función (?arrange)\n"
      ]
    },
    {
      "cell_type": "code",
      "metadata": {
        "trusted": true,
        "id": "aGK8DaZVRPyn"
      },
      "source": [
        "# arrange() ----------------------------------------------------------------\n",
        "# Ejemplo, podemos ordenar la data flights por mes y arr_delay\n",
        "\n"
      ],
      "execution_count": null,
      "outputs": []
    },
    {
      "cell_type": "markdown",
      "metadata": {
        "id": "7HrxhqMGRPyp"
      },
      "source": [
        "### 4.3 Funciones select() y rename()\n",
        "\n",
        "La con la función `select` podemos seleccionar un subconjunto de columas de la tabla original. A difernecia de SQL en esta sentencia no podremos crear nuevas columnas, sólo renombrarlas en algunos casos. Notar que (obviamente) no se mantienen las columnas que no ingresan como argumento a la función.\n",
        "\n",
        "La función rename() permite renombrar columnas existentes, manteniendo las columnas que no se están renombrando."
      ]
    },
    {
      "cell_type": "code",
      "metadata": {
        "trusted": true,
        "id": "he9R_3AURPyp"
      },
      "source": [
        "# select() y rename() ----------------------------------------------------------------\n",
        "# Ejemplo: Podemos seleccionar las columnas year, month, day, origin, dest\n",
        "\n",
        "# Cómo lo haríamos con la sintaxis básica? (recorr como acceder a través del nombre a un vector, matrix, lista, o data.frame)\n",
        "\n",
        "\n"
      ],
      "execution_count": null,
      "outputs": []
    },
    {
      "cell_type": "code",
      "metadata": {
        "trusted": true,
        "scrolled": false,
        "id": "HFlJeLmMRPyr"
      },
      "source": [
        "# podemos renombrar la columna year\n",
        ")\n",
        "\n",
        "# NOTA: esto no modifica el dataset original\n"
      ],
      "execution_count": null,
      "outputs": []
    },
    {
      "cell_type": "code",
      "metadata": {
        "trusted": true,
        "id": "Hg-abspERPyw"
      },
      "source": [
        "#Existe gran variedad (pueden consultar la documentación respectiva)  de otras funciones dentro del package dplyr, por ejemplo: Seleccionar solo las variables que comiencen con \"d\"\n",
        "# para su estudio\n",
        "\n"
      ],
      "execution_count": null,
      "outputs": []
    },
    {
      "cell_type": "code",
      "metadata": {
        "trusted": true,
        "id": "hBiqCaokRPyy"
      },
      "source": [],
      "execution_count": null,
      "outputs": []
    },
    {
      "cell_type": "markdown",
      "metadata": {
        "id": "6k5I_iHZRPy0"
      },
      "source": [
        "### 4.4 Función mutate()\n",
        "\n",
        "Una de las funciones más útiles de dplyr es la función mutate(), la cual permite crear nuevas columnas, o modificar las existentes."
      ]
    },
    {
      "cell_type": "code",
      "metadata": {
        "trusted": true,
        "scrolled": false,
        "id": "id5cyTJ2RPy0"
      },
      "source": [
        "# mutate() ----------------------------------------------------------------\n",
        "# Crear una nueva columna llamada retraso_neto, que contenga la suma de arr_delay y dep_delay\n",
        "\n",
        "#antes\n",
        "\n",
        "#ahora\n",
        "\n",
        "# Recordar que esta nueva columna solo existe en la ejecución y no se ha modificado el dataset original.\n"
      ],
      "execution_count": null,
      "outputs": []
    },
    {
      "cell_type": "code",
      "metadata": {
        "trusted": true,
        "id": "jwsvIq-eRPy2"
      },
      "source": [
        "# Primero defina una nueva data llamada muestra_fl que contenga la fecha, los retrasos, la distancia, y el tiempo de vuelo\n",
        "# Cree una columna llamada gain que contenga la diferenecia entre arr_delay y dep_delay, y otra llamada speed que mida la velocidad en horas (distancia / tiempo de vuelo * 60)\n"
      ],
      "execution_count": null,
      "outputs": []
    },
    {
      "cell_type": "markdown",
      "metadata": {
        "id": "wk8Qt1ICRPy4"
      },
      "source": [
        "### Operador %>%\n",
        "\n",
        "El operador estrella de dplyr. Funciona como una composición de funciones, y nos permite generar _pipe-lines_, permitiendo  que la generación  del código sea más ordenada, y con ello, su lectura más sencilla.\n",
        "\n",
        "Este operdaor actua de la sifuiente manera, <br>\n",
        "\n",
        "    x %>% f(y) , es equivalente a,  f(x,y)\n",
        "\n"
      ]
    },
    {
      "cell_type": "code",
      "metadata": {
        "trusted": true,
        "id": "8s1tOO0RRPy4"
      },
      "source": [
        "# Operador %>% ----------------------------------------------------------------\n",
        "# Ejemplo sencillo\n",
        "\n",
        "# head(vuelos)\n",
        "\n",
        "\n",
        "# Utilizando %>%\n",
        "\n",
        "\n"
      ],
      "execution_count": null,
      "outputs": []
    },
    {
      "cell_type": "code",
      "metadata": {
        "trusted": true,
        "id": "6nBWGFwsRPy6"
      },
      "source": [
        "# Genere el conteo de vuelos por mes y día,\n",
        "# luego filtre por aquellos registros donde el día es 1,\n",
        "# ordene de manera descendiente por n,\n",
        "# finalmente muestra la cabecera del dataset resultante.\n",
        "\n",
        "## ANTES\n"
      ],
      "execution_count": null,
      "outputs": []
    },
    {
      "cell_type": "code",
      "metadata": {
        "trusted": true,
        "id": "Hckg9wkGRPy8"
      },
      "source": [
        "# Genere el conteo de vuelos por mes y día,\n",
        "# luego filtre por aquellos registros donde el día es 1,\n",
        "# ordene de manera descendiente por n,\n",
        "# finalmente muestra la cabecera del dataset resultante.\n",
        "\n",
        "## AHORA\n",
        "\n"
      ],
      "execution_count": null,
      "outputs": []
    },
    {
      "cell_type": "code",
      "metadata": {
        "trusted": true,
        "id": "Ml1egmO7RPy-"
      },
      "source": [
        "# A la onsulta anterior podríamos agregar una nueva columna indicando si el totalde vuelos es mayor a 970\n"
      ],
      "execution_count": null,
      "outputs": []
    },
    {
      "cell_type": "code",
      "metadata": {
        "trusted": true,
        "id": "eRuQuH-oRPzA"
      },
      "source": [
        "# Genere una nueva variable llamada day2 que pegue un \"0\"\n",
        "# a la variable day si es que esta contiene un dígito del 1 al 9.\n",
        "# Para pegar cadena de caracteres sin espacios puede utilizar\n",
        "# la función paste0\n",
        "\n",
        "#?paste0, ?nchar\n",
        "\n",
        "\n"
      ],
      "execution_count": null,
      "outputs": []
    },
    {
      "cell_type": "code",
      "metadata": {
        "trusted": true,
        "id": "Md5AK7xfRPzE"
      },
      "source": [
        "# Con esta variable genere un entero llamado fecha, que concatena year,month y day 2."
      ],
      "execution_count": null,
      "outputs": []
    },
    {
      "cell_type": "markdown",
      "metadata": {
        "id": "kEFrLb_zRPzG"
      },
      "source": [
        "### 4.5 Función group_by() y summarise()\n",
        "\n",
        "La función `summarise()` calcula medidas agregadas sobre columnas, mientras que la función `group_by`, genera un data.frame \"en bloques\" dados por la(s) columna(s) ingresadas como parámetros en la función.\n",
        "\n"
      ]
    },
    {
      "cell_type": "code",
      "metadata": {
        "trusted": true,
        "id": "4ytKeSHGRPzG"
      },
      "source": [
        "# group_by() y summarise() ----------------------------------------------------------------\n",
        "# Ejemplo sencillo\n",
        "exam2 <- data.frame(\n",
        "  x = c(1:5),\n",
        "  y = c(7:11),\n",
        "  z = c(\"A\", \"B\", \"A\", \"B\", \"C\")\n",
        ")\n",
        "exam2\n"
      ],
      "execution_count": null,
      "outputs": []
    },
    {
      "cell_type": "code",
      "metadata": {
        "trusted": true,
        "id": "wyjN-OYiRPzI"
      },
      "source": [
        "# Podemos generar un número de fila por cada grupo\n"
      ],
      "execution_count": null,
      "outputs": []
    },
    {
      "cell_type": "code",
      "metadata": {
        "trusted": true,
        "id": "nqMyjd6aRPzK"
      },
      "source": [
        "# 1) Aplicar la función summarise a la columna 'y' y calcular su promedio\n",
        "\n",
        "\n",
        "# 2) Generar grupos según la variable z. (a diferencia de sql, el comando group_by() no requiere de una medida agregada para que este funcione.)\n",
        "# select z, avg(x) mean_x, sum(x) tot_x from exam2 group by z\n",
        "\n"
      ],
      "execution_count": null,
      "outputs": []
    },
    {
      "cell_type": "code",
      "metadata": {
        "trusted": true,
        "id": "4-Ru4aPVRPzL"
      },
      "source": [
        "# 3) Calcular media de x e y en cada valor de z.\n",
        "# podemos calcular máximos y mínimos\n"
      ],
      "execution_count": null,
      "outputs": []
    },
    {
      "cell_type": "code",
      "metadata": {
        "trusted": true,
        "id": "o837pCUtRPzU"
      },
      "source": [
        "# promedio de retraso de llegada por origen-destino\n",
        "\n"
      ],
      "execution_count": null,
      "outputs": []
    },
    {
      "cell_type": "code",
      "metadata": {
        "trusted": true,
        "id": "DsrFjp7oRPzW"
      },
      "source": [
        "# ¿Cuáles son los aeropuertos de destino con mayor retraso medio en su llegada?\n",
        "\n"
      ],
      "execution_count": null,
      "outputs": []
    },
    {
      "cell_type": "code",
      "metadata": {
        "trusted": true,
        "id": "Cb8r9XleRPzX"
      },
      "source": [
        "# los podemos remover mediante el argumento na.rm de la función mean()\n"
      ],
      "execution_count": null,
      "outputs": []
    },
    {
      "cell_type": "code",
      "metadata": {
        "trusted": true,
        "id": "CH9XRbK8RPzZ"
      },
      "source": [
        "# si quisiéramos ratar los NA's, podemos hacerlo de la sgte. manera\n",
        "\n",
        "#consultamos los NA en arr_delay\n",
        "\n",
        "# Recordar que NA == NA retorna NA . is.na(NA) retorna TRUE\n",
        "\n"
      ],
      "execution_count": null,
      "outputs": []
    },
    {
      "cell_type": "code",
      "metadata": {
        "trusted": true,
        "id": "H_X1J0OyRPzc"
      },
      "source": [
        "# Si queremos reemplazar los NA's por el promedio de arr_delay (?)\n",
        "\n"
      ],
      "execution_count": null,
      "outputs": []
    },
    {
      "cell_type": "code",
      "metadata": {
        "trusted": true,
        "id": "KM0gkGfVRPze"
      },
      "source": [
        "# ¿Cuál es el promedio de arr_delay y distance por cada aeropuerto de destino?¿Cuántos vuelos llegaron acada uno de los destinos?. Ayuda: Recuerde que el conteo se puede determinar de dos maneras: con la función count() o con la función n().\n",
        "\n",
        ")\n",
        "\n"
      ],
      "execution_count": null,
      "outputs": []
    },
    {
      "cell_type": "markdown",
      "metadata": {
        "id": "0AaOeJiZRPzj"
      },
      "source": [
        "### 4.6 Función sample_n() y sample_frac()\n",
        "\n",
        "Estas funciones nos permitirán extraer muestras aleatorias de nuestros conjuntos de datos. Esto será de suma importancia cuando trabajemos con modelos de ML."
      ]
    },
    {
      "cell_type": "code",
      "metadata": {
        "trusted": true,
        "id": "Ggzl8QxDRPzk"
      },
      "source": [
        "# sample_n() y sample_frac()-------------------------------------------------------------\n",
        "\n",
        "# muestra aleatoria de 100 registros de vuelos\n",
        "\n",
        "\n",
        "\n"
      ],
      "execution_count": null,
      "outputs": []
    }
  ]
}