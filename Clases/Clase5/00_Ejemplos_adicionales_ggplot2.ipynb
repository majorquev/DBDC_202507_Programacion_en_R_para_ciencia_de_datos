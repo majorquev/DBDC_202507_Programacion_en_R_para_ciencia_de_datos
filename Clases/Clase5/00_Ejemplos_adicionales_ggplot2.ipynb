{
  "nbformat": 4,
  "nbformat_minor": 0,
  "metadata": {
    "colab": {
      "provenance": [],
      "authorship_tag": "ABX9TyPCSSt88ziZOeYpX618Oy5m",
      "include_colab_link": true
    },
    "kernelspec": {
      "name": "ir",
      "display_name": "R"
    }
  },
  "cells": [
    {
      "cell_type": "markdown",
      "metadata": {
        "id": "view-in-github",
        "colab_type": "text"
      },
      "source": [
        "<a href=\"https://colab.research.google.com/github/majorquev/DBDC_202507_Programacion_en_R_para_ciencia_de_datos/blob/main/Clases/Clase5/00_Ejemplos_adicionales_ggplot2.ipynb\" target=\"_parent\"><img src=\"https://colab.research.google.com/assets/colab-badge.svg\" alt=\"Open In Colab\"/></a>"
      ]
    },
    {
      "cell_type": "markdown",
      "metadata": {
        "id": "VLMi3JOkFK4G"
      },
      "source": [
        "#Ejemplos adicionales ggplot2\n",
        "\n",
        "**Autor:** Miguel Jorquera Viguera.<br>\n",
        "**E-mail:** majorquev@gmail.com<br>\n",
        "**Ayudante:** Rodrigo Morales<br>\n",
        "**E-mail ayudante:** rumorale1@gmail.com"
      ]
    },
    {
      "cell_type": "code",
      "metadata": {
        "colab": {
          "base_uri": "https://localhost:8080/"
        },
        "id": "Fwp5z57oEzDX",
        "outputId": "900f3a4f-818e-4669-d106-56b2a37a043f"
      },
      "source": [
        "#install.packages(\"nycflights13\")"
      ],
      "execution_count": null,
      "outputs": [
        {
          "output_type": "stream",
          "text": [
            "Installing package into ‘/usr/local/lib/R/site-library’\n",
            "(as ‘lib’ is unspecified)\n",
            "\n"
          ],
          "name": "stderr"
        }
      ]
    },
    {
      "cell_type": "code",
      "metadata": {
        "id": "qQA-tC0yEcuM"
      },
      "source": [
        "library(ggplot2)\n",
        "library(dplyr)\n",
        "library(nycflights13)\n"
      ],
      "execution_count": null,
      "outputs": []
    },
    {
      "cell_type": "markdown",
      "metadata": {
        "id": "Fuyn0yaDFVTF"
      },
      "source": [
        "## `stat_bin()`: Permite generar bines en la data y visualizar etiquetas entre otros elementos\n",
        "\n",
        "1.- Creamos un histograma con 10 bins, y visualizaremos los conteos en etiquetas sobre cada barra del histograma. Para ello considerar a función `stat_bin` con parámetros `geom = 'label'`, y `mapping = aes(label=..count..)`."
      ]
    },
    {
      "cell_type": "code",
      "metadata": {
        "id": "Nc17pOg5EfXS"
      },
      "source": [
        "library(ggplot2)\n",
        "library(dplyr)\n",
        "# Histograma de frecuencias absolutas con R base.\n",
        "set.seed(15)\n",
        "data<-data.frame(x = rnorm(1000))\n",
        "\n",
        "\n",
        "\n",
        "\n"
      ],
      "execution_count": null,
      "outputs": []
    },
    {
      "cell_type": "markdown",
      "metadata": {
        "id": "7iFLYvy5wl1U"
      },
      "source": [
        "2.- Misma Visualización pero con Ggplot2 y etiquetas con `stat_bin()` y `geom = label`"
      ]
    },
    {
      "cell_type": "code",
      "source": [],
      "metadata": {
        "id": "xSFUdzFBy-Pw"
      },
      "execution_count": null,
      "outputs": []
    },
    {
      "cell_type": "markdown",
      "source": [
        "3.- Histograma de densidades, mismas visualizaciones.\n",
        " > Recordar: [Tipos de histogramas](https://math.stackexchange.com/questions/2666834/what-is-the-difference-between-frequency-and-density-in-a-histogram)\n",
        "\n"
      ],
      "metadata": {
        "id": "nYIL-88kwNTL"
      }
    },
    {
      "cell_type": "code",
      "metadata": {
        "id": "RHIsvRACEfcV"
      },
      "source": [
        "# R base\n",
        "\n",
        "# ggplot2\n"
      ],
      "execution_count": null,
      "outputs": []
    },
    {
      "cell_type": "markdown",
      "metadata": {
        "id": "BGwo0wk0FsYW"
      },
      "source": [
        "## `theme()`: Permite modificar diversos parámetros gráficos, en particualar la orientación de los ejes.\n",
        "\n",
        "En este ejemplo consideraremos la data de vuelos, para lo cual buscaremos visualizar la serie que contiene el total de vuelos por cada día.\n",
        "Adicionalmente modificaremos la orientación de las etiquetas del eje X mediante la función `theme()`."
      ]
    },
    {
      "cell_type": "code",
      "metadata": {
        "id": "QYn0IC1sEfZ-"
      },
      "source": [
        "\n",
        "# Orientación etiquetas ejes ----------------------------------------------\n",
        "data(flights)\n",
        "\n",
        "# A modo de ejemplo podemos visulizar el total de vuelos por día .\n",
        "# Primero podemos generar est resumen de vuelos en un df\n"
      ],
      "execution_count": null,
      "outputs": []
    },
    {
      "cell_type": "code",
      "source": [
        "\n",
        "# La función element_text() permite modificar orientación, y ajste vertical y hoizontal\n"
      ],
      "metadata": {
        "id": "TlL-KWb40B8W"
      },
      "execution_count": null,
      "outputs": []
    },
    {
      "cell_type": "markdown",
      "metadata": {
        "id": "PhWbJSlkGmsj"
      },
      "source": [
        "## `geom_bar()`, `geom_label()`: Al igual que `geom_text()`, permite añadir etiquetas en la visualización, sin la necesidad de generar manualmente los bins.\n",
        "\n",
        " 1. Construir un gráfico de barras con el total de vuelos por cada carrier.\n",
        "\n"
      ]
    },
    {
      "cell_type": "code",
      "metadata": {
        "id": "Pwdc5bkNHJHb"
      },
      "source": [
        "data(flights)"
      ],
      "execution_count": null,
      "outputs": []
    },
    {
      "cell_type": "code",
      "source": [],
      "metadata": {
        "id": "g58dq__B0ZFn"
      },
      "execution_count": null,
      "outputs": []
    },
    {
      "cell_type": "markdown",
      "source": [
        " 2. Construir un gráfico de barras con el total de vuelos por cada carrier, pero considerando un dataframe con los conteos ya calculados.\n"
      ],
      "metadata": {
        "id": "Azhogdha0SXq"
      }
    },
    {
      "cell_type": "code",
      "metadata": {
        "id": "Dekuyj_HEfN0"
      },
      "source": [
        "# Contamos con las capas geom_label y geom_text ---------------------------------\n",
        "# Para ello visualizaremos los 4 aeropuertos de destino con mayor cantidad de vuelos, por cada aeropuerto de origen\n",
        "\n",
        "\n",
        "# conteo por origen destino -----------------------------------------------------\n",
        "\n",
        "\n",
        "# 4 aeropuertos de destino, con mayor cantidad de vuelos por cada origen --------\n"
      ],
      "execution_count": null,
      "outputs": []
    },
    {
      "cell_type": "markdown",
      "source": [
        "3. Añada etiquetas con los totales de vuelos en cada barra"
      ],
      "metadata": {
        "id": "FXza8_sD0dQ1"
      }
    },
    {
      "cell_type": "code",
      "source": [],
      "metadata": {
        "id": "2t-g238i0cp0"
      },
      "execution_count": null,
      "outputs": []
    },
    {
      "cell_type": "markdown",
      "source": [
        " 4. Considere un gráfico con los totales de vuelos por aeropuerto de destino, pero solo muestre aeropuertos de destino de ranking 1, 10 y 20 (según su cantidad de vuelos, donde 1 representa al aeropuerto de destino con mayor cantidad de vuelos)."
      ],
      "metadata": {
        "id": "qsW-SFxN0oJZ"
      }
    },
    {
      "cell_type": "code",
      "source": [],
      "metadata": {
        "id": "I-wBF-_v0pr7"
      },
      "execution_count": null,
      "outputs": []
    },
    {
      "cell_type": "markdown",
      "source": [
        " 5. Para los aeropuertos identificados en el punto dos, construir un gráfico de barras stackeado (stacked barchart) que muestre el total de vuelos por aeropuerto de origen."
      ],
      "metadata": {
        "id": "tPBrLtIQ0sGq"
      }
    },
    {
      "cell_type": "code",
      "source": [],
      "metadata": {
        "id": "9TiisuH60uD6"
      },
      "execution_count": null,
      "outputs": []
    }
  ]
}