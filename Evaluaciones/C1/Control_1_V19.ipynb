{
  "nbformat": 4,
  "nbformat_minor": 0,
  "metadata": {
    "colab": {
      "provenance": [],
      "include_colab_link": true
    },
    "kernelspec": {
      "name": "ir",
      "display_name": "R"
    }
  },
  "cells": [
    {
      "cell_type": "markdown",
      "metadata": {
        "id": "view-in-github",
        "colab_type": "text"
      },
      "source": [
        "<a href=\"https://colab.research.google.com/github/majorquev/DBDC_202507_Programacion_en_R_para_ciencia_de_datos/blob/main/Evaluaciones/C1/Control_1_V19.ipynb\" target=\"_parent\"><img src=\"https://colab.research.google.com/assets/colab-badge.svg\" alt=\"Open In Colab\"/></a>"
      ]
    },
    {
      "cell_type": "markdown",
      "metadata": {
        "id": "SvIjRoDOw-lT"
      },
      "source": [
        "# Pauta Control 1: Sintaxis básica y manipulación de objetos simples en R\n"
      ]
    },
    {
      "cell_type": "markdown",
      "source": [
        "Nombre 1: _Puede incluir su nombre acá haciendo doble click_                                                                                                                                      <br>\n",
        "Nombre 2: _Puede incluir su nombre acá haciendo doble click_   \n",
        "\n",
        "# Instrucciones\n",
        "\n",
        "El siguiente test podrá desarrollarlo de manera individual o en pareja con otro(a) de sus compañeros(as).<br>\n",
        "\n",
        "Lea atentamente cada una de las preguntas propuestas y sea claro en los comentarios (si es que los incluye) de los desarrollos de sus respuestas. Para el desarrollo de las mismas, dispone de celdas de código después de cada pregunta. Sin embargo podrá agregar más celdas si así lo estima conveniente.<br>\n",
        "Las preguntas formuladas en este test pueden ser abordadas con las herramientas trabajadas en clases, sin embaro, usted podrá hacer uso de las funcionalidades y/o packages que estime convenientes, a menos que se indique explícitamente lo contrario.\n",
        "\n",
        "## Tiempo y entrega\n",
        "Dispondrán hasta el día jueves **31 de Julio** hasta las 23:59 hrs para hacer envío de sus respuestas.\n",
        "Una vez finalizado el desarrollo del test, deberá entregarlo teniendo en cuenta las siguientes consideraciones :\n",
        "\n",
        " * Descargue el notebook en **formato `*.ipynb`** (uno por pareja), e indique en el nombre del archivo los nombres de los integrantes, `Control1_nombres_integrantes.ipynb`.\n",
        "\n",
        " * En caso de trabajar en Rstudio, deberá enviar el script de extensión `*.R` con el siguiente nombre: `Control1_nombres_integrantes.R` , **procurando indicar con comentarios claros, qué pregunta está respondiendo en cada caso**.\n",
        " * Envíe el archivo al correo rumorale1@gmail.com, con copia a majorquev@gmail.com con el asunto \"DBDC-R-C1: 'nombre y apellido de los integrantes' \"\n",
        "\n",
        "**NOTA**:\n",
        "   * Los correos cuyo asunto no comiencen con \"DBDC-R-C1\" no llegarán a destino y por ende no serán calificados.\n",
        "   * Los archivos que no contengan nombre serán calificados con la nota mínima 1.0.\n",
        "   * Los correos enviados posterior a la fecha y hora de entrega indicados tendrán una penalización de 1 punto por día (o fracción) de retraso en la entrega, por ejemplo, si usted envía sus respuestas a las 00:05 hrs del viernes 01 de agosto, su nota máxima será un 6.0."
      ],
      "metadata": {
        "id": "oKAQPuY4FgGE"
      }
    },
    {
      "cell_type": "markdown",
      "source": [
        "# Sección 1\n",
        "\n",
        "La siguiente línea de código permite cargar en memoria, un objeto de extensión *.rds que está almacenado en el disco de la máquina en la ruta actual de trabajo.\n"
      ],
      "metadata": {
        "id": "3_7ETLQle6Th"
      }
    },
    {
      "cell_type": "markdown",
      "source": [
        "Para cargar el archivo a la sesión, deben dejar disponible el archivo llamado `perfiles.RDS` en el directorio de trabajo. Recuerden que en COLAB por defecto este es `./content`."
      ],
      "metadata": {
        "id": "ABsBqlNvUUCM"
      }
    },
    {
      "cell_type": "code",
      "source": [
        "perfiles <- readRDS(\"perfiles.rds\")"
      ],
      "metadata": {
        "id": "JpchDrO1e7Pw"
      },
      "execution_count": null,
      "outputs": []
    },
    {
      "cell_type": "markdown",
      "metadata": {
        "id": "V8C56DqZyrW2"
      },
      "source": [
        "\n",
        "Este archivo contiene la información de las tendencias salariales globales para roles en Ciencia de Datos, Aprendizaje Automático e Inteligencia Artificial.\n",
        "\n",
        "Esta información fue recopilada a partir de una combinación de investigación de mercado y fuentes de datos públicas —incluyendo la encuesta salarial de AIJobs (licencia CC0), 365DataScience, Payscale, KDnuggets, ZipRecruiter, entre otros— este conjunto de datos refleja patrones reales de compensación en todo el mundo (https://www.kaggle.com/datasets/adilshamim8/salaries-for-data-science-jobs).\n",
        "\n",
        "Dentro de la información disponible encontrarán los siguientes campos.\n",
        "\n",
        "**NOTA:** Deben tener en cuenta que el formato del archivo con el que trabajarán no viene estructurado de esta forma necesariamente, la siguiente tabla es solo ilustrativa y define el tipo de información que encontrarán.\n",
        "\n",
        "| Campo               | Descripción                                                                                          |\n",
        "|---------------------|------------------------------------------------------------------------------------------------------|\n",
        "| `work_year`         | Año en que se reportó el salario. Cubre desde 2020 hasta 2025.                                       |\n",
        "| `experience_level`  | Nivel de experiencia del empleado al momento del reporte. Valores comunes:                           |\n",
        "|                     | &nbsp;&nbsp;&nbsp;**EN**: Nivel inicial / Junior                                                    |\n",
        "|                     | &nbsp;&nbsp;&nbsp;**MI**: Nivel intermedio                                                          |\n",
        "|                     | &nbsp;&nbsp;&nbsp;**SE**: Nivel senior                                                              |\n",
        "|                     | &nbsp;&nbsp;&nbsp;**EX**: Ejecutivo / Director                                                      |\n",
        "| `employment_type`   | Tipo de contrato laboral:                                                                            |\n",
        "|                     | &nbsp;&nbsp;&nbsp;**FT**: Jornada completa (Full-time)                                              |\n",
        "|                     | &nbsp;&nbsp;&nbsp;**PT**: Medio tiempo (Part-time)                                                  |\n",
        "|                     | &nbsp;&nbsp;&nbsp;**CT**: Contrato (Contract)                                                       |\n",
        "|                     | &nbsp;&nbsp;&nbsp;**FL**: Freelance                                                                 |\n",
        "| `job_title`         | Título específico del puesto del empleado (por ejemplo: Data Scientist, ML Engineer, etc.).         |\n",
        "| `salary`            | Salario bruto anual en la moneda original reportada, antes de impuestos y deducciones.              |\n",
        "| `salary_currency`   | Moneda en la que se pagó originalmente el salario (ej.: USD, EUR, INR).                             |\n",
        "| `salary_in_usd`     | Salario convertido a USD utilizando tasas de cambio de 2025 para facilitar comparaciones.           |\n",
        "| `employee_residence`| País (código ISO 3166-1 alfa-2) donde reside el empleado. Puede diferir de la ubicación de la empresa. |\n",
        "| `remote_ratio`      | Porcentaje de trabajo remoto:                                                                       |\n",
        "|                     | &nbsp;&nbsp;&nbsp;**0**: Sin trabajo remoto (presencial)                                            |\n",
        "|                     | &nbsp;&nbsp;&nbsp;**50**: Híbrido (parcialmente remoto)                                             |\n",
        "|                     | &nbsp;&nbsp;&nbsp;**100**: Totalmente remoto                                                        |\n",
        "| `company_location`  | País (código ISO 3166-1 alfa-2) donde se encuentra la sede de la empresa.                          |\n",
        "| `company_size`      | Tamaño de la empresa empleadora:                                                                    |\n",
        "|                     | &nbsp;&nbsp;&nbsp;**S**: Pequeña (1–50 empleados)                                                   |\n",
        "|                     | &nbsp;&nbsp;&nbsp;**M**: Mediana (51–500 empleados)                                                 |\n",
        "|                     | &nbsp;&nbsp;&nbsp;**L**: Grande (más de 501 empleados)                                              |\n",
        "\n",
        "\n"
      ]
    },
    {
      "cell_type": "markdown",
      "metadata": {
        "id": "mA2dxeK6yrW9"
      },
      "source": [
        "## Pregunta 1.1\n",
        "\n",
        "**1a) (1pt)** ¿Qué clase de objetos es `perfiles`? <br>\n",
        "**1b) (1pt)** ¿Cuántos elementos posee este objeto? <br>\n",
        "NOTA: Cada uno de estos elementos corresponde a la categoría del perfil profesional.<br>\n",
        "**1c) (1pt)** ¿Cuáles son los nombres de este objeto?<br>\n",
        "**1d) (2pt)** ¿Qué clase de objeto está almacenado en el _slot_ llamado `Data_Science` y cuántos elementos posee?<br>\n",
        "NOTA: Cada uno de estos elementos corresponde a los niveles de experiencia dentro de los perfiles de la categoría `Data_Science`.<br>\n",
        "**1e) (2pt)** Dentro del _slot_ `Data_Science`, ¿qué clase de objeto está almacenado en la entrada llamada `MI` y cuántos elementos posee?. <br>\n",
        "NOTA: Este segundo nivel, corresponde al nivel de experiencia de los perfiles registrados por categoría (Pudiendo ser alguno de los siguientes:  `EN: Nivel inicial / Junior`; `MI: Nivel intermedio`;`SE: Nivel senior`;`EX: Ejecutivo / Director`). Así, por ejemplo, la información contenida en `perfiles$Data_Science$MI` corresponde a todos los registros de puestos de trabajo de la categoría \"Data_Science\" de nivel de experiencia Intermedio (MI)\n",
        "\n",
        "\n",
        "\n"
      ]
    },
    {
      "cell_type": "code",
      "metadata": {
        "trusted": true,
        "id": "cAV1etTgyrW-"
      },
      "source": [
        "# P1.1\n",
        "## Respusta"
      ],
      "execution_count": null,
      "outputs": []
    },
    {
      "cell_type": "markdown",
      "metadata": {
        "id": "ZVn0kUr4yrXA"
      },
      "source": [
        "## Pregunta 1.2\n",
        "\n",
        "**2a) (4pts)** Para cada nivel de experiencia (EN; MI; SE; EX), dentro de la categoría `AI_and_Machine_Learning`¿Cuántos perfiles se registraron con el cargo \"AI Architect\" y qué nivel de expriencia tiene la mayoría de los perfiles con este cargo? ¿Cuantos perfiles en total con este cargo se han registrado?.<br>\n",
        "**2b) (4pts)** Genere 4 nuevas variables llamadas `Analytics_and_BI_EN`, `Analytics_and_BI_MI`, `Analytics_and_BI_SE`, `Analytics_and_BI_EX` que contenga los data frames de cada nivel de experiencia para la categoría \"Analytics_and_BI\" (por ejemplo, la variable `Analytics_and_BI_EN` debe contener una dataframe de dimensión $5688\\times 10$).<br>\n",
        "**2c) (2pts)** Para cada dataframe del paso anterior, genere una nueva columna llamada `experience_level`, que repita el nivel de experiencia (En, MI, SE o EX)correspondiente por cada fila.<br>\n",
        "Por ejemplo, los 6 primeros registros de la variable (data frame) `Analytics_and_BI_EN` debe verse de la siguiente manera:\n",
        "\n",
        "![image.png](data:image/png;base64,iVBORw0KGgoAAAANSUhEUgAABR4AAAENCAYAAABpUnlhAAAAAXNSR0IArs4c6QAAAARnQU1BAACxjwv8YQUAAAAJcEhZcwAADsMAAA7DAcdvqGQAAG+uSURBVHhe7d1NaF1X2uj5Rze0m2u1kQSp+LqsjtF9CxE3IrzYTayGuF4i6lYmUU0ck4wcxzOHDOJBQsDQxg2BUDVIBiGeyY5HFVSZvMokuYVCJYFuB2xeCtEOIoVwkMvXqdCSyZUu7SbXvZ611t577e99pH2Ojo7+Pzj2Odrnc++118ezPvaQAAAAAAAAYCD9P//xP47814cPH/MPgW77b0+urv43f18IPAIAAAAAAAyov//ylw9laOh/8A+BrvpZ5H/7n+/e/b/8Q/l3/n8AAAAAAAAAaA2BRwAAAAAAAACtY6o1AAAAAADAgMpOtX706NGDITsjFmjFvzfp69/7+7mp1gQeAQAAAAAABlQ28Pj3//Af9v2vN2/+f/4hsC0mff2fJn1N+4es8QgAAAAAAACg+wg8AgAAAAAAAGgdgUcAAAAAAAAArSPwCAAAAAAAAKB1Q9PT04/8fQAAAAAAAAyQ+dVVeexREvo5PT4uPw9xrWG0493792Xy4UP/SOTtgwdled8+/4gRjwAAAAAAAAC6gBGPFWYvXZMzU8Oy+sVpufCh/yO26Ly8Nz8j4/6RbCzJ9bOXZcE/xC722nsy/5w5sncX5fQbV/wfK7xwSa69MiWydF3OXu5WCvDprcN0Fp3zkf4/92fl0rUzknzlVVk8fUEaHIVda/cdI7Sv/8uT8+/Py8zhDVn66Kxc/tT/sZ/4fHi4ab69E6KyxdvoapmxyzQ8ftRj97Kt1YPQif6vg5EH7BI9KpMHZcTjrkvXO1mf6eFnM+IRfeKKXDh9Wk6fXjTF8m6jFYt5mZ9/z1TjOqeZ4/z8vLz3mv8Dtq3xPh0eTYITEc2AzWuvXZr1f0gsXD5r0uhpub604f/S7xbk8lk9r67LrvnK27T7jhHat1vKk2EZfdLfRec+vGDP9dNf7L5aQ8+MPmFqKOgeDd6Z+t+1S323n7dVD0JLdroO1jx9jv2CnGJXIE/vyK5J1ztZn+mjuhSBRwDbE2VofTVqJgpMDPboPwD96cobmv8wwgRd8ullOatlHCPZUIp6EJLOWkaL9zny9I6QrnenXT3V2g2zXcsNa0//PTMlKzUM3m/TYc3Lk/Ew1GjYrnufaBhvMpy+fohq9Nz0kPv0+5k/ZIa+ZocLu6la/oGRbPfvL0ty/U8ip3RotvlrO0NnM/srGvJtv6v5DnfHZdx8p42lJVmbmrLPc9/LvW4s+Lt5VsE0M//+BVM/ov0TiX+P30/p3xe9z3+R/yL/QQ6sr4ocHjf7YVWWlsZkyh2o5DMq9rXdz6NLsrQ+JVN+f0eflf1OsSZD4aNh8/5hwqULKZqKF/7Wm8fs69fMPh0z+9S9T2YaR00a6pbC/ZLZJ6XpN55qHaaVhtNTavbplfjc839OvW8mbcfy6TR3rsYy79/WFKbc70rvj9JzI1ac51jZ9y44L/R3Lk9Gx8u/R+V5t93fnT0W6WNQ/3urjlH2vQvSQFGe/73fT6l0XLFfS5Sle/d9TbL3vzP7/ZPtn4i86NNYvJ8b5PlbzOMixftcCn9/+b7vTPYz03lI1XGMlKfH4t/jnlG+r2/JsW3+3uznpl/jvm99OVnMpa3ku7nH4euz+yzz3kX5Z5OyrE5Z2rN/N4/L6g3+nKss41RhXuSUnW/5fWPk3iezvzL7In0smx+n+H2L8pkoLVScr9XHMbOtQdpX4fuX/y733tXpM/vdis8Vp5N9VqZB3pf9TtFxtOl9Qtbuikl/5lV3TR44avJAc7c0DQS/J5u2IqnPrjyOVep/V/Y4xtu2VQ/yquoF21KVPsq2ue87UVGPN08w+2It+bvKnK9leUH0uYXpWvx+SL1XtP8K9lupitfU7evK7dtIn5m0mUq3Xuk+89+pNm/ekqo0Uv6d7N/Nc1dNGjG5uEkLayYt6Lv41zf4zltKI58WH9vo/Gx6zmc/Ozkemf2RTR+Z4+gUfxenOt9tPtU6k4/E3yv6vsHnRN/Rn0f2t1bWOcveW/n3Lys/a9N1xXs3StfV6XPbZZz//kXnY9l7u7ST+azc+2S+dyZ/tCo+uy17cqr1+Jg5aBvrJqn4g6CJzvb66bSscZnJDkkfPSHXJpf9dvP6Z/JD1s+/7xJxs4O1ILdWdMz9uEzGUyBm5diEfQNZDE4cfT+N2Ou0wfHnrsmlF9yzdfvkshsxEQ3hH38uO9V3Qk69KPKJ3z48NZPZ3qnM/vpoSTYOzwRTUsdlbO26/a7DUxOy/pH/XpPJpw6bE1lM5uC+87BMvdhsekqYgUf7Y3jqjJtC8uGyPS7DE8eS93pt0p5cq998Lj+a/4dNxnbDH9+psRtuOPHwhBzT/Vm3r9WwyRzFnKRm+6KppEb70vWoRFMoNPPxxyR7MhfxvVfRlNDot0W9z1eW7a+SiePJHjo/aX+V3AjS2LjZ1ysf6et8+n3f7+8mv6tLop4me9N04v8eSTJJ9xzdp9nv5tJQwe+qUrNP9dwrn/bie//9UPNov50+3bTQCCsf+jrzvU26OdPke1cy551WOrWQsO+rt6AQNAXljHwSb3Pp81TD42y+8280j/Dva8+LKTmVmWY+9sw1l9/YfTMuJ3R75XkXVIo6pvsxzJf1FhyDbf1eTXuTshy9r02bBWmrKM//9JbYbPvwZJKPvnBMXLa9mByPCtl0r7cmFdLQxIunRP7k07g5VjOpaXQlef428jiVzX/15sq5BmXZVpnvnP3MdCOywXEs0zAN5ff19n9vk6UAknJS058pJ3/T8HdVqj+vbOM2ymcK8u0tqU179fWG0jKuRlU5U1++Vtd3sufE4l1znF7pcLmVsrpl5T6rOY5ROebfM6uoLhVq8rvK02e2Tq23fINsW/usVFl9t67eOmxSlK8THp6S0W98fmDLtezv8enPtxHcqGW/n4PfHLcBmuS7tUp+V1Uetq16kFGUF7RVlylNH9X7WlXW4y3z94kV93p7PGeSaebmWNS1mQrTdQvlfqW6fZ3drrcg6FRVDtamz5rplU3q6XHe7D/b1g23pToPqf1Oh8d8GWKO38S6XPffKymvg+8cpbFoX281jbRQD9K8MVs3TGIJNUvHRMdRb/5YhmmzO/luVXtHv6/fP7aNb46pyQdtGgzbxkGd05X/UR2s6r0DZeVnZbpu9t7l6bo6fXazjKt67+3WZ/rJrg48Lvxjzfw7Jk+YhKwHLLUG3/oPspBrJF+RRc1pUgWZMbwmN+zJckWWTSaXXQ9FG+W2l8IUDPVBR2fh8g13okSV69dmbOAy+i7ZANPCzRWT+INEZU6spMG6ID+s6//ut8bM+638Sd8vyhQz2zuV3V++QE4CDxuyctP//o0VuVUUrDH7yH1v/52z+7pQPgNP77/scTMZyzPmm4YZ/t3lOGNYXQ4yPqN2X1smk0oFE7e5L5v4cNFVNKP9ayogJ0w6y1Z2NpY+8Y2OVVnXw+wrSM1+1044L5P2fLkRN5au/Fkz9/R3K/tdfStXGfX5RVvf+/CJ4gaLaWRcCPKd1TXdWU3XjjMNkDeSSqx8v26Og3n1mKadxPD6DXfeRsFGu73BebcdpjKQDqp52/q95lu/kVQS5NMfREuJ3Jo5hXm+2Vff2Fwnrlye/41pEATnWCV//obpvnOaqbvzwp3PJicK168pyfO3l8edlxktnEqOa11Ztl1FHX2q0XEs0ygNFe/rbv9eKy4nvTbXdCo5r2aPT5hfbBo+fw7TwPbVp736esPWyoKacqaufK2s7+TrJK7in27g1iqpWzY6X8vyx0p1jeGGv6skfc5eOpHeZykt7bMy5q0L67u19VazLa4Trspy+LuathFKtFIHK/td2ywHq+TyAvNZN1qoy1Smjyb7uqIe75jvbPeV4esycT7dpM1UmK63We7XqNvX7rPK8+VtlYOVOq2nO9m6Y6eq85AG3ykoQzZWbhW8R/idM+XJltOIeXYr9YIokLlVSR38kzhtdinfrW3vXJELtmNgSk5d02ManJuxpM7p4jX+ODZtS9XEZgo1fO+ydL1zZVzNe2frM/G54vPMBuVgv9jdIx5twaMFsT9g9gDNyhOj5titrcrsL8bc8+rY0ZGO60EKMnpjeFjfu7xgKJZO7FEFxVV63HfU7zujiwLrTXu89E8xjV77beYWDs9OrMkP/sRxoyyajtwqFu2v8eeiz3WjPLfKVZSaGJfRms9JVeiijKWk0Elrsq93iq9o+opXVEGJG2k5UUGp+vh3vfCEKco7Ef6uPvbkqN2/OhK3+rzslC/AzbtPveKPZepCRtqDF/193vaIdcJ1yvjXl6QRzS8d3/MaVRa2fN5VMRX9P2llMsxrwl727f1eOwol+r3aA+j/nFKW5/vAq6tcZgr2hpJ9uTVr//B71zRQdFRLurOrKM9vKS/Qzjp/N62qLNsG0wjQ0QxacT0Tfe+wV7rJcSzVLA0V7+su/d6uqz6v7EyQ1rVdDnVQFtSWM9Xla3V9x9dJwrSpIzo6VZjP1O2zuvyxSl1dqo3ftSHr3/u7KS3ts1LF9d3t1Fv/l6ZthEJtpf2yevw2y8EK3ckLIsXpo3F7rKkoCBdr0mYq0UK5X6bZvk7SQM62ysEKHdfT21SSh7T+nbLlyTbSyDbrBQuXP7GBIx2lG31+p6PRZi+dKgh2dinfbdLe8XU4jZFkA3k5vqPAatqWqonNFGqlnbYTZVzde6frMy7QmMSl2o7fdNPuDjxGBc8vTINYlmzv2fjkjD14cYMiYysF7uoXfkhxh8NpXU+NBkNdQZZE4KPMMBoKnNxcw0crHFrAJNttA63LXI+E/t70d9rqQrduX1cUqFWyBZDvJdTo/XnbgGjaG1m3r3eW60XTwM55FzyvHC3lK7o2M+7v35XjC4Ni4e/qY77gTKZoR7cGhWEdU4BH7+fO9WTov1vmwRQwfopGdupcJVNp1QZL/J3ttIIObPm8q+EDPcnvSXqCt/V7ddqSFtZ3o2lLbopGc34UhlYuMwV7U9sdEdC5lvKCilEU5WXZ9rjKZHCcolG/2zyO20pDRrd+b9dVnFfd0XY5tM2yIFPOVJWv1fUdP1JmI5xu5W6p0TBb0mCfde04tvG7ykbddXOfletOvbWJ7tbBtpuHdSYKorah+ajMbQVAfRvBdfRtt820/XK/uaJ9nRl1F9l2faZDlfX0NnUwcndb3yksT7bfrt5evWDBL39gbr4ePhwsd1PPz0zJjsg0v6cr+W6T9o5pX+j08dW7G+a31CyH5I+jjc10sy3VynvvRBlX/95JfWbWBb6D0b9tl4PdtMvXeHQHamzCNIjXf5ArOjpndMxk4S5aHQ+NjqdyRT1ZVcGdItGIpPH8+pBV/FDX8ec0s0uPZIuG0FaulxFVvqMpfN0W9fqVTH3rSPSdG/UaRlMukqlFRdPC7D7T59jMt3lvZKN9XSmqYJZUDmpEGULxJf9dL5oWQLYnq3B6ieeH9kcjzrb/u7rEB6vCqcNR72Bh0Crzu5qo3qc1fMHUcYAoGrreUWWhc+64ZkUBfF/56FDUEeOm9XRmq+ddU25UZdb2fm806jCaNtEJ931MXq8V/rIlJYr49FE6Zd7yFRqTP57awu8qs728wPfkB/lvTkVZ1g7/HTK2cxy3lYa6/nu3w5dDttLv/lIke165NOJHL2sj7MXtjExMtFoOdVIWNCpnKsrXyvpONLpgK9Od63Wyz4rzxzLRuexHReTyme39rui77MQ+K7WNeuv/3aiN4BuEBdP8Wk37harzsK3Wg6Lpq3EwOzc9cWuq0kd77TEnmqKcypu30Wbacrlfo25fR/lyVcdCdTlYnj4rdVpPb0llHtL2dyoqT7bTrm6rXhDVFTtw/n33mfmAeJfyXf8dS9s7Zv+5oPgNufCGjuY0abj0mg6mvqFTxM2etyNE6957O7b53jtXxjV5b1+fmTjllo0J03Wb8Zsu2+WBRxcQ0mG+tkKpIyDN/aR4viIXtGfBHEg3dNWcuNpzlFrnqqFwWljj4KNPSCpbuJr30x7McDhwMp3GrzkSfe9XRuVG4SKqbcvuL3fraDh4NIxcp5yE+1ozKft+mnka0Wf4falTTHT/RsOEw6u/xvyJZU63znojK/d1M1feiEa9+tdnF8GtEg1Hjz8/PXLWVTyMjWRth1D8OpPJay9O3Jvewu/qlitv+MWf/f4Kr8QaKf1dTZTu02gqRTTM3FQk9XF4zprKzSe2dzua8pDsM13YWv8WTWuK0qNbwFx7LDUd+PeMbp2khSLxueFvtjBP1pONelndZ56Q9S/0caTk90b7w68LEv2OE2vucUe2et6VSk93sXmF9vL5vKL699YcI19xjdLFmbEbHfdqh5XCztbv0fSRTvd6i/LPaKqN/b6vTMhK5ndtyzbzAh15GOa/9pZK1xVl2RallgAwNw2irX7h8/y641hTntSloXpb/73F6bOdfDlVDj0nspiqF1SfV+k884xMrGwhLyjSQjkUvzZTFsRpRPNEI3pedE41KWfKy9fq+k62TuJunc16KVW5z2qOY1na9+drKo0U5DPb+l3mvDyb22fJse7qPiu1nXprkzZCNPU9yk+C924h7ZdplIelzml9XsN6kB5HzTuC+rp0WgcrUpk+2miPhee6qY/EbYQW2kxbLvdr6mB1+9ocw+hCOW5/pV9bX58pT59l+Wd0QZ4m+WfravKQNr5TfD6kypMW0oh5j+3WC9wtGs3sf1dNnp50Mib7RW/RcexOvqv12ZL2jn5fLZfMVreGY7BvU/GR6LX6e8PjWPHeDVSn6+29d1363M6+rqvPNHlvW5+xca5sML66HKz77F4amp6eTq6pjvbp+hzPjeWDaANHC9+tVCQ6oUPlTQa23s3P2AE+E1/7IjNc2/+9lQphN0WFUFePPXbOgJ53FeyVFUdNY78PpynsmD1Tlnl77ffuhF6UcWXlK4BdQxvOhQMSWkS5v8v1ojwZgHrB/OqqPPYoCf2cHh+Xn4eG/KN22HOpF4Fs9J1379+XyYcP/SORtw8elOV9+/yjXT/isd+dd5eYb2mEyF7nFtZta9RVv/BT3kpGO/ar8+8nvTDR9N3KaeLYtQbzvKvge5c7G/Uw6PZaWUbZPRh2Z/kKoMco91GLegGwXYx43CIXzfcPch7I2saI2HWTdYrMnug96+KIR9vD5IYH68Kp/TJqwfXAuul0eeE0kGJJGirpFernEY/RKEf/sK3jst19ihb16XnXNUGazk/99/mbf5QzsKN9/WjXPVOWVf/eruZPmTw1q+PlKHaDLpZxteXrlu3VvACdqG4jMBKoU10b8VhZ7nMcd5WulSc7WC/oAkY8dgP1gkjdiEcCjwAAAAAAAAOqF4FH7F1MtQYAAAAAAADQcwQeAQAAAAAAALSOwCMAAAAAAACA1hF4BAAAAAAAANA6Ao8AAAAAAAAAWkfgEQAAAAAAAEDrCDwCAAAAAAAAaB2BRwAAAAAAAACtI/AIAAAAAAAAoHUEHgEAAAAAAAC0jsAjAAAAAAAAgNYReAQAAAAAAADQOgKPAAAAAAAAAFpH4BEAAAAAAABA6wg8AgAAAAAAAGgdgUcAAAAAAAAArSPwCAAAAAAAAKB1BB4BAAAAAAAAtI7AY7e9cEmuzc/L/Pvn/R+AyHl5j7TRU7OXrsn8/DW59IL/w8DwaenaJZn1fwEi5983aWP+PZNKsCtQb8COoE7Sb1ydZV7ee83/AWhocOu7A8aX99cuUXtHmcEpmwk89sroEx0HBKhwAOjI8KiM+7uNvfaezWeo9AB9puN6w6xcukaQGRg0Y7/ouAVBXgAA6CsEHluj0eiCnqVPL8vZ06fl9NnLsuD/1ArbQ0KFor+4il4vA8U6kmlvB4xKzrtu2fHzriyNXZELms+cvmDutan3aRoNaLC4l6Nbe/15e0XZfu1WvYHjuMf0Ov+mvNiyknNz4fJZU66flrOXW80JyAt2o14fM9LIFpHvos7eTSND09PTj/x9bJUGI16ZkmFzd2Ppuq8gaEBkJhl9tLEk14NGhI5mPDO1JktLYzI1pa807i7K6TeupN4vbVUWfWDBvd5+oix9dFYuf2qfgB0THO/oOEayxzNOC/41d5dkaXRKXDIIj2e03bzf8qTMP+dS0+oXp+XCh8F2vZv9zL2g8LxzkvPDiba7v4s579bMeefPzmDfxds/+kTkxTPumATn7s6ed0XHWwsT/z2tJI+w/D5aW1qSsakoDUbPCd4vJfhtFfsYO6M8DWaPZ5IWtINi5vBqqrxJjqdPQ2LS+Z9EThUcb/d6vZdJX9iy4uOYOYaZeoM9DqOmvFg35YU9HslxSt4vI8jfOI57SUX9YKt1Eg1EmHqI1kGWJwvSEuXFlhTmBX5fR7L7k7xgbykv98Nj6URtBPeardd3SSNbUZ7vZs/L+Jz2+aY5ULJm6unuSAX7vOV8d351VR57lIR+To+Py89DQ/4Ruq8LZXO83bxfUbygh2Xzu/fvy+TDh/6RyNsHD8ryvn3+ESMety8+mJoJhL2S0QikRbOlzLhMTazIdfO860sbIodPuJFbfrSD/ZuhCUd7PMPRTK4XVN97WKZeoadjZ0WZiGYC5jgVZSKaGdhjaG5BQ9I6PCWj3+g2fzx/kxlPN3pCrk0u++0m1TwT9UC6NObSzsze6pksPe+Swj05b7KjBcw+nljPn3eBiRdPifzJbx+ekhl/fu3ceVeWxhbk8ln9jdfFZxeFxqcmZEVf99GSeYdxOWFHyfo86guXQ2lh5PZXUKn1edHiXd0NZ1j7a4fFFVebn4SND58+tJJij6Hesg0FU96M3bDb3PGcMa8KTcipF0U+8Wkp3H7ljSTtzLBm1LaVH8cG9QaTH02JK0/C4+jypigfcPmiTQdBecRx3Cu6WycZe+aaTC6b7bbsiMoTg/KiY6V5wYcX3LHx5XMh8oI9oby8MGe6DQ7689wfZxtoiG29vksa6VR5vlvfLtFdPyHruXp6gnx3EOxQvKCP0giBx+3QXghNJLaxt5XeIJPw/hQmqmEZfdLfbUQbKa5yMf4ca7TtCM0obCailbt0hUCd/40Gx8xx/nNF6jCZTKqikF3Xa3hNbtjM6Yosm0wju46frWRqQWQqDGf2wvT7yvPuvMxoBc1sW0xVvkJ15515/con9lgu3Fwxz86ur9Tj864mjTWxseR+T2R4LExB9bQCuicD3H1EGxhacbUB4rCyYsxeOmHzhNVvMpWUFJN+Uq8bkyfChoQme3teLMitFZvq09ttxWUngu6Dpeo4NlNzHOtwHAdbD+okw+s33PYPl82n5MsTyotmyAtQpzKNmHP9hI5+u3ujol64zfouaaSZyny3Sbukvp5OvrvL9UG8oB/SCIHHLZuVS8+kT/qdNjxxjIymx1xGUWdNfiitFDSwsW4LGWV7ICuD3OMyOdAVg4bn3foPFQGYemv/8K/2vURVw9K7fd41S2M9NDwhx+j57q2ogVFpQ9a/93e3JMmn3IiZ6iD3+CS96h1rdBx7i+M4WHpRJ9lYi2skboRuVdCM8qIYeQHqNEwjyfm4NZ3Ud0kjxRrlu9tsl5Dv7m59Fy/YoTRC4HHL/BRHHRK9YyPNdMiuW5fDDt/ODslF17kTW3sDq6YidNgL3SEdwm/Xc/DTLFO9IQOn4Xm3havIN9fb865ZGuuuqNe9aKoPesA3CLSnsnyaRKcj5jsU99Zu5KeIoJlGx7HLOI4DrR/qJJQXDZAXoE7DNNLpDJaOkEYaaZTvdrVdQr7b7yibHQKP26UFQ7wGRrvTLhf+sWb/T0/zdGywKSgMBjvY1O+090kzEzcVIawcXFnWvgfz9+w6DK3QAFiQieylwHPpeRcNL0/WqWnTzp135Wls275fN7+mpPJqK51uMeutTwdDW3QkYjxNIqi4RFOkkvVf26WVFbu8gUmBW53uj0TZcdy+BflhXf8vrrxyHPeKHaqTUF50jLwAdUrTyKe3xK6KUrBuYxtII50qy3e72y4h391NKJsJPLbB9kppQtqQlZs+9OMPsgtSGHZ0VjqR1frwQrIQqH2vZHSXa2hSGPQPzUzcun+ry8EJrQuE6/qLtsKgxzB9HLfHFWZ7tqApOu8M7VXS80bXX4z3eUuBup0974rSmAs+z/sRmOZX20BsR2t3mP34SVyp1ffKV2x1ZGfV9Bv0jp0GrXnKxorcitJgFIiPypnscdwmWyHa8lrGKFJ4HFuoN1x5I6jUZl7LcdxLdqBOQnmxJUV5gevkNMfGX500agd0ssYeecHgKCwv7AwgPceDY2xubQ2AIY1sRXG+2812CfnubrO3y+ah6enp5JrqAAAAAAAAGBjzq6vy2KMk9HN6fFx+Hhryj4Dteff+fZl8+NA/Enn74EFZ3rfPP2LEIwAAAAAAAIAuIPAIAAAAAAAAoHUEHgEAAAAAAAC0jsAjAAAAAAAAgNYReAQAAAAAAADQOgKPAAAAAAAAAFpH4BEAAAAAAABA6wg8AgAAAAAAAGgdgUcAAAAAAAAArSPwCAAAAAAAAKB1Q9PT04/8fTl69Ki/BwAAAAAAgN3u//jP/1keexSHfuR//0//SX4eGvKPgMTt27f9vebevX9fJh8+9I9E3j54UJb37fOPMoHHAwcO+HsAAAAAAADY7eZu304FHs8dPUrgEYV++uknf6+5usAjU60BAAAAAAAAtI7AIwAAAAAAAIDWEXgEAAAAAAAA0DoCjwAAAAAAAABaR+ARAAAAAAAAQOsIPAIAAAAAAABoHYFHAAAAAAAAAK0j8AgAAAAAAACgdQQeAQAAAAAAALRuaHp6+pG/LwcOHPD36jwvb37wkhzdf0++OndRrvq/OmXbor/7h9am3P7j6/KHz/3DAfP8Wx/IS09FPzj/W9Pbs/vrVXln7qQc8o/k3ldy7mKwp8+9I3PPxlutzW8/ltd//5l/hN2r6FyJmHTyx3U5/vJRKdyssmmlI+Wffe/rc3Jxzj+o5d5n9FYnr8mLzpHOPruB374pH7x8RO5sK//Rc/S4rHc9D9tmXpDa3mk+lEkP20pb6K7y9GiP8ZN35OPX/yBRCfHqO3NyMkw2m7dT29PpIkAa2Jb0fs2ej0X5b3hO1p2P6bwiXyeo2w4EtOw4tp7KFxyXDo98H6afgrRLXtG/auoFGDTu/Cysk9u0IOm6X65eSRrpF7buNpKur4Xqts/dvi2PPYpDP3Lu6FH5eWjIP8LukGkXpkTnqi+TpSAtFJ3zBX766Sd/r7l379+XyYcP/SORtw8elOV9+/yjrYx41Ab7XLZi7FVue1qOFP19QLnGxQNzUM/JOb19/UCOvvyOSSqeOejh9o+/HZGTH7xpigblEtSIaRTY1577WG6PnJQP3nJb1av/dMgGY9x2d6MBMViyx9fdTCbx+R/k9fixSRubmee2UNHPffYfb8vIs3Pyzjn/hJ54VX79lPku9zbl0LHo3NhrtOAwhYs24Oyx6DAv0Dz52RFTCPltHeVD5r3fMfn5g/LPxu5kK6YSHVd3++rBUXlpLkgbKk530c2lgbl3Us9CU/Z8k/LzUetJWklM7fOkYlh9Prq8Iqk3fCUPnnopyLPrtgNb5Ro4GohM0q3PK4LyBH2irl6AvS0OSkTncpRGet0GQLkjMltQD9PYQ6pDGQNMA4zBORrfMh0E+4/KbB+12zoLPGpmZEdabcrmpv9bpGqbGh+1I7S0h7105wyM5+XpJ82e+PbLJJI896Xc3jwkv7KZtqmkHTuU2v7Z72/Kvf1H5OnfmgfnfiWH5J7cjAOJn8kfbt2T/U8+7Stwz8vjI5uyvmofAN2nwc6v78mhZ8PKqTY25mRuLrm5RrBrhGgHxKFno78ZtmMifP4H8qam9zJ6HmzekS//ckc2o3MjoMGTD956U94J3jNVKWr0ee43pINpGvhP3ks/J3mP6PdHvU37u1wZ+6WMmv14729xTiF//X5T9o/80j+uzgte/ReTJ9+7meSzneRDZv8dP2QKtr8kn53Oh7A7vSq/MhXTJE05Vy9+ZUqdKG2UMWngdfO8QydpgGzB84+PmErQHflrfD5+Z/b5iDwe5UtaT3rwY7pnOlJ3Pp77tclzw3rDVfny20059E8+x67bDmyVHViwKXf+LUy5Jn3+6+3Cshs7q7pegL1OO7Pl3ndJ+1XNXZSv7pk6PeVFf3hwR+6M/CpojymNPbjBGkDk3j1TT3xqtrq93UOdj3i0IyAW5I5/mFKxzVa4jf1PvVQRBBgU2jjLjkB0AQTH3X/wY7j977K+uV+O/LNpQpgMPhzloKL955jXm3+PvJwERBiFhK5LNZJ9cDEefaOj5TZ95qbp/+N4JKY9DzQI+PJReRCPzNPt++Xo78pHQ2jlZ/P7v8pnn/9V7kTnRsb+p47Iuu/x0c+PA6ONP88H8sJgmg143pYv58yv1N5DnbIQ/8ZoROBVuXhOAzWux6nVaeApmi+ElT3fqfHg7/5xVV6gQUkJnqs+kx8fRO9Xkw/ZzqIH8mPYObS6TkNy1/NpKjeKWNN0k7R8Vb4zDZCRx9OvRr3P9OQLzx/byZicY1rOb44cj8/lpKPDqDkfXVBz3RzdhP28Q65xUrcd2LLPfzQp05Sv/5JJSXZ2BtMz+0tdvQB73d8faAXheK6NfvWiqQezdEKf+NG0XUbSnQV2xsQd+c6cy0Dsb9ppUN3e7qXOAo8aECvLdKq2Gb8ciaNuno4UGuTgY9rzbx2PgxlOdpSSK/iL6ZTT/XLvlp+j/9vHZWS/aYLEQRU3ZYrg42DR0YJJA1RvO32+uKDU6Ljed8H18Jz/7N/umFRdwk8PT4IaLuBXyo/ucSMo/Miep36dbyAHvfbu831gtIPPs68LggFxwNM9TPns96/LuZJ1U7rD7eev5KRPA26NnmQqdX1ekA4s+kplrCYfygQqXAMTu5umqa/k3n6dWp3kL52MYNQ0lIy6RWNaT/rjnaSjQNfPCzoZtZ603zQcUh0dYfCx7nzMjpbUwKS/a9VtB7bkqlz8423ZPBSVU3rbO/X73ai6XoC9TOu5NlARdGizvEr/0bbLSNBZ8Pw/HxExbZdUHQEDLHOORreC5U3sjKY+mXLdo6taux42beRG89F1dJLutKJRTIPGrfcocvtftxKw8FM6732VBFFyQRVT6fu6JDCDXSu/xmN/jhyIpyJXXfAm5qYx6/MLL1zhaQGangqkoy23MhWowef5EZUuoOqmLkdTxtzU4yhAsxMNKff9jz9I1ntdP2a+S1QJJC/AlrjRjTZNacDA/MV1dIRLKaBtWheYe3lUbkb7/taoyVuSfMWOKAk6Nj77/YKdAnmcTkX0O18W2XRtyqC4UcQaj8CuY8siez672UviOxVYYqWPaNslnm7tplmnl7vAYCtZ47FwcEzUNtz5Kdc9Cjz60VFB4MRO8TEGfdREHHTMXQ0sCnREouBsKAk61g5vZ+QCuk6n5iYj5KKAYzwV2QcwikUBwOTiBq7zoYgb4RtVdNzNXb2r+UVmOvk8NxrSTjPyUxXiNdjiAI2fqm17l3oYnCla71XXzSqYBhPL5AXZKbHp0ec1+dD+UXPUAzrC0t/FgIgDBprGmwW5NA2lp+qhXtHaz34KTHaKaiwzArnufBx5PJ0/+rW1Y3XbgTbY5YI0T3GjLH5NsKLvVNcLgEjUfnd16L17ocd+pG2XEVdny7VdgIyovrnDU657FHiMggBJg90uXmsMcuNFAzPuirHZoKNbYytd8LugTtxboWvURUGTTNDRjprI9iJrAyI7DQtoU2o9Mr1Ahe9taTL12K+bqAHK2quv+2Bb6op6etNRFE3XF+zk8ww73frQr+RNP1Uh/4qo8qXrOvbPIuzVeYELWqQ7d1xg0V1YpCYfsgHM4MIXyr43lZv+FC6FkGYbldE0W70QXGHwvCi9FHEXp8lO1cN2uXpSekSJO1/tvq45H936kenApF3X0V8koG47kKNpLhvsttLrAxeWQ1ZRGYOdVVcvwGByx73oXEyv/1tUDjlFZQh2lrZd5Mmn5dXStguQiKdcHzPn/A7pUeDRLUYvpsF+0gYg5/zl3sORPINFK2InD2nwJH2RGOez3Jp1bg3IqEFvMv6Xj4p8+3Fh0MStSRf2IpvnP3soWQMSaJsGwjWNfR2m5zDI4dJsZZ95WGE5907p1OfCK+ope+XFDpZnaPh5lp1ufUiOPpWeqpBrUPmg6Hfx1OYu81PMk1Foz8ubv0uuSFmXF1z9S2Z0pL+yrfv+NfnQ53+Qm6nRWP4q2FRu+pQfuZu68rxh10sNGpX+CqbuIkkBv65qctXkInpRqczSH2jIHZ/UMggmXzoZ73NXTwpHlDz/1qwcFb82dN356I9rklf4taEzx710O5Dly8WTmfXdbDkRlIPxkiTZdeByV1JHP6iuF2BQXf1b0VRLVw4k9bqr8qW9UGN2aSFf3oQj9rHzNI82tYSTmbYLUMxPud5f2VrvqqHp6elH/r4cOHDA36ujjY+XbEGVD6yVb9MRgC7gqMqCcoNAe4zc1NCszSCYqEGNJBiS7I/030PBPtNAUBDoCd8Xu507h/QiIvWN+06e20R0/vqHMR3dmBm5qyOnno1SuW6/KaMvu1G6mhbjdOyXCkid/zoaUdc3e3Yk/b4+XevFUop+j3tPHUV8UcxJJiclWIbAvvaI3PHvV/l5kn6usu/95B35ODWCM7s/0vsh+ozunn+Z/ER/S/gd6/KC3HEK9rdRlg85md/fZNkH7KzU8VYF566RLo9V+tiXlUOUNduT3a+6lm+Y11XXk+rOx3RekT9WdduBvFxekS2DrIK6Q+Hz0Bdq6gUYUJn6osqWQVauHlHyPPSczY+Dtk+27VLclknM3b4tjz2KQz9y7uhR+XloyD/C7lAeZ1Kubie2TC6KD7gyPVu/zPvpp5/8vebevX9fJh8+9I9E3j54UJb37fOPthx4BIDBooX1rCzQEAcAAAAwUAg8oqluBB57NNUaAPoZV4QDAAAAAKBtBB4B7G06pWTuJTny/QJTjQAAAAAAaBGBRwB729xFe9VsplgDAAAAANAuAo8AAAAAAAAAWkfgEQAAAAAAAEDrCDwCAAAAAAAAaB2BRwAAAAAAAACtI/AIAAAAAAAAoHUEHgEAAAAAAAC0jsAjAAAAAAAAgNYNTU9PP/L3AQAAAAAAMEDmV1flsUdJ6Of0+Lj8PDTkHwHb8+79+zL58KF/JPL2wYOyvG+ff8SIRwAAAAAAAABdQOARAAAAAAAAQOsIPAIAAAAAAABoHYFHAAAAAAAAAK0j8AgAAAAAAACgdQQeAQAAAAAAALSOwCMAAAAAAACA1hF4BAAAAAAAANA6Ao8AAAAAAAAAWjc0PT39yN/vwKxcunZGpoZXZfH0Bbni/+pUbHvtPZl/btw/KHrtYJm9dE3OTA37Rxuy9NFZufypf2ikt2f3x3l5b35Gor0ldxfl9BvB3krtS2dj6bqcvbzgH2H3is4h/zDFpJOP1uXEK1NSuFll00pHyj979YvTcuFD/6CWe5/Rbzp5TV50jnT22Q28cEmuvTIhK5lzsjN6jp6Q9W29RxPZY5LJK+xvSdJDNh/oKB/aWJLrZy9L/OrMe1vbSl/onvL0aI/xxErq2J5/f15mDvsHKnPs0+kmwPHfnkzZnT1f08elw3pBZnsu36TegE5oenlmPV0mWK5MmlgJ005B3YG8on+l8oJ8vQCDpqJObtOCpMuaXFlBGukXto4wmqmrB+q2z6+uymOPktDP6fFx+XloyD/C7pCpC6ZE56ovk6UgLRSd8y159/59mXz40D8SefvgQVnet88/2sqIR22IzpcERaq25TKxcZm5dslkhYPJNdrWzEE9Laf19sWaTL3ynkkqntkf4fbrS2PB/nAJasw0COxrT1+XpdEZuXYp2VvnJ8dto8JtdzcaD4Mle3zdzWQSn16Ws/FjkzY2Ms9toaKf++yPlmTsuXl57zX/hJ44LzNT5rvc3ZDxZwY3r6hz/n1fcPhjkcorfGBwLT5ei7I2dSY5TjafEVMI+e2ZfCibTy2uT8mZ9+NcSmaPT5gXR/mQv9GQ3PVsxVQWU8fVHvv5oIxSGjgInhOVRfNBGkEH9Hw19aAkf02fr3GDwe/vdL1AK5Gmohkfk2y9IFNvsHn2Nbn0gt9sUG9AdySByCRt+bxigOv5u5bNh8ZK6wXY4+KgRHQuR2mk120AlJuQUwX1MK3TpzqUMcA0wBico/Et00EwPCWngvjRTuss8KiZkR39siEbG/5vkaptWil5xgUdXaXXBUtkeEKOBZXiwTErxybMnlhaTCLJHy6a3zwukzbTdvsj3L5w+YasRvvjtUkxzQO5ETcIFuTyN6tmdx3zFbhZeWJ0Q9a/tw+A7tNg5xerMv5cWDnVxsa8zM8nN9cIdo0Q7YAYfy76m2E7JsLnpxvFOXoebKzI4p9XZKMgr9BG+rVLl0xjO3nPVKWo0ee53xAG9V0DPnkv/ZzkPaLfH/U2DXe3MmZ+w4nDpnD5U9JbtXD5rJz2vVcaGBzeWJLFuAf7iiyazHV80n3L2V+MmbJpRW5FhdCHyyZnGZMn7H7I51NXlldFDk/Gx3h8bFjW/kFgYrCcl0lTMV1dTgeQr7yxaNJGVEaVMWXRWfO8wzM0QLbg/G9MHenuYjDi5IpcMBVF99gfl2/Ccz2oF5hjM2ry1OS4LcitlQ0ZHvMdutl6w6e3ZGVjWCaOR3kb9QZ0yQvHZGJ4Q1ZuhmWFySv+tFRYdmNnuXzoRtI4TbVPsNdpB5XcXU7ar+rDC7J415RCvm6JHba+IiujSV3d0Tq9G6wBRFbvrsrw1Knq9nYPdT7i0fa2fyIr/mFK6TZXYTYtXN9A1sZLQVR2YLjflx5J4PeB5e6nG/Srsh41EkwGb0e2+S3KBhBi5vXm34lXkoBIOnACdEEmaGWDi+vJiKjrS6YRbDM3Tf/JSEx7HmgQMDUyT7cPy9SL5aMhtPKzsXJLFnIN6MTw1ISs+x4f/fw4MNr483zjPQ7qGzbg6fIq23tYOAJJAwYaqHE9Tq1OAw+4wGIQOMwIg5ARDRZGFv6xlu7gscGJNfnBvl8+n0pXOF2gYuyZIPDKSLcBoGWNSSe5UcRhEKzKFVk2DZCxX5SduShWHPBNFOz/F54wOW7EH7e44ec7DtZW3cNsvSEXDKLegC759AdTqpjy9TeZ8sHOzmB6Zn/Rct00x6J8w1qQH9bDvAV72eqaKWgOn8gFKq68YerBzHjpEz+YtstYurNAy3xZkWVT7Qdiy9ppUN3e7qXOAo9asS3LdKq2RZXn9VGZiRqwdaOdBszspRNxMMPJjjxwBX8xnXI6nIyE0P05PJybXkkjYrDoaME44NMX54wLjo8+qfd950Fwzi/cXDGpuoSfHp40ql3Ar5Qf6ecazeazdMTv1Eymd88Ieu3d5/vAaAefZ18XBOfigKd7mFIU6Ou69R9ELl1L0kHV1LVohOSf/XHRfPmjlSTYoOt1FazpoQFW3T5zeFUW42OqHSTDIvH0OT91juDjLqfn7qKsDuvUap8uzK2TEYzaMIlH2qEDWu67EdVN9nt6ZJLLcxfFnIP2tW69rvxUaf/+r+gaC58kQR/qDeiaK3LhoyXZOBylTb3trTr+bpOdyWCDTYCh9VwbqAg6qaj39R9tu4wFnQV2aSTTdgm7FDDIMudodCtoI9oZTX0y5bq3V7U+PG6ashHdYXujYuLWUTNtgGC6ZHN+Smc4PSsXVDGVvi9KAjPYtXLrLPbpyIF4KrJdaqFO0uguvHCFZ0f6paYC6WjLrUwFavB5fkSlC6i6UX7RKCE31TEK0OxQfmUac6fkkzgd2LX4ioKPfpRnGGywAcVXRuVGlIa+GTW/Jf87bEBVt+uFi+LtbgRWEthYcFPnCnrCsdu4Y+uOuTmm5i+uo4N1vrpL6z2Tshzs+7K1c+16j6mOAJeXnVhLOgLWdTRyrkGYHNsbY2eS7dQb0E0+fdm0adJV3ChijUdg17GjG+357JdG850KLLHSR7TtEk+3dtOs08tdYLCVrPFYODgmqu/t/JTr3gQe7TQMpVdodDtG14rQiknR9MlBEgcdc1cDiwIdETf9IS0JOtYOb/9+vXy0GdAKHQGXjNSNAo7xVGQfwCgWBQCTix/o1OhiboRvVNFxN3f1ruYXmenk89xoSDvNyE9VSKY2R414P1Xb9i71ODhjzv9wVNOVPxesmxUHHdNXGc2vNeuH3GenxEUqprVbcV6OgREHDDSNj8uJBj2iOp0/PVUPzWhFMRhxbPb9jYJ1s+KgYzg6uWjt55qOgOyarTnUG9ANdtq/5ilulMUMwYq+k10qI1yiBUi4kfZRHXovX+ix/2jbZczV2XJtFyAjav/t8JTrHo14dGsThfbCsH5tPLgrxmaDjm5/pAt+F9SJeys0kBAFTTJBRzuKKduL/OSoDG+sm3cGuiS1PqCuV+Z7W5pMPfbrJmqAMj81MMM3sFNX1NObjqJoulB9J59n2OnWpoF+yU9VyL8iqnzpuo69W4TdrtE4+kR1IeEv7KVTKJv81oQLzpb2YOv7ZoOsdtmMKA2gv4RLIaTZRuX6Dy5dFx1Xyy33UT+F2q1VyEWHOlV+fBLuYleuMye/JEKVwnpBgHoDOqaB6eFRU+JlaX01yQPK015RXRc7qyifdwMfytefxe7njnvRueguQhiVA+X1QrdmeFF+gJ2ibReZOCbnS9suQCKecv1MeN2Q3upR4NE02r/RLG08XuPRTXvMXgVvcGhFLDdiIeb2RzjFya0BGfVWmIw/N3op4dakC3uRzfOfG09dDRNolQbCNY19EabnsBHt0mxln3lYYXntvdKpz4VX1FP2yosdjJJu+HmWHek3LlPmtAvzpFyDygdFl+Ppil2mv1nS63LYdd+ivCI+LpmLUlj+wjnhVEqzH2biNSD9FbCDHuzZS6dkatiPqvLT25MRcLNy6UXNl4IRlOgjfuRu6srzhkkjJ8KLmvgrmLqLJAXs84L1QQtpYCyz9AcacuV+6vhkjs3598+Ys31Jrhd15pScj9GSFNGyENl6QTTimXoDOubLxZnMdH5bXw3KwXhJkuy0/9dmkvIEfcPOmghHSvvj1LN6DXaEjoDPT7V0M4ySdc19vfC57JI8prx5JilP0Cc0jza1hplM2wUo5qdc6/r9O2Roenr6kb/fAW18mAqyKajygbXybdqITxr/OlpqUK92Zyr0fmpo1kYQTEzvj2R/pf8eCvapBhyCQE/4vtjt3DmkFw6ob9x38twmovPXP4wVnK86cso0XB3dfkNGX3GjdDUtxunYLxXgpg9GTzeNa11v8Lmx9Pv6dK2j94p+j3tPHUV8QUTfT4JlCOxrJ2TFv1/l50n6ucq+98RKptGf3R/p/RB9RnfPv8x30N/iv2PqN4aC52Tzk2yQMv0e2Xw7k5c1WfYBOyt1XqrisjafdtLHvqwcoqzZpszxic/HTJkeSs7ZzPkYnOdWXb2AegO2IJdXZNOdVVB3KHwe+kKu/pYvIzCACsqZwo7rXD2i5HnoOZsfB22fbNuluC2TmF9dlcceJaGf0+Pj8vPQkH+E3aE8zqRc3U6vS1ocH3Blej5O14Z379+XyYcP/SORtw8elOV9+/yjLQceAWCwaGGtF3GhIQ4AAABgkBB4RDfVBR57e1VrAOhLXBEOAAAAAIC2EXgEsLfplJL5MzKx8glTjQAAAAAAaBGBRwB724cX7FWzmWINAAAAAEC7CDwCAAAAAAAAaB2BRwAAAAAAAACtI/AIAAAAAAAAoHUEHgEAAAAAAAC0jsAjAAAAAAAAgNYReAQAAAAAAADQOgKPAAAAAAAAAFpH4BEAAAAAAABA64amp6cf+fty4MABfw8AAAAAAAC73dzt2/LYozj0I+eOHpWfh4b8IyDx008/+XvNvXv/vkw+fOgfibx98KAs79vnHzHiEQAAAAAAAEAXEHgEAAAAAAAA0DoCjwAAAAAAAABaR+ARAAAAAAAAQOsIPAIAAAAAAABoHYFHAAAAAAAAAK0j8AgAAAAAAACgdQQeAQAAAAAAALSOwCMAAAAAAACA1g1NT08/8vflwIED/l6d5+XND16So/vvyVfnLspV/1enYNtv35QPXj4q++32tM1vP5bXf/+ZfzRYnn/rA3npqehXb8rtP74uf/jcPzTS27P78lV5Z+6kHPKP5N5Xcu5isKfPvSNzz8ZbrUHel3tLdA75hykmnfxxXY6XnE9WNq10pPyz7319Ti7O+Qe13PuM3urkNXnROdLZZzdg86QjcidzTnZGz9Hjsr6t9+iQPe+lMq/I5QOpvKLTfCiTHraVttAbRedwTfkSC9NHeV5AWbN1r74zJydTOz59TnZ0PtYc11y+mamLcRxRr638BH2lpl6AAdWg7ZgugwLU//qCrUOM3JaPX/+DFJXeddvnbt+Wxx7FoR85d/So/Dw05B9hdygrc1WUn/uyWwrSQmFbMu+nn37y95p79/59mXz40D8SefvgQVnet88/2sqIR624zhU3Riq3FbonNwe00usy7gfmoJ6Tc3r7+oEcffkdk1Q8c9DD7R9/OyInP3jTVPGUS1AjpjCwrz33sdweOSkfvOW2qlf/6ZBtVLjt7kYDYrBkj6+7mUzi8z/I6/FjkzY2M89toWKQ++w/3paRZ+fknXP+CT3xqvz6KfNd7m3KoWPRubGXmXwhU2F0jcIwr/hKHjz1UnKcNE9+dsQUQv44dpQPmU98x+TnD0xl027P50PoM74MPvJ9lB6C4zr3gbz5W/88SysnyXPc8ySdPox8PuTSGOlgK16VXx3SoE24P4MGf5PzUSuRhdsz9QabZwfH3AcdH8THM5NXAFldyE/QB+rqBRhIGpBywYbwPHXlwNw7maOvQcbM8+4dov7XP47IbPaYGRp7SHdsYnDly1x3y3Qi7T8qs3103nYWeNQIqe0t35TNTf+3SNW2VKDE3EyFWJ9y7+vqSOvu9bw8/aTZE99+mfy+uS/l9uYh+ZWt5D8vbx47lNr+2e9vyr39R+Rprcid+5UcSgVlP5M/3Lon+5982jcwnpfHRzZlfdU+ALpPz+Gv78mhZ8PKqQa9TEVmLrm5SkkyQuLQs9HfDNuICZ+fbbhk6HmweUe+/Msd2YzOjYBWoj54603T2E7eM9WIbvR57jekK1PagE/ey1bW4veIfn/U27TfVNh7E5B99Z2TGoX1j7xzvzb7OcwrrsqX327KoX/y3/JfTJ5872ZSCHWSD5n9d/yQKdj+Em/N5EPoL+Z4/u6oSMEots9+/7p8dW+/HPnn6iP32b+Zc83fL+fS2P6RX/rHaOy3j8vI5rr83T9Ma3g+/mvSc63H9VzUk52tN3z+V7mzmRzz5//5iOzfvC1fxiMg03kFkNar/AS9Vl0vwEAybfSTttMr2+6+Khe1TX7oVzWB56vyXab6iR304I7cGckeM409uMEaQOSeaTfuf2q2ur3dQ52PeLS9IAtyxz9MqdoWc5WZdAV40JgG+uvZEYi/lNF4JKi7/+DHcPvfZT1qJMxdNPsxXTg8//iIv6fM682/R15OAiL0QqHr5r4zzdoRedxmXuY81uBiPBpORzds+sxN038yEtOeBxoETI220e375ejvykcy6qjeze//Kp9lGtCh/U8dkXXf46OfHwdGG3/eZ/LX7833DoNpNuDp8ifbe6hTFuLfGI0wMpU17QE2zSrtcWp1GngRrTTKV3Lxb/6xZ/OFTCDjsx8fiNhKpHZQmM0PUlvFbrbBhpp8aHxU9ssD+THsOVtdLwwCow/89mk5kgpCp129WD8qXoNTEnaYoV3mnNKRCi/FHRlhZ0j1+egCh3fkr+H5GMrWG2x62JQ7/+beLxWk9H45EldKgDTykwFVVy/AILL16bJz0Q4OqhsI5Ebrl+UH6LUfTdtlJN1ZoHm23JHvzLkMxP520XYUVrW3e6mzwKNWbMumcVZtC9kROiL3bhWvPTConn/reBzMcLIjFl3BX0ynnO5P9pmOmti/PzdliuDjYNHRgslIu2wjdSe4RvDouN53wfXwnK8c3eBHPScBOhfwK+VH97hGsx9p99SvM717RtBr7z7fB0Y7+Dz7uiCYFgc83cOUosZ79+lIqJFg5GHGgx/T30eDg/6uSgcyzFF8EG6tyYeyo7M+/1Go0/QpDRSXjqYr4kbrhnmMrutUO5LRnJuzWh79rUF5jxTtKNi/P7sES5iv15yP5lyXtz5IjlkwDTvhRmzrDBT5diE95SYUjaAsy1ewt/UqP8GOqK4XYLC4YHP2mFc6dDJ1Ls/ZGT7RwAP0A227jASdBbajx7RdmufZ2N3yZa69FdQLr178Su71yZTrHl/V2k0lkoEe7Zjn1nuU1BSp5vyUzntfJUGUXFDlqlz8uiQwg10rv7Zafy7+HU9Ftkst1PGNYnMrXLzas6N7UlOBdLTlVqYCNfg8P6LSBVTdMgbJKCGd6njUj1DamcDv82/NypHvKwIIQAkte+LKiN5SFZKC9WFMOSKHjqfSea4DxAa0Pu7+KN8BZDsuwpElc74n+l8altymMTgrC/Hx+uqByZtylUwdje223xwpWLtL+RHhlYFJIKON/ARAP0jqxtEttWRQbo1HP2uoaVmF7tO2Szzd2k2zjtou2AsKyly9FQ6OieJEOz/lureBRzt1w/yfHaEzwOKgY+6KcVGgI+J6pNKSoGPtaNLMKCegfToVMBmREwUc46nIfu3WYlElJ7n4gU6NLuZG+KZ7XN3Vu5pfZKaTz3OjIe00Iz9VIZnOGDXifaXL9i71cBF2HV325B1ZqJreMvJ4ep/oSBV/V408nt5j6emVNfnQ/lFz1AM62trfRZ+x0+DTx8sFulxlpDz9B+xaX+llDfIdIFzIrE3pkUY156OpC4T7/upfTJ5bsfTB1b9p4CezDlQcdOSK1qjQpfwE/aG6XoDB4kbOp4950kFlLxzj/1rOzTzKlSfYQdp2GZHjOoot13YBMqKO7h2ect3TwKMdxWT+3ytTtDQw465QmQ066pTVbCHggjpxb4U2DqKgSSboaHuds6McOp4WA3TIXrwgWvNP13vxvS1Nph77dRM1QFnb2PUXSUhfec/cdPRE0/UFO/k8w063NhWqN/1Uhfwr/NRyW0Hr3SLsNs+MR1yam72q9aH4iqJ2PcdM49Cu+3jvO1OtdJXN9FQ3F8hweXBNPmQ7MzJTa2w+Q+WmL9mRu4dcJXSbOpqShYZ0Xdz8esza4HfrrVWfj/Zcz3YyBArrBVn+IoC6TAtBR1QiPxlQdfUCDCLthGplVhztzL6ibRd58ml5tbTtAiTiKdfHdm4ISU8Dj65HbW9cjVkbAcVXEFP5NevcGpBRg/5VeadiRIJbk+6o/DoOfpjnP3toz62biR7SQLimsdSV6MPROS7NVvaZhwEy0wAum/qsayy6wFlGp6MnGn6e5RtZR59KT1XINeZ9UPS7Hk0zDUeYxMFXG5T1nRn+apRJ49CvB+sbEHZEVDjVzV8F233/mnzo8z/IzdQ0ULdURtn6l9hp5nj+622RovV+69J/JJU+0C5/Iauw8acXjYoX7K85H/Vcl/QaPfbqtH57tCxEtl4QX1AgzsN7cDEsDADyk0FVXS/AQLKjnbTTOjtjRzvE3IyiatT/+pK2XUy94GSm7QIU81Ou9zcov7tkaHp6+pG/LwcOHPD36mhG9ZItqPKBtbJt0d91lFR/rlXXHp3mWZyRbwbBRDcNOzr4yf5K/z0U7FM/XSp6Vvi+2O3cuTJ6q0kDsZPnNhGdp/5hrOC8NY0PNwJP6fabMvqyG6WraTFOx36pAB0BfDJ++m35+NaovPTsSPp9fbrWETlFv8e9p44ivijmJLNXeo5HBNvXHpE7/v0qP0/Sz1X2vZ+8Ix+nRnBm90d6P0Sf0bPzz+5zyeSt6fwm911yxynY30ZZPuRkfn+TZR+ww4rO4exxLyujwue1nbdApc+3bZ6Pmq+F+VVFvSCVH4ay7wGktJWfoK/U1AswoFLH3cvU69JlUID6X1+wZXnQ9sm2XbKPs+Zu35bHHsWhHzl39Kj8PDTkH2F3KI8zKVf3k9I6vKsPZuuXeT/99JO/19y79+/L5MOH/pHI2wcPyvK+ff7RlgOPADBYtLDWCzcQwAcAAAAwSAg8oqluBB57fFVrAOhHXBEOAAAAAIC2EXgEsLfp1JO5l+TI9wtMNQIAAAAAoEUEHgHsbXMX7YVbmGINAAAAAEC7CDwCAAAAAAAAaB2BRwAAAAAAAACtI/AIAAAAAAAAoHUEHgEAAAAAAAC0jsAjAAAAAAAAgNYReAQAAAAAAADQOgKPAAAAAAAAAFo3ND09/cjfBwAAAAAAwACZX12Vxx4loZ/T4+Py89CQfwRsz7v378vkw4f+kcjbBw/K8r59/hEjHgEAAAAAAAB0AYFHAAAAAAAAAK0j8AgAAAAAAACgdQQeAQAAAAAAALSOwCMAAAAAAACA1hF4BAAAAAAAANA6Ao8AAAAAAAAAWkfgEQAAAAAAAEDrCDwCAAAAAAAAaN3Q9PT0I3+/A7Ny6doZmRpelcXTF+SK/6tTti36u38oG7L00Vm5/Kl/OIBmL12TM/EPzv/e9Pbs/jov783PyLh/JHcX5fQbwZ5+7T2Zfy7eam0sXZezlxf8I+xe2XMlZNLJR+ty4pUpKdyssmmlI+WfvfrFabnwoX9Qy73P6DedvCYvOkc6++wGXrgk116ZkJVt5UF6jp6Q9a7nY+ljkj/P03lFbnsqr+g0H8qkh22lLfRG0TlcU77EwvRRnhdQ1mxD6nwMj0vZMQn3d/m5nj6PQ9lj79jnT6zI9bOXhSOJcm3lJ+grNfUCDKgGbcfSsoT6X184//68zIwulZbdddvnV1flsUdJ6Of0+Lj8PDTkH2F3KK8vJvm5L7ulIC3YfEAK64bb9e79+zL58KF/JPL2wYOyvG+ff7SVEY/aYJ8vboxUbTv/fvbvwzL1yntm1w0ml3GvmYN6Wk7r7Yu19O81Bz3cfn1pTGauXTJVPOUS1JgpDOxrT1+XpdEZuXbJbVXnJ8dtMMZtdzcagoMle3zdzWQSn16Ws/FjkzY2Ms9toWKQ++yPlmTsuXl57zX/hJ44LzNT5rvc3ZDxZ6JzY6/xBce6qfDZY7Eoa1NnguOg28O8IrNd8+Tnxkwh5I9jR/mQz7fjz87nQ+gzvgyeWInSQ3Bc56/JpRf88yytnCTPcc+TXLmcz4dcGiMdbIGt7CXnY/p8uyIXUvtZt5vMXVblRhh01Maf335jLDkOC5fPpl6rx2nV/H1jaTFfsTTp5FRhJQ4IdCE/QR+oqxdgIGlAygUbwvPUlefz72eOflDORM9bPUz9r39MyKnsMTM09jBz2D/AgMuXue6W6UQanpJTfXTedhZ41EqzHWm1IRtaHw5VbTPV6idG9f9oJ7lgici4TPY0kNErs3JswuyJsML/4aL5zdHvnZVLz4ynti9cviGrwxNyTCtyr02aPRM1NtSCXP5mVYYnjvkGiu7PDVn/3j4Auk+DnV+syvhzYeVUg16mIjOf3FylxAfLTLt2/Lnob4ZtxITPzzZcMvQ82FiRxT+vyEZ0bgS0EnXt0iXTGE/eMxUYbfR57jekK1PawE/ey1bW4veIfn/U26QdKF0MyL5wTCaGTb755yinuCLLd81+nfRH4bUZs5/DvOKKLJrMNdp+/jcmT757IymEOsmHzP47cTj87Gw+hP5ijueLUyKZ0QtKg1KLd4dl4nj1kVu4ac41f7+cS2PDY8V9rSinHYYSnI92fxfkbZY5/zQ4uPqF75H29YLFoGPpyp81sjNTGDA4/77JnzaW5JNch6SmkwlZu1t/pLGX9So/Qa9V1wswkEwbfeZw0ej3K3LhoyXZODxZWI4kXN0TfWJ9RVZGs8dMYw9usAYQWb1r2m1Tp6rb2z3U+YhH2wvyiaz4hylV2woNavDMNNDPZkcgjstoPMDA3V/7R7h9VdY3fEXuwwtmP6YLh9lfjPl7yrze/DvxShIQoRcKXffhskmlY/KEzbw0YBeOhnOjc1zmpuk/GYlpzwMNAr4yJWvx6CndPixTL5aPZNRG+sbKLVn49JasROdGxvDUhKzHo4c2ksBo489bkFsr5nuHwTQb8FySxQ/Nr9TeQ52yEP/GaISSjk7SEUWuM6XVaeAhO7o17L06L5OHzX5ddrmDzRc21s33SCz8Y03EViJdh8/GWmqr/LAeBS5r8qEnR2VY1uSHsOfs+/XyQAl2lg1Sh0HotCtv1I+Knz1uaq1FI+TQCj0G4Yh03d/DGytyKzzHPBccWEznLZlz3Yny5EDUafCn/FSr2UunZGLlE1k02QRQivxkQNXVCzCIbH267Fy09cy6KZda9yzPD9BrP5i2y1i6s0DzbFmRZcp2hJYv2I7CqvZ2L3UWeNSAWNk0zqptGoj705JporvRQfN+OvbG0ifp4aADbPbSiTiY4WSDrq7gL6ZTTodl9RvfiHjhCRkbHg6CKkx9G0Q6WjAZaae3mhGCXeeCUqNP6n0XXA/P+crRDX56eNKIdgG/Ur7hvHJTU7wfaVc0sic7eihqhHfwedlRR3HA0z1MsdMZd2RNNA30ahpwUy1TwYj1H9LfR4OD/q5KBxbNUVwLt9bkQ9lAx6c/CHWaPqWB4sLAVJmoPE5uuq5T7UjGaCSeD35jC3SGiN3fUhgcjAOH8WhjQzt+MlNmbHDS3w/lRjTFtC6xRuMR9XqVn2BHVNcLMFhcsDl7zCsdnkmdy7buWdTJhR2jbZexoLPAdvSYtkvzPBu7W77MtbdguazIlTcWc/XHndK7q1rb0TNpe6VC4tZ7LGlg1ErWdYqDDbmgyhW58EVJYAa7Vn5ttf5c/Dueilx1wZuYm8asz9dGSRk7Eig1FUhHW25lKlCDz/MjKl1A1S1j4AKeGmjUqcdTcsa+x04Gfn2g16SD62snCgsWIEvLnrgyordUunGjdVN5jClH5PCJVDrPdYCY81ynX6aC3+iMndWg+/yGjJqKY3aphuKRkG5KnOh6XP5YTC67dRzT0qOiQzr9WqKp20CH2shPAPSDpG4c3VLlkJ3BGJ7PftbQb2hl9g1tu8TTrd0066jtgr2goMzVW+HgmChOtPNTrnsUeDQZnL2Klq4v4XbMoq4VcXime2uj9Yk46Ji7YlwU6Ii4Hqm0JOhYe8GQzCgnoH06NTcZIRcFHOOpyLpOjNtUIKrkJBdCcRdOKOJG+KZ7XLW31XyDxheZ6eTz3GhIO83IT1VIGvw6pVrzLF/psr1LO7sIe3aEpow+kd4nmU6esV+k99j4WLi1Jh8aHrX7Paajrf1d9Bk7DT59vMILjpSn/4Bd6yu9rEG+A4QLmbUns2ar5deILhp17Tsdo+Nw4Xs9HzPLIfi1IJezgWFd40syo6WBMl3KT9AfqusFGCxuJkv6mEd1W70VdWBluZlHbhkf9Adtu4zJCR3Flmu7ABkf9seU694EHisaq9nCb5BoYMZdMTYbdNQpq9nf7oI6cW+FrlEXBU0yQUfb65wd8dTxtBigQ7ZBGzVydVSN721pMvXYr5uoAcraoEV0EYW4UuRvOnqi6fqCnXyeYYN5pkJ1yU9VyL8iGnGoFbQeLsJup2SWBzrteo6ZxqFd9/HusqlWuspmemS5Cyy60VA1+ZDtzMhMrbH5DJWbvmRH7o67Sug2dTQlCw255RJql0Sxa+sFdYEKbmRkutx3F7DR8z/N/j3ozLEjwO1o7p3tSEGfIj8ZUHX1AgyiK8stzYqjndlXtO0iE8fkfGnbBUjEU66f2bkhJL0JPNoKjN4Zlxlf6XWXe29Wud6NNDhYfAUxlV+zzq0BGTXoz8t7fjpbUdDEjXiakpk4+OFGlMZrQAJt00C4prHUNL1wtJxLs5V95mGA7LX3Sqc+lzWcOx490fDzLN/ImjKnXZgn5YL8ZaOJusVfbTJp/LkrjcbT0HPb/XqwvgGhV73dCKe6+atgu+9fkw99elluaO9YPLXGfLZeBZvKTZ8yx/NPbipuLrhVl/4jqfSBduXPNzsKMbuWox2xnBnFaLlR3PEskWitzVS57wII6QtHOPbCNkFHjh2xZjtnmHqNIuQng6q6XoCBZEc7jZs2eLajSTvE3IyiatT/+pK2XWTK1PuZZo0m/JTr4Qbld5cMTU9PP/L3O6AZlV4gpiiwVrYt+rt/aOem9+eaddunDYTijHwjCCa6adjRDkn2V/rvoWCfaiAoCPSE74vdzp0ro980uVpyJ89tInueRgrOV9P4mLdLKCjdruuVuVG6mhbjdOyXCtARwK7DQZ9uGrzfjMqZ58bS7+vTtV44qej3uPfUUcQXRPT9JFiGwL52Qlb8+1V+nqSfq+x7T6zI9dQIzup8K/qM7p5/mfwkt/RCenvuu+SOU7C/jbJ8yMn8/ibLPmCHFZ3D2eNeVkaFz2s7b4FKn28l52MuH/Jqy313XKUk/wxVfg4Qays/QV+pqRdgQKWOu5ep16XLqAD1v75g2x1B2ydblteV7fOrq/LYoyT0c3p8XH4eGvKPsDuUlbmOqxtKaR3etV2LYnjb9+79+zL58KF/JPL2wYOyvG+ff7TlwCMADBYtrE/JJ10MIAIAAABA7xF4RDfVBR57d1VrAOhbXBEOAAAAAIC2EXgEsLfp1JP5MzKx8glTjQAAAAAAaBGBRwB724cX7MUWmGINAAAAAEC7CDwCAAAAAAAAaB2BRwAAAAAAAACtI/AIAAAAAAAAoHUEHgEAAAAAAAC0jsAjAAAAAAAAgNYReAQAAAAAAADQOgKPAAAAAAAAAFpH4BEAAAAAAABA64amp6cf+fty4MABfw8AAAAAAAC73dzt2/LYozj0I+eOHpWfh4b8IyDx008/+XvNvXv/vkw+fOgfibx98KAs79vnHzHiEQAAAAAAAEAXEHgEAAAAAAAA0DoCjwAAAAAAAABaR+ARAAAAAAAAQOsIPAIAAAAAAABoHYFHAAAAAAAAAK0j8AgAAAAAAACgdQQeAQAAAAAAALSOwCMAAAAAAACA1g1NT08/8vflwIED/l6Nc+/I3LOHZPPbj+X133/m/6ielzc/eEmO7vcPN2/Lx6//QcJnJM+5J1+duyhX/V8H0fNvfSAvPRXvDLn9x9flD5/7h0Z6e3Z/vCrvzJ2UQ/6R3PtKzl0M9pY/BqH88cCulTu+Qfr47ZvywctHJUo5Odm00pHMORy49/U5uTjnH9Ry7zN6q5PX5EXnSGef3YDdh0fkTuac7Iyeo8dlfVvv0UT6mOTO80x6yG6vzmfqt8dsmpSBz7d3r0yZkZKUP/Z4j9wsyCPc68Wfa+l0EcqXZehAKm+vqgelj4eTzZ+r6w25fJN6AzpUng9E6au8zlDcBkBfSOUF5Ol7Q8W5GpUlBWVEpPV6OLbk1Xfm5ORIed5at33u9m157FEc+pFzR4/Kz0ND/hF2hyb1fX++S0FaaNie++mnn/y95t69f18mHz70j0TePnhQlvft84+2MOJRE3RxplSQoe0/Ki+986p/YGgDea4s0xssrrL2wBzUc3JOb18/kKMvv2OSimcOerj9429H5OQHb5q9qFyCGjENAvvacx/L7ZGT8sFbbqt69Z8O2ULAbXc3Gg+DwZ1jmiEkx9amj7kP5M3fmid8/gd5Pd5m0samqxBEz9160DGRTVvn/nhbRp6dk3fO+Sf0xKvy66fMd7m3KYeORefGXuPz1Qdf+WPxlTx46qXkOPig44P4eKW3u3xITCEUHcd1OT7XNB8KmTyppDKKfqIVjigthLctNiq1EyPzXh9/K+myDM3Zyt5IfIzKzzctB/KVylff8ZXI+FhU1Btsnu3LDI96A7akIB/QWxiEyNUZtG5iUmuqDYD+oPWGIB/KtU8w0PLnqt6CAIR2GGS3f31PDmXKE+ykIzJbkLdqnf8kVfU9omF9f/9RmQ3iRzutg8CjNoDnbILe3Nz0fwv89mk5ogHFKMMylV77rEO/coWZVrjtqJxN83r9wyB7Xp5+0vzSb79MMvK5L+X25iH5lQ0ImH15TEeMJts/+/1Nubf/iDytmfq5X5kGxz25GTcIPpM/3Lon+5982jcwnpfHRzZlfdU+wCAx58nJQ/lRMJ/9/nX56t5+OfovO1Q11GCnrXiElVOXJ8zNJTcXHE86IQ49G/3NsB0P4fNrKjF6HmzekS//ckc2o3MjoAHaD9560zS2k/dMBUYbfZ77DWFQ3zXgk/eygeD4PaLfH/U2mWPychcDsjZfNYXLX6LUcFW+u2f26z+5b/H8Px+R/SbP/TJuAF6VL7/d9NujfGghKYTMcbx575Acj45TVT4U0CCI3DMfjD3PphGT8l1Zhk5o4E/u3YzPx8/+rThvs+WA2cupM87kZ8cPmbzgX5Oeay0XzkU92dl6w+d/lTub++XIP0d5G/UG9JKrt8ZtAPSNV//FtMWCfCjdPgEK2DQSlifYUQ/uyJ2RbN6qdX6tqg98kAUduGfabvufmu2bToMORzy66Orrtx74x4HxUTvVb/P7v7pK8Oc/in3W5rr8Xf9Xttd0Qe74h4PLVLhez44k+KWMxiM93f0HP4bb/y7rUaY+d9Hsp3Tg6fnHR/w9ZV5v/j3ychIQSQdOsFu5hul3qWMfuXrxXCujGbds7jvTrB2Rx23m5YOL8Ug8HX2z6TM3Tf/JSEx7HuRG5un2/XL0d+UjGXVf2Pwk14BO7H/qiKzHo4c2k8Bo48/7TP76vfnecVDfsAFPF8yzvYc6ZSH+jdEIo6ty8dxXZn+4PLFr00/s6Naw9+pV+ZUmkb+5dJAKPHi/HIkzGiudzzj7R35p/q3JhyI2CPKVXPybfwxgS7J5uOs4uCN/DXuntVNDR7xf/M4/doqfG8jWG3ynxZ1/i85v6g0AtAPCNM0exC0z4zP50TTYog5NAP3uR9N2GUl3FmiZL3fku4IQDfawv110A5cq2tu91EHgUYMJFdO1bKU3CbY9/9ZxO00oDkTq9p0Mmuwwuz9SI5OyIw9cwV9Mp5zul3u3fIDht4/LyP79uemVNCJ2u6IKYT9xQanRcb3vguvhOW1H7/j7OX56eBKgcwG/Un50j2s0u5ET+5/6daZ3z8iOHooCox18XnbUURzwdA9TigJ9vRGNLj0ph+59VR7ojEZF2RGS7jenRqna7f6+VZcP6ajIkWDEJfqbG4EbBZbiW8l03q1wZfs9+a5bwfa9QGeAmONil0EIRjAq3b8j4WyJ0IMfRd76oOa4uhHbOsNEwtHO1BuwVYdOJmnO3+rTjRtRX9aRip2V7ZD8+wNGSe0VOhMpfT43mEJ97tdyNNWRhZ2mbZeRoLNAOyfFtF36tQWJtjWv71+9+JXc65Mp1125qnW8GLVpILN+ULQ/8g2MZvyUzjDYkAuqXJWLX5cEZoAui6ci26UU6vhGsbmVLViv7Oie1FQgHW25lalADT7Pj6h0AVU3HTGqXLmpx0flJfseO7m+jQ/0mvP+4wfHiwMOfpRnGGxwU/QPyUm/D+Z+J3Lz2+YNjOffmpUj3wfBC/Q5NwLXBZaC21aD5QUBB7cmaPWC1KjhO2rPnbspo+FSDeYcnn3yjiyU1ZvM8ZiVhfi4fvXA5E25vEBHY7vtN0dekrloHSjqDdiqgjUes3X7fDDDz4jYwwMOgH6UX+Mxvyacq/MGN7sm6BbXikZ3aNslnm7tplkTGN5LOqnvR/W9nZ9y3XrgMQw6UuGI9ode3CGbYUeBjogb7ZaWBB1r9+XqevloM+wSbrSZmwbbj3RqbjJCLgo4xlORo3VdC0UBwOTiBzo1upgb4ZsOergLLTS/yEwnn+dHBmrPoZ+qkExnjBrxfqq27V3a2UXYC9eFi4OO+SvU2umd9je4AklG9gejaivyobogCAZfGHDw53dq7WJsU7hm6/Py5u9M7lPVQWmOR3h+X/2LOSZFa0R6V/9Ws8Ye9Qa0JAxmuLI2GnmPfjTyeLomlV2iBXtY6uIyuqSQEQ4EQJ/QtsuIW7M913YBMub6Y8p1q4FHgo5pGphxo0OyQUedspot+F1QJ+6t0EBCFDTJ7Evdz7kRT7rGZrieJnalqoZi4XHvJXvxggfyo03Lutag721pMprKr5uolZnaUdD+IgnhVb3t7Wuzbyoa2SmdfJ5hg3lmv7/ppyrkXxGNONRKWA8XYbdTMmsCnfocv55l/W91a0S6aVbV+ZAddRr2fNurWuvoSa5suJt9pr0bI4/n8xGdiisVFx/REXO2xzS4qjo64JZLKJ2iatdkDKfO+M4Wf4Gu0uPm1ZUP1BvQK/HF8LhSch8q6uB2HY7R2tFA4qpc1E7HQydZlqMPadtFnnxaXi1tuwCJeMr1sdxIt55pL/Coo2OiqYypkUp7s+KhlfyiqxM7+TXr3BqQUW/Fq/JOyegl5UY8HZVfx40/8/xnDyVrQGL3sj0SGtxJnzeanjSov2PHWAPhmsa+DtNzOFrOpdnKPvP9oxJXdc+94zopCpReYKfTq+o1/DzLTrc+JEefSk9VyDXWfVC0Z+vb+atNuqtQKx0VFVyRMj4uxRe4yX5/vTp1stZsdT5k17PMBn5tQJjpNruaLlugFY9MI8Je6bTq4iXK5k8aDCP43LmCtWpNvnQyWpPVT4VOzjk30iS+QJfmBZI+buExi5aFyNYLohGq1BvQS7aBox1VO9lZikJ2pPSh40kebtfvY91elDBl08K3evFIOh37jrZdTL3gZKbtAhTzU673V7bWu6q1wKMdHePvw08VtaODogCsu8U9RqYBZ6+Q6/9uR0b6kWNu8X6xmXz42jiIqw2UP96WkXhNHTcysvSCE9hVdGpsmDb05kbOFgeXuiG3XtPLR+RO6urNLvNKnndc1v+oDY0oMBhd2MRs0zXG4oCqf/6xdfm4aATjb93FT4p73t17NlqTrOnnxdx7Sybw8tnvF2xjPxn1p+vcRMFXnSbpRih1rydYR1q6i0C4/ZxeN8sGHsz/uePlG3t25ImuA+f/bjtDwhGqFfkQdqNwxFz6lqRRXT7gY7nzZLp80SuXNxm9fPVitOwAo5k6ljnfOls3S/OC9HGzy1zEx8yNTMnWC+LOS+oN6Ck/Umq/KX+idUbRH+zo9QdJWZGq1wB5bhQznY79p7jtgr2gSX2/gG0f+/s7YGh6evqRvy8HDhzw9wBgb9HRgXrhhiZTswEAAABgt5i7fVseexSHfuTc0aPy89CQfwQkfvrpJ3+vuXfv35fJhw/9I5G3Dx6U5X37/KMuXdUaAHYXrggHAAAAAEDbCDwC2NvsBVxekiPfL7B2IQAAAAAALSLwCGBvm7toL+bAFGsAAAAAANpF4BEAAAAAAABA6wg8AgAAAAAAAGgdgUcAAAAAAAAArSPwCAAAAAAAAKB1BB4BAAAAAAAAtI7AIwAAAAAAAIDWEXgEAAAAAAAA0Lqh6enpR/4+AAAAAAAABsj86qo89igJ/ZweH5efh4b8I2B73r1/XyYfPvSPRN4+eFCW9+3zjxjxCAAAAAAAAKALCDwCAAAAAAAAaB2BRwAAAAAAAACtI/AIAAAAAAAAoHUEHgEAAAAAAAC0jsAjAAAAAAAAgNYReAQAAAAAAADQOgKPAAAAAAAAAFpH4BEAAAAAAABA64amp6cf+fvNvfaezD83LhtL1+Xs5QX/RzUrl66dkalh/3BjSa6fvSzxM164JNdemZJkc/b1g2X20jU5k+wMWfrorFz+1D800ttXZfH0BbniH4mcl/fmZ2TcP5K7i3L6jWRrdAxCg74/95Tc8Q3SR+Y8ysmmlY5kzuHA6hen5cKH/kEt9z6j33TymrzoHOnssxuw+3BCVjLnZGf0HD0h69t6jybSxyR3ntfkq9X5TP32mE2TUr4dOyxTZqQk5Y893mM3CvII93rx51o6XYTyZRk6kMrbK863zPFwsvlzdb0hl29Sb0CHyvOBKH2V1xlM4kq3AdA/UnkBefreUHGuRmVJQRkRab0eji05//68zIyW56112+dXV+WxR0no5/T4uPw8NOQfYXdoUt/357sUpIUutufevX9fJh8+9I9E3j54UJb37fOPtjDiURN0caZUkKENT8mZ98+7+wXBkuGpM/Lea/7BgHGVtTVzUE/Lab19sSZTr7xnkopnDnq4/frSmMxcu2T2onIJasw0COxrT1+XpdEZuXbJbVXnJ8dtIeC2uxuNh8HgzjHNEJJja9PH/DW59IJ5wqeX5Wy8zaSNDVchiJ679aBjIpu2Tn+0JGPPzff4fD0vM1Pmu9zdkPFnonNjr/H56vqiPxaLshbmmz5fXYuPV3q7y4fEFELRcVyXE/NN86GQyZNKKqPoJ1rhiNJCeNtio1I7MTLvdX1J0mUZmrOVvbH4GJWfb1oO5CuV59/3lcj4WFTUG2ye7csMj3oDtqQgH9BbGITI1Rm0bmJSa9wGQP/QekOQD+XaJxho+XNVb0EAQjsMstu/WJXxTHmCnTQhpwryVq3zzxz2DzDgGtb3h6fkVBA/2mkdBB61ATxvE/TGxob/W+CFYzKhUcUowzKVXvusw5O2MJs9PmGDjtq7rjvmukZLjPHJQSzqZuWY2RkbS4tJRv7hoixtjMukDQiYffmMjhhNti9cviGrwxNyTDP11yZNg2NVbsQNggW5/M2qDE8c8w2MWXlidEPWv7cPMEhMw3TmcH4UzMLls7J4d1imfrND54sGO23FI6ycujxhfj65ueB40gkx/lz0N0Mru8Fz56NAahk9DzZWZPHPK7IRnRsBDdBeu3TJNLaT90wFRht9nvsNYVDfNeCT97KB4Pg9ot8f9TaZY/JKFwOyNl81hcufo9RwRZbvJvmmzVdNnrsYNwCvyKLJW932KB/6JCmEzHG8cXdcTkTHqSofCmgQRO6u+kfYy2waMSnflWXohAb+5O6N+HxcuFmct9lywOzl1Bln8rMTh01e8Kek51rLhdNRT3a23vDpLVnZGJaJ41HeRr0BveTqrVEbAP3j/G+mZDjIh9LtE6CATSNheYIdtb4iK6PZvFXr/G6wBhBZNW234alTfdNp0OGIRxddPfvNmn8ceHLUBRZXbrlK8Kc/iH3WxrqtPI+P2a2yctNVihf+4d5jY20QG7OmwnU2O5JgXEZ1F1ju/to/wu2rsh5l6h9ekFTvkzH7izF/T5nXm38nXkkCIunACXYr1zBdTh37yJU3TrcymnHLPlw2qXRMnrCZlw8uxiPxXGeCy9w0/ScjMe15kBuZp9uHZerF8pGMui9sfpJrQCeGpyZkPR49tJEERht/3oLcWjHfOw7qGzbg6YJ5tvdQpyzEvzEaYXRFLpxeNPvD5Yldm35iR7eGvVfnZfKw2a/LLh2kAg+ey2sT6XzGGR7TsVQ1+VDEBkEW5cKyfwxgS7J5uOs4WJFbYe+0dmroiPc30idc8XMD2XqD77SI6lzUGwBo3e0JkxGk214L8sO6ySEGciAIMIh+MG2XsXRngZb5siLLBSEa7GHLF9zApYr2di91EHjUYELFdC1b6U2CbbOXTphqbhKItBXuuAHtRtqEgchBZ/dHamRSduSBK/iL6ZTTYVn9xgcYXnhCxoaHc9MraUTsdkUVwn7iglKjT+p9F1wPG9F29I6/n+OnhycBOhfwK+VH97j8wY2cGJ6ayfTuGdnRQ1FgtIPPy446igOe7mFKUaCvN9zIzHkdZXl3sTzQGY2KsiMk3W9OjVK12/19qy4f0rx6LBhxif7mRuBGgaX4VjKddytc2b4qy90Ktu8FOuXaHBe7DEIwglHp/h0LZ0uE1n8QkxHUHFc3Ynv+FX3zYLQz9QZs1eGZJM35W3268fX8ko5U7Kxsh+TqGqOk9gqdiZQ+nxtMoX5tRqZSHVnYadp2GQs6C7RzUkzbZRCHc6FI8/r+lTcWZbVPplx35arW8WLUpoGcXz/Ij5Qym1e/2OK6U7tMvM5apoHRjJ/SGQYbckGVK3Lhi5LADNBl8VTkzBquxXyj2NzKFqxXdnRPaiqQjrbcylSgBp/nR1S6gKqbjhiPzLZTj6fkjH2PnVzfxgd6zXl/fe1EccDBj/IMgw1uiv64zPh9MP+iyA2/zEUTs5dOycRKELxAn3MjcF1gKbhtNVheEHBwa4K2vyD1nuI7ak+fviGj4VIN5hw+NbEin+TqTZ45Hqfkk/i4Lq6bvCmXF+hobLf9xtgZmY/WgaLegK0qWOMxW7fPBzP8jIidnKUBICe/xmN+TThX5w1udk3QvdFm3zW07RJPt3bTrAkM7yWd1Pej+t7OT7luPfAYBh3zFY4w6NjF6Yl9JA465jLsKNARcaPd0pKgY23l7fv18tFm2CXcaDM3DbYf6dTcZIRcFHCMpyJH67oWigKAycUPonVe89wI33TQw11ooflFZjr5PD8yUHsO/VSFZDpj1Ij3U7Vt79LOLsJeuC5cHHTMX6HWjTZPCiQZGw5G1VbkQ3VBEAy+MODgz+/U2sXYpnDNVlM/etHkPlUdlOZ4hOf3lT+bY1K0RqR3Zdmc51Vr7FFvQEvCYIYra6OR9+hHY79I16SyS7RgD0tdXEaXFDLCgQDoE9p2GXNrtufaLkDGh/0x5brVwCNBxzQNzLjRIdmgo05ZzRb8LqgT91ZoICEKmmT2pe7n3IgnXWPTr6eJ3auqoVh43HvJXrxgTX6waVnXGvS9LU1GU/l1E7Uykx8FneEvkhBe1dvevjD7pqKRndLJ5xk2mGf2+yU/VSH/imjEoVbCergIu52SWRPo1Of49Szrf6tbI9JNs6rOh+yo07Dn217Vejy5ujp2Jbu+8ugT+XxEp+JKxcVHdMSc7TENrqqODmgdqGKKql2TMZw64ztb/AW6So+bV1c+UG9Ar8QXw+NKyX2oqIPbdThGa0cDiStyQTsdD8+wLEcf0raLTByT86VtFyART7l+JrxuSG+1F3jU0TEaVVSpkUqu4qFT9qLNqSkZBZeDHwRayS+6OrGTX7POrQEZ9Vacl/dKRi8pN+JpSmbixp95/nPjyRqQ2L1sj8S4zGSCTZqeNKi/Y8dYA+Gaxr4I03M4Ws6l2co+8+FR25C2XnvPdVIUKL3ATqdX1Wv4eZadbj0uU+a0C6cq5BrrPijas/Xt/NUm3VWolY6KCq5IGR+X4s6c7PfXq1Mna81W50N2Pcts4NcGhJlus6vpsgVa8cg0IuyVTqsuXqJs/qRlOMHnzhWsVWvypZloTVY/FTo559xIEz23bT1A8wJJH7fwmEXLQmTrBdEIVeoN6CXbwNGOqp3sLEUhO1L68IkkD7fr97FuL0qYsumTJb14JJ2OfUfbLqZeMJNpuwDF/JTr4crWele1Fni0o2P8/Txde2DnfmTv+amiWumKA7DuFvcYmQacvUKu/7sdGelHjrnF+8Vm8uFr45FP2kD5aEnG4gCuGxm5F0aR7gU6NTZMG3pzI2d7N1I4t17TKxOykrp6s8u8kuedkPWPtKERBQajC5uYbdq5EAdU/fOfWZfrRSMYX3AXPynueXfvmWq4l2n6eTH33pIJvCxc/sQ29pNRf7rOTRR81WmSboRS93qCdaSluwiE28/pdbNs4MH8nztevrFnR57oOnD+77YzJByhWpEPYTcKR8ylb0ka1eUDrsvKRLp80SuXNxm9fOWNaNkBRjN1LHO+dbZuluYF6eNml7mIj5kbmZKtF8Sdl9Qb0FN+pNSwKX8GdIDBrmVHr68lZUWqXgPkuVHMdDr2n+K2C/aCJvX9ArZ97O/vgKHp6elH/j4A7Fk6OlAv3NBkajYAAAAA7Bbzq6vy2KMk9HN6fFx+Hhryj4Dteff+fZl8+NA/Enn74EFZ3rfPP+rSVa0BYHfhinAAAAAAALSNwCOAvc1ewOWMTKx8wtqFAAAAAAC0iMAjgL3twwv2Yg5MsQYAAAAAoF0EHgEAAAAAAAC0jsAjAAAAAAAAgNYReAQAAAAAAADQOgKPAAAAAAAAAFpH4BEAAAAAAABA6wg8AgAAAAAAAGgdgUcAAAAAAAAArSPwCAAAAAAAAKB1BB4BAAAAAAAAtI7AIwAAAAAAAIDWEXgEAAAAAAAA0Lqh6enpR/4+AAAAAAAABsj86qo89igJ/fzXf/fv5L/7+8B2/Y8mbekt8vbBg7K8b59/ROARAAAAAABgYGUDj0A3ZQOPTLUGAAAAAAAA0DoCjwAAAAAAAABax1RrAAAAAACAAfU//ff/zqgz9Mz/OzRkbxECjwAAAAAAAABaR9AbAAAAAAAAQOsIPAIAAAAAAABoHYFHAAAAAAAAAK0j8AgAAAAAAACgdQQeAQAAAAAAALRM5P8H0WGc/O69sP0AAAAASUVORK5CYII=)"
      ]
    },
    {
      "cell_type": "code",
      "metadata": {
        "trusted": true,
        "id": "of36hDlhyrXB"
      },
      "source": [
        "# P1.2\n",
        "## Respuesta"
      ],
      "execution_count": null,
      "outputs": []
    },
    {
      "cell_type": "markdown",
      "metadata": {
        "id": "8tPrWtIRyrXL"
      },
      "source": [
        "## Pregunta 1.3\n",
        "\n",
        "**3a) (2pts)** Con la ayuda de la función `rbind()` , una las filas de las 4 tablas generadas en la pregunta anterior y guarde la tabla resultante en una variable llamada `Analytics_and_BI`. Su tabla resultante debe contener 16758 filas y 11 columnas. Sobre el dataframe resultante, añada una nueva columna llamada `category` que repita el nombre de la categoría de empleo, en este caso: \"Analytics_and_BI\".<br>\n",
        "**3b) (2pt)** Con la ayuda de la función `unique()` ¿Cuántos cargos distintos (`job_title`) hay en el dataframe `Analytics_and_BI`? <br>\n",
        "**3c) (4pt)** Considerando el dataframe `Analytics_and_BI`, ¿Cuál es el salario promedio en USD (`salary_in_usd`) para cada nivel de experiencia `experience_level`?. <br>\n",
        "**3d) (2pts)** Considerando sólo los cargos con nivel de experiencia intermedio, ¿Cuál es el salario promedio en USD (`salary_in_usd`) por tamaño de empresa (`company_size`).<br>\n",
        "**3e) (2pts)** ¿Cuántos cargos hay registrados de nivel Nivel inicial / Junior  totalmente remotos (`remote_ratio == 100`) en el año 2025?.<br>\n",
        "\n",
        "\n"
      ]
    },
    {
      "cell_type": "code",
      "metadata": {
        "trusted": true,
        "id": "aoM3D3ccyrXO"
      },
      "source": [
        "# P1.3\n",
        "## Respusta\n"
      ],
      "execution_count": null,
      "outputs": []
    },
    {
      "cell_type": "markdown",
      "metadata": {
        "id": "bDPDvb7EyrXX"
      },
      "source": [
        "# Sección 2\n",
        "\n",
        "En esta sección se busca realizar una pequeña descripción de los salarios para los distintos perfiles con base en la información disponible en la lista `perfiles`.\n",
        "Para ello ustede deberá primero consolidar la información en una tabla que contenga todos los registros para cada categoría de puesto de trabajo y cada nivel de experiencia.\n"
      ]
    },
    {
      "cell_type": "markdown",
      "metadata": {
        "id": "75S5dwvMyrXc"
      },
      "source": [
        "##  Pregunta 2.1\n",
        "\n",
        "**1a) (4pts)** Repita el procedimiento de 1.2c) y 1.3a) para genererar 11 nuevos dataframes (uno por categoría de empleo) y consolide estos 11 dataframes en uno solo llamado `perfiles_df` utilizando la función `rbind()`. <br>\n",
        "Considere utilizar un ciclo `for()` para la creación del dataframe final. En caso contrario, también es válido realizar manualmente el desarrollo requerido. <br>\n",
        "**NOTA:** Su dataframe se debe ver de la siguiente manera y debe tener un total de 141566 filas y 12 columnas. <br>\n",
        "**NOTA:** Como alternativa, puede considerar iterar sobre los nombres de `perfiles`.\n"
      ]
    },
    {
      "cell_type": "code",
      "source": [
        "#1.a) ---------------------------------------------------------------------\n",
        "# Respuestas"
      ],
      "metadata": {
        "id": "ds6e3ao9_hLI"
      },
      "execution_count": null,
      "outputs": []
    },
    {
      "cell_type": "markdown",
      "source": [
        "##  Pregunta 2.2\n",
        "\n",
        "**2a) (6pts)** A usted se le pide caracterizar los puestos de trabajo de las categorías más demandadas. Para ello usted deberá generar algunos indicadores básicos sobre los puestos de trabajo de las siguientes categorías, **sólo considerando los registros con carfos 100% remoto**:\n",
        " * Others_Generalist\n",
        " * Data_Science\n",
        " * Software_and_DevOps\n",
        " * Data_Engineering\n",
        " * Analytics_and_BI\n",
        " * AI_and_Machine_Learning\n",
        "\n",
        " Para cada una de las categorías anteriores (**sólo considerando los registros con cargos 100% remoto**) indique:\n",
        "  1. Cantidad de puestos de trabajo (`job_title`) registrados.\n",
        "  2. Salario promedio (`salary_usd`).\n",
        "  3. Puesto de trabajo (`job_title`), del perfil con mayor salario.\n",
        "  4. Cantidad de perfiles registrados con `job_title` igual al identificado anteriormente.\n",
        "  5. Puesto de trabajo (`job_title`),del perfil con menor salario.\n",
        "  6. Cantidad de perfiles registrados con `job_title` igual al identificado anteriormente.\n",
        "\n"
      ],
      "metadata": {
        "id": "W_PnqiTSY_0h"
      }
    },
    {
      "cell_type": "code",
      "source": [
        "# 2.a) ------------------------------------------\n",
        "  # Respuestas"
      ],
      "metadata": {
        "id": "gDTBwLZkdCM4"
      },
      "execution_count": null,
      "outputs": []
    },
    {
      "cell_type": "markdown",
      "source": [
        "\n",
        "**2b) (4pts)** Genere un dataframe con la siguiente estructura y guárdelo en un archivo csv.\n",
        "\n",
        "| Categoria | N_job_title |Salario_promedio_categoria | Cargo_salario_maximo | N_Cargo_salario_maximo| Cargo_salario_minimo | N_Cargo_salario_minimo |\n",
        "|-----------|----------------------------|----------------------|-----------------------|----------------------|------------------------|------------------------|\n",
        "|Others_Generalist       | xxx | xxx | xxx | xxx | xxx | xxx |         \n",
        "|Data_Science            | xxx | xxx | xxx | xxx | xxx | xxx |   \n",
        "|Software_and_DevOps     | xxx | xxx | xxx | xxx | xxx | xxx |           \n",
        "|Data_Engineering        | xxx | xxx | xxx | xxx | xxx | xxx |       \n",
        "|Analytics_and_BI        | xxx | xxx | xxx | xxx | xxx | xxx |       \n",
        "|AI_and_Machine_Learning | xxx | xxx | xxx | xxx | xxx | xxx |      \n",
        "\n",
        "Donde:\n",
        "* `N_job_title`               : Contiene la cantidad de puestos de trabajo calculado anteriormente en el punto 1.\n",
        "* `Salario_promedio_categoria`: Salario promedio calculado anteriormente en el punto 2.\n",
        "* `Cargo_salario_maximo`      : Contiene el puesto de trabajo del perfil con salario máximo calculado anteriormente en el punto 3.\n",
        "* `N_Cargo_salario_maximo`    : Contiene la cantidad de registros con `job_title` identificado anteriormente en el punto 4.\n",
        "* `Cargo_salario_minimo`      : Contiene el puesto de trabajo del perfil con salario mìnimo calculado anteriormente en el punto 5.  \n",
        "* `N_Cargo_salario_minimo`    : Contiene la cantidad de registros con `job_title` identificado anteriormente en el punto 6.  \n",
        "\n",
        "Considerando la información generada (considerando solo los cargos 100% remotos) :\n",
        " * ¿Cuál es la categoría con mayor cantidad de puestos de trabajo registrados?\n",
        " * ¿Cuál es la categoría con mayor salario promedio?\n",
        " * Comente sobre los resultados calculados para la categoría \"Software_and_DevOps\"\n"
      ],
      "metadata": {
        "id": "tOsXnhVlaoWJ"
      }
    },
    {
      "cell_type": "code",
      "source": [
        "# 2.b)-------\n",
        "# Respuestas"
      ],
      "metadata": {
        "id": "G4lLxM62aw4j"
      },
      "execution_count": null,
      "outputs": []
    }
  ]
}