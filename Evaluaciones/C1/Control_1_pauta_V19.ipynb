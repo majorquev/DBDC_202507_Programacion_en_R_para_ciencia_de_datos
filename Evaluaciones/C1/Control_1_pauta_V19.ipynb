{
  "nbformat": 4,
  "nbformat_minor": 0,
  "metadata": {
    "colab": {
      "provenance": [],
      "include_colab_link": true
    },
    "kernelspec": {
      "name": "ir",
      "display_name": "R"
    }
  },
  "cells": [
    {
      "cell_type": "markdown",
      "metadata": {
        "id": "view-in-github",
        "colab_type": "text"
      },
      "source": [
        "<a href=\"https://colab.research.google.com/github/majorquev/DBDC_202507_Programacion_en_R_para_ciencia_de_datos/blob/main/Evaluaciones/C1/Control_1_pauta_V19.ipynb\" target=\"_parent\"><img src=\"https://colab.research.google.com/assets/colab-badge.svg\" alt=\"Open In Colab\"/></a>"
      ]
    },
    {
      "cell_type": "markdown",
      "metadata": {
        "id": "SvIjRoDOw-lT"
      },
      "source": [
        "# Pauta Control 1: Sintaxis básica y manipulación de objetos simples en R\n"
      ]
    },
    {
      "cell_type": "markdown",
      "source": [
        "# Sección 1\n",
        "\n",
        "La siguiente línea de código permite cargar en memoria, un objeto de extensión *.rds que está almacenado en el disco de la máquina en la ruta actual de trabajo.\n"
      ],
      "metadata": {
        "id": "3_7ETLQle6Th"
      }
    },
    {
      "cell_type": "markdown",
      "source": [
        "Para cargar el archivo a la sesión, deben dejar disponible el archivo llamado `pperfilesroductos.RDS` en el directorio de trabajo. Recuerden que en COLAB por defecto este es `./content`."
      ],
      "metadata": {
        "id": "ABsBqlNvUUCM"
      }
    },
    {
      "cell_type": "code",
      "source": [
        "perfiles <- readRDS(\"perfiles.rds\")"
      ],
      "metadata": {
        "id": "JpchDrO1e7Pw"
      },
      "execution_count": null,
      "outputs": []
    },
    {
      "cell_type": "markdown",
      "metadata": {
        "id": "V8C56DqZyrW2"
      },
      "source": [
        "\n",
        "Este archivo contiene la información de las tendencias salariales globales para roles en Ciencia de Datos, Aprendizaje Automático e Inteligencia Artificial.\n",
        "\n",
        "Esta información fue recopilada a partir de una combinación de investigación de mercado y fuentes de datos públicas —incluyendo la encuesta salarial de AIJobs (licencia CC0), 365DataScience, Payscale, KDnuggets, ZipRecruiter, entre otros— este conjunto de datos refleja patrones reales de compensación en todo el mundo (https://www.kaggle.com/datasets/adilshamim8/salaries-for-data-science-jobs).\n",
        "\n",
        "Dentro de la información disponible encontrarán los siguientes campos.\n",
        "\n",
        "**NOTA:** Deben tener en cuenta que el formato del archivo con el que trabajarán no viene estructurado de esta forma necesariamente, la siguiente tabla es solo ilustrativa y define el tipo de información que encontrarán.\n",
        "\n",
        "| Campo               | Descripción                                                                                          |\n",
        "|---------------------|------------------------------------------------------------------------------------------------------|\n",
        "| `work_year`         | Año en que se reportó el salario. Cubre desde 2020 hasta 2025.                                       |\n",
        "| `experience_level`  | Nivel de experiencia del empleado al momento del reporte. Valores comunes:                           |\n",
        "|                     | &nbsp;&nbsp;&nbsp;**EN**: Nivel inicial / Junior                                                    |\n",
        "|                     | &nbsp;&nbsp;&nbsp;**MI**: Nivel intermedio                                                          |\n",
        "|                     | &nbsp;&nbsp;&nbsp;**SE**: Nivel senior                                                              |\n",
        "|                     | &nbsp;&nbsp;&nbsp;**EX**: Ejecutivo / Director                                                      |\n",
        "| `employment_type`   | Tipo de contrato laboral:                                                                            |\n",
        "|                     | &nbsp;&nbsp;&nbsp;**FT**: Jornada completa (Full-time)                                              |\n",
        "|                     | &nbsp;&nbsp;&nbsp;**PT**: Medio tiempo (Part-time)                                                  |\n",
        "|                     | &nbsp;&nbsp;&nbsp;**CT**: Contrato (Contract)                                                       |\n",
        "|                     | &nbsp;&nbsp;&nbsp;**FL**: Freelance                                                                 |\n",
        "| `job_title`         | Título específico del puesto del empleado (por ejemplo: Data Scientist, ML Engineer, etc.).         |\n",
        "| `salary`            | Salario bruto anual en la moneda original reportada, antes de impuestos y deducciones.              |\n",
        "| `salary_currency`   | Moneda en la que se pagó originalmente el salario (ej.: USD, EUR, INR).                             |\n",
        "| `salary_in_usd`     | Salario convertido a USD utilizando tasas de cambio de 2025 para facilitar comparaciones.           |\n",
        "| `employee_residence`| País (código ISO 3166-1 alfa-2) donde reside el empleado. Puede diferir de la ubicación de la empresa. |\n",
        "| `remote_ratio`      | Porcentaje de trabajo remoto:                                                                       |\n",
        "|                     | &nbsp;&nbsp;&nbsp;**0**: Sin trabajo remoto (presencial)                                            |\n",
        "|                     | &nbsp;&nbsp;&nbsp;**50**: Híbrido (parcialmente remoto)                                             |\n",
        "|                     | &nbsp;&nbsp;&nbsp;**100**: Totalmente remoto                                                        |\n",
        "| `company_location`  | País (código ISO 3166-1 alfa-2) donde se encuentra la sede de la empresa.                          |\n",
        "| `company_size`      | Tamaño de la empresa empleadora:                                                                    |\n",
        "|                     | &nbsp;&nbsp;&nbsp;**S**: Pequeña (1–50 empleados)                                                   |\n",
        "|                     | &nbsp;&nbsp;&nbsp;**M**: Mediana (51–500 empleados)                                                 |\n",
        "|                     | &nbsp;&nbsp;&nbsp;**L**: Grande (más de 501 empleados)                                              |\n",
        "\n",
        "\n"
      ]
    },
    {
      "cell_type": "markdown",
      "metadata": {
        "id": "mA2dxeK6yrW9"
      },
      "source": [
        "## Pregunta 1.1\n",
        "\n",
        "**1a) (1pt)** ¿Qué clase de objetos es `perfiles`? <br>\n",
        "**1b) (1pt)** ¿Cuántos elementos posee este objeto? <br>\n",
        "NOTA: Cada uno de estos elementos corresponde a la categoría del perfil profesional.<br>\n",
        "**1c) (1pt)** ¿Cuáles son los nombres de este objeto?<br>\n",
        "**1d) (2pt)** ¿Qué clase de objeto está almacenado en el _slot_ llamado `Data_Science` y cuántos elementos posee?<br>\n",
        "NOTA: Cada uno de estos elementos corresponde a los niveles de experiencia dentro de los perfiles de la categoría `Data_Science`.<br>\n",
        "**1e) (2pt)** Dentro del _slot_ `Data_Science`, ¿qué clase de objeto está almacenado en la entrada llamada `MI` y cuántos elementos posee?. <br>\n",
        "NOTA: Este segundo nivel, corresponde al nivel de experiencia de los perfiles registrados por categoría (Pudiendo ser alguno de los siguientes:  `EN: Nivel inicial / Junior`; `MI: Nivel intermedio`;`SE: Nivel senior`;`EX: Ejecutivo / Director`). Así, por ejemplo, la información contenida en `perfiles$Data_Science$MI` corresponde a todos los registros de puestos de trabajo de la categoría \"Data_Science\" de nivel de experiencia Intermedio (MI)\n",
        "\n",
        "\n",
        "\n"
      ]
    },
    {
      "cell_type": "code",
      "source": [
        "str(perfiles)"
      ],
      "metadata": {
        "colab": {
          "base_uri": "https://localhost:8080/"
        },
        "id": "rRZDc7eNf9dp",
        "outputId": "7e70c675-3104-44a4-a705-af6aa8154b9c",
        "collapsed": true
      },
      "execution_count": null,
      "outputs": [
        {
          "output_type": "stream",
          "name": "stdout",
          "text": [
            "List of 11\n",
            " $ AI_and_Machine_Learning    :List of 4\n",
            "  ..$ EN:'data.frame':\t618 obs. of  10 variables:\n",
            "  .. ..$ work_year         : int [1:618] 2025 2025 2025 2025 2025 2025 2025 2025 2025 2025 ...\n",
            "  .. ..$ employment_type   : chr [1:618] \"FT\" \"FT\" \"FT\" \"FT\" ...\n",
            "  .. ..$ job_title         : chr [1:618] \"Machine Learning Engineer\" \"Machine Learning Engineer\" \"Machine Learning Engineer\" \"Machine Learning Engineer\" ...\n",
            "  .. ..$ salary            : int [1:618] 110000 95000 131400 67100 200000 175000 299300 137100 140000 110000 ...\n",
            "  .. ..$ salary_currency   : chr [1:618] \"USD\" \"USD\" \"USD\" \"USD\" ...\n",
            "  .. ..$ salary_in_usd     : int [1:618] 110000 95000 131400 67100 200000 175000 299300 137100 140000 110000 ...\n",
            "  .. ..$ employee_residence: chr [1:618] \"US\" \"US\" \"CA\" \"CA\" ...\n",
            "  .. ..$ remote_ratio      : int [1:618] 100 100 0 0 0 0 0 0 100 100 ...\n",
            "  .. ..$ company_location  : chr [1:618] \"US\" \"US\" \"CA\" \"CA\" ...\n",
            "  .. ..$ company_size      : chr [1:618] \"M\" \"M\" \"M\" \"M\" ...\n",
            "  ..$ EX:'data.frame':\t251 obs. of  10 variables:\n",
            "  .. ..$ work_year         : int [1:251] 2025 2025 2025 2025 2025 2025 2025 2025 2025 2025 ...\n",
            "  .. ..$ employment_type   : chr [1:251] \"FT\" \"FT\" \"FT\" \"FT\" ...\n",
            "  .. ..$ job_title         : chr [1:251] \"Head of AI\" \"Head of AI\" \"Head of AI\" \"Head of AI\" ...\n",
            "  .. ..$ salary            : int [1:251] 245000 160000 431900 207900 238000 214000 256000 176400 300000 200000 ...\n",
            "  .. ..$ salary_currency   : chr [1:251] \"USD\" \"USD\" \"USD\" \"USD\" ...\n",
            "  .. ..$ salary_in_usd     : int [1:251] 245000 160000 431900 207900 238000 214000 256000 176400 300000 200000 ...\n",
            "  .. ..$ employee_residence: chr [1:251] \"US\" \"US\" \"US\" \"US\" ...\n",
            "  .. ..$ remote_ratio      : int [1:251] 0 0 0 0 0 0 0 0 100 100 ...\n",
            "  .. ..$ company_location  : chr [1:251] \"US\" \"US\" \"US\" \"US\" ...\n",
            "  .. ..$ company_size      : chr [1:251] \"M\" \"M\" \"M\" \"M\" ...\n",
            "  ..$ MI:'data.frame':\t3163 obs. of  10 variables:\n",
            "  .. ..$ work_year         : int [1:3163] 2025 2025 2025 2025 2025 2025 2025 2025 2025 2025 ...\n",
            "  .. ..$ employment_type   : chr [1:3163] \"FT\" \"FT\" \"FT\" \"FT\" ...\n",
            "  .. ..$ job_title         : chr [1:3163] \"AI Engineer\" \"AI Engineer\" \"AI Engineer\" \"AI Engineer\" ...\n",
            "  .. ..$ salary            : int [1:3163] 160000 100000 185000 162000 120000 110000 248400 122400 143000 90000 ...\n",
            "  .. ..$ salary_currency   : chr [1:3163] \"USD\" \"USD\" \"USD\" \"USD\" ...\n",
            "  .. ..$ salary_in_usd     : int [1:3163] 160000 100000 185000 162000 120000 110000 248400 122400 143000 90000 ...\n",
            "  .. ..$ employee_residence: chr [1:3163] \"US\" \"US\" \"US\" \"US\" ...\n",
            "  .. ..$ remote_ratio      : int [1:3163] 0 0 0 0 100 100 0 0 0 0 ...\n",
            "  .. ..$ company_location  : chr [1:3163] \"US\" \"US\" \"US\" \"US\" ...\n",
            "  .. ..$ company_size      : chr [1:3163] \"M\" \"M\" \"M\" \"M\" ...\n",
            "  ..$ SE:'data.frame':\t9210 obs. of  10 variables:\n",
            "  .. ..$ work_year         : int [1:9210] 2025 2025 2025 2025 2025 2025 2025 2025 2025 2025 ...\n",
            "  .. ..$ employment_type   : chr [1:9210] \"FT\" \"FT\" \"FT\" \"FT\" ...\n",
            "  .. ..$ job_title         : chr [1:9210] \"Machine Learning Engineer\" \"Machine Learning Engineer\" \"Machine Learning Engineer\" \"Machine Learning Engineer\" ...\n",
            "  .. ..$ salary            : int [1:9210] 277000 170000 195500 122400 220000 198000 197400 144200 181000 144200 ...\n",
            "  .. ..$ salary_currency   : chr [1:9210] \"USD\" \"USD\" \"USD\" \"USD\" ...\n",
            "  .. ..$ salary_in_usd     : int [1:9210] 277000 170000 195500 122400 220000 198000 197400 144200 181000 144200 ...\n",
            "  .. ..$ employee_residence: chr [1:9210] \"US\" \"US\" \"US\" \"US\" ...\n",
            "  .. ..$ remote_ratio      : int [1:9210] 0 0 100 100 0 0 0 0 0 0 ...\n",
            "  .. ..$ company_location  : chr [1:9210] \"US\" \"US\" \"US\" \"US\" ...\n",
            "  .. ..$ company_size      : chr [1:9210] \"M\" \"M\" \"M\" \"M\" ...\n",
            " $ Analytics_and_BI           :List of 4\n",
            "  ..$ EN:'data.frame':\t5688 obs. of  10 variables:\n",
            "  .. ..$ work_year         : int [1:5688] 2025 2025 2025 2025 2025 2025 2025 2025 2025 2025 ...\n",
            "  .. ..$ employment_type   : chr [1:5688] \"FT\" \"FT\" \"FT\" \"FT\" ...\n",
            "  .. ..$ job_title         : chr [1:5688] \"Data Analyst\" \"Data Analyst\" \"Data Analyst\" \"Data Analyst\" ...\n",
            "  .. ..$ salary            : int [1:5688] 85000 62835 40000 30000 32904 32904 87360 58240 105000 85000 ...\n",
            "  .. ..$ salary_currency   : chr [1:5688] \"USD\" \"USD\" \"GBP\" \"GBP\" ...\n",
            "  .. ..$ salary_in_usd     : int [1:5688] 85000 62835 50632 37974 34635 34635 87360 58240 110526 89473 ...\n",
            "  .. ..$ employee_residence: chr [1:5688] \"US\" \"US\" \"GB\" \"GB\" ...\n",
            "  .. ..$ remote_ratio      : int [1:5688] 0 0 0 0 0 0 0 0 0 0 ...\n",
            "  .. ..$ company_location  : chr [1:5688] \"US\" \"US\" \"GB\" \"GB\" ...\n",
            "  .. ..$ company_size      : chr [1:5688] \"M\" \"M\" \"M\" \"M\" ...\n",
            "  ..$ EX:'data.frame':\t223 obs. of  10 variables:\n",
            "  .. ..$ work_year         : int [1:223] 2025 2025 2025 2025 2025 2025 2025 2025 2025 2025 ...\n",
            "  .. ..$ employment_type   : chr [1:223] \"FT\" \"FT\" \"FT\" \"FT\" ...\n",
            "  .. ..$ job_title         : chr [1:223] \"Data Analyst\" \"Data Analyst\" \"Business Intelligence\" \"Business Intelligence\" ...\n",
            "  .. ..$ salary            : int [1:223] 130920 87280 204000 168000 204000 168000 90000 75000 241800 192400 ...\n",
            "  .. ..$ salary_currency   : chr [1:223] \"USD\" \"USD\" \"USD\" \"USD\" ...\n",
            "  .. ..$ salary_in_usd     : int [1:223] 130920 87280 204000 168000 204000 168000 90000 75000 241800 192400 ...\n",
            "  .. ..$ employee_residence: chr [1:223] \"US\" \"US\" \"US\" \"US\" ...\n",
            "  .. ..$ remote_ratio      : int [1:223] 0 0 0 0 0 0 0 0 0 0 ...\n",
            "  .. ..$ company_location  : chr [1:223] \"US\" \"US\" \"US\" \"US\" ...\n",
            "  .. ..$ company_size      : chr [1:223] \"M\" \"M\" \"M\" \"M\" ...\n",
            "  ..$ MI:'data.frame':\t3477 obs. of  10 variables:\n",
            "  .. ..$ work_year         : int [1:3477] 2025 2025 2025 2025 2025 2025 2025 2025 2025 2025 ...\n",
            "  .. ..$ employment_type   : chr [1:3477] \"FT\" \"FT\" \"FT\" \"FT\" ...\n",
            "  .. ..$ job_title         : chr [1:3477] \"Power BI Developer\" \"Power BI Developer\" \"Data Analyst\" \"Data Analyst\" ...\n",
            "  .. ..$ salary            : int [1:3477] 130000 105000 100000 80000 115000 65000 111000 87000 130000 125000 ...\n",
            "  .. ..$ salary_currency   : chr [1:3477] \"USD\" \"USD\" \"USD\" \"USD\" ...\n",
            "  .. ..$ salary_in_usd     : int [1:3477] 130000 105000 100000 80000 115000 65000 111000 87000 130000 125000 ...\n",
            "  .. ..$ employee_residence: chr [1:3477] \"US\" \"US\" \"US\" \"US\" ...\n",
            "  .. ..$ remote_ratio      : int [1:3477] 0 0 0 0 100 100 0 0 0 0 ...\n",
            "  .. ..$ company_location  : chr [1:3477] \"US\" \"US\" \"US\" \"US\" ...\n",
            "  .. ..$ company_size      : chr [1:3477] \"M\" \"M\" \"M\" \"M\" ...\n",
            "  ..$ SE:'data.frame':\t7370 obs. of  10 variables:\n",
            "  .. ..$ work_year         : int [1:7370] 2025 2025 2025 2025 2025 2025 2025 2025 2025 2025 ...\n",
            "  .. ..$ employment_type   : chr [1:7370] \"FT\" \"FT\" \"FT\" \"FT\" ...\n",
            "  .. ..$ job_title         : chr [1:7370] \"Data Analyst\" \"Data Analyst\" \"Data Analyst\" \"Data Analyst\" ...\n",
            "  .. ..$ salary            : int [1:7370] 132200 115900 145500 115900 160500 77500 175000 135000 145000 130000 ...\n",
            "  .. ..$ salary_currency   : chr [1:7370] \"USD\" \"USD\" \"USD\" \"USD\" ...\n",
            "  .. ..$ salary_in_usd     : int [1:7370] 132200 115900 145500 115900 160500 77500 175000 135000 145000 130000 ...\n",
            "  .. ..$ employee_residence: chr [1:7370] \"US\" \"US\" \"US\" \"US\" ...\n",
            "  .. ..$ remote_ratio      : int [1:7370] 0 0 0 0 0 0 0 0 100 100 ...\n",
            "  .. ..$ company_location  : chr [1:7370] \"US\" \"US\" \"US\" \"US\" ...\n",
            "  .. ..$ company_size      : chr [1:7370] \"M\" \"M\" \"M\" \"M\" ...\n",
            " $ Architecture               :List of 4\n",
            "  ..$ EN:'data.frame':\t30 obs. of  10 variables:\n",
            "  .. ..$ work_year         : int [1:30] 2025 2025 2025 2025 2025 2025 2025 2025 2025 2025 ...\n",
            "  .. ..$ employment_type   : chr [1:30] \"FT\" \"FT\" \"FT\" \"FT\" ...\n",
            "  .. ..$ job_title         : chr [1:30] \"Software Architect\" \"Software Architect\" \"Solutions Architect\" \"Solutions Architect\" ...\n",
            "  .. ..$ salary            : int [1:30] 218500 161500 235750 120000 155000 120000 192600 88400 75000 65000 ...\n",
            "  .. ..$ salary_currency   : chr [1:30] \"USD\" \"USD\" \"USD\" \"USD\" ...\n",
            "  .. ..$ salary_in_usd     : int [1:30] 218500 161500 235750 120000 155000 120000 192600 88400 75000 65000 ...\n",
            "  .. ..$ employee_residence: chr [1:30] \"US\" \"US\" \"US\" \"US\" ...\n",
            "  .. ..$ remote_ratio      : int [1:30] 0 0 0 0 0 0 0 0 0 0 ...\n",
            "  .. ..$ company_location  : chr [1:30] \"US\" \"US\" \"US\" \"US\" ...\n",
            "  .. ..$ company_size      : chr [1:30] \"M\" \"M\" \"M\" \"M\" ...\n",
            "  ..$ EX:'data.frame':\t18 obs. of  10 variables:\n",
            "  .. ..$ work_year         : int [1:18] 2025 2025 2025 2025 2025 2025 2025 2025 2024 2024 ...\n",
            "  .. ..$ employment_type   : chr [1:18] \"FT\" \"FT\" \"FT\" \"FT\" ...\n",
            "  .. ..$ job_title         : chr [1:18] \"Data Architect\" \"Data Architect\" \"Solutions Architect\" \"Solutions Architect\" ...\n",
            "  .. ..$ salary            : int [1:18] 159700 127800 258750 178400 218860 168350 190000 165000 380424 294780 ...\n",
            "  .. ..$ salary_currency   : chr [1:18] \"USD\" \"USD\" \"USD\" \"USD\" ...\n",
            "  .. ..$ salary_in_usd     : int [1:18] 159700 127800 258750 178400 218860 168350 190000 165000 380424 294780 ...\n",
            "  .. ..$ employee_residence: chr [1:18] \"US\" \"US\" \"US\" \"US\" ...\n",
            "  .. ..$ remote_ratio      : int [1:18] 0 0 0 0 0 0 0 0 0 0 ...\n",
            "  .. ..$ company_location  : chr [1:18] \"US\" \"US\" \"US\" \"US\" ...\n",
            "  .. ..$ company_size      : chr [1:18] \"M\" \"M\" \"M\" \"M\" ...\n",
            "  ..$ MI:'data.frame':\t72 obs. of  10 variables:\n",
            "  .. ..$ work_year         : int [1:72] 2025 2025 2025 2025 2025 2025 2025 2025 2025 2025 ...\n",
            "  .. ..$ employment_type   : chr [1:72] \"FT\" \"FT\" \"FT\" \"FT\" ...\n",
            "  .. ..$ job_title         : chr [1:72] \"Data Architect\" \"Data Architect\" \"Solutions Architect\" \"Solutions Architect\" ...\n",
            "  .. ..$ salary            : int [1:72] 283400 152600 160000 108800 34992 34992 90000 90000 154100 113900 ...\n",
            "  .. ..$ salary_currency   : chr [1:72] \"USD\" \"USD\" \"USD\" \"USD\" ...\n",
            "  .. ..$ salary_in_usd     : int [1:72] 283400 152600 160000 108800 36833 36833 90000 90000 154100 113900 ...\n",
            "  .. ..$ employee_residence: chr [1:72] \"US\" \"US\" \"US\" \"US\" ...\n",
            "  .. ..$ remote_ratio      : int [1:72] 0 0 0 0 0 0 0 0 0 0 ...\n",
            "  .. ..$ company_location  : chr [1:72] \"US\" \"US\" \"US\" \"US\" ...\n",
            "  .. ..$ company_size      : chr [1:72] \"M\" \"M\" \"M\" \"M\" ...\n",
            "  ..$ SE:'data.frame':\t3979 obs. of  10 variables:\n",
            "  .. ..$ work_year         : int [1:3979] 2025 2025 2025 2025 2025 2025 2025 2025 2025 2025 ...\n",
            "  .. ..$ employment_type   : chr [1:3979] \"FT\" \"FT\" \"FT\" \"FT\" ...\n",
            "  .. ..$ job_title         : chr [1:3979] \"Solutions Architect\" \"Solutions Architect\" \"Architect\" \"Architect\" ...\n",
            "  .. ..$ salary            : int [1:3979] 263000 177000 271000 183000 216000 147000 216000 147000 263000 177000 ...\n",
            "  .. ..$ salary_currency   : chr [1:3979] \"USD\" \"USD\" \"USD\" \"USD\" ...\n",
            "  .. ..$ salary_in_usd     : int [1:3979] 263000 177000 271000 183000 216000 147000 216000 147000 263000 177000 ...\n",
            "  .. ..$ employee_residence: chr [1:3979] \"US\" \"US\" \"US\" \"US\" ...\n",
            "  .. ..$ remote_ratio      : int [1:3979] 0 0 0 0 0 0 0 0 0 0 ...\n",
            "  .. ..$ company_location  : chr [1:3979] \"US\" \"US\" \"US\" \"US\" ...\n",
            "  .. ..$ company_size      : chr [1:3979] \"M\" \"M\" \"M\" \"M\" ...\n",
            " $ Data_Engineering           :List of 4\n",
            "  ..$ EN:'data.frame':\t709 obs. of  10 variables:\n",
            "  .. ..$ work_year         : int [1:709] 2025 2025 2025 2025 2025 2025 2025 2025 2025 2025 ...\n",
            "  .. ..$ employment_type   : chr [1:709] \"FT\" \"FT\" \"FT\" \"FT\" ...\n",
            "  .. ..$ job_title         : chr [1:709] \"Data Engineer\" \"Data Engineer\" \"Data Engineer\" \"Data Engineer\" ...\n",
            "  .. ..$ salary            : int [1:709] 79654 69264 113000 68600 82100 69800 55400 46100 134600 95200 ...\n",
            "  .. ..$ salary_currency   : chr [1:709] \"USD\" \"USD\" \"USD\" \"USD\" ...\n",
            "  .. ..$ salary_in_usd     : int [1:709] 79654 69264 113000 68600 82100 69800 55400 46100 134600 95200 ...\n",
            "  .. ..$ employee_residence: chr [1:709] \"US\" \"US\" \"US\" \"US\" ...\n",
            "  .. ..$ remote_ratio      : int [1:709] 0 0 0 0 0 0 0 0 0 0 ...\n",
            "  .. ..$ company_location  : chr [1:709] \"US\" \"US\" \"US\" \"US\" ...\n",
            "  .. ..$ company_size      : chr [1:709] \"M\" \"M\" \"M\" \"M\" ...\n",
            "  ..$ EX:'data.frame':\t623 obs. of  10 variables:\n",
            "  .. ..$ work_year         : int [1:623] 2025 2025 2025 2025 2025 2025 2025 2025 2025 2025 ...\n",
            "  .. ..$ employment_type   : chr [1:623] \"FT\" \"FT\" \"FT\" \"FT\" ...\n",
            "  .. ..$ job_title         : chr [1:623] \"Data Engineer\" \"Data Engineer\" \"Data Engineer\" \"Data Engineer\" ...\n",
            "  .. ..$ salary            : int [1:623] 272100 202900 188400 125600 219800 179500 244200 183200 195000 180000 ...\n",
            "  .. ..$ salary_currency   : chr [1:623] \"USD\" \"USD\" \"USD\" \"USD\" ...\n",
            "  .. ..$ salary_in_usd     : int [1:623] 272100 202900 188400 125600 219800 179500 244200 183200 195000 180000 ...\n",
            "  .. ..$ employee_residence: chr [1:623] \"US\" \"US\" \"US\" \"US\" ...\n",
            "  .. ..$ remote_ratio      : int [1:623] 0 0 0 0 100 100 100 100 0 0 ...\n",
            "  .. ..$ company_location  : chr [1:623] \"US\" \"US\" \"US\" \"US\" ...\n",
            "  .. ..$ company_size      : chr [1:623] \"M\" \"M\" \"M\" \"M\" ...\n",
            "  ..$ MI:'data.frame':\t5878 obs. of  10 variables:\n",
            "  .. ..$ work_year         : int [1:5878] 2025 2025 2025 2025 2025 2025 2025 2025 2025 2025 ...\n",
            "  .. ..$ employment_type   : chr [1:5878] \"FT\" \"FT\" \"CT\" \"CT\" ...\n",
            "  .. ..$ job_title         : chr [1:5878] \"Data Engineer\" \"Data Engineer\" \"Data Engineer\" \"Data Engineer\" ...\n",
            "  .. ..$ salary            : int [1:5878] 235400 195254 130000 120000 130000 120000 130000 120000 130000 120000 ...\n",
            "  .. ..$ salary_currency   : chr [1:5878] \"USD\" \"USD\" \"USD\" \"USD\" ...\n",
            "  .. ..$ salary_in_usd     : int [1:5878] 235400 195254 130000 120000 130000 120000 130000 120000 130000 120000 ...\n",
            "  .. ..$ employee_residence: chr [1:5878] \"US\" \"US\" \"US\" \"US\" ...\n",
            "  .. ..$ remote_ratio      : int [1:5878] 100 100 0 0 0 0 0 0 0 0 ...\n",
            "  .. ..$ company_location  : chr [1:5878] \"US\" \"US\" \"US\" \"US\" ...\n",
            "  .. ..$ company_size      : chr [1:5878] \"M\" \"M\" \"M\" \"M\" ...\n",
            "  ..$ SE:'data.frame':\t11004 obs. of  10 variables:\n",
            "  .. ..$ work_year         : int [1:11004] 2025 2025 2025 2025 2025 2025 2025 2025 2025 2025 ...\n",
            "  .. ..$ employment_type   : chr [1:11004] \"FT\" \"FT\" \"FT\" \"FT\" ...\n",
            "  .. ..$ job_title         : chr [1:11004] \"Analytics Engineer\" \"Analytics Engineer\" \"Analytics Engineer\" \"Analytics Engineer\" ...\n",
            "  .. ..$ salary            : int [1:11004] 170000 120000 97000 84000 180000 150000 235400 218284 208950 159000 ...\n",
            "  .. ..$ salary_currency   : chr [1:11004] \"USD\" \"USD\" \"USD\" \"USD\" ...\n",
            "  .. ..$ salary_in_usd     : int [1:11004] 170000 120000 97000 84000 180000 150000 235400 218284 208950 159000 ...\n",
            "  .. ..$ employee_residence: chr [1:11004] \"US\" \"US\" \"US\" \"US\" ...\n",
            "  .. ..$ remote_ratio      : int [1:11004] 0 0 0 0 100 100 0 0 0 0 ...\n",
            "  .. ..$ company_location  : chr [1:11004] \"US\" \"US\" \"US\" \"US\" ...\n",
            "  .. ..$ company_size      : chr [1:11004] \"M\" \"M\" \"M\" \"M\" ...\n",
            " $ Data_Governance_and_Quality:List of 4\n",
            "  ..$ EN:'data.frame':\t379 obs. of  10 variables:\n",
            "  .. ..$ work_year         : int [1:379] 2025 2025 2025 2025 2025 2025 2025 2025 2025 2025 ...\n",
            "  .. ..$ employment_type   : chr [1:379] \"FT\" \"FT\" \"FT\" \"FT\" ...\n",
            "  .. ..$ job_title         : chr [1:379] \"Data Quality Analyst\" \"Data Quality Analyst\" \"Data Management Analyst\" \"Data Management Analyst\" ...\n",
            "  .. ..$ salary            : int [1:379] 60000 48000 176000 77600 75000 60500 95000 75000 158000 69300 ...\n",
            "  .. ..$ salary_currency   : chr [1:379] \"GBP\" \"GBP\" \"USD\" \"USD\" ...\n",
            "  .. ..$ salary_in_usd     : int [1:379] 75949 60759 176000 77600 75000 60500 95000 75000 158000 69300 ...\n",
            "  .. ..$ employee_residence: chr [1:379] \"GB\" \"GB\" \"US\" \"US\" ...\n",
            "  .. ..$ remote_ratio      : int [1:379] 0 0 0 0 0 0 0 0 0 0 ...\n",
            "  .. ..$ company_location  : chr [1:379] \"GB\" \"GB\" \"US\" \"US\" ...\n",
            "  .. ..$ company_size      : chr [1:379] \"M\" \"M\" \"M\" \"M\" ...\n",
            "  ..$ EX:'data.frame':\t172 obs. of  10 variables:\n",
            "  .. ..$ work_year         : int [1:172] 2025 2025 2025 2025 2025 2025 2025 2025 2025 2025 ...\n",
            "  .. ..$ employment_type   : chr [1:172] \"FT\" \"FT\" \"FT\" \"FT\" ...\n",
            "  .. ..$ job_title         : chr [1:172] \"Data Governance\" \"Data Governance\" \"Data Governance\" \"Data Governance\" ...\n",
            "  .. ..$ salary            : int [1:172] 165000 95000 175900 149515 183500 125000 185000 143000 231000 176000 ...\n",
            "  .. ..$ salary_currency   : chr [1:172] \"USD\" \"USD\" \"USD\" \"USD\" ...\n",
            "  .. ..$ salary_in_usd     : int [1:172] 165000 95000 175900 149515 183500 125000 185000 143000 231000 176000 ...\n",
            "  .. ..$ employee_residence: chr [1:172] \"GB\" \"GB\" \"US\" \"US\" ...\n",
            "  .. ..$ remote_ratio      : int [1:172] 0 0 0 0 0 0 0 0 0 0 ...\n",
            "  .. ..$ company_location  : chr [1:172] \"GB\" \"GB\" \"US\" \"US\" ...\n",
            "  .. ..$ company_size      : chr [1:172] \"M\" \"M\" \"M\" \"M\" ...\n",
            "  ..$ MI:'data.frame':\t565 obs. of  10 variables:\n",
            "  .. ..$ work_year         : int [1:565] 2025 2025 2025 2025 2025 2025 2025 2025 2025 2025 ...\n",
            "  .. ..$ employment_type   : chr [1:565] \"FT\" \"FT\" \"FT\" \"FT\" ...\n",
            "  .. ..$ job_title         : chr [1:565] \"Data Management\" \"Data Management\" \"Data Management Professional\" \"Data Management Professional\" ...\n",
            "  .. ..$ salary            : int [1:565] 159100 96400 198000 86800 66000 63500 101800 61100 92000 68000 ...\n",
            "  .. ..$ salary_currency   : chr [1:565] \"USD\" \"USD\" \"USD\" \"USD\" ...\n",
            "  .. ..$ salary_in_usd     : int [1:565] 159100 96400 198000 86800 66000 63500 101800 61100 92000 68000 ...\n",
            "  .. ..$ employee_residence: chr [1:565] \"US\" \"US\" \"US\" \"US\" ...\n",
            "  .. ..$ remote_ratio      : int [1:565] 0 0 0 0 0 0 0 0 0 0 ...\n",
            "  .. ..$ company_location  : chr [1:565] \"US\" \"US\" \"US\" \"US\" ...\n",
            "  .. ..$ company_size      : chr [1:565] \"M\" \"M\" \"M\" \"M\" ...\n",
            "  ..$ SE:'data.frame':\t888 obs. of  10 variables:\n",
            "  .. ..$ work_year         : int [1:888] 2025 2025 2025 2025 2025 2025 2025 2025 2025 2025 ...\n",
            "  .. ..$ employment_type   : chr [1:888] \"FT\" \"FT\" \"FT\" \"FT\" ...\n",
            "  .. ..$ job_title         : chr [1:888] \"Data Management Analyst\" \"Data Management Analyst\" \"Data Management Analyst\" \"Data Management Analyst\" ...\n",
            "  .. ..$ salary            : int [1:888] 143600 77600 149400 84000 44500 32480 97000 83000 203900 138900 ...\n",
            "  .. ..$ salary_currency   : chr [1:888] \"USD\" \"USD\" \"USD\" \"USD\" ...\n",
            "  .. ..$ salary_in_usd     : int [1:888] 143600 77600 149400 84000 46842 34189 97000 83000 203900 138900 ...\n",
            "  .. ..$ employee_residence: chr [1:888] \"US\" \"US\" \"US\" \"US\" ...\n",
            "  .. ..$ remote_ratio      : int [1:888] 0 0 0 0 0 0 100 100 0 0 ...\n",
            "  .. ..$ company_location  : chr [1:888] \"US\" \"US\" \"US\" \"US\" ...\n",
            "  .. ..$ company_size      : chr [1:888] \"M\" \"M\" \"M\" \"M\" ...\n",
            " $ Data_Science               :List of 4\n",
            "  ..$ EN:'data.frame':\t954 obs. of  10 variables:\n",
            "  .. ..$ work_year         : int [1:954] 2025 2025 2025 2025 2025 2025 2025 2025 2025 2025 ...\n",
            "  .. ..$ employment_type   : chr [1:954] \"FT\" \"FT\" \"FT\" \"FT\" ...\n",
            "  .. ..$ job_title         : chr [1:954] \"Data Scientist\" \"Data Scientist\" \"Data Scientist\" \"Data Scientist\" ...\n",
            "  .. ..$ salary            : int [1:954] 78000 68000 106000 99558 225000 225000 200000 200000 123700 68700 ...\n",
            "  .. ..$ salary_currency   : chr [1:954] \"USD\" \"USD\" \"USD\" \"USD\" ...\n",
            "  .. ..$ salary_in_usd     : int [1:954] 78000 68000 106000 99558 225000 225000 200000 200000 123700 68700 ...\n",
            "  .. ..$ employee_residence: chr [1:954] \"US\" \"US\" \"US\" \"US\" ...\n",
            "  .. ..$ remote_ratio      : int [1:954] 0 0 0 0 0 0 0 0 100 100 ...\n",
            "  .. ..$ company_location  : chr [1:954] \"US\" \"US\" \"US\" \"US\" ...\n",
            "  .. ..$ company_size      : chr [1:954] \"M\" \"M\" \"M\" \"M\" ...\n",
            "  ..$ EX:'data.frame':\t332 obs. of  10 variables:\n",
            "  .. ..$ work_year         : int [1:332] 2025 2025 2025 2025 2025 2025 2025 2025 2025 2025 ...\n",
            "  .. ..$ employment_type   : chr [1:332] \"FT\" \"FT\" \"FT\" \"FT\" ...\n",
            "  .. ..$ job_title         : chr [1:332] \"Data Scientist\" \"Data Scientist\" \"Data Scientist\" \"Data Scientist\" ...\n",
            "  .. ..$ salary            : int [1:332] 140000 99900 235000 205000 200000 141170 130920 87280 175000 150000 ...\n",
            "  .. ..$ salary_currency   : chr [1:332] \"USD\" \"USD\" \"USD\" \"USD\" ...\n",
            "  .. ..$ salary_in_usd     : int [1:332] 140000 99900 235000 205000 200000 141170 130920 87280 175000 150000 ...\n",
            "  .. ..$ employee_residence: chr [1:332] \"US\" \"US\" \"US\" \"US\" ...\n",
            "  .. ..$ remote_ratio      : int [1:332] 0 0 0 0 0 0 0 0 0 0 ...\n",
            "  .. ..$ company_location  : chr [1:332] \"US\" \"US\" \"US\" \"US\" ...\n",
            "  .. ..$ company_size      : chr [1:332] \"M\" \"M\" \"M\" \"M\" ...\n",
            "  ..$ MI:'data.frame':\t6503 obs. of  10 variables:\n",
            "  .. ..$ work_year         : int [1:6503] 2025 2025 2025 2025 2025 2025 2025 2025 2025 2025 ...\n",
            "  .. ..$ employment_type   : chr [1:6503] \"FT\" \"FT\" \"FT\" \"FT\" ...\n",
            "  .. ..$ job_title         : chr [1:6503] \"Data Scientist\" \"Data Scientist\" \"Data Scientist\" \"Data Scientist\" ...\n",
            "  .. ..$ salary            : int [1:6503] 202000 141000 123000 96500 185000 129000 104575 57850 212800 129400 ...\n",
            "  .. ..$ salary_currency   : chr [1:6503] \"USD\" \"USD\" \"USD\" \"USD\" ...\n",
            "  .. ..$ salary_in_usd     : int [1:6503] 202000 141000 123000 96500 185000 129000 104575 57850 212800 129400 ...\n",
            "  .. ..$ employee_residence: chr [1:6503] \"US\" \"US\" \"US\" \"US\" ...\n",
            "  .. ..$ remote_ratio      : int [1:6503] 0 0 100 100 0 0 100 100 0 0 ...\n",
            "  .. ..$ company_location  : chr [1:6503] \"US\" \"US\" \"US\" \"US\" ...\n",
            "  .. ..$ company_size      : chr [1:6503] \"M\" \"M\" \"M\" \"M\" ...\n",
            "  ..$ SE:'data.frame':\t13168 obs. of  10 variables:\n",
            "  .. ..$ work_year         : int [1:13168] 2025 2025 2025 2025 2025 2025 2025 2025 2025 2025 ...\n",
            "  .. ..$ employment_type   : chr [1:13168] \"FT\" \"FT\" \"FT\" \"FT\" ...\n",
            "  .. ..$ job_title         : chr [1:13168] \"Applied Scientist\" \"Applied Scientist\" \"Data Scientist\" \"Data Scientist\" ...\n",
            "  .. ..$ salary            : int [1:13168] 266000 204000 291000 197000 349000 248000 279400 211582 235400 213675 ...\n",
            "  .. ..$ salary_currency   : chr [1:13168] \"USD\" \"USD\" \"USD\" \"USD\" ...\n",
            "  .. ..$ salary_in_usd     : int [1:13168] 266000 204000 291000 197000 349000 248000 279400 211582 235400 213675 ...\n",
            "  .. ..$ employee_residence: chr [1:13168] \"US\" \"US\" \"US\" \"US\" ...\n",
            "  .. ..$ remote_ratio      : int [1:13168] 0 0 0 0 0 0 100 100 0 0 ...\n",
            "  .. ..$ company_location  : chr [1:13168] \"US\" \"US\" \"US\" \"US\" ...\n",
            "  .. ..$ company_size      : chr [1:13168] \"M\" \"M\" \"M\" \"M\" ...\n",
            " $ Management_and_Leadership  :List of 4\n",
            "  ..$ EN:'data.frame':\t109 obs. of  10 variables:\n",
            "  .. ..$ work_year         : int [1:109] 2025 2025 2025 2025 2025 2025 2025 2025 2025 2025 ...\n",
            "  .. ..$ employment_type   : chr [1:109] \"FT\" \"FT\" \"FT\" \"FT\" ...\n",
            "  .. ..$ job_title         : chr [1:109] \"Manager\" \"Manager\" \"Manager\" \"Manager\" ...\n",
            "  .. ..$ salary            : int [1:109] 165000 145000 204100 102400 104575 57850 70000 50000 232000 122100 ...\n",
            "  .. ..$ salary_currency   : chr [1:109] \"USD\" \"USD\" \"USD\" \"USD\" ...\n",
            "  .. ..$ salary_in_usd     : int [1:109] 165000 145000 204100 102400 104575 57850 70000 50000 232000 122100 ...\n",
            "  .. ..$ employee_residence: chr [1:109] \"US\" \"US\" \"US\" \"US\" ...\n",
            "  .. ..$ remote_ratio      : int [1:109] 0 0 100 100 0 0 0 0 0 0 ...\n",
            "  .. ..$ company_location  : chr [1:109] \"US\" \"US\" \"US\" \"US\" ...\n",
            "  .. ..$ company_size      : chr [1:109] \"M\" \"M\" \"M\" \"M\" ...\n",
            "  ..$ EX:'data.frame':\t876 obs. of  10 variables:\n",
            "  .. ..$ work_year         : int [1:876] 2025 2025 2025 2025 2025 2025 2025 2025 2025 2025 ...\n",
            "  .. ..$ employment_type   : chr [1:876] \"FT\" \"FT\" \"FT\" \"FT\" ...\n",
            "  .. ..$ job_title         : chr [1:876] \"Director\" \"Director\" \"Director\" \"Director\" ...\n",
            "  .. ..$ salary            : int [1:876] 224500 194000 240000 186000 205000 138000 250000 167000 240000 200000 ...\n",
            "  .. ..$ salary_currency   : chr [1:876] \"USD\" \"USD\" \"USD\" \"USD\" ...\n",
            "  .. ..$ salary_in_usd     : int [1:876] 224500 194000 240000 186000 205000 138000 250000 167000 240000 200000 ...\n",
            "  .. ..$ employee_residence: chr [1:876] \"US\" \"US\" \"US\" \"US\" ...\n",
            "  .. ..$ remote_ratio      : int [1:876] 100 100 100 100 0 0 100 100 100 100 ...\n",
            "  .. ..$ company_location  : chr [1:876] \"US\" \"US\" \"US\" \"US\" ...\n",
            "  .. ..$ company_size      : chr [1:876] \"M\" \"M\" \"M\" \"M\" ...\n",
            "  ..$ MI:'data.frame':\t5169 obs. of  10 variables:\n",
            "  .. ..$ work_year         : int [1:5169] 2025 2025 2025 2025 2025 2025 2025 2025 2025 2025 ...\n",
            "  .. ..$ employment_type   : chr [1:5169] \"FT\" \"FT\" \"FT\" \"FT\" ...\n",
            "  .. ..$ job_title         : chr [1:5169] \"Manager\" \"Manager\" \"Engineering Manager\" \"Engineering Manager\" ...\n",
            "  .. ..$ salary            : int [1:5169] 240800 193400 400000 300000 400000 300000 300000 140000 190000 120000 ...\n",
            "  .. ..$ salary_currency   : chr [1:5169] \"USD\" \"USD\" \"USD\" \"USD\" ...\n",
            "  .. ..$ salary_in_usd     : int [1:5169] 240800 193400 400000 300000 400000 300000 300000 140000 190000 120000 ...\n",
            "  .. ..$ employee_residence: chr [1:5169] \"US\" \"US\" \"US\" \"US\" ...\n",
            "  .. ..$ remote_ratio      : int [1:5169] 0 0 0 0 0 0 100 100 100 100 ...\n",
            "  .. ..$ company_location  : chr [1:5169] \"US\" \"US\" \"US\" \"US\" ...\n",
            "  .. ..$ company_size      : chr [1:5169] \"M\" \"M\" \"M\" \"M\" ...\n",
            "  ..$ SE:'data.frame':\t5087 obs. of  10 variables:\n",
            "  .. ..$ work_year         : int [1:5087] 2025 2025 2025 2025 2025 2025 2025 2025 2025 2025 ...\n",
            "  .. ..$ employment_type   : chr [1:5087] \"FT\" \"FT\" \"FT\" \"FT\" ...\n",
            "  .. ..$ job_title         : chr [1:5087] \"Tech Lead\" \"Tech Lead\" \"Data Lead\" \"Data Lead\" ...\n",
            "  .. ..$ salary            : int [1:5087] 305000 247000 107900 86000 89274 54600 237000 157000 349000 248000 ...\n",
            "  .. ..$ salary_currency   : chr [1:5087] \"USD\" \"USD\" \"USD\" \"USD\" ...\n",
            "  .. ..$ salary_in_usd     : int [1:5087] 305000 247000 107900 86000 89274 54600 237000 157000 349000 248000 ...\n",
            "  .. ..$ employee_residence: chr [1:5087] \"CA\" \"CA\" \"US\" \"US\" ...\n",
            "  .. ..$ remote_ratio      : int [1:5087] 0 0 0 0 0 0 0 0 0 0 ...\n",
            "  .. ..$ company_location  : chr [1:5087] \"CA\" \"CA\" \"US\" \"US\" ...\n",
            "  .. ..$ company_size      : chr [1:5087] \"M\" \"M\" \"M\" \"M\" ...\n",
            " $ Others_Generalist          :List of 4\n",
            "  ..$ EN:'data.frame':\t2974 obs. of  10 variables:\n",
            "  .. ..$ work_year         : int [1:2974] 2025 2025 2025 2025 2025 2025 2025 2025 2025 2025 ...\n",
            "  .. ..$ employment_type   : chr [1:2974] \"FT\" \"FT\" \"FT\" \"FT\" ...\n",
            "  .. ..$ job_title         : chr [1:2974] \"Analyst\" \"Analyst\" \"Staff Engineer\" \"Staff Engineer\" ...\n",
            "  .. ..$ salary            : int [1:2974] 124000 105400 169500 104000 35000 30000 189000 132000 148608 117180 ...\n",
            "  .. ..$ salary_currency   : chr [1:2974] \"USD\" \"USD\" \"USD\" \"USD\" ...\n",
            "  .. ..$ salary_in_usd     : int [1:2974] 124000 105400 169500 104000 44303 37974 189000 132000 148608 117180 ...\n",
            "  .. ..$ employee_residence: chr [1:2974] \"US\" \"US\" \"US\" \"US\" ...\n",
            "  .. ..$ remote_ratio      : int [1:2974] 0 0 0 0 0 0 0 0 0 0 ...\n",
            "  .. ..$ company_location  : chr [1:2974] \"US\" \"US\" \"US\" \"US\" ...\n",
            "  .. ..$ company_size      : chr [1:2974] \"M\" \"M\" \"M\" \"M\" ...\n",
            "  ..$ EX:'data.frame':\t791 obs. of  10 variables:\n",
            "  .. ..$ work_year         : int [1:791] 2025 2025 2025 2025 2025 2025 2025 2025 2025 2025 ...\n",
            "  .. ..$ employment_type   : chr [1:791] \"FT\" \"FT\" \"FT\" \"FT\" ...\n",
            "  .. ..$ job_title         : chr [1:791] \"Consultant\" \"Consultant\" \"Consultant\" \"Consultant\" ...\n",
            "  .. ..$ salary            : int [1:791] 216800 113100 216800 113100 327000 182000 225000 190000 350000 180000 ...\n",
            "  .. ..$ salary_currency   : chr [1:791] \"USD\" \"USD\" \"USD\" \"USD\" ...\n",
            "  .. ..$ salary_in_usd     : int [1:791] 216800 113100 216800 113100 327000 182000 225000 190000 350000 180000 ...\n",
            "  .. ..$ employee_residence: chr [1:791] \"US\" \"US\" \"US\" \"US\" ...\n",
            "  .. ..$ remote_ratio      : int [1:791] 100 100 100 100 0 0 0 0 0 0 ...\n",
            "  .. ..$ company_location  : chr [1:791] \"US\" \"US\" \"US\" \"US\" ...\n",
            "  .. ..$ company_size      : chr [1:791] \"M\" \"M\" \"M\" \"M\" ...\n",
            "  ..$ MI:'data.frame':\t8579 obs. of  10 variables:\n",
            "  .. ..$ work_year         : int [1:8579] 2025 2025 2025 2025 2025 2025 2025 2025 2025 2025 ...\n",
            "  .. ..$ employment_type   : chr [1:8579] \"FT\" \"FT\" \"FT\" \"FT\" ...\n",
            "  .. ..$ job_title         : chr [1:8579] \"Data Specialist\" \"Data Specialist\" \"Analyst\" \"Analyst\" ...\n",
            "  .. ..$ salary            : int [1:8579] 75000 75000 167000 117000 212200 113100 121900 90100 114000 104000 ...\n",
            "  .. ..$ salary_currency   : chr [1:8579] \"USD\" \"USD\" \"USD\" \"USD\" ...\n",
            "  .. ..$ salary_in_usd     : int [1:8579] 75000 75000 167000 117000 212200 113100 121900 90100 114000 104000 ...\n",
            "  .. ..$ employee_residence: chr [1:8579] \"US\" \"US\" \"US\" \"US\" ...\n",
            "  .. ..$ remote_ratio      : int [1:8579] 0 0 0 0 0 0 0 0 100 100 ...\n",
            "  .. ..$ company_location  : chr [1:8579] \"US\" \"US\" \"US\" \"US\" ...\n",
            "  .. ..$ company_size      : chr [1:8579] \"M\" \"M\" \"M\" \"M\" ...\n",
            "  ..$ SE:'data.frame':\t13247 obs. of  10 variables:\n",
            "  .. ..$ work_year         : int [1:13247] 2025 2025 2025 2025 2025 2025 2025 2025 2025 2025 ...\n",
            "  .. ..$ employment_type   : chr [1:13247] \"FT\" \"FT\" \"FT\" \"FT\" ...\n",
            "  .. ..$ job_title         : chr [1:13247] \"Analyst\" \"Analyst\" \"Engineer\" \"Engineer\" ...\n",
            "  .. ..$ salary            : int [1:13247] 128000 80000 189000 132000 306000 218000 271000 183000 140900 119765 ...\n",
            "  .. ..$ salary_currency   : chr [1:13247] \"USD\" \"USD\" \"USD\" \"USD\" ...\n",
            "  .. ..$ salary_in_usd     : int [1:13247] 128000 80000 189000 132000 306000 218000 271000 183000 140900 119765 ...\n",
            "  .. ..$ employee_residence: chr [1:13247] \"US\" \"US\" \"US\" \"US\" ...\n",
            "  .. ..$ remote_ratio      : int [1:13247] 0 0 0 0 0 0 0 0 0 0 ...\n",
            "  .. ..$ company_location  : chr [1:13247] \"US\" \"US\" \"US\" \"US\" ...\n",
            "  .. ..$ company_size      : chr [1:13247] \"M\" \"M\" \"M\" \"M\" ...\n",
            " $ Product_and_Strategy       :List of 4\n",
            "  ..$ EN:'data.frame':\t111 obs. of  10 variables:\n",
            "  .. ..$ work_year         : int [1:111] 2025 2025 2025 2025 2025 2025 2025 2025 2025 2025 ...\n",
            "  .. ..$ employment_type   : chr [1:111] \"FT\" \"FT\" \"FT\" \"FT\" ...\n",
            "  .. ..$ job_title         : chr [1:111] \"Product Analyst\" \"Product Analyst\" \"Product Manager\" \"Product Manager\" ...\n",
            "  .. ..$ salary            : int [1:111] 97000 83000 440000 360000 115825 52275 84000 54000 150000 100000 ...\n",
            "  .. ..$ salary_currency   : chr [1:111] \"USD\" \"USD\" \"USD\" \"USD\" ...\n",
            "  .. ..$ salary_in_usd     : int [1:111] 97000 83000 440000 360000 115825 52275 84000 54000 150000 100000 ...\n",
            "  .. ..$ employee_residence: chr [1:111] \"US\" \"US\" \"US\" \"US\" ...\n",
            "  .. ..$ remote_ratio      : int [1:111] 0 0 100 100 0 0 0 0 100 100 ...\n",
            "  .. ..$ company_location  : chr [1:111] \"US\" \"US\" \"US\" \"US\" ...\n",
            "  .. ..$ company_size      : chr [1:111] \"M\" \"M\" \"M\" \"M\" ...\n",
            "  ..$ EX:'data.frame':\t84 obs. of  10 variables:\n",
            "  .. ..$ work_year         : int [1:84] 2025 2025 2025 2025 2025 2025 2025 2025 2025 2025 ...\n",
            "  .. ..$ employment_type   : chr [1:84] \"FT\" \"FT\" \"FT\" \"FT\" ...\n",
            "  .. ..$ job_title         : chr [1:84] \"Product Manager\" \"Product Manager\" \"Product Manager\" \"Product Manager\" ...\n",
            "  .. ..$ salary            : int [1:84] 210000 125000 300000 200000 187500 120000 300000 170000 306000 207000 ...\n",
            "  .. ..$ salary_currency   : chr [1:84] \"USD\" \"USD\" \"USD\" \"USD\" ...\n",
            "  .. ..$ salary_in_usd     : int [1:84] 210000 125000 300000 200000 187500 120000 300000 170000 306000 207000 ...\n",
            "  .. ..$ employee_residence: chr [1:84] \"US\" \"US\" \"US\" \"US\" ...\n",
            "  .. ..$ remote_ratio      : int [1:84] 0 0 0 0 0 0 0 0 100 100 ...\n",
            "  .. ..$ company_location  : chr [1:84] \"US\" \"US\" \"US\" \"US\" ...\n",
            "  .. ..$ company_size      : chr [1:84] \"M\" \"M\" \"M\" \"M\" ...\n",
            "  ..$ MI:'data.frame':\t1294 obs. of  10 variables:\n",
            "  .. ..$ work_year         : int [1:1294] 2025 2025 2025 2025 2025 2025 2025 2025 2025 2025 ...\n",
            "  .. ..$ employment_type   : chr [1:1294] \"FT\" \"FT\" \"FT\" \"FT\" ...\n",
            "  .. ..$ job_title         : chr [1:1294] \"Product Manager\" \"Product Manager\" \"Data Product Manager\" \"Data Product Manager\" ...\n",
            "  .. ..$ salary            : int [1:1294] 229000 156000 135500 73200 151800 81400 142000 120000 156000 85000 ...\n",
            "  .. ..$ salary_currency   : chr [1:1294] \"USD\" \"USD\" \"USD\" \"USD\" ...\n",
            "  .. ..$ salary_in_usd     : int [1:1294] 229000 156000 135500 73200 151800 81400 142000 120000 156000 85000 ...\n",
            "  .. ..$ employee_residence: chr [1:1294] \"US\" \"US\" \"US\" \"US\" ...\n",
            "  .. ..$ remote_ratio      : int [1:1294] 0 0 0 0 0 0 100 100 0 0 ...\n",
            "  .. ..$ company_location  : chr [1:1294] \"US\" \"US\" \"US\" \"US\" ...\n",
            "  .. ..$ company_size      : chr [1:1294] \"M\" \"M\" \"M\" \"M\" ...\n",
            "  ..$ SE:'data.frame':\t2113 obs. of  10 variables:\n",
            "  .. ..$ work_year         : int [1:2113] 2025 2025 2025 2025 2025 2025 2025 2025 2025 2025 ...\n",
            "  .. ..$ employment_type   : chr [1:2113] \"FT\" \"FT\" \"FT\" \"FT\" ...\n",
            "  .. ..$ job_title         : chr [1:2113] \"Product Owner\" \"Product Owner\" \"Product Manager\" \"Product Manager\" ...\n",
            "  .. ..$ salary            : int [1:2113] 140900 119765 258000 119800 75000 60000 220000 188000 271000 183000 ...\n",
            "  .. ..$ salary_currency   : chr [1:2113] \"USD\" \"USD\" \"USD\" \"USD\" ...\n",
            "  .. ..$ salary_in_usd     : int [1:2113] 140900 119765 258000 119800 94936 75949 220000 188000 271000 183000 ...\n",
            "  .. ..$ employee_residence: chr [1:2113] \"US\" \"US\" \"US\" \"US\" ...\n",
            "  .. ..$ remote_ratio      : int [1:2113] 0 0 0 0 0 0 0 0 0 0 ...\n",
            "  .. ..$ company_location  : chr [1:2113] \"US\" \"US\" \"US\" \"US\" ...\n",
            "  .. ..$ company_size      : chr [1:2113] \"M\" \"M\" \"M\" \"M\" ...\n",
            " $ Research_and_Academia      :List of 4\n",
            "  ..$ EN:'data.frame':\t812 obs. of  10 variables:\n",
            "  .. ..$ work_year         : int [1:812] 2025 2025 2025 2025 2025 2025 2025 2025 2025 2025 ...\n",
            "  .. ..$ employment_type   : chr [1:812] \"FT\" \"FT\" \"FT\" \"FT\" ...\n",
            "  .. ..$ job_title         : chr [1:812] \"Research Specialist\" \"Research Specialist\" \"Researcher\" \"Researcher\" ...\n",
            "  .. ..$ salary            : int [1:812] 46000 44500 79068 79068 65000 55500 250000 145000 173000 117000 ...\n",
            "  .. ..$ salary_currency   : chr [1:812] \"USD\" \"USD\" \"USD\" \"USD\" ...\n",
            "  .. ..$ salary_in_usd     : int [1:812] 46000 44500 79068 79068 65000 55500 250000 145000 173000 117000 ...\n",
            "  .. ..$ employee_residence: chr [1:812] \"US\" \"US\" \"US\" \"US\" ...\n",
            "  .. ..$ remote_ratio      : int [1:812] 0 0 0 0 0 0 0 0 0 0 ...\n",
            "  .. ..$ company_location  : chr [1:812] \"US\" \"US\" \"US\" \"US\" ...\n",
            "  .. ..$ company_size      : chr [1:812] \"M\" \"M\" \"M\" \"M\" ...\n",
            "  ..$ EX:'data.frame':\t13 obs. of  10 variables:\n",
            "  .. ..$ work_year         : int [1:13] 2025 2025 2025 2025 2025 2025 2025 2025 2024 2024 ...\n",
            "  .. ..$ employment_type   : chr [1:13] \"FT\" \"FT\" \"FT\" \"FT\" ...\n",
            "  .. ..$ job_title         : chr [1:13] \"Researcher\" \"Researcher\" \"Postdoctoral Research Fellow\" \"Postdoctoral Research Fellow\" ...\n",
            "  .. ..$ salary            : int [1:13] 175000 175000 125877 83198 377000 203000 142500 90000 209500 147500 ...\n",
            "  .. ..$ salary_currency   : chr [1:13] \"USD\" \"USD\" \"USD\" \"USD\" ...\n",
            "  .. ..$ salary_in_usd     : int [1:13] 175000 175000 125877 83198 377000 203000 142500 90000 209500 147500 ...\n",
            "  .. ..$ employee_residence: chr [1:13] \"US\" \"US\" \"AU\" \"AU\" ...\n",
            "  .. ..$ remote_ratio      : int [1:13] 0 0 0 0 0 0 0 0 0 0 ...\n",
            "  .. ..$ company_location  : chr [1:13] \"US\" \"US\" \"AU\" \"AU\" ...\n",
            "  .. ..$ company_size      : chr [1:13] \"M\" \"M\" \"M\" \"M\" ...\n",
            "  ..$ MI:'data.frame':\t2417 obs. of  10 variables:\n",
            "  .. ..$ work_year         : int [1:2417] 2025 2025 2025 2025 2025 2025 2025 2025 2025 2025 ...\n",
            "  .. ..$ employment_type   : chr [1:2417] \"FT\" \"FT\" \"FT\" \"FT\" ...\n",
            "  .. ..$ job_title         : chr [1:2417] \"Research Assistant\" \"Research Assistant\" \"Research Scientist\" \"Research Scientist\" ...\n",
            "  .. ..$ salary            : int [1:2417] 45000 44100 202000 141000 186200 138900 224900 167700 460000 380000 ...\n",
            "  .. ..$ salary_currency   : chr [1:2417] \"USD\" \"USD\" \"USD\" \"USD\" ...\n",
            "  .. ..$ salary_in_usd     : int [1:2417] 45000 44100 202000 141000 186200 138900 224900 167700 460000 380000 ...\n",
            "  .. ..$ employee_residence: chr [1:2417] \"US\" \"US\" \"US\" \"US\" ...\n",
            "  .. ..$ remote_ratio      : int [1:2417] 0 0 0 0 0 0 0 0 0 0 ...\n",
            "  .. ..$ company_location  : chr [1:2417] \"US\" \"US\" \"US\" \"US\" ...\n",
            "  .. ..$ company_size      : chr [1:2417] \"M\" \"M\" \"M\" \"M\" ...\n",
            "  ..$ SE:'data.frame':\t2884 obs. of  10 variables:\n",
            "  .. ..$ work_year         : int [1:2884] 2025 2025 2025 2025 2025 2025 2025 2025 2025 2025 ...\n",
            "  .. ..$ employment_type   : chr [1:2884] \"FT\" \"FT\" \"FT\" \"FT\" ...\n",
            "  .. ..$ job_title         : chr [1:2884] \"Researcher\" \"Researcher\" \"Research Scientist\" \"Research Scientist\" ...\n",
            "  .. ..$ salary            : int [1:2884] 265000 178000 291000 197000 283500 230500 220000 166000 300000 160000 ...\n",
            "  .. ..$ salary_currency   : chr [1:2884] \"USD\" \"USD\" \"USD\" \"USD\" ...\n",
            "  .. ..$ salary_in_usd     : int [1:2884] 265000 178000 291000 197000 283500 230500 220000 166000 300000 160000 ...\n",
            "  .. ..$ employee_residence: chr [1:2884] \"US\" \"US\" \"US\" \"US\" ...\n",
            "  .. ..$ remote_ratio      : int [1:2884] 0 0 0 0 0 0 0 0 0 0 ...\n",
            "  .. ..$ company_location  : chr [1:2884] \"US\" \"US\" \"US\" \"US\" ...\n",
            "  .. ..$ company_size      : chr [1:2884] \"M\" \"M\" \"M\" \"M\" ...\n",
            " $ Software_and_DevOps        :List of 4\n",
            "  ..$ EN:'data.frame':\t783 obs. of  10 variables:\n",
            "  .. ..$ work_year         : int [1:783] 2025 2025 2025 2025 2025 2025 2025 2025 2025 2025 ...\n",
            "  .. ..$ employment_type   : chr [1:783] \"FT\" \"FT\" \"FT\" \"FT\" ...\n",
            "  .. ..$ job_title         : chr [1:783] \"Full Stack Engineer\" \"Full Stack Engineer\" \"Software Engineer\" \"Software Engineer\" ...\n",
            "  .. ..$ salary            : int [1:783] 72000 64000 100000 80000 46000 32000 142000 36000 180400 84200 ...\n",
            "  .. ..$ salary_currency   : chr [1:783] \"USD\" \"USD\" \"USD\" \"USD\" ...\n",
            "  .. ..$ salary_in_usd     : int [1:783] 72000 64000 100000 80000 48421 33684 142000 36000 180400 84200 ...\n",
            "  .. ..$ employee_residence: chr [1:783] \"US\" \"US\" \"CA\" \"CA\" ...\n",
            "  .. ..$ remote_ratio      : int [1:783] 0 0 0 0 0 0 0 0 0 0 ...\n",
            "  .. ..$ company_location  : chr [1:783] \"US\" \"US\" \"CA\" \"CA\" ...\n",
            "  .. ..$ company_size      : chr [1:783] \"M\" \"M\" \"M\" \"M\" ...\n",
            "  ..$ EX:'data.frame':\t186 obs. of  10 variables:\n",
            "  .. ..$ work_year         : int [1:186] 2025 2025 2025 2025 2025 2025 2025 2025 2025 2025 ...\n",
            "  .. ..$ employment_type   : chr [1:186] \"FT\" \"FT\" \"FT\" \"FT\" ...\n",
            "  .. ..$ job_title         : chr [1:186] \"Software Engineer\" \"Software Engineer\" \"Developer\" \"Developer\" ...\n",
            "  .. ..$ salary            : int [1:186] 195000 175000 306600 192200 150000 65000 379940 259100 270250 174250 ...\n",
            "  .. ..$ salary_currency   : chr [1:186] \"CAD\" \"CAD\" \"USD\" \"USD\" ...\n",
            "  .. ..$ salary_in_usd     : int [1:186] 139285 125000 306600 192200 150000 65000 379940 259100 270250 174250 ...\n",
            "  .. ..$ employee_residence: chr [1:186] \"CA\" \"CA\" \"US\" \"US\" ...\n",
            "  .. ..$ remote_ratio      : int [1:186] 0 0 0 0 0 0 0 0 0 0 ...\n",
            "  .. ..$ company_location  : chr [1:186] \"CA\" \"CA\" \"US\" \"US\" ...\n",
            "  .. ..$ company_size      : chr [1:186] \"M\" \"M\" \"M\" \"M\" ...\n",
            "  ..$ MI:'data.frame':\t5748 obs. of  10 variables:\n",
            "  .. ..$ work_year         : int [1:5748] 2025 2025 2025 2025 2025 2025 2025 2025 2025 2025 ...\n",
            "  .. ..$ employment_type   : chr [1:5748] \"FT\" \"FT\" \"FT\" \"FT\" ...\n",
            "  .. ..$ job_title         : chr [1:5748] \"Software Engineer\" \"Software Engineer\" \"Software Engineer\" \"Software Engineer\" ...\n",
            "  .. ..$ salary            : int [1:5748] 293000 213000 202000 141000 202000 141000 123050 90950 110000 86000 ...\n",
            "  .. ..$ salary_currency   : chr [1:5748] \"USD\" \"USD\" \"USD\" \"USD\" ...\n",
            "  .. ..$ salary_in_usd     : int [1:5748] 293000 213000 202000 141000 202000 141000 123050 90950 110000 86000 ...\n",
            "  .. ..$ employee_residence: chr [1:5748] \"US\" \"US\" \"US\" \"US\" ...\n",
            "  .. ..$ remote_ratio      : int [1:5748] 0 0 0 0 0 0 0 0 0 0 ...\n",
            "  .. ..$ company_location  : chr [1:5748] \"US\" \"US\" \"US\" \"US\" ...\n",
            "  .. ..$ company_size      : chr [1:5748] \"M\" \"M\" \"M\" \"M\" ...\n",
            "  ..$ SE:'data.frame':\t13015 obs. of  10 variables:\n",
            "  .. ..$ work_year         : int [1:13015] 2025 2025 2025 2025 2025 2025 2025 2025 2025 2025 ...\n",
            "  .. ..$ employment_type   : chr [1:13015] \"FT\" \"FT\" \"FT\" \"FT\" ...\n",
            "  .. ..$ job_title         : chr [1:13015] \"Software Engineer\" \"Software Engineer\" \"Software Engineer\" \"Software Engineer\" ...\n",
            "  .. ..$ salary            : int [1:13015] 202000 141000 202000 141000 202000 141000 202000 141000 291000 197000 ...\n",
            "  .. ..$ salary_currency   : chr [1:13015] \"USD\" \"USD\" \"USD\" \"USD\" ...\n",
            "  .. ..$ salary_in_usd     : int [1:13015] 202000 141000 202000 141000 202000 141000 202000 141000 291000 197000 ...\n",
            "  .. ..$ employee_residence: chr [1:13015] \"US\" \"US\" \"US\" \"US\" ...\n",
            "  .. ..$ remote_ratio      : int [1:13015] 0 0 0 0 0 0 0 0 0 0 ...\n",
            "  .. ..$ company_location  : chr [1:13015] \"US\" \"US\" \"US\" \"US\" ...\n",
            "  .. ..$ company_size      : chr [1:13015] \"M\" \"M\" \"M\" \"M\" ...\n"
          ]
        }
      ]
    },
    {
      "cell_type": "code",
      "metadata": {
        "trusted": true,
        "id": "cAV1etTgyrW-",
        "colab": {
          "base_uri": "https://localhost:8080/",
          "height": 34
        },
        "outputId": "369a5d76-86ad-4525-ac8c-ae86b2f1a3ec"
      },
      "source": [
        "# P1.1\n",
        "## Respusta\n",
        "#a) ---------------------------------------------------------------------\n",
        "class(perfiles) # es una lista\n",
        "\n"
      ],
      "execution_count": null,
      "outputs": [
        {
          "output_type": "display_data",
          "data": {
            "text/html": [
              "'list'"
            ],
            "text/markdown": "'list'",
            "text/latex": "'list'",
            "text/plain": [
              "[1] \"list\""
            ]
          },
          "metadata": {}
        }
      ]
    },
    {
      "cell_type": "code",
      "source": [
        "#b) ---------------------------------------------------------------------\n",
        "length(perfiles) # 11 elementos\n",
        "\n"
      ],
      "metadata": {
        "colab": {
          "base_uri": "https://localhost:8080/",
          "height": 34
        },
        "id": "ZlSBtVYagSN0",
        "outputId": "f0fe074b-6cac-43a2-f2b6-e3abff7003ab"
      },
      "execution_count": null,
      "outputs": [
        {
          "output_type": "display_data",
          "data": {
            "text/html": [
              "11"
            ],
            "text/markdown": "11",
            "text/latex": "11",
            "text/plain": [
              "[1] 11"
            ]
          },
          "metadata": {}
        }
      ]
    },
    {
      "cell_type": "code",
      "source": [
        "#c) ---------------------------------------------------------------------\n",
        "names(perfiles) # 'AI_and_Machine_Learning''Analytics_and_BI''Architecture''Data_Engineering''Data_Governance_and_Quality''Data_Science''Management_and_Leadership''Others_Generalist''Product_and_Strategy''Research_and_Academia''Software_and_DevOps'\n"
      ],
      "metadata": {
        "colab": {
          "base_uri": "https://localhost:8080/",
          "height": 52
        },
        "id": "4q_PAT_ugTcA",
        "outputId": "2628b90b-aadb-47b2-f714-b4c93f342979"
      },
      "execution_count": null,
      "outputs": [
        {
          "output_type": "display_data",
          "data": {
            "text/html": [
              "<style>\n",
              ".list-inline {list-style: none; margin:0; padding: 0}\n",
              ".list-inline>li {display: inline-block}\n",
              ".list-inline>li:not(:last-child)::after {content: \"\\00b7\"; padding: 0 .5ex}\n",
              "</style>\n",
              "<ol class=list-inline><li>'AI_and_Machine_Learning'</li><li>'Analytics_and_BI'</li><li>'Architecture'</li><li>'Data_Engineering'</li><li>'Data_Governance_and_Quality'</li><li>'Data_Science'</li><li>'Management_and_Leadership'</li><li>'Others_Generalist'</li><li>'Product_and_Strategy'</li><li>'Research_and_Academia'</li><li>'Software_and_DevOps'</li></ol>\n"
            ],
            "text/markdown": "1. 'AI_and_Machine_Learning'\n2. 'Analytics_and_BI'\n3. 'Architecture'\n4. 'Data_Engineering'\n5. 'Data_Governance_and_Quality'\n6. 'Data_Science'\n7. 'Management_and_Leadership'\n8. 'Others_Generalist'\n9. 'Product_and_Strategy'\n10. 'Research_and_Academia'\n11. 'Software_and_DevOps'\n\n\n",
            "text/latex": "\\begin{enumerate*}\n\\item 'AI\\_and\\_Machine\\_Learning'\n\\item 'Analytics\\_and\\_BI'\n\\item 'Architecture'\n\\item 'Data\\_Engineering'\n\\item 'Data\\_Governance\\_and\\_Quality'\n\\item 'Data\\_Science'\n\\item 'Management\\_and\\_Leadership'\n\\item 'Others\\_Generalist'\n\\item 'Product\\_and\\_Strategy'\n\\item 'Research\\_and\\_Academia'\n\\item 'Software\\_and\\_DevOps'\n\\end{enumerate*}\n",
            "text/plain": [
              " [1] \"AI_and_Machine_Learning\"     \"Analytics_and_BI\"           \n",
              " [3] \"Architecture\"                \"Data_Engineering\"           \n",
              " [5] \"Data_Governance_and_Quality\" \"Data_Science\"               \n",
              " [7] \"Management_and_Leadership\"   \"Others_Generalist\"          \n",
              " [9] \"Product_and_Strategy\"        \"Research_and_Academia\"      \n",
              "[11] \"Software_and_DevOps\"        "
            ]
          },
          "metadata": {}
        }
      ]
    },
    {
      "cell_type": "code",
      "source": [
        "\n",
        "#d) ---------------------------------------------------------------------\n",
        "class(perfiles$Data_Science)\n",
        "length(perfiles$Data_Science)\n",
        "names(perfiles$Data_Science)# es una lista con 4 elementos, a saber: 'EN''EX''MI''SE' (estos corresponden a los niveles de experiencia de los perfiles registrados en la categoría Data_Science)"
      ],
      "metadata": {
        "colab": {
          "base_uri": "https://localhost:8080/",
          "height": 69
        },
        "id": "_TIZJD6SgUkZ",
        "outputId": "46cf386f-562c-44f1-e932-749fd3777cba"
      },
      "execution_count": null,
      "outputs": [
        {
          "output_type": "display_data",
          "data": {
            "text/html": [
              "'list'"
            ],
            "text/markdown": "'list'",
            "text/latex": "'list'",
            "text/plain": [
              "[1] \"list\""
            ]
          },
          "metadata": {}
        },
        {
          "output_type": "display_data",
          "data": {
            "text/html": [
              "4"
            ],
            "text/markdown": "4",
            "text/latex": "4",
            "text/plain": [
              "[1] 4"
            ]
          },
          "metadata": {}
        },
        {
          "output_type": "display_data",
          "data": {
            "text/html": [
              "<style>\n",
              ".list-inline {list-style: none; margin:0; padding: 0}\n",
              ".list-inline>li {display: inline-block}\n",
              ".list-inline>li:not(:last-child)::after {content: \"\\00b7\"; padding: 0 .5ex}\n",
              "</style>\n",
              "<ol class=list-inline><li>'EN'</li><li>'EX'</li><li>'MI'</li><li>'SE'</li></ol>\n"
            ],
            "text/markdown": "1. 'EN'\n2. 'EX'\n3. 'MI'\n4. 'SE'\n\n\n",
            "text/latex": "\\begin{enumerate*}\n\\item 'EN'\n\\item 'EX'\n\\item 'MI'\n\\item 'SE'\n\\end{enumerate*}\n",
            "text/plain": [
              "[1] \"EN\" \"EX\" \"MI\" \"SE\""
            ]
          },
          "metadata": {}
        }
      ]
    },
    {
      "cell_type": "code",
      "source": [
        "\n",
        "#e) ---------------------------------------------------------------------\n",
        "class(perfiles$Data_Science$MI); dim(perfiles$Data_Science$MI) # es un data.frame con 6503 filas  y 10 columnas\n"
      ],
      "metadata": {
        "colab": {
          "base_uri": "https://localhost:8080/",
          "height": 52
        },
        "id": "-RpbzatogVsY",
        "outputId": "d95bbfb4-31a1-4bf5-a151-e2f340a0cd29"
      },
      "execution_count": null,
      "outputs": [
        {
          "output_type": "display_data",
          "data": {
            "text/html": [
              "'data.frame'"
            ],
            "text/markdown": "'data.frame'",
            "text/latex": "'data.frame'",
            "text/plain": [
              "[1] \"data.frame\""
            ]
          },
          "metadata": {}
        },
        {
          "output_type": "display_data",
          "data": {
            "text/html": [
              "<style>\n",
              ".list-inline {list-style: none; margin:0; padding: 0}\n",
              ".list-inline>li {display: inline-block}\n",
              ".list-inline>li:not(:last-child)::after {content: \"\\00b7\"; padding: 0 .5ex}\n",
              "</style>\n",
              "<ol class=list-inline><li>6503</li><li>10</li></ol>\n"
            ],
            "text/markdown": "1. 6503\n2. 10\n\n\n",
            "text/latex": "\\begin{enumerate*}\n\\item 6503\n\\item 10\n\\end{enumerate*}\n",
            "text/plain": [
              "[1] 6503   10"
            ]
          },
          "metadata": {}
        }
      ]
    },
    {
      "cell_type": "markdown",
      "metadata": {
        "id": "ZVn0kUr4yrXA"
      },
      "source": [
        "## Pregunta 1.2\n",
        "\n",
        "**2a) (4pts)** Para cada nivel de experiencia (EN; MI; SE; EX), dentro de la categoría `AI_and_Machine_Learning`¿Cuántos perfiles se registraron con el cargo \"AI Architect\" y qué nivel de expriencia tiene la mayoría de los perfiles con este cargo? ¿Cuantos perfiles en total con este cargo se han registrado?.<br>\n",
        "**2b) (4pts)** Genere 4 nuevas variables llamadas `Analytics_and_BI_EN`, `Analytics_and_BI_MI`, `Analytics_and_BI_SE`, `Analytics_and_BI_EX` que contenga los data frames de cada nivel de experiencia para la categoría \"Analytics_and_BI\" (por ejemplo, la variable `Analytics_and_BI_EN` debe contener una dataframe de dimensión $5688\\times 10$).<br>\n",
        "**2c) (2pts)** Para cada dataframe del paso anterior, genere una nueva columna llamada `experience_level`, que repita el nivel de experiencia (En, MI, SE o EX) correspondiente por cada fila.<br>\n",
        "Por ejemplo, los 6 primeros registros de la variable (data frame) `Analytics_and_BI_EN` debe verse de la siguiente manera:\n",
        "\n",
        "![image.png](data:image/png;base64,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)"
      ]
    },
    {
      "cell_type": "code",
      "metadata": {
        "trusted": true,
        "id": "of36hDlhyrXB",
        "colab": {
          "base_uri": "https://localhost:8080/",
          "height": 86
        },
        "outputId": "a419501e-29a3-4880-c06e-3c9832471080"
      },
      "source": [
        "# P1.2\n",
        "## Respusta\n",
        "#a) ---------------------------------------------------------------------\n",
        "nrow(perfiles$AI_and_Machine_Learning$EN[perfiles$AI_and_Machine_Learning$EN$job_title == \"AI Architect\",])\n",
        "nrow(perfiles$AI_and_Machine_Learning$MI[perfiles$AI_and_Machine_Learning$MI$job_title == \"AI Architect\",] )\n",
        "nrow(perfiles$AI_and_Machine_Learning$SE[perfiles$AI_and_Machine_Learning$SE$job_title == \"AI Architect\",] )\n",
        "nrow(perfiles$AI_and_Machine_Learning$EX[perfiles$AI_and_Machine_Learning$EX$job_title == \"AI Architect\",] )\n",
        "\n",
        "# Nivel Junior: 0\n",
        "# Nivel Intermedio: 1\n",
        "# Nivel Senior: 265\n",
        "# Nivel Ejecutivo: 1\n",
        "\n",
        "# La mayoría de los perfiles con este cargo tiene un nivel de experiencia Senior, con 265 registros.\n",
        "# El total de perfiles con este cargo asciende a 267 personas.\n"
      ],
      "execution_count": null,
      "outputs": [
        {
          "output_type": "display_data",
          "data": {
            "text/html": [
              "0"
            ],
            "text/markdown": "0",
            "text/latex": "0",
            "text/plain": [
              "[1] 0"
            ]
          },
          "metadata": {}
        },
        {
          "output_type": "display_data",
          "data": {
            "text/html": [
              "1"
            ],
            "text/markdown": "1",
            "text/latex": "1",
            "text/plain": [
              "[1] 1"
            ]
          },
          "metadata": {}
        },
        {
          "output_type": "display_data",
          "data": {
            "text/html": [
              "265"
            ],
            "text/markdown": "265",
            "text/latex": "265",
            "text/plain": [
              "[1] 265"
            ]
          },
          "metadata": {}
        },
        {
          "output_type": "display_data",
          "data": {
            "text/html": [
              "1"
            ],
            "text/markdown": "1",
            "text/latex": "1",
            "text/plain": [
              "[1] 1"
            ]
          },
          "metadata": {}
        }
      ]
    },
    {
      "cell_type": "code",
      "metadata": {
        "trusted": true,
        "id": "5FzZngEsyrXF"
      },
      "source": [
        "#b) ---------------------------------------------------------------------\n",
        "\n",
        "Analytics_and_BI_EN <- perfiles$Analytics_and_BI$EN\n",
        "Analytics_and_BI_MI <- perfiles$Analytics_and_BI$MI\n",
        "Analytics_and_BI_SE <- perfiles$Analytics_and_BI$SE\n",
        "Analytics_and_BI_EX <- perfiles$Analytics_and_BI$EX"
      ],
      "execution_count": null,
      "outputs": []
    },
    {
      "cell_type": "code",
      "source": [
        "\n",
        "#c) ---------------------------------------------------------------------\n",
        "# 1 pt por crear el vector con el mes  más 1 pt por asignarlo al data.frame\n",
        "\n",
        "Analytics_and_BI_EN$experience_level <- \"EN\"\n",
        "Analytics_and_BI_MI$experience_level <- \"MI\"\n",
        "Analytics_and_BI_SE$experience_level <- \"SE\"\n",
        "Analytics_and_BI_EX$experience_level <- \"EX\""
      ],
      "metadata": {
        "id": "PhxUK5x_t5qC"
      },
      "execution_count": null,
      "outputs": []
    },
    {
      "cell_type": "code",
      "source": [
        "head(Analytics_and_BI_EN)"
      ],
      "metadata": {
        "colab": {
          "base_uri": "https://localhost:8080/",
          "height": 410
        },
        "id": "5TZM5cNqv3D4",
        "outputId": "4522cb9c-a657-43c0-df44-e61cc00b32a6"
      },
      "execution_count": null,
      "outputs": [
        {
          "output_type": "display_data",
          "data": {
            "text/html": [
              "<table class=\"dataframe\">\n",
              "<caption>A data.frame: 6 × 11</caption>\n",
              "<thead>\n",
              "\t<tr><th></th><th scope=col>work_year</th><th scope=col>employment_type</th><th scope=col>job_title</th><th scope=col>salary</th><th scope=col>salary_currency</th><th scope=col>salary_in_usd</th><th scope=col>employee_residence</th><th scope=col>remote_ratio</th><th scope=col>company_location</th><th scope=col>company_size</th><th scope=col>experience_level</th></tr>\n",
              "\t<tr><th></th><th scope=col>&lt;int&gt;</th><th scope=col>&lt;chr&gt;</th><th scope=col>&lt;chr&gt;</th><th scope=col>&lt;int&gt;</th><th scope=col>&lt;chr&gt;</th><th scope=col>&lt;int&gt;</th><th scope=col>&lt;chr&gt;</th><th scope=col>&lt;int&gt;</th><th scope=col>&lt;chr&gt;</th><th scope=col>&lt;chr&gt;</th><th scope=col>&lt;chr&gt;</th></tr>\n",
              "</thead>\n",
              "<tbody>\n",
              "\t<tr><th scope=row>115</th><td>2025</td><td>FT</td><td>Data Analyst</td><td>85000</td><td>USD</td><td>85000</td><td>US</td><td>0</td><td>US</td><td>M</td><td>EN</td></tr>\n",
              "\t<tr><th scope=row>116</th><td>2025</td><td>FT</td><td>Data Analyst</td><td>62835</td><td>USD</td><td>62835</td><td>US</td><td>0</td><td>US</td><td>M</td><td>EN</td></tr>\n",
              "\t<tr><th scope=row>117</th><td>2025</td><td>FT</td><td>Data Analyst</td><td>40000</td><td>GBP</td><td>50632</td><td>GB</td><td>0</td><td>GB</td><td>M</td><td>EN</td></tr>\n",
              "\t<tr><th scope=row>118</th><td>2025</td><td>FT</td><td>Data Analyst</td><td>30000</td><td>GBP</td><td>37974</td><td>GB</td><td>0</td><td>GB</td><td>M</td><td>EN</td></tr>\n",
              "\t<tr><th scope=row>121</th><td>2025</td><td>CT</td><td>Data Analyst</td><td>32904</td><td>EUR</td><td>34635</td><td>FR</td><td>0</td><td>FR</td><td>M</td><td>EN</td></tr>\n",
              "\t<tr><th scope=row>122</th><td>2025</td><td>CT</td><td>Data Analyst</td><td>32904</td><td>EUR</td><td>34635</td><td>FR</td><td>0</td><td>FR</td><td>M</td><td>EN</td></tr>\n",
              "</tbody>\n",
              "</table>\n"
            ],
            "text/markdown": "\nA data.frame: 6 × 11\n\n| <!--/--> | work_year &lt;int&gt; | employment_type &lt;chr&gt; | job_title &lt;chr&gt; | salary &lt;int&gt; | salary_currency &lt;chr&gt; | salary_in_usd &lt;int&gt; | employee_residence &lt;chr&gt; | remote_ratio &lt;int&gt; | company_location &lt;chr&gt; | company_size &lt;chr&gt; | experience_level &lt;chr&gt; |\n|---|---|---|---|---|---|---|---|---|---|---|---|\n| 115 | 2025 | FT | Data Analyst | 85000 | USD | 85000 | US | 0 | US | M | EN |\n| 116 | 2025 | FT | Data Analyst | 62835 | USD | 62835 | US | 0 | US | M | EN |\n| 117 | 2025 | FT | Data Analyst | 40000 | GBP | 50632 | GB | 0 | GB | M | EN |\n| 118 | 2025 | FT | Data Analyst | 30000 | GBP | 37974 | GB | 0 | GB | M | EN |\n| 121 | 2025 | CT | Data Analyst | 32904 | EUR | 34635 | FR | 0 | FR | M | EN |\n| 122 | 2025 | CT | Data Analyst | 32904 | EUR | 34635 | FR | 0 | FR | M | EN |\n\n",
            "text/latex": "A data.frame: 6 × 11\n\\begin{tabular}{r|lllllllllll}\n  & work\\_year & employment\\_type & job\\_title & salary & salary\\_currency & salary\\_in\\_usd & employee\\_residence & remote\\_ratio & company\\_location & company\\_size & experience\\_level\\\\\n  & <int> & <chr> & <chr> & <int> & <chr> & <int> & <chr> & <int> & <chr> & <chr> & <chr>\\\\\n\\hline\n\t115 & 2025 & FT & Data Analyst & 85000 & USD & 85000 & US & 0 & US & M & EN\\\\\n\t116 & 2025 & FT & Data Analyst & 62835 & USD & 62835 & US & 0 & US & M & EN\\\\\n\t117 & 2025 & FT & Data Analyst & 40000 & GBP & 50632 & GB & 0 & GB & M & EN\\\\\n\t118 & 2025 & FT & Data Analyst & 30000 & GBP & 37974 & GB & 0 & GB & M & EN\\\\\n\t121 & 2025 & CT & Data Analyst & 32904 & EUR & 34635 & FR & 0 & FR & M & EN\\\\\n\t122 & 2025 & CT & Data Analyst & 32904 & EUR & 34635 & FR & 0 & FR & M & EN\\\\\n\\end{tabular}\n",
            "text/plain": [
              "    work_year employment_type job_title    salary salary_currency salary_in_usd\n",
              "115 2025      FT              Data Analyst 85000  USD             85000        \n",
              "116 2025      FT              Data Analyst 62835  USD             62835        \n",
              "117 2025      FT              Data Analyst 40000  GBP             50632        \n",
              "118 2025      FT              Data Analyst 30000  GBP             37974        \n",
              "121 2025      CT              Data Analyst 32904  EUR             34635        \n",
              "122 2025      CT              Data Analyst 32904  EUR             34635        \n",
              "    employee_residence remote_ratio company_location company_size\n",
              "115 US                 0            US               M           \n",
              "116 US                 0            US               M           \n",
              "117 GB                 0            GB               M           \n",
              "118 GB                 0            GB               M           \n",
              "121 FR                 0            FR               M           \n",
              "122 FR                 0            FR               M           \n",
              "    experience_level\n",
              "115 EN              \n",
              "116 EN              \n",
              "117 EN              \n",
              "118 EN              \n",
              "121 EN              \n",
              "122 EN              "
            ]
          },
          "metadata": {}
        }
      ]
    },
    {
      "cell_type": "markdown",
      "metadata": {
        "id": "8tPrWtIRyrXL"
      },
      "source": [
        "## Pregunta 1.3\n",
        "\n",
        "**3a) (2pts)** Con la ayuda de la función `rbind()` , una las filas de las 4 tablas generadas en la pregunta anterior y guarde la tabla resultante en una variable llamada `Analytics_and_BI`. Su tabla resultante debe contener 16758 filas y 11 columnas. Sobre el dataframe resultante, añada una nueva columna llamada `category` que repita el nombre de la categoría de empleo, en este caso: \"Analytics_and_BI\".<br>\n",
        "**3b) (2pt)** Con la ayuda de la función `unique()` ¿Cuántos cargos distintos (`job_title`) hay en el dataframe `Analytics_and_BI`? <br>\n",
        "**3c) (4pt)** Considerando el dataframe `Analytics_and_BI`, ¿Cuál es el salario promedio en USD (`salary_in_usd`) para cada nivel de experiencia `experience_level`?. <br>\n",
        "**3d) (2pts)** Considerando sólo los cargos con nivel de experiencia intermedio, ¿Cuál es el salario promedio en USD (`salary_in_usd`) por tamaño de empresa (`company_size`).<br>\n",
        "**3e) (2pts)** ¿Cuántos cargos hay registrados de nivel Nivel inicial / Junior  totalmente remotos (`remote_ratio == 100`) en el año 2025?.<br>\n",
        "\n",
        "\n"
      ]
    },
    {
      "cell_type": "code",
      "metadata": {
        "trusted": true,
        "id": "aoM3D3ccyrXO",
        "colab": {
          "base_uri": "https://localhost:8080/"
        },
        "outputId": "74e1566b-f6b6-45f8-d622-0b2031e1975f"
      },
      "source": [
        "# P1.3\n",
        "## Respusta\n",
        "#a) ---------------------------------------------------------------------\n",
        "\n",
        "Analytics_and_BI <- rbind(Analytics_and_BI_EN,\n",
        "                          Analytics_and_BI_MI,\n",
        "                          Analytics_and_BI_SE,\n",
        "                          Analytics_and_BI_EX\n",
        "                  )\n",
        "Analytics_and_BI$category <- \"Analytics_and_BI\"\n",
        "str(Analytics_and_BI)"
      ],
      "execution_count": null,
      "outputs": [
        {
          "output_type": "stream",
          "name": "stdout",
          "text": [
            "'data.frame':\t16758 obs. of  12 variables:\n",
            " $ work_year         : int  2025 2025 2025 2025 2025 2025 2025 2025 2025 2025 ...\n",
            " $ employment_type   : chr  \"FT\" \"FT\" \"FT\" \"FT\" ...\n",
            " $ job_title         : chr  \"Data Analyst\" \"Data Analyst\" \"Data Analyst\" \"Data Analyst\" ...\n",
            " $ salary            : int  85000 62835 40000 30000 32904 32904 87360 58240 105000 85000 ...\n",
            " $ salary_currency   : chr  \"USD\" \"USD\" \"GBP\" \"GBP\" ...\n",
            " $ salary_in_usd     : int  85000 62835 50632 37974 34635 34635 87360 58240 110526 89473 ...\n",
            " $ employee_residence: chr  \"US\" \"US\" \"GB\" \"GB\" ...\n",
            " $ remote_ratio      : int  0 0 0 0 0 0 0 0 0 0 ...\n",
            " $ company_location  : chr  \"US\" \"US\" \"GB\" \"GB\" ...\n",
            " $ company_size      : chr  \"M\" \"M\" \"M\" \"M\" ...\n",
            " $ experience_level  : chr  \"EN\" \"EN\" \"EN\" \"EN\" ...\n",
            " $ category          : chr  \"Analytics_and_BI\" \"Analytics_and_BI\" \"Analytics_and_BI\" \"Analytics_and_BI\" ...\n"
          ]
        }
      ]
    },
    {
      "cell_type": "code",
      "metadata": {
        "trusted": true,
        "id": "r7gpybkjyrXT",
        "colab": {
          "base_uri": "https://localhost:8080/",
          "height": 156
        },
        "outputId": "a5b4be3c-cdef-4d3e-96a7-b9be92a701a8"
      },
      "source": [
        "#b) ---------------------------------------------------------------------\n",
        "length(unique(Analytics_and_BI$job_title))# Hay 52 cargos distintos dentro de la categoría Analytics_and_BI.\n",
        "unique(Analytics_and_BI$job_title)"
      ],
      "execution_count": null,
      "outputs": [
        {
          "output_type": "display_data",
          "data": {
            "text/html": [
              "52"
            ],
            "text/markdown": "52",
            "text/latex": "52",
            "text/plain": [
              "[1] 52"
            ]
          },
          "metadata": {}
        },
        {
          "output_type": "display_data",
          "data": {
            "text/html": [
              "<style>\n",
              ".list-inline {list-style: none; margin:0; padding: 0}\n",
              ".list-inline>li {display: inline-block}\n",
              ".list-inline>li:not(:last-child)::after {content: \"\\00b7\"; padding: 0 .5ex}\n",
              "</style>\n",
              "<ol class=list-inline><li>'Data Analyst'</li><li>'BI Analyst'</li><li>'Business Intelligence Analyst'</li><li>'Business Intelligence Developer'</li><li>'Fraud Data Analyst'</li><li>'Admin &amp; Data Analyst'</li><li>'Power BI'</li><li>'Insight Analyst'</li><li>'Business Intelligence'</li><li>'Power BI Developer'</li><li>'Business Intelligence Specialist'</li><li>'Data and Reporting Analyst'</li><li>'Data Reporting Analyst'</li><li>'Data Visualization Analyst'</li><li>'Business Intelligence Engineer'</li><li>'Data Visualization Engineer'</li><li>'Data and Reporting Professional'</li><li>'Data Visualization Specialist'</li><li>'Business Intelligence Lead'</li><li>'Data Analyst Lead'</li><li>'BI Data Analyst'</li><li>'Financial Data Analyst'</li><li>'Staff Data Analyst'</li><li>'Finance Data Analyst'</li><li>'Compliance Data Analyst'</li><li>'Business Intelligence Data Analyst'</li><li>'Product Data Analyst'</li><li>'Business Data Analyst'</li><li>'Data Visualization Developer'</li><li>'Power BI Administrator'</li><li>'BI &amp; Data Analyst'</li><li>'Power BI Specialist'</li><li>'Business Intelligence Manager'</li><li>'Data Visualization Designer'</li><li>'Tableau Developer'</li><li>'Data Reporting Specialist'</li><li>'Big Data Analyst'</li><li>'Lead Data Analyst'</li><li>'Sales Data Analyst'</li><li>'Principal Data Analyst'</li><li>'Power BI Expert'</li><li>'Data Visualization Lead'</li><li>'Advanced Data Analyst'</li><li>'Data Visualization Expert'</li><li>'Power BI Consultant'</li><li>'Power BI Architect'</li><li>'Business Intelligence Consultant'</li><li>'CRM Data Analyst'</li><li>'Marketing Data Analyst'</li><li>'People Data Analyst'</li><li>'Head of Business Intelligence'</li><li>'Director of Business Intelligence'</li></ol>\n"
            ],
            "text/markdown": "1. 'Data Analyst'\n2. 'BI Analyst'\n3. 'Business Intelligence Analyst'\n4. 'Business Intelligence Developer'\n5. 'Fraud Data Analyst'\n6. 'Admin &amp; Data Analyst'\n7. 'Power BI'\n8. 'Insight Analyst'\n9. 'Business Intelligence'\n10. 'Power BI Developer'\n11. 'Business Intelligence Specialist'\n12. 'Data and Reporting Analyst'\n13. 'Data Reporting Analyst'\n14. 'Data Visualization Analyst'\n15. 'Business Intelligence Engineer'\n16. 'Data Visualization Engineer'\n17. 'Data and Reporting Professional'\n18. 'Data Visualization Specialist'\n19. 'Business Intelligence Lead'\n20. 'Data Analyst Lead'\n21. 'BI Data Analyst'\n22. 'Financial Data Analyst'\n23. 'Staff Data Analyst'\n24. 'Finance Data Analyst'\n25. 'Compliance Data Analyst'\n26. 'Business Intelligence Data Analyst'\n27. 'Product Data Analyst'\n28. 'Business Data Analyst'\n29. 'Data Visualization Developer'\n30. 'Power BI Administrator'\n31. 'BI &amp; Data Analyst'\n32. 'Power BI Specialist'\n33. 'Business Intelligence Manager'\n34. 'Data Visualization Designer'\n35. 'Tableau Developer'\n36. 'Data Reporting Specialist'\n37. 'Big Data Analyst'\n38. 'Lead Data Analyst'\n39. 'Sales Data Analyst'\n40. 'Principal Data Analyst'\n41. 'Power BI Expert'\n42. 'Data Visualization Lead'\n43. 'Advanced Data Analyst'\n44. 'Data Visualization Expert'\n45. 'Power BI Consultant'\n46. 'Power BI Architect'\n47. 'Business Intelligence Consultant'\n48. 'CRM Data Analyst'\n49. 'Marketing Data Analyst'\n50. 'People Data Analyst'\n51. 'Head of Business Intelligence'\n52. 'Director of Business Intelligence'\n\n\n",
            "text/latex": "\\begin{enumerate*}\n\\item 'Data Analyst'\n\\item 'BI Analyst'\n\\item 'Business Intelligence Analyst'\n\\item 'Business Intelligence Developer'\n\\item 'Fraud Data Analyst'\n\\item 'Admin \\& Data Analyst'\n\\item 'Power BI'\n\\item 'Insight Analyst'\n\\item 'Business Intelligence'\n\\item 'Power BI Developer'\n\\item 'Business Intelligence Specialist'\n\\item 'Data and Reporting Analyst'\n\\item 'Data Reporting Analyst'\n\\item 'Data Visualization Analyst'\n\\item 'Business Intelligence Engineer'\n\\item 'Data Visualization Engineer'\n\\item 'Data and Reporting Professional'\n\\item 'Data Visualization Specialist'\n\\item 'Business Intelligence Lead'\n\\item 'Data Analyst Lead'\n\\item 'BI Data Analyst'\n\\item 'Financial Data Analyst'\n\\item 'Staff Data Analyst'\n\\item 'Finance Data Analyst'\n\\item 'Compliance Data Analyst'\n\\item 'Business Intelligence Data Analyst'\n\\item 'Product Data Analyst'\n\\item 'Business Data Analyst'\n\\item 'Data Visualization Developer'\n\\item 'Power BI Administrator'\n\\item 'BI \\& Data Analyst'\n\\item 'Power BI Specialist'\n\\item 'Business Intelligence Manager'\n\\item 'Data Visualization Designer'\n\\item 'Tableau Developer'\n\\item 'Data Reporting Specialist'\n\\item 'Big Data Analyst'\n\\item 'Lead Data Analyst'\n\\item 'Sales Data Analyst'\n\\item 'Principal Data Analyst'\n\\item 'Power BI Expert'\n\\item 'Data Visualization Lead'\n\\item 'Advanced Data Analyst'\n\\item 'Data Visualization Expert'\n\\item 'Power BI Consultant'\n\\item 'Power BI Architect'\n\\item 'Business Intelligence Consultant'\n\\item 'CRM Data Analyst'\n\\item 'Marketing Data Analyst'\n\\item 'People Data Analyst'\n\\item 'Head of Business Intelligence'\n\\item 'Director of Business Intelligence'\n\\end{enumerate*}\n",
            "text/plain": [
              " [1] \"Data Analyst\"                       \"BI Analyst\"                        \n",
              " [3] \"Business Intelligence Analyst\"      \"Business Intelligence Developer\"   \n",
              " [5] \"Fraud Data Analyst\"                 \"Admin & Data Analyst\"              \n",
              " [7] \"Power BI\"                           \"Insight Analyst\"                   \n",
              " [9] \"Business Intelligence\"              \"Power BI Developer\"                \n",
              "[11] \"Business Intelligence Specialist\"   \"Data and Reporting Analyst\"        \n",
              "[13] \"Data Reporting Analyst\"             \"Data Visualization Analyst\"        \n",
              "[15] \"Business Intelligence Engineer\"     \"Data Visualization Engineer\"       \n",
              "[17] \"Data and Reporting Professional\"    \"Data Visualization Specialist\"     \n",
              "[19] \"Business Intelligence Lead\"         \"Data Analyst Lead\"                 \n",
              "[21] \"BI Data Analyst\"                    \"Financial Data Analyst\"            \n",
              "[23] \"Staff Data Analyst\"                 \"Finance Data Analyst\"              \n",
              "[25] \"Compliance Data Analyst\"            \"Business Intelligence Data Analyst\"\n",
              "[27] \"Product Data Analyst\"               \"Business Data Analyst\"             \n",
              "[29] \"Data Visualization Developer\"       \"Power BI Administrator\"            \n",
              "[31] \"BI & Data Analyst\"                  \"Power BI Specialist\"               \n",
              "[33] \"Business Intelligence Manager\"      \"Data Visualization Designer\"       \n",
              "[35] \"Tableau Developer\"                  \"Data Reporting Specialist\"         \n",
              "[37] \"Big Data Analyst\"                   \"Lead Data Analyst\"                 \n",
              "[39] \"Sales Data Analyst\"                 \"Principal Data Analyst\"            \n",
              "[41] \"Power BI Expert\"                    \"Data Visualization Lead\"           \n",
              "[43] \"Advanced Data Analyst\"              \"Data Visualization Expert\"         \n",
              "[45] \"Power BI Consultant\"                \"Power BI Architect\"                \n",
              "[47] \"Business Intelligence Consultant\"   \"CRM Data Analyst\"                  \n",
              "[49] \"Marketing Data Analyst\"             \"People Data Analyst\"               \n",
              "[51] \"Head of Business Intelligence\"      \"Director of Business Intelligence\" "
            ]
          },
          "metadata": {}
        }
      ]
    },
    {
      "cell_type": "code",
      "metadata": {
        "trusted": true,
        "id": "VuSk2-AhyrXV",
        "colab": {
          "base_uri": "https://localhost:8080/",
          "height": 86
        },
        "outputId": "59661d1e-3f1e-47a5-ffba-1e62c8a10711"
      },
      "source": [
        "#c) ---------------------------------------------------------------------\n",
        "round(mean(Analytics_and_BI[Analytics_and_BI$experience_level == \"EN\", \"salary_in_usd\"]),0)\n",
        "round(mean(Analytics_and_BI[Analytics_and_BI$experience_level == \"MI\", \"salary_in_usd\"]),0)\n",
        "round(mean(Analytics_and_BI[Analytics_and_BI$experience_level == \"SE\", \"salary_in_usd\"]),0)\n",
        "round(mean(Analytics_and_BI[Analytics_and_BI$experience_level == \"EX\", \"salary_in_usd\"]),0)\n",
        "\n",
        "\n",
        "# Salario promedio (USD) para (EN) Nivel inicial / Junior : 88819\n",
        "# Salario promedio (USD) para (MI) Nivel intermedio       : 101988\n",
        "# Salario promedio (USD) para (SE) Nivel senior           : 125577\n",
        "# Salario promedio (USD) para (EX) Ejecutivo / Director   : 147642"
      ],
      "execution_count": null,
      "outputs": [
        {
          "output_type": "display_data",
          "data": {
            "text/html": [
              "88819"
            ],
            "text/markdown": "88819",
            "text/latex": "88819",
            "text/plain": [
              "[1] 88819"
            ]
          },
          "metadata": {}
        },
        {
          "output_type": "display_data",
          "data": {
            "text/html": [
              "101988"
            ],
            "text/markdown": "101988",
            "text/latex": "101988",
            "text/plain": [
              "[1] 101988"
            ]
          },
          "metadata": {}
        },
        {
          "output_type": "display_data",
          "data": {
            "text/html": [
              "125577"
            ],
            "text/markdown": "125577",
            "text/latex": "125577",
            "text/plain": [
              "[1] 125577"
            ]
          },
          "metadata": {}
        },
        {
          "output_type": "display_data",
          "data": {
            "text/html": [
              "147642"
            ],
            "text/markdown": "147642",
            "text/latex": "147642",
            "text/plain": [
              "[1] 147642"
            ]
          },
          "metadata": {}
        }
      ]
    },
    {
      "cell_type": "code",
      "source": [
        "#d) ---------------------------------------------------------------------\n",
        "round(mean(Analytics_and_BI[Analytics_and_BI$experience_level == \"MI\" & Analytics_and_BI$company_size == \"S\", \"salary_in_usd\"]),0)\n",
        "round(mean(Analytics_and_BI[Analytics_and_BI$experience_level == \"MI\" & Analytics_and_BI$company_size == \"M\", \"salary_in_usd\"]),0)\n",
        "round(mean(Analytics_and_BI[Analytics_and_BI$experience_level == \"MI\" & Analytics_and_BI$company_size == \"L\", \"salary_in_usd\"]),0)\n",
        "\n",
        "#Salario promedio (USD) compañías pequeñas (S) : 69159\n",
        "#Salario promedio (USD) compañías medianas (M) : 101353\n",
        "#Salario promedio (USD) compañías grandes  (L) : 114854"
      ],
      "metadata": {
        "colab": {
          "base_uri": "https://localhost:8080/",
          "height": 69
        },
        "id": "nyKYwZfuo-IV",
        "outputId": "1c7e1d6c-4fa9-48a2-f138-3fa266b2cfd3"
      },
      "execution_count": null,
      "outputs": [
        {
          "output_type": "display_data",
          "data": {
            "text/html": [
              "69159"
            ],
            "text/markdown": "69159",
            "text/latex": "69159",
            "text/plain": [
              "[1] 69159"
            ]
          },
          "metadata": {}
        },
        {
          "output_type": "display_data",
          "data": {
            "text/html": [
              "101353"
            ],
            "text/markdown": "101353",
            "text/latex": "101353",
            "text/plain": [
              "[1] 101353"
            ]
          },
          "metadata": {}
        },
        {
          "output_type": "display_data",
          "data": {
            "text/html": [
              "114854"
            ],
            "text/markdown": "114854",
            "text/latex": "114854",
            "text/plain": [
              "[1] 114854"
            ]
          },
          "metadata": {}
        }
      ]
    },
    {
      "cell_type": "markdown",
      "metadata": {
        "id": "bDPDvb7EyrXX"
      },
      "source": [
        "# Sección 2\n",
        "\n",
        "En esta sección se busca realizar una pequeña descripción de los salarios para los distintos perfiles con base en la información disponible en la lista `perfiles`.\n",
        "Para ello ustede deberá primero consolidar la información en una tabla que contenga todos los registros para cada categoría de puesto de trabajo y cada nivel de experiencia.\n"
      ]
    },
    {
      "cell_type": "markdown",
      "metadata": {
        "id": "75S5dwvMyrXc"
      },
      "source": [
        "##  Pregunta 2.1\n",
        "\n",
        "**1a) (4pts)** Repita el procedimiento de 1.2c) y 1.3a) para genererar 11 nuevos dataframes (uno por categoría de empleo) y consolide estos 11 dataframes en uno solo llamado `perfiles_df` utilizando la función `rbind()`. <br>\n",
        "Considere utilizar un ciclo `for()` para la creación del dataframe final. En caso contrario, también es válido realizar manualmente el desarrollo requerido. <br>\n",
        "**NOTA:** Su dataframe se debe ver de la siguiente manera y debe tener un total de 141566 filas y 12 columnas. <br>\n",
        "**NOTA:** Como alternativa, puede considerar iterar sobre los nombres de `perfiles`.\n"
      ]
    },
    {
      "cell_type": "code",
      "source": [
        "#a) ---------------------------------------------------------------------\n",
        "# Utilizando un ciclo for()\n",
        "categorias <- names(perfiles)"
      ],
      "metadata": {
        "id": "ds6e3ao9_hLI"
      },
      "execution_count": null,
      "outputs": []
    },
    {
      "cell_type": "code",
      "metadata": {
        "trusted": true,
        "id": "gs9Evl5PyrXc",
        "colab": {
          "base_uri": "https://localhost:8080/"
        },
        "outputId": "79ac9247-3594-47c3-d7c1-6ed40ea838aa"
      },
      "source": [
        "perfiles_df <- data.frame()\n",
        "for(cat in categorias){\n",
        "  print(cat)# Sólo para imprimir el nombre de iteración del ciclo\n",
        "\n",
        "  aux_EN <- perfiles[[cat]]$EN\n",
        "  aux_MI <- perfiles[[cat]]$MI\n",
        "  aux_SE <- perfiles[[cat]]$SE\n",
        "  aux_EX <- perfiles[[cat]]$EX\n",
        "\n",
        "  aux_EN$experience_level <- \"EN\"\n",
        "  aux_MI$experience_level <- \"MI\"\n",
        "  aux_SE$experience_level <- \"SE\"\n",
        "  aux_EX$experience_level <- \"EX\"\n",
        "\n",
        "  aux <- rbind(aux_EN,aux_MI,aux_SE,aux_EX)\n",
        "\n",
        "  aux$category <- cat\n",
        "  print(paste(\"total filas añadidas: \", nrow(aux))) # Sólo para monitorear el total de filas que se añaden por categoría\n",
        "  perfiles_df <- rbind(perfiles_df,aux)\n",
        "                  }\n"
      ],
      "execution_count": null,
      "outputs": [
        {
          "output_type": "stream",
          "name": "stdout",
          "text": [
            "[1] \"AI_and_Machine_Learning\"\n",
            "[1] \"total filas añadidas:  13242\"\n",
            "[1] \"Analytics_and_BI\"\n",
            "[1] \"total filas añadidas:  16758\"\n",
            "[1] \"Architecture\"\n",
            "[1] \"total filas añadidas:  4099\"\n",
            "[1] \"Data_Engineering\"\n",
            "[1] \"total filas añadidas:  18214\"\n",
            "[1] \"Data_Governance_and_Quality\"\n",
            "[1] \"total filas añadidas:  2004\"\n",
            "[1] \"Data_Science\"\n",
            "[1] \"total filas añadidas:  20957\"\n",
            "[1] \"Management_and_Leadership\"\n",
            "[1] \"total filas añadidas:  11241\"\n",
            "[1] \"Others_Generalist\"\n",
            "[1] \"total filas añadidas:  25591\"\n",
            "[1] \"Product_and_Strategy\"\n",
            "[1] \"total filas añadidas:  3602\"\n",
            "[1] \"Research_and_Academia\"\n",
            "[1] \"total filas añadidas:  6126\"\n",
            "[1] \"Software_and_DevOps\"\n",
            "[1] \"total filas añadidas:  19732\"\n"
          ]
        }
      ]
    },
    {
      "cell_type": "code",
      "source": [
        "dim(perfiles_df)"
      ],
      "metadata": {
        "colab": {
          "base_uri": "https://localhost:8080/",
          "height": 34
        },
        "id": "kTf2NbG4FfIT",
        "outputId": "79ca4c30-feab-4d3a-999b-78a51491943c"
      },
      "execution_count": null,
      "outputs": [
        {
          "output_type": "display_data",
          "data": {
            "text/html": [
              "<style>\n",
              ".list-inline {list-style: none; margin:0; padding: 0}\n",
              ".list-inline>li {display: inline-block}\n",
              ".list-inline>li:not(:last-child)::after {content: \"\\00b7\"; padding: 0 .5ex}\n",
              "</style>\n",
              "<ol class=list-inline><li>141566</li><li>12</li></ol>\n"
            ],
            "text/markdown": "1. 141566\n2. 12\n\n\n",
            "text/latex": "\\begin{enumerate*}\n\\item 141566\n\\item 12\n\\end{enumerate*}\n",
            "text/plain": [
              "[1] 141566     12"
            ]
          },
          "metadata": {}
        }
      ]
    },
    {
      "cell_type": "code",
      "source": [
        "## repitiendo el proceso manualmente 11 veces\n",
        "## AI_and_Machine_Learning\n",
        "AI_and_Machine_Learning_EN <- perfiles$AI_and_Machine_Learning$EN\n",
        "AI_and_Machine_Learning_MI <- perfiles$AI_and_Machine_Learning$MI\n",
        "AI_and_Machine_Learning_SE <- perfiles$AI_and_Machine_Learning$SE\n",
        "AI_and_Machine_Learning_EX <- perfiles$AI_and_Machine_Learning$EX\n",
        "\n",
        "AI_and_Machine_Learning_EN$experience_level <- \"EN\"\n",
        "AI_and_Machine_Learning_MI$experience_level <- \"MI\"\n",
        "AI_and_Machine_Learning_SE$experience_level <- \"SE\"\n",
        "AI_and_Machine_Learning_EX$experience_level <- \"EX\"\n",
        "\n",
        "AI_and_Machine_Learning <- rbind(AI_and_Machine_Learning_EN,\n",
        "                      AI_and_Machine_Learning_MI,\n",
        "                      AI_and_Machine_Learning_SE,\n",
        "                      AI_and_Machine_Learning_EX\n",
        "                  )\n",
        "\n",
        "AI_and_Machine_Learning$category <- \"AI_and_Machine_Learning\"\n",
        "## Analytics_and_BI (YA REALIZADO)\n",
        "Analytics_and_BI_EN <- perfiles$Analytics_and_BI$EN\n",
        "Analytics_and_BI_MI <- perfiles$Analytics_and_BI$MI\n",
        "Analytics_and_BI_SE <- perfiles$Analytics_and_BI$SE\n",
        "Analytics_and_BI_EX <- perfiles$Analytics_and_BI$EX\n",
        "\n",
        "Analytics_and_BI_EN$experience_level <- \"EN\"\n",
        "Analytics_and_BI_MI$experience_level <- \"MI\"\n",
        "Analytics_and_BI_SE$experience_level <- \"SE\"\n",
        "Analytics_and_BI_EX$experience_level <- \"EX\"\n",
        "\n",
        "Analytics_and_BI <- rbind(Analytics_and_BI_EN,\n",
        "                      Analytics_and_BI_MI,\n",
        "                      Analytics_and_BI_SE,\n",
        "                      Analytics_and_BI_EX\n",
        "                  )\n",
        "\n",
        "Analytics_and_BI$category <- \"Analytics_and_BI\"\n",
        "## Architecture\n",
        "Architecture_EN <- perfiles$Architecture$EN\n",
        "Architecture_MI <- perfiles$Architecture$MI\n",
        "Architecture_SE <- perfiles$Architecture$SE\n",
        "Architecture_EX <- perfiles$Architecture$EX\n",
        "\n",
        "Architecture_EN$experience_level <- \"EN\"\n",
        "Architecture_MI$experience_level <- \"MI\"\n",
        "Architecture_SE$experience_level <- \"SE\"\n",
        "Architecture_EX$experience_level <- \"EX\"\n",
        "\n",
        "Architecture <- rbind(Architecture_EN,\n",
        "                      Architecture_MI,\n",
        "                      Architecture_SE,\n",
        "                      Architecture_EX\n",
        "                  )\n",
        "\n",
        "Architecture$category <- \"Architecture\"\n",
        "## Data_Engineering\n",
        "Data_Engineering_EN <- perfiles$Data_Engineering$EN\n",
        "Data_Engineering_MI <- perfiles$Data_Engineering$MI\n",
        "Data_Engineering_SE <- perfiles$Data_Engineering$SE\n",
        "Data_Engineering_EX <- perfiles$Data_Engineering$EX\n",
        "\n",
        "Data_Engineering_EN$experience_level <- \"EN\"\n",
        "Data_Engineering_MI$experience_level <- \"MI\"\n",
        "Data_Engineering_SE$experience_level <- \"SE\"\n",
        "Data_Engineering_EX$experience_level <- \"EX\"\n",
        "\n",
        "Data_Engineering <- rbind(Data_Engineering_EN,\n",
        "                      Data_Engineering_MI,\n",
        "                      Data_Engineering_SE,\n",
        "                      Data_Engineering_EX\n",
        "                  )\n",
        "\n",
        "Data_Engineering$category <- \"Data_Engineering\"\n",
        "## Data_Governance_and_Quality\n",
        "Data_Governance_and_Quality_EN <- perfiles$Data_Governance_and_Quality$EN\n",
        "Data_Governance_and_Quality_MI <- perfiles$Data_Governance_and_Quality$MI\n",
        "Data_Governance_and_Quality_SE <- perfiles$Data_Governance_and_Quality$SE\n",
        "Data_Governance_and_Quality_EX <- perfiles$Data_Governance_and_Quality$EX\n",
        "\n",
        "Data_Governance_and_Quality_EN$experience_level <- \"EN\"\n",
        "Data_Governance_and_Quality_MI$experience_level <- \"MI\"\n",
        "Data_Governance_and_Quality_SE$experience_level <- \"SE\"\n",
        "Data_Governance_and_Quality_EX$experience_level <- \"EX\"\n",
        "\n",
        "Data_Governance_and_Quality <- rbind(Data_Governance_and_Quality_EN,\n",
        "                      Data_Governance_and_Quality_MI,\n",
        "                      Data_Governance_and_Quality_SE,\n",
        "                      Data_Governance_and_Quality_EX\n",
        "                  )\n",
        "\n",
        "Data_Governance_and_Quality$category <- \"Data_Governance_and_Quality\"\n",
        "## Data_Science\n",
        "Data_Science_EN <- perfiles$Data_Science$EN\n",
        "Data_Science_MI <- perfiles$Data_Science$MI\n",
        "Data_Science_SE <- perfiles$Data_Science$SE\n",
        "Data_Science_EX <- perfiles$Data_Science$EX\n",
        "\n",
        "Data_Science_EN$experience_level <- \"EN\"\n",
        "Data_Science_MI$experience_level <- \"MI\"\n",
        "Data_Science_SE$experience_level <- \"SE\"\n",
        "Data_Science_EX$experience_level <- \"EX\"\n",
        "\n",
        "Data_Science <- rbind(Data_Science_EN,\n",
        "                      Data_Science_MI,\n",
        "                      Data_Science_SE,\n",
        "                      Data_Science_EX\n",
        "                  )\n",
        "\n",
        "Data_Science$category <- \"Data_Science\"\n",
        "## Management_and_Leadership\n",
        "Management_and_Leadership_EN <- perfiles$Management_and_Leadership$EN\n",
        "Management_and_Leadership_MI <- perfiles$Management_and_Leadership$MI\n",
        "Management_and_Leadership_SE <- perfiles$Management_and_Leadership$SE\n",
        "Management_and_Leadership_EX <- perfiles$Management_and_Leadership$EX\n",
        "\n",
        "Management_and_Leadership_EN$experience_level <- \"EN\"\n",
        "Management_and_Leadership_MI$experience_level <- \"MI\"\n",
        "Management_and_Leadership_SE$experience_level <- \"SE\"\n",
        "Management_and_Leadership_EX$experience_level <- \"EX\"\n",
        "\n",
        "Management_and_Leadership <- rbind(Management_and_Leadership_EN,\n",
        "                      Management_and_Leadership_MI,\n",
        "                      Management_and_Leadership_SE,\n",
        "                      Management_and_Leadership_EX\n",
        "                  )\n",
        "\n",
        "Management_and_Leadership$category <- \"Management_and_Leadership\"\n",
        "## Others_Generalist\n",
        "Others_Generalist_EN <- perfiles$Others_Generalist$EN\n",
        "Others_Generalist_MI <- perfiles$Others_Generalist$MI\n",
        "Others_Generalist_SE <- perfiles$Others_Generalist$SE\n",
        "Others_Generalist_EX <- perfiles$Others_Generalist$EX\n",
        "\n",
        "Others_Generalist_EN$experience_level <- \"EN\"\n",
        "Others_Generalist_MI$experience_level <- \"MI\"\n",
        "Others_Generalist_SE$experience_level <- \"SE\"\n",
        "Others_Generalist_EX$experience_level <- \"EX\"\n",
        "\n",
        "Others_Generalist <- rbind(Others_Generalist_EN,\n",
        "                      Others_Generalist_MI,\n",
        "                      Others_Generalist_SE,\n",
        "                      Others_Generalist_EX\n",
        "                  )\n",
        "\n",
        "Others_Generalist$category <- \"Others_Generalist\"\n",
        "## Product_and_Strategy\n",
        "Product_and_Strategy_EN <- perfiles$Product_and_Strategy$EN\n",
        "Product_and_Strategy_MI <- perfiles$Product_and_Strategy$MI\n",
        "Product_and_Strategy_SE <- perfiles$Product_and_Strategy$SE\n",
        "Product_and_Strategy_EX <- perfiles$Product_and_Strategy$EX\n",
        "\n",
        "Product_and_Strategy_EN$experience_level <- \"EN\"\n",
        "Product_and_Strategy_MI$experience_level <- \"MI\"\n",
        "Product_and_Strategy_SE$experience_level <- \"SE\"\n",
        "Product_and_Strategy_EX$experience_level <- \"EX\"\n",
        "\n",
        "Product_and_Strategy <- rbind(Product_and_Strategy_EN,\n",
        "                      Product_and_Strategy_MI,\n",
        "                      Product_and_Strategy_SE,\n",
        "                      Product_and_Strategy_EX\n",
        "                  )\n",
        "\n",
        "Product_and_Strategy$category <- \"Product_and_Strategy\"\n",
        "## Research_and_Academia\n",
        "Research_and_Academia_EN <- perfiles$Research_and_Academia$EN\n",
        "Research_and_Academia_MI <- perfiles$Research_and_Academia$MI\n",
        "Research_and_Academia_SE <- perfiles$Research_and_Academia$SE\n",
        "Research_and_Academia_EX <- perfiles$Research_and_Academia$EX\n",
        "\n",
        "Research_and_Academia_EN$experience_level <- \"EN\"\n",
        "Research_and_Academia_MI$experience_level <- \"MI\"\n",
        "Research_and_Academia_SE$experience_level <- \"SE\"\n",
        "Research_and_Academia_EX$experience_level <- \"EX\"\n",
        "\n",
        "Research_and_Academia <- rbind(Research_and_Academia_EN,\n",
        "                      Research_and_Academia_MI,\n",
        "                      Research_and_Academia_SE,\n",
        "                      Research_and_Academia_EX\n",
        "                  )\n",
        "\n",
        "Research_and_Academia$category <- \"Research_and_Academia\"\n",
        "## Software_and_DevOps\n",
        "Software_and_DevOps_EN <- perfiles$Software_and_DevOps$EN\n",
        "Software_and_DevOps_MI <- perfiles$Software_and_DevOps$MI\n",
        "Software_and_DevOps_SE <- perfiles$Software_and_DevOps$SE\n",
        "Software_and_DevOps_EX <- perfiles$Software_and_DevOps$EX\n",
        "\n",
        "Software_and_DevOps_EN$experience_level <- \"EN\"\n",
        "Software_and_DevOps_MI$experience_level <- \"MI\"\n",
        "Software_and_DevOps_SE$experience_level <- \"SE\"\n",
        "Software_and_DevOps_EX$experience_level <- \"EX\"\n",
        "\n",
        "Software_and_DevOps <- rbind(Software_and_DevOps_EN,\n",
        "                      Software_and_DevOps_MI,\n",
        "                      Software_and_DevOps_SE,\n",
        "                      Software_and_DevOps_EX\n",
        "                  )\n",
        "\n",
        "Software_and_DevOps$category <- \"Software_and_DevOps\"\n",
        "\n",
        "# Union de todos los dfs\n",
        "perfiles_df2 <- rbind(AI_and_Machine_Learning,\n",
        "                      Analytics_and_BI,\n",
        "                      Architecture,\n",
        "                      Data_Engineering,\n",
        "                      Data_Governance_and_Quality,\n",
        "                      Data_Science,\n",
        "                      Management_and_Leadership,\n",
        "                      Others_Generalist,\n",
        "                      Product_and_Strategy,\n",
        "                      Research_and_Academia,\n",
        "                      Software_and_DevOps)"
      ],
      "metadata": {
        "id": "p9KAEziSAx3G"
      },
      "execution_count": null,
      "outputs": []
    },
    {
      "cell_type": "code",
      "source": [
        "head(perfiles_df)"
      ],
      "metadata": {
        "colab": {
          "base_uri": "https://localhost:8080/",
          "height": 480
        },
        "id": "v_UaGABve7vW",
        "outputId": "f3e2b175-2027-4e2c-c8fa-85f75067deeb"
      },
      "execution_count": null,
      "outputs": [
        {
          "output_type": "display_data",
          "data": {
            "text/html": [
              "<table class=\"dataframe\">\n",
              "<caption>A data.frame: 6 × 12</caption>\n",
              "<thead>\n",
              "\t<tr><th></th><th scope=col>work_year</th><th scope=col>employment_type</th><th scope=col>job_title</th><th scope=col>salary</th><th scope=col>salary_currency</th><th scope=col>salary_in_usd</th><th scope=col>employee_residence</th><th scope=col>remote_ratio</th><th scope=col>company_location</th><th scope=col>company_size</th><th scope=col>experience_level</th><th scope=col>category</th></tr>\n",
              "\t<tr><th></th><th scope=col>&lt;int&gt;</th><th scope=col>&lt;chr&gt;</th><th scope=col>&lt;chr&gt;</th><th scope=col>&lt;int&gt;</th><th scope=col>&lt;chr&gt;</th><th scope=col>&lt;int&gt;</th><th scope=col>&lt;chr&gt;</th><th scope=col>&lt;int&gt;</th><th scope=col>&lt;chr&gt;</th><th scope=col>&lt;chr&gt;</th><th scope=col>&lt;chr&gt;</th><th scope=col>&lt;chr&gt;</th></tr>\n",
              "</thead>\n",
              "<tbody>\n",
              "\t<tr><th scope=row>553</th><td>2025</td><td>FT</td><td>Machine Learning Engineer</td><td>110000</td><td>USD</td><td>110000</td><td>US</td><td>100</td><td>US</td><td>M</td><td>EN</td><td>AI_and_Machine_Learning</td></tr>\n",
              "\t<tr><th scope=row>554</th><td>2025</td><td>FT</td><td>Machine Learning Engineer</td><td> 95000</td><td>USD</td><td> 95000</td><td>US</td><td>100</td><td>US</td><td>M</td><td>EN</td><td>AI_and_Machine_Learning</td></tr>\n",
              "\t<tr><th scope=row>1347</th><td>2025</td><td>FT</td><td>Machine Learning Engineer</td><td>131400</td><td>USD</td><td>131400</td><td>CA</td><td>  0</td><td>CA</td><td>M</td><td>EN</td><td>AI_and_Machine_Learning</td></tr>\n",
              "\t<tr><th scope=row>1348</th><td>2025</td><td>FT</td><td>Machine Learning Engineer</td><td> 67100</td><td>USD</td><td> 67100</td><td>CA</td><td>  0</td><td>CA</td><td>M</td><td>EN</td><td>AI_and_Machine_Learning</td></tr>\n",
              "\t<tr><th scope=row>1982</th><td>2025</td><td>FT</td><td>AI Researcher            </td><td>200000</td><td>USD</td><td>200000</td><td>US</td><td>  0</td><td>US</td><td>M</td><td>EN</td><td>AI_and_Machine_Learning</td></tr>\n",
              "\t<tr><th scope=row>1983</th><td>2025</td><td>FT</td><td>AI Researcher            </td><td>175000</td><td>USD</td><td>175000</td><td>US</td><td>  0</td><td>US</td><td>M</td><td>EN</td><td>AI_and_Machine_Learning</td></tr>\n",
              "</tbody>\n",
              "</table>\n"
            ],
            "text/markdown": "\nA data.frame: 6 × 12\n\n| <!--/--> | work_year &lt;int&gt; | employment_type &lt;chr&gt; | job_title &lt;chr&gt; | salary &lt;int&gt; | salary_currency &lt;chr&gt; | salary_in_usd &lt;int&gt; | employee_residence &lt;chr&gt; | remote_ratio &lt;int&gt; | company_location &lt;chr&gt; | company_size &lt;chr&gt; | experience_level &lt;chr&gt; | category &lt;chr&gt; |\n|---|---|---|---|---|---|---|---|---|---|---|---|---|\n| 553 | 2025 | FT | Machine Learning Engineer | 110000 | USD | 110000 | US | 100 | US | M | EN | AI_and_Machine_Learning |\n| 554 | 2025 | FT | Machine Learning Engineer |  95000 | USD |  95000 | US | 100 | US | M | EN | AI_and_Machine_Learning |\n| 1347 | 2025 | FT | Machine Learning Engineer | 131400 | USD | 131400 | CA |   0 | CA | M | EN | AI_and_Machine_Learning |\n| 1348 | 2025 | FT | Machine Learning Engineer |  67100 | USD |  67100 | CA |   0 | CA | M | EN | AI_and_Machine_Learning |\n| 1982 | 2025 | FT | AI Researcher             | 200000 | USD | 200000 | US |   0 | US | M | EN | AI_and_Machine_Learning |\n| 1983 | 2025 | FT | AI Researcher             | 175000 | USD | 175000 | US |   0 | US | M | EN | AI_and_Machine_Learning |\n\n",
            "text/latex": "A data.frame: 6 × 12\n\\begin{tabular}{r|llllllllllll}\n  & work\\_year & employment\\_type & job\\_title & salary & salary\\_currency & salary\\_in\\_usd & employee\\_residence & remote\\_ratio & company\\_location & company\\_size & experience\\_level & category\\\\\n  & <int> & <chr> & <chr> & <int> & <chr> & <int> & <chr> & <int> & <chr> & <chr> & <chr> & <chr>\\\\\n\\hline\n\t553 & 2025 & FT & Machine Learning Engineer & 110000 & USD & 110000 & US & 100 & US & M & EN & AI\\_and\\_Machine\\_Learning\\\\\n\t554 & 2025 & FT & Machine Learning Engineer &  95000 & USD &  95000 & US & 100 & US & M & EN & AI\\_and\\_Machine\\_Learning\\\\\n\t1347 & 2025 & FT & Machine Learning Engineer & 131400 & USD & 131400 & CA &   0 & CA & M & EN & AI\\_and\\_Machine\\_Learning\\\\\n\t1348 & 2025 & FT & Machine Learning Engineer &  67100 & USD &  67100 & CA &   0 & CA & M & EN & AI\\_and\\_Machine\\_Learning\\\\\n\t1982 & 2025 & FT & AI Researcher             & 200000 & USD & 200000 & US &   0 & US & M & EN & AI\\_and\\_Machine\\_Learning\\\\\n\t1983 & 2025 & FT & AI Researcher             & 175000 & USD & 175000 & US &   0 & US & M & EN & AI\\_and\\_Machine\\_Learning\\\\\n\\end{tabular}\n",
            "text/plain": [
              "     work_year employment_type job_title                 salary salary_currency\n",
              "553  2025      FT              Machine Learning Engineer 110000 USD            \n",
              "554  2025      FT              Machine Learning Engineer  95000 USD            \n",
              "1347 2025      FT              Machine Learning Engineer 131400 USD            \n",
              "1348 2025      FT              Machine Learning Engineer  67100 USD            \n",
              "1982 2025      FT              AI Researcher             200000 USD            \n",
              "1983 2025      FT              AI Researcher             175000 USD            \n",
              "     salary_in_usd employee_residence remote_ratio company_location\n",
              "553  110000        US                 100          US              \n",
              "554   95000        US                 100          US              \n",
              "1347 131400        CA                   0          CA              \n",
              "1348  67100        CA                   0          CA              \n",
              "1982 200000        US                   0          US              \n",
              "1983 175000        US                   0          US              \n",
              "     company_size experience_level category               \n",
              "553  M            EN               AI_and_Machine_Learning\n",
              "554  M            EN               AI_and_Machine_Learning\n",
              "1347 M            EN               AI_and_Machine_Learning\n",
              "1348 M            EN               AI_and_Machine_Learning\n",
              "1982 M            EN               AI_and_Machine_Learning\n",
              "1983 M            EN               AI_and_Machine_Learning"
            ]
          },
          "metadata": {}
        }
      ]
    },
    {
      "cell_type": "markdown",
      "source": [
        "##  Pregunta 2.2\n",
        "\n",
        "**2a) (6pts)** A usted se le pide caracterizar los puestos de trabajo de las categorías más demandadas. Para ello usted deberá generar algunos indicadores básicos sobre los puestos de trabajo de las siguientes categorías, **sólo considerando los registros con carfos 100% remoto**:\n",
        " * Others_Generalist\n",
        " * Data_Science\n",
        " * Software_and_DevOps\n",
        " * Data_Engineering\n",
        " * Analytics_and_BI\n",
        " * AI_and_Machine_Learning\n",
        "\n",
        " Para cada una de las categorías anteriores (**sólo considerando los registros con cargos 100% remoto**) indique:\n",
        "  1. Cantidad de puestos de trabajo (`job_title`) registrados.\n",
        "  2. Salario promedio (`salary_usd`).\n",
        "  3. Puesto de trabajo (`job_title`), del perfil con mayor salario.\n",
        "  4. Cantidad de perfiles registrados con `job_title` igual al identificado anteriormente.\n",
        "  5. Puesto de trabajo (`job_title`),del perfil con menor salario.\n",
        "  6. Cantidad de perfiles registrados con `job_title` igual al identificado anteriormente.\n",
        "\n"
      ],
      "metadata": {
        "id": "W_PnqiTSY_0h"
      }
    },
    {
      "cell_type": "code",
      "source": [
        "# 2.a) ------------------------------------------\n",
        "# Opción A: Sintaxis básica (en la respuesta de 2.b se muestra una alternativa más eficiente que se abordará en las siguientes clases)"
      ],
      "metadata": {
        "id": "gDTBwLZkdCM4"
      },
      "execution_count": null,
      "outputs": []
    },
    {
      "cell_type": "code",
      "source": [
        "#Cantidad de cargos 100% remotos por categoría\n",
        "\n",
        "N_OG <- nrow(perfiles_df[perfiles_df$remote_ratio == 100 & perfiles_df$category == \"Others_Generalist\", ])\n",
        "N_DS <- nrow(perfiles_df[perfiles_df$remote_ratio == 100 & perfiles_df$category == \"Data_Science\", ])\n",
        "N_SD <- nrow(perfiles_df[perfiles_df$remote_ratio == 100 & perfiles_df$category == \"Software_and_DevOps\", ])\n",
        "N_DE <- nrow(perfiles_df[perfiles_df$remote_ratio == 100 & perfiles_df$category == \"Data_Engineering\", ])\n",
        "N_BI <- nrow(perfiles_df[perfiles_df$remote_ratio == 100 & perfiles_df$category == \"Analytics_and_BI\", ])\n",
        "N_AI <- nrow(perfiles_df[perfiles_df$remote_ratio == 100 & perfiles_df$category == \"AI_and_Machine_Learning\", ])\n",
        "\n",
        "print(paste(\"Others_Generalist: \", N_OG))\n",
        "print(paste(\"Data_Science: \", N_DS))\n",
        "print(paste(\"Software_and_DevOps: \", N_SD))\n",
        "print(paste(\"Data_Engineering: \", N_DE))\n",
        "print(paste(\"Analytics_and_BI: \", N_BI))\n",
        "print(paste(\"AI_and_Machine_Learning: \", N_AI))"
      ],
      "metadata": {
        "colab": {
          "base_uri": "https://localhost:8080/"
        },
        "id": "n9wn84e2AIpG",
        "outputId": "c497e379-39cd-4b9d-b937-456cf3487404"
      },
      "execution_count": null,
      "outputs": [
        {
          "output_type": "stream",
          "name": "stdout",
          "text": [
            "[1] \"Others_Generalist:  4206\"\n",
            "[1] \"Data_Science:  4816\"\n",
            "[1] \"Software_and_DevOps:  3396\"\n",
            "[1] \"Data_Engineering:  4559\"\n",
            "[1] \"Analytics_and_BI:  4522\"\n",
            "[1] \"AI_and_Machine_Learning:  3280\"\n"
          ]
        }
      ]
    },
    {
      "cell_type": "code",
      "source": [
        "# Salario promedio\n",
        "\n",
        "mean_OG <-  mean(perfiles_df[perfiles_df$remote_ratio == 100 & perfiles_df$category == \"Others_Generalist\"       , \"salary_in_usd\" ])\n",
        "mean_DS <-  mean(perfiles_df[perfiles_df$remote_ratio == 100 & perfiles_df$category == \"Data_Science\"            , \"salary_in_usd\" ])\n",
        "mean_SD <-  mean(perfiles_df[perfiles_df$remote_ratio == 100 & perfiles_df$category == \"Software_and_DevOps\"     , \"salary_in_usd\" ])\n",
        "mean_DE <-  mean(perfiles_df[perfiles_df$remote_ratio == 100 & perfiles_df$category == \"Data_Engineering\"        , \"salary_in_usd\" ])\n",
        "mean_BI <-  mean(perfiles_df[perfiles_df$remote_ratio == 100 & perfiles_df$category == \"Analytics_and_BI\"        , \"salary_in_usd\" ])\n",
        "mean_AI <-  mean(perfiles_df[perfiles_df$remote_ratio == 100 & perfiles_df$category == \"AI_and_Machine_Learning\" , \"salary_in_usd\" ])\n",
        "\n",
        "print(paste(\"Others_Generalist: Salario promedio: \"        ,  mean_OG ))\n",
        "print(paste(\"Data_Science: Salario promedio: \"             ,  mean_DS ))\n",
        "print(paste(\"Software_and_DevOps: Salario promedio: \"      ,  mean_SD ))\n",
        "print(paste(\"Data_Engineering: Salario promedio: \"         ,  mean_DE ))\n",
        "print(paste(\"Analytics_and_BI: Salario promedio: \"         ,  mean_BI ))\n",
        "print(paste(\"AI_and_Machine_Learning: Salario promedio: \"  ,  mean_AI ))"
      ],
      "metadata": {
        "colab": {
          "base_uri": "https://localhost:8080/"
        },
        "id": "Rk1ifcLi4dKe",
        "outputId": "f4946b22-ab54-4e09-940d-2b3d61cc66b5"
      },
      "execution_count": null,
      "outputs": [
        {
          "output_type": "stream",
          "name": "stdout",
          "text": [
            "[1] \"Others_Generalist: Salario promedio:  141611.604850214\"\n",
            "[1] \"Data_Science: Salario promedio:  155146.377491694\"\n",
            "[1] \"Software_and_DevOps: Salario promedio:  173729.694051826\"\n",
            "[1] \"Data_Engineering: Salario promedio:  149627.485194122\"\n",
            "[1] \"Analytics_and_BI: Salario promedio:  110745.121848739\"\n",
            "[1] \"AI_and_Machine_Learning: Salario promedio:  174835.168902439\"\n"
          ]
        }
      ]
    },
    {
      "cell_type": "code",
      "source": [
        "# job_title con salario máximo y mínimo por categoría\n",
        "##  vector con T y F que guarda la condición de búsqueda\n",
        "condicion_OG <- perfiles_df$remote_ratio == 100 & perfiles_df$category == \"Others_Generalist\"\n",
        "condicion_DS <- perfiles_df$remote_ratio == 100 & perfiles_df$category == \"Data_Science\"\n",
        "condicion_SD <- perfiles_df$remote_ratio == 100 & perfiles_df$category == \"Software_and_DevOps\"\n",
        "condicion_DE <- perfiles_df$remote_ratio == 100 & perfiles_df$category == \"Data_Engineering\"\n",
        "condicion_BI <- perfiles_df$remote_ratio == 100 & perfiles_df$category == \"Analytics_and_BI\"\n",
        "condicion_AI <- perfiles_df$remote_ratio == 100 & perfiles_df$category == \"AI_and_Machine_Learning\"\n",
        "\n",
        "\n",
        "# job_title (jt) con salario máximo\n",
        "jt_max_OG <-  perfiles_df$job_title[condicion_OG][ which.max(perfiles_df[condicion_OG , \"salary_in_usd\" ])]\n",
        "jt_max_DS <-  perfiles_df$job_title[condicion_DS][ which.max(perfiles_df[condicion_DS , \"salary_in_usd\" ])]\n",
        "jt_max_SD <-  perfiles_df$job_title[condicion_SD][ which.max(perfiles_df[condicion_SD , \"salary_in_usd\" ])]\n",
        "jt_max_DE <-  perfiles_df$job_title[condicion_DE][ which.max(perfiles_df[condicion_DE , \"salary_in_usd\" ])]\n",
        "jt_max_BI <-  perfiles_df$job_title[condicion_BI][ which.max(perfiles_df[condicion_BI , \"salary_in_usd\" ])]\n",
        "jt_max_AI <-  perfiles_df$job_title[condicion_AI][ which.max(perfiles_df[condicion_AI , \"salary_in_usd\" ])]\n",
        "\n",
        "# job_title (jt) con salario mínimo\n",
        "jt_min_OG <-  perfiles_df$job_title[condicion_OG][which.min(perfiles_df[condicion_OG , \"salary_in_usd\" ])]\n",
        "jt_min_DS <-  perfiles_df$job_title[condicion_DS][which.min(perfiles_df[condicion_DS , \"salary_in_usd\" ])]\n",
        "jt_min_SD <-  perfiles_df$job_title[condicion_SD][which.min(perfiles_df[condicion_SD , \"salary_in_usd\" ])]\n",
        "jt_min_DE <-  perfiles_df$job_title[condicion_DE][which.min(perfiles_df[condicion_DE , \"salary_in_usd\" ])]\n",
        "jt_min_BI <-  perfiles_df$job_title[condicion_BI][which.min(perfiles_df[condicion_BI , \"salary_in_usd\" ])]\n",
        "jt_min_AI <-  perfiles_df$job_title[condicion_AI][which.min(perfiles_df[condicion_AI , \"salary_in_usd\" ])]\n",
        "\n",
        "\n",
        "print(paste(\"Others_Generalist:  Cargo salario máximo: \"            ,  jt_max_OG, \". Cargo con salario mínimo: \", jt_min_OG ))\n",
        "print(paste(\"Data_Science:  Cargo con salario máximo: \"             ,  jt_max_DS, \". Cargo con salario mínimo: \", jt_min_DS ))\n",
        "print(paste(\"Software_and_DevOps:  Cargo con salario máximo: \"      ,  jt_max_SD, \". Cargo con salario mínimo: \", jt_min_SD ))\n",
        "print(paste(\"Data_Engineering:  Cargo con salario máximo: \"         ,  jt_max_DE, \". Cargo con salario mínimo: \", jt_min_DE ))\n",
        "print(paste(\"Analytics_and_BI:  Cargo con salario máximo: \"         ,  jt_max_BI, \". Cargo con salario mínimo: \", jt_min_BI ))\n",
        "print(paste(\"AI_and_Machine_Learning:  Cargo con salario máximo: \"  ,  jt_max_AI, \". Cargo con salario mínimo: \", jt_min_AI ))\n",
        "\n"
      ],
      "metadata": {
        "colab": {
          "base_uri": "https://localhost:8080/"
        },
        "id": "qauHbUsTATNx",
        "outputId": "98c33f5f-f6a1-443d-ae6c-77981f943728"
      },
      "execution_count": null,
      "outputs": [
        {
          "output_type": "stream",
          "name": "stdout",
          "text": [
            "[1] \"Others_Generalist:  Cargo salario máximo:  Site Reliability Engineer . Cargo con salario mínimo:  Computer Vision Engineer\"\n",
            "[1] \"Data_Science:  Cargo con salario máximo:  Data Scientist . Cargo con salario mínimo:  Data Scientist\"\n",
            "[1] \"Software_and_DevOps:  Cargo con salario máximo:  Software Engineer . Cargo con salario mínimo:  Software Engineer\"\n",
            "[1] \"Data_Engineering:  Cargo con salario máximo:  Analytics Engineer . Cargo con salario mínimo:  Analytics Engineer\"\n",
            "[1] \"Analytics_and_BI:  Cargo con salario máximo:  Data Visualization Engineer . Cargo con salario mínimo:  Business Intelligence Developer\"\n",
            "[1] \"AI_and_Machine_Learning:  Cargo con salario máximo:  AI Architect . Cargo con salario mínimo:  Machine Learning Developer\"\n"
          ]
        }
      ]
    },
    {
      "cell_type": "code",
      "source": [
        "#Totales de registros con los cargos anteiores\n",
        "\n",
        "n_jt_max_OG <- nrow(perfiles_df[condicion_OG & perfiles_df$job_title == jt_max_OG, ])\n",
        "n_jt_max_DS <- nrow(perfiles_df[condicion_DS & perfiles_df$job_title == jt_max_DS, ])\n",
        "n_jt_max_SD <- nrow(perfiles_df[condicion_SD & perfiles_df$job_title == jt_max_SD, ])\n",
        "n_jt_max_DE <- nrow(perfiles_df[condicion_DE & perfiles_df$job_title == jt_max_DE, ])\n",
        "n_jt_max_BI <- nrow(perfiles_df[condicion_BI & perfiles_df$job_title == jt_max_BI, ])\n",
        "n_jt_max_AI <- nrow(perfiles_df[condicion_AI & perfiles_df$job_title == jt_max_AI, ])\n",
        "\n",
        "n_jt_min_OG <- nrow(perfiles_df[condicion_OG & perfiles_df$job_title == jt_min_OG, ])\n",
        "n_jt_min_DS <- nrow(perfiles_df[condicion_DS & perfiles_df$job_title == jt_min_DS, ])\n",
        "n_jt_min_SD <- nrow(perfiles_df[condicion_SD & perfiles_df$job_title == jt_min_SD, ])\n",
        "n_jt_min_DE <- nrow(perfiles_df[condicion_DE & perfiles_df$job_title == jt_min_DE, ])\n",
        "n_jt_min_BI <- nrow(perfiles_df[condicion_BI & perfiles_df$job_title == jt_min_BI, ])\n",
        "n_jt_min_AI <- nrow(perfiles_df[condicion_AI & perfiles_df$job_title == jt_min_AI, ])\n",
        "\n",
        "\n",
        "print(paste(\"Others_Generalist: N Cargos (cargo del salario máximo): \"        ,  n_jt_max_OG, \". N Cargos (cargo del salario mínimo): \", n_jt_min_OG ))\n",
        "print(paste(\"Data_Science: N Cargos (cargo del salario máximo): \"             ,  n_jt_max_DS, \". N Cargos (cargo del salario mínimo): \", n_jt_min_DS ))\n",
        "print(paste(\"Software_and_DevOps: N Cargos (cargo del salario máximo): \"      ,  n_jt_max_SD, \". N Cargos (cargo del salario mínimo): \", n_jt_min_SD ))\n",
        "print(paste(\"Data_Engineering: N Cargos (cargo del salario máximo): \"         ,  n_jt_max_DE, \". N Cargos (cargo del salario mínimo): \", n_jt_min_DE ))\n",
        "print(paste(\"Analytics_and_BI: N Cargos (cargo del salario máximo): \"         ,  n_jt_max_BI, \". N Cargos (cargo del salario mínimo): \", n_jt_min_BI ))\n",
        "print(paste(\"AI_and_Machine_Learning: N Cargos (cargo del salario máximo): \"  ,  n_jt_max_AI, \". N Cargos (cargo del salario mínimo): \", n_jt_min_AI ))"
      ],
      "metadata": {
        "colab": {
          "base_uri": "https://localhost:8080/"
        },
        "id": "ME6o-MsNAmam",
        "outputId": "34646b17-2547-42f9-fd59-ee71eaf65bf4"
      },
      "execution_count": null,
      "outputs": [
        {
          "output_type": "stream",
          "name": "stdout",
          "text": [
            "[1] \"Others_Generalist: N Cargos (cargo del salario máximo):  100 . N Cargos (cargo del salario mínimo):  30\"\n",
            "[1] \"Data_Science: N Cargos (cargo del salario máximo):  4264 . N Cargos (cargo del salario mínimo):  4264\"\n",
            "[1] \"Software_and_DevOps: N Cargos (cargo del salario máximo):  2614 . N Cargos (cargo del salario mínimo):  2614\"\n",
            "[1] \"Data_Engineering: N Cargos (cargo del salario máximo):  691 . N Cargos (cargo del salario mínimo):  691\"\n",
            "[1] \"Analytics_and_BI: N Cargos (cargo del salario máximo):  28 . N Cargos (cargo del salario mínimo):  125\"\n",
            "[1] \"AI_and_Machine_Learning: N Cargos (cargo del salario máximo):  59 . N Cargos (cargo del salario mínimo):  15\"\n"
          ]
        }
      ]
    },
    {
      "cell_type": "markdown",
      "source": [
        "\n",
        "**2b) (4pts)** Genere un dataframe con la siguiente estructura y guárdelo en un archivo csv.\n",
        "\n",
        "| Categoria | N_job_title |Salario_promedio_categoria | Cargo_salario_maximo | N_Cargo_salario_maximo| Cargo_salario_minimo | N_Cargo_salario_minimo |\n",
        "|-----------|----------------------------|----------------------|-----------------------|----------------------|------------------------|------------------------|\n",
        "|Others_Generalist       | xxx | xxx | xxx | xxx | xxx | xxx |         \n",
        "|Data_Science            | xxx | xxx | xxx | xxx | xxx | xxx |   \n",
        "|Software_and_DevOps     | xxx | xxx | xxx | xxx | xxx | xxx |           \n",
        "|Data_Engineering        | xxx | xxx | xxx | xxx | xxx | xxx |       \n",
        "|Analytics_and_BI        | xxx | xxx | xxx | xxx | xxx | xxx |       \n",
        "|AI_and_Machine_Learning | xxx | xxx | xxx | xxx | xxx | xxx |      \n",
        "\n",
        "Donde:\n",
        "* `N_job_title`               : Contiene la cantidad de puestos de trabajo calculado anteriormente en el punto 1.\n",
        "* `Salario_promedio_categoria`: Salario promedio calculado anteriormente en el punto 2.\n",
        "* `Cargo_salario_maximo`      : Contiene el puesto de trabajo del perfil con salario máximo calculado anteriormente en el punto 3.\n",
        "* `N_Cargo_salario_maximo`    : Contiene la cantidad de registros con `job_title` identificado anteriormente en el punto 4.\n",
        "* `Cargo_salario_minimo`      : Contiene el puesto de trabajo del perfil con salario mìnimo calculado anteriormente en el punto 5.  \n",
        "* `N_Cargo_salario_minimo`    : Contiene la cantidad de registros con `job_title` identificado anteriormente en el punto 6.  \n",
        "\n",
        "Considerando la información generada (considerando solo los cargos 100% remotos) :\n",
        " * ¿Cuál es la categoría con mayor cantidad de puestos de trabajo registrados?\n",
        " * ¿Cuál es la categoría con mayor salario promedio?\n",
        " * Comente sobre los resultados calculados para la categoría \"Software_and_DevOps\"\n"
      ],
      "metadata": {
        "id": "tOsXnhVlaoWJ"
      }
    },
    {
      "cell_type": "code",
      "source": [
        "# 2.b)-------\n",
        "# Creación del dataframe\n",
        "# opción A. Guardando todos los valores definidos anteriormentes en vectores y disponiéndolos en un dataframe\n",
        "# Notar que el orden en el cual se asignas lo elementos de los vectores es crucual.\n",
        "\n",
        "Categoria <- c(\"Others_Generalist\",\"Data_Science\",\"Software_and_DevOps\",\"Data_Engineering\",\"Analytics_and_BI\",\"AI_and_Machine_Learning\")\n",
        "N_job_title <- c(N_OG,N_DS,N_SD,N_DE,N_BI,N_AI)\n",
        "Salario_promedio_categoria <- c(mean_OG,mean_DS,mean_SD,mean_DE,mean_BI,mean_AI)\n",
        "Cargo_salario_maximo <- c(jt_max_OG,jt_max_DS,jt_max_SD,jt_max_DE,jt_max_BI,jt_max_AI)\n",
        "N_Cargo_salario_maximo <- c(n_jt_max_OG,n_jt_max_DS,n_jt_max_SD,n_jt_max_DE,n_jt_max_BI,n_jt_max_AI)\n",
        "Cargo_salario_minimo <- c(jt_min_OG,jt_min_DS,jt_min_SD,jt_min_DE,jt_min_BI,jt_min_AI)\n",
        "N_Cargo_salario_minimo <- c(n_jt_min_OG,n_jt_min_DS,n_jt_min_SD,n_jt_min_DE,n_jt_min_BI,n_jt_min_AI)\n",
        "\n",
        "resumen <- data.frame(\n",
        "  Categoria,\n",
        "  N_job_title,\n",
        "  Salario_promedio_categoria,\n",
        "  Cargo_salario_maximo,\n",
        "  N_Cargo_salario_maximo,\n",
        "  Cargo_salario_minimo,\n",
        "  N_Cargo_salario_minimo\n",
        ")\n",
        "\n",
        "resumen"
      ],
      "metadata": {
        "colab": {
          "base_uri": "https://localhost:8080/",
          "height": 341
        },
        "id": "G4lLxM62aw4j",
        "outputId": "935e82bd-b554-40c6-b09c-c47073d9a300"
      },
      "execution_count": null,
      "outputs": [
        {
          "output_type": "display_data",
          "data": {
            "text/html": [
              "<table class=\"dataframe\">\n",
              "<caption>A data.frame: 6 × 7</caption>\n",
              "<thead>\n",
              "\t<tr><th scope=col>Categoria</th><th scope=col>N_job_title</th><th scope=col>Salario_promedio_categoria</th><th scope=col>Cargo_salario_maximo</th><th scope=col>N_Cargo_salario_maximo</th><th scope=col>Cargo_salario_minimo</th><th scope=col>N_Cargo_salario_minimo</th></tr>\n",
              "\t<tr><th scope=col>&lt;chr&gt;</th><th scope=col>&lt;int&gt;</th><th scope=col>&lt;dbl&gt;</th><th scope=col>&lt;chr&gt;</th><th scope=col>&lt;int&gt;</th><th scope=col>&lt;chr&gt;</th><th scope=col>&lt;int&gt;</th></tr>\n",
              "</thead>\n",
              "<tbody>\n",
              "\t<tr><td>Others_Generalist      </td><td>4206</td><td>141611.6</td><td>Site Reliability Engineer  </td><td> 100</td><td>Computer Vision Engineer       </td><td>  30</td></tr>\n",
              "\t<tr><td>Data_Science           </td><td>4816</td><td>155146.4</td><td>Data Scientist             </td><td>4264</td><td>Data Scientist                 </td><td>4264</td></tr>\n",
              "\t<tr><td>Software_and_DevOps    </td><td>3396</td><td>173729.7</td><td>Software Engineer          </td><td>2614</td><td>Software Engineer              </td><td>2614</td></tr>\n",
              "\t<tr><td>Data_Engineering       </td><td>4559</td><td>149627.5</td><td>Analytics Engineer         </td><td> 691</td><td>Analytics Engineer             </td><td> 691</td></tr>\n",
              "\t<tr><td>Analytics_and_BI       </td><td>4522</td><td>110745.1</td><td>Data Visualization Engineer</td><td>  28</td><td>Business Intelligence Developer</td><td> 125</td></tr>\n",
              "\t<tr><td>AI_and_Machine_Learning</td><td>3280</td><td>174835.2</td><td>AI Architect               </td><td>  59</td><td>Machine Learning Developer     </td><td>  15</td></tr>\n",
              "</tbody>\n",
              "</table>\n"
            ],
            "text/markdown": "\nA data.frame: 6 × 7\n\n| Categoria &lt;chr&gt; | N_job_title &lt;int&gt; | Salario_promedio_categoria &lt;dbl&gt; | Cargo_salario_maximo &lt;chr&gt; | N_Cargo_salario_maximo &lt;int&gt; | Cargo_salario_minimo &lt;chr&gt; | N_Cargo_salario_minimo &lt;int&gt; |\n|---|---|---|---|---|---|---|\n| Others_Generalist       | 4206 | 141611.6 | Site Reliability Engineer   |  100 | Computer Vision Engineer        |   30 |\n| Data_Science            | 4816 | 155146.4 | Data Scientist              | 4264 | Data Scientist                  | 4264 |\n| Software_and_DevOps     | 3396 | 173729.7 | Software Engineer           | 2614 | Software Engineer               | 2614 |\n| Data_Engineering        | 4559 | 149627.5 | Analytics Engineer          |  691 | Analytics Engineer              |  691 |\n| Analytics_and_BI        | 4522 | 110745.1 | Data Visualization Engineer |   28 | Business Intelligence Developer |  125 |\n| AI_and_Machine_Learning | 3280 | 174835.2 | AI Architect                |   59 | Machine Learning Developer      |   15 |\n\n",
            "text/latex": "A data.frame: 6 × 7\n\\begin{tabular}{lllllll}\n Categoria & N\\_job\\_title & Salario\\_promedio\\_categoria & Cargo\\_salario\\_maximo & N\\_Cargo\\_salario\\_maximo & Cargo\\_salario\\_minimo & N\\_Cargo\\_salario\\_minimo\\\\\n <chr> & <int> & <dbl> & <chr> & <int> & <chr> & <int>\\\\\n\\hline\n\t Others\\_Generalist       & 4206 & 141611.6 & Site Reliability Engineer   &  100 & Computer Vision Engineer        &   30\\\\\n\t Data\\_Science            & 4816 & 155146.4 & Data Scientist              & 4264 & Data Scientist                  & 4264\\\\\n\t Software\\_and\\_DevOps     & 3396 & 173729.7 & Software Engineer           & 2614 & Software Engineer               & 2614\\\\\n\t Data\\_Engineering        & 4559 & 149627.5 & Analytics Engineer          &  691 & Analytics Engineer              &  691\\\\\n\t Analytics\\_and\\_BI        & 4522 & 110745.1 & Data Visualization Engineer &   28 & Business Intelligence Developer &  125\\\\\n\t AI\\_and\\_Machine\\_Learning & 3280 & 174835.2 & AI Architect                &   59 & Machine Learning Developer      &   15\\\\\n\\end{tabular}\n",
            "text/plain": [
              "  Categoria               N_job_title Salario_promedio_categoria\n",
              "1 Others_Generalist       4206        141611.6                  \n",
              "2 Data_Science            4816        155146.4                  \n",
              "3 Software_and_DevOps     3396        173729.7                  \n",
              "4 Data_Engineering        4559        149627.5                  \n",
              "5 Analytics_and_BI        4522        110745.1                  \n",
              "6 AI_and_Machine_Learning 3280        174835.2                  \n",
              "  Cargo_salario_maximo        N_Cargo_salario_maximo\n",
              "1 Site Reliability Engineer    100                  \n",
              "2 Data Scientist              4264                  \n",
              "3 Software Engineer           2614                  \n",
              "4 Analytics Engineer           691                  \n",
              "5 Data Visualization Engineer   28                  \n",
              "6 AI Architect                  59                  \n",
              "  Cargo_salario_minimo            N_Cargo_salario_minimo\n",
              "1 Computer Vision Engineer          30                  \n",
              "2 Data Scientist                  4264                  \n",
              "3 Software Engineer               2614                  \n",
              "4 Analytics Engineer               691                  \n",
              "5 Business Intelligence Developer  125                  \n",
              "6 Machine Learning Developer        15                  "
            ]
          },
          "metadata": {}
        }
      ]
    },
    {
      "cell_type": "code",
      "source": [
        "# Opción B: Sintaxis con dplyr (lo veremos más adelante durante el curso). Con esto se evita tener que calcular cada métrica por cada categoría (alternativa más eficiente a la respuesta dada en 2.a)\n",
        "library(dplyr)\n",
        "cats <- c(\"Others_Generalist\",\"Data_Science\",\"Software_and_DevOps\",\"Data_Engineering\",\"Analytics_and_BI\",\"AI_and_Machine_Learning\")\n",
        "resumen <- perfiles_df %>%\n",
        "  filter(remote_ratio == 100 & category %in% cats) %>%\n",
        "  group_by(category, job_title) %>%\n",
        "  summarise(count = n(),\n",
        "            max_salary = max(salary_in_usd),\n",
        "            min_salary = min(salary_in_usd),\n",
        "            aux_sum_salary = sum(salary_in_usd)) %>%\n",
        "  group_by(category) %>%\n",
        "  summarise(\n",
        "    N_job_title = sum(count),\n",
        "    Salario_promedio_categoria = sum(aux_sum_salary)/sum(count),\n",
        "    job_title_salario_maximo   = job_title[which.max(max_salary)],\n",
        "    N_Cargo_salario_maximo     = count[which.max(max_salary)],\n",
        "    job_title_salario_minimo   = job_title[which.min(min_salary)],\n",
        "    N_Cargo_salario_minimo     = count[which.min(min_salary)]\n",
        "  )\n",
        "\n",
        "  resumen"
      ],
      "metadata": {
        "colab": {
          "base_uri": "https://localhost:8080/",
          "height": 592
        },
        "id": "L_d8F2TkXy9I",
        "outputId": "6495b17e-4be8-40a8-f6f8-f82ee7b35835"
      },
      "execution_count": null,
      "outputs": [
        {
          "output_type": "stream",
          "name": "stderr",
          "text": [
            "\n",
            "Attaching package: ‘dplyr’\n",
            "\n",
            "\n",
            "The following objects are masked from ‘package:stats’:\n",
            "\n",
            "    filter, lag\n",
            "\n",
            "\n",
            "The following objects are masked from ‘package:base’:\n",
            "\n",
            "    intersect, setdiff, setequal, union\n",
            "\n",
            "\n",
            "\u001b[1m\u001b[22m`summarise()` has grouped output by 'category'. You can override using the\n",
            "`.groups` argument.\n"
          ]
        },
        {
          "output_type": "display_data",
          "data": {
            "text/html": [
              "<table class=\"dataframe\">\n",
              "<caption>A tibble: 6 × 7</caption>\n",
              "<thead>\n",
              "\t<tr><th scope=col>category</th><th scope=col>N_job_title</th><th scope=col>Salario_promedio_categoria</th><th scope=col>job_title_salario_maximo</th><th scope=col>N_Cargo_salario_maximo</th><th scope=col>job_title_salario_minimo</th><th scope=col>N_Cargo_salario_minimo</th></tr>\n",
              "\t<tr><th scope=col>&lt;chr&gt;</th><th scope=col>&lt;int&gt;</th><th scope=col>&lt;dbl&gt;</th><th scope=col>&lt;chr&gt;</th><th scope=col>&lt;int&gt;</th><th scope=col>&lt;chr&gt;</th><th scope=col>&lt;int&gt;</th></tr>\n",
              "</thead>\n",
              "<tbody>\n",
              "\t<tr><td>AI_and_Machine_Learning</td><td>3280</td><td>174835.2</td><td>AI Architect               </td><td>  59</td><td>Machine Learning Developer     </td><td>  15</td></tr>\n",
              "\t<tr><td>Analytics_and_BI       </td><td>4522</td><td>110745.1</td><td>Data Visualization Engineer</td><td>  28</td><td>Business Intelligence Developer</td><td> 125</td></tr>\n",
              "\t<tr><td>Data_Engineering       </td><td>4559</td><td>149627.5</td><td>Analytics Engineer         </td><td> 691</td><td>Analytics Engineer             </td><td> 691</td></tr>\n",
              "\t<tr><td>Data_Science           </td><td>4816</td><td>155146.4</td><td>Data Scientist             </td><td>4264</td><td>Data Scientist                 </td><td>4264</td></tr>\n",
              "\t<tr><td>Others_Generalist      </td><td>4206</td><td>141611.6</td><td>Site Reliability Engineer  </td><td> 100</td><td>Computer Vision Engineer       </td><td>  30</td></tr>\n",
              "\t<tr><td>Software_and_DevOps    </td><td>3396</td><td>173729.7</td><td>Software Engineer          </td><td>2614</td><td>Software Engineer              </td><td>2614</td></tr>\n",
              "</tbody>\n",
              "</table>\n"
            ],
            "text/markdown": "\nA tibble: 6 × 7\n\n| category &lt;chr&gt; | N_job_title &lt;int&gt; | Salario_promedio_categoria &lt;dbl&gt; | job_title_salario_maximo &lt;chr&gt; | N_Cargo_salario_maximo &lt;int&gt; | job_title_salario_minimo &lt;chr&gt; | N_Cargo_salario_minimo &lt;int&gt; |\n|---|---|---|---|---|---|---|\n| AI_and_Machine_Learning | 3280 | 174835.2 | AI Architect                |   59 | Machine Learning Developer      |   15 |\n| Analytics_and_BI        | 4522 | 110745.1 | Data Visualization Engineer |   28 | Business Intelligence Developer |  125 |\n| Data_Engineering        | 4559 | 149627.5 | Analytics Engineer          |  691 | Analytics Engineer              |  691 |\n| Data_Science            | 4816 | 155146.4 | Data Scientist              | 4264 | Data Scientist                  | 4264 |\n| Others_Generalist       | 4206 | 141611.6 | Site Reliability Engineer   |  100 | Computer Vision Engineer        |   30 |\n| Software_and_DevOps     | 3396 | 173729.7 | Software Engineer           | 2614 | Software Engineer               | 2614 |\n\n",
            "text/latex": "A tibble: 6 × 7\n\\begin{tabular}{lllllll}\n category & N\\_job\\_title & Salario\\_promedio\\_categoria & job\\_title\\_salario\\_maximo & N\\_Cargo\\_salario\\_maximo & job\\_title\\_salario\\_minimo & N\\_Cargo\\_salario\\_minimo\\\\\n <chr> & <int> & <dbl> & <chr> & <int> & <chr> & <int>\\\\\n\\hline\n\t AI\\_and\\_Machine\\_Learning & 3280 & 174835.2 & AI Architect                &   59 & Machine Learning Developer      &   15\\\\\n\t Analytics\\_and\\_BI        & 4522 & 110745.1 & Data Visualization Engineer &   28 & Business Intelligence Developer &  125\\\\\n\t Data\\_Engineering        & 4559 & 149627.5 & Analytics Engineer          &  691 & Analytics Engineer              &  691\\\\\n\t Data\\_Science            & 4816 & 155146.4 & Data Scientist              & 4264 & Data Scientist                  & 4264\\\\\n\t Others\\_Generalist       & 4206 & 141611.6 & Site Reliability Engineer   &  100 & Computer Vision Engineer        &   30\\\\\n\t Software\\_and\\_DevOps     & 3396 & 173729.7 & Software Engineer           & 2614 & Software Engineer               & 2614\\\\\n\\end{tabular}\n",
            "text/plain": [
              "  category                N_job_title Salario_promedio_categoria\n",
              "1 AI_and_Machine_Learning 3280        174835.2                  \n",
              "2 Analytics_and_BI        4522        110745.1                  \n",
              "3 Data_Engineering        4559        149627.5                  \n",
              "4 Data_Science            4816        155146.4                  \n",
              "5 Others_Generalist       4206        141611.6                  \n",
              "6 Software_and_DevOps     3396        173729.7                  \n",
              "  job_title_salario_maximo    N_Cargo_salario_maximo\n",
              "1 AI Architect                  59                  \n",
              "2 Data Visualization Engineer   28                  \n",
              "3 Analytics Engineer           691                  \n",
              "4 Data Scientist              4264                  \n",
              "5 Site Reliability Engineer    100                  \n",
              "6 Software Engineer           2614                  \n",
              "  job_title_salario_minimo        N_Cargo_salario_minimo\n",
              "1 Machine Learning Developer        15                  \n",
              "2 Business Intelligence Developer  125                  \n",
              "3 Analytics Engineer               691                  \n",
              "4 Data Scientist                  4264                  \n",
              "5 Computer Vision Engineer          30                  \n",
              "6 Software Engineer               2614                  "
            ]
          },
          "metadata": {}
        }
      ]
    },
    {
      "cell_type": "code",
      "source": [
        "# Escritura de archivo *.csv\n",
        "\n",
        "write.csv(resumen, \"resumen.csv\", row.names = F)"
      ],
      "metadata": {
        "id": "S1jGkMfV_Bvn"
      },
      "execution_count": null,
      "outputs": []
    },
    {
      "cell_type": "code",
      "source": [
        "# Comentarios\n",
        "#¿Cuál es la categoría con mayor cantidad de puestos de trabajo registrados?\n",
        "#Con base al resumen generado, se puede observar que la categoría \"Data_Science\" es la que más registros contiene, considerando aquellas posiciones 100% remotos.\n",
        "\n",
        "#¿Cuál es la categoría con mayor salario promedio?\n",
        "#\"AI_and_Machine_Learning\" es la categoría con mayor salario promedio, entro de la cual, \"AI Architect\" es el cargo del perfil con mayor salario registrado (59 perfiles con dicho cargo), mientras que el perfil que registó menor salario tiene el cargo \"Machine Learning Developer\" dentro de la categoría \"AI_and_Machine_Learning\"."
      ],
      "metadata": {
        "id": "BeyffvjGBfWN"
      },
      "execution_count": null,
      "outputs": []
    }
  ]
}