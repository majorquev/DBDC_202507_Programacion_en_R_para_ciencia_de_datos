{
  "cells": [
    {
      "cell_type": "markdown",
      "metadata": {
        "id": "view-in-github",
        "colab_type": "text"
      },
      "source": [
        "<a href=\"https://colab.research.google.com/github/majorquev/DBDC_202507_Programacion_en_R_para_ciencia_de_datos/blob/main/Evaluaciones/C3/Evaluacion_final_V19.ipynb\" target=\"_parent\"><img src=\"https://colab.research.google.com/assets/colab-badge.svg\" alt=\"Open In Colab\"/></a>"
      ]
    },
    {
      "cell_type": "markdown",
      "source": [
        "# Control 3\n",
        "Nombre 1: _Puede incluir su nombre acá haciendo doble click_                                                                                                                                      <br>\n",
        "Nombre 2: _Puede incluir su nombre acá haciendo doble click_\n",
        "\n",
        "# Instrucciones\n",
        "\n",
        "El siguiente test podrá desarrollarlo de manera individual o en pareja con otro(a) de sus compañeros(as).<br>\n",
        "\n",
        "Lea atentamente cada una de las preguntas propuestas y sea claro en los comentarios (si es que los incluye) de los desarrollos de sus respuestas. Para el desarrollo de las mismas, dispone de celdas de código después de cada pregunta. Sin embargo podrá agregar más celdas si así lo estima conveniente.<br>\n",
        "Las preguntas formuladas en este test pueden ser abordadas con las herramientas trabajadas en clases, sin embaro, usted podrá hacer uso de las funcionalidades y/o packages que estime convenientes, a menos que se indique explícitamente lo contrario.\n",
        "\n",
        "## Tiempo y entrega\n",
        "Dispondrán hasta el día domingo **07 de septiembre** hasta las 23:59 hrs para hacer envío de sus respuestas.\n",
        "Una vez finalizado el desarrollo del test, deberá entregarlo teniendo en cuenta las siguientes consideraciones:\n",
        "\n",
        " * Descargue el notebook en **formato `*.ipynb`** (uno por pareja), e indique en el nombre del archivo los nombres de los integrantes, `Control3_nombres_integrantes.ipynb`.\n",
        "\n",
        " * En caso de trabajar en Rstudio, deberá enviar el script de extensión `*.R` con el siguiente nombre: `Control3_nombres_integrantes.R` , **procurando indicar con comentarios claros, qué pregunta está respondiendo en cada caso**.\n",
        " * Envíe el archivo al correo rumorale1@gmail.com, con copia a majorquev@gmail.com con el asunto \"DBDC-R-C3: 'nombre y apellido de los integrantes' \"\n",
        "\n",
        "**NOTA**:\n",
        "   * Los correos cuyo asunto no comiencen con \"DBDC-R-C3\" no llegarán a destino y por ende no serán calificados.\n",
        "   * Los archivos que no contengan nombre serán calificados con la nota mínima 1.0.\n",
        "   * Los correos enviados posterior a la fecha y hora de entrega indicados tendrán una penalización de 1 punto por día (o fracción) de retraso en la entrega, por ejemplo, si usted envía sus respuestas a las 00:05 hrs del lunes 08 de septiembre, su nota máxima será un 6.0."
      ],
      "metadata": {
        "id": "uSzFnwHWczod"
      }
    },
    {
      "cell_type": "markdown",
      "metadata": {
        "id": "mC3LbyN3Uehe"
      },
      "source": [
        "# Sección 1\n",
        "## Introducción\n",
        "Los datos que se proporcionan a continuación contienen el detalle de la información de los cliente registrados en una tienda, junto con algunos descriptores de su comportamiento transaccional durante los últimos 2 años.\n",
        "El archivo  `marketing_campaign.csv` contiene los siguientes campos:\n",
        "\n",
        "**Cliente**\n",
        "\n",
        " * `ID`: Identificador único del cliente\n",
        " * `Year_Birth`: Año de nacimiento del cliente\n",
        " * `Education`: Nivel educativo del cliente\n",
        " * `Marital_Status`: Estado civil del cliente. El cual contiene las siguientes categorías.\n",
        "\n",
        "| Categoría        | Qué representa                                                                                           |\n",
        "| ------------ | -------------------------------------------------------------------------------------------------------- |\n",
        "| **Married**  | Persona legalmente casada.|                                                                         |\n",
        "| **Together** | Pareja que convive pero no está casada (unión libre/conviviente).|\n",
        "| **Single**   | Soltero/a: nunca se ha casado ni convive en pareja.              |\n",
        "| **Divorced** | Persona divorciada legalmente (o separada).                      |\n",
        "| **Widow**    | Viudo/a.                                                         |\n",
        "| **Alone**    | Vive solo/a. No necesariamente soltero (podría estar separado, viudo, etc.), pero se autodeclara “solo”. |\n",
        "| **YOLO**     | Respuesta absurda (“You Only Live Once”). Indica que el encuestado no quiso contestar seriamente.        |\n",
        "| **Absurd**   | Otra respuesta no válida o humorística.                                                                  |\n",
        "\n",
        " * `Income`: Ingreso anual del hogar del cliente\n",
        " * `Kidhome`: Número de niños en el hogar del cliente\n",
        " * `Teenhome`: Número de adolescentes en el hogar del cliente\n",
        " * `Dt_Customer`: Fecha de inscripción del cliente en la empresa\n",
        " * `Recency`: Número de días desde la última compra del cliente\n",
        " * `Complain`: 1 si el cliente presentó una queja en los últimos 2 años, 0 en caso contrario\n",
        "\n",
        "**Productos**\n",
        "\n",
        " * `MntWines`: Monto gastado en vino en los últimos 2 años\n",
        " * `MntFruits`: Monto gastado en frutas en los últimos 2 años\n",
        " * `MntMeatProducts`: Monto gastado en carne en los últimos 2 años\n",
        " * `MntFishProducts`: Monto gastado en pescado en los últimos 2 años\n",
        " * `MntSweetProducts`: Monto gastado en dulces en los últimos 2 años\n",
        " * `MntGoldProds`: Monto gastado en productos de oro en los últimos 2 años\n",
        "\n",
        "**Campañas de descuentos**\n",
        "\n",
        " * `NumDealsPurchases`: Número de compras realizadas con descuento\n",
        " * `AcceptedCmp1`: 1 si el cliente aceptó la oferta en la 1.ª campaña, 0 en caso contrario\n",
        " * `AcceptedCmp2`: 1 si el cliente aceptó la oferta en la 2.ª campaña, 0 en caso contrario\n",
        " * `AcceptedCmp3`: 1 si el cliente aceptó la oferta en la 3.ª campaña, 0 en caso contrario\n",
        " * `AcceptedCmp4`: 1 si el cliente aceptó la oferta en la 4.ª campaña, 0 en caso contrario\n",
        " * `AcceptedCmp5`: 1 si el cliente aceptó la oferta en la 5.ª campaña, 0 en caso contrario\n",
        " * `Response`: 1 si el cliente aceptó la oferta en la última campaña, 0 en caso contrario\n",
        "\n",
        "**Frecuencia de compras**\n",
        "\n",
        " * `NumWebPurchases`: Número de compras realizadas a través del sitio web de la empresa\n",
        " * `NumCatalogPurchases`: Número de compras realizadas mediante catálogo\n",
        " * `NumStorePurchases`: Número de compras realizadas directamente en tiendas\n",
        " * `NumWebVisitsMonth`: Número de visitas al sitio web de la empresa en el último mes\n",
        "\n",
        " Usted deberá realizar un análisis exploratorio de esta información con el objetivo de poder caracterizar a los clientes de esta tienda.\n",
        "\n",
        "## Preliminar\n",
        "\n",
        "**P0a) (1pt)** Cargue el archivo `marketing_campaign.csv` mediante la función `read.table()`. Tenga en cuenta que las columnas están separadas por _tabulador_ `\\t`, y que la primera fila contiene los nombres de los campos (considere el parámetro `header = T`)\n"
      ]
    },
    {
      "cell_type": "code",
      "source": [
        "# Respuesta"
      ],
      "metadata": {
        "id": "CLnTcaS5Lf7e"
      },
      "execution_count": null,
      "outputs": []
    },
    {
      "cell_type": "markdown",
      "source": [
        "**P0b) (2pts)** Verifique que el campo `Income` contiene valores nulos (`NA`). Reemplace dichos registros por el valor promedio de `Income`."
      ],
      "metadata": {
        "id": "PWF4d0_ZKQ2C"
      }
    },
    {
      "cell_type": "code",
      "source": [
        "# Respuesta"
      ],
      "metadata": {
        "id": "lesf1q1dKM2J"
      },
      "execution_count": null,
      "outputs": []
    },
    {
      "cell_type": "markdown",
      "source": [
        " ## Preguntas 1.1\n",
        "**P1a) (6pt)** Para guiar su análisis considere crear los siguientes nuevos atributos para cada cliente.\n",
        "\n",
        " * `monto_total`: definido como la suma de los montos por concepto de vino, fruta, carne, pescado, dulces y productos de oro.\n",
        " * `frequencia`: definido como el total de compras ya sea directo en tienda, catálogo o sitio web de la empresa (refiérase a los campos relacionados a \"Frecuencia de compra\".\n",
        " * `tiene_hijos`: \"SI\" si es que el cliente tiene al menos un niño o adolecente en el hogar. \"NO\" en caso contrario.\n",
        " * `RatioGastosIngresos`: definido como el cuociente `monto_total/Income`. Busca cuantificar la proporción de gastos en productos de la tienda por sobre los ingresos del cliente.\n",
        " * `tasa_conversion_web`: cuociente entre Total de compras por la web y el total de compras del cliente (`NumWebPurchases/frequencia`)\n",
        " * `Marital_Status2`: Recodificación de `Marital_Status` como; \"Single\" si el estado es \"Alone\". \"Desconocido\" si el estado es \"YOLO\" o \"Absurd\".   <br><br>\n",
        "\n",
        "\n",
        "\n",
        "\n",
        "\n",
        "\n",
        "\n",
        "\n"
      ],
      "metadata": {
        "id": "x8U9I9EnNKu2"
      }
    },
    {
      "cell_type": "code",
      "source": [
        "# Respuesta"
      ],
      "metadata": {
        "id": "Jme6gKG4MiN2"
      },
      "execution_count": null,
      "outputs": []
    },
    {
      "cell_type": "markdown",
      "source": [
        "\n",
        " **P1b) (9pt)** Cómo política de la tienda, se busca caracterizar a los clientes según su `frecuencia` de compra en la tienda. Para ello considere la elaboración de:\n",
        "  * Un boxplot, un gráfico de barras y una tabla que describa la relación entre `frecuencia` de compra y `Education`. Su tabla y gráfico de barras debe mostrar el promedio de `frecuencia` por cada categoría de `Education`.\n",
        "  * Un boxplot,  un gráfico de barras y una tabla que describa la relación entre `frecuencia` de compra y `Marital_Status2`. Su tabla y gráfico de barras debe mostrar el promedio de `frecuencia` por cada categoría de `Marital_Status2`.\n",
        "  * Un boxplot,  un gráfico de barras y una tabla que describa la relación entre `frecuencia` de compra y `tiene_hijos`. Su tabla y gráfico de barras debe mostrar el promedio de `frecuencia` por cada categoría de ``tiene_hijos``.\n",
        "\n",
        "¿Cuáles son las categorías clientes con mayor/menor frecuencia de compra promedio y mediana?. Comente con base en las tablas de resumen y sus gráficos."
      ],
      "metadata": {
        "id": "H8IpuZf0J1nm"
      }
    },
    {
      "cell_type": "code",
      "source": [
        "# Respuesta"
      ],
      "metadata": {
        "id": "MnwEawvcJ4xH"
      },
      "execution_count": null,
      "outputs": []
    },
    {
      "cell_type": "markdown",
      "metadata": {
        "id": "QJSiXhX1Uehv"
      },
      "source": [
        "**P1c) (3pts)** Considerando sólo los clientes sin hijos, describa mediante un histograma de densidades la variable ingreso (`Income`). Considere ajustar la curva de densidad normal con los parámetros estimados para `mean` y `sd`. Basándose sólo en su gráfico, comente sobre la posibilidad que el ingreso siga una distribución normal. Para complementar su respuesta y visualización, considere añadir una estimación de la densidad a través de la función `geom_density()`.\n"
      ]
    },
    {
      "cell_type": "code",
      "source": [
        "# Respuesta"
      ],
      "metadata": {
        "id": "5T_9-GqtXYlS"
      },
      "execution_count": null,
      "outputs": []
    },
    {
      "cell_type": "markdown",
      "source": [
        "## Preguntas 1.2"
      ],
      "metadata": {
        "id": "0lRtJyJLw455"
      }
    },
    {
      "cell_type": "markdown",
      "source": [
        "Una manera de caracterizar a los clientes es mediante un análisis de las frecuencias de compra, su recencia y los montos de compra (RFM por sus siglas en inglés). Para ello, cada una de las variables que representan a estos conceptos en nuestro dataframe (`Recency`, `frecuencia` y `monto_total` ), deberán ser discretizadas, es decir, crear categorías para cada una de ellas. Esto lo podemos realizar mediante el cálculo de percentiles. <br>\n",
        "\n",
        "Para este caso utilizaremos _quintiles_ (dividen la muestra en 5 grupos), y asignaremos a cada valor de cada una de las 3 vaiables anteriores el quintil al cual pertenece. Por ejemplo, si un cliente tiene un ingreso (`Income`) cuyo monto se encuentra en el 3er quintil de dicha variable, entonces a este registro se le asigna el valor 3. Esta asignación la podemos llevar a cabo con la función `ntile()`, la cual retorna justamente lo indicado.<br>\n",
        "\n",
        "**P2a) (3pts)** Genere tres nuevas variables llamadas `recency_cat`, `freq_cat` y `Monto_cat` que contengan los quintiles al que pertenece cada registro de `Recency`, `frecuencia` y `monto_total` respectivamente.\n",
        "Tenga en cuenta que valores en quintiles altos, serán preferibles para las variables monto_total y frecuencia, (clientes top), sin embargo, para recencia los quintiles bajos serán preferibles (clientes top), para lo cual considere `recency_cat = ntile(desc(Recency),5)`.<br>\n",
        "\n",
        "Como referencia, los campos indicados deberán verse de la siguiente manera (cabecera):\n",
        "![image.png](data:image/png;base64,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)"
      ],
      "metadata": {
        "id": "LGyBbxHfw72Q"
      }
    },
    {
      "cell_type": "code",
      "source": [
        "# Respuesta"
      ],
      "metadata": {
        "id": "9v-fISm9w68i"
      },
      "execution_count": null,
      "outputs": []
    },
    {
      "cell_type": "markdown",
      "source": [
        "**P2b) (1pts)** Una alternativa para caracterizar el comportamiento del cliente con base en estas 3 métricas, es asignándole un _score_. Este lo podemos definir como el promedio de `recency_cat`,\t`freq_cat`\ty `Monto_cat`, pero dada la estrategia de la tienda, sonde se le da una mayor importancia a los clientes que compran con más frecuencia, considere el **promedio ponderado** de la siguiente forma y guárdelo en un columna adicional llamada `score`.\n",
        "\n",
        "    score = 0.2*recency_cat + 0.4*freq_cat + 0.4*Monto_cat"
      ],
      "metadata": {
        "id": "elR6A1fJ3Psd"
      }
    },
    {
      "cell_type": "code",
      "execution_count": null,
      "metadata": {
        "id": "BRhNYT-YUehw"
      },
      "outputs": [],
      "source": [
        "# Respuesta"
      ]
    },
    {
      "cell_type": "markdown",
      "metadata": {
        "id": "k4hzSTFUUehx"
      },
      "source": [
        "**P2c) (6pts)** ¿Cuáles son las catgorías de clientes con mayor y menor score para las variables `tiene_hijos` `Marital_Status2` y `Education`?. Complemente su análisis mediante gráficos de cajas (boxplots) y comente sobre las medianas del score, para las categorías con mayor/menor score.\n"
      ]
    },
    {
      "cell_type": "code",
      "execution_count": null,
      "metadata": {
        "id": "tkRX-x84Uehy"
      },
      "outputs": [],
      "source": [
        "# Respuesta"
      ]
    },
    {
      "cell_type": "markdown",
      "metadata": {
        "id": "EhNellUiUeh2"
      },
      "source": [
        "**P2d) (4pt)** Genere un gráfico de dispersión entre `score` y  la variable `RatioGastosIngresos`. ¿Qué observa?. Considere utilizar el criterio del rango intercuartílico para identificar posibles outliers de acuerdo a la variable `RatioGastosIngresos` en su dataset. Según este criterio, ¿cuáles son los IDs de los clientes potencialmente atípicos según su RatioGastosIngresos? Comente sobre sus scores y ratio de gastos. <br>\n",
        "\n",
        "**P2e) (4pt)** Vuelva a generar el gráfico de dispersión anterior, pero filtrando (excluyendo) los clientes clasificados como outliers en la pregunta anterior. Añada una curva de tendencia, y calcule los coeficientes de correlación de pearson y spearman. Comente al respecto.\n",
        "\n",
        "**P2f) (4pt)** Replique el gráfico de dispersión anterior (incluyendo la curva de tendencia) y considere aperturar por `color = Education`. ¿Qué nivel de educación presenta visualmente una mayor correlación? Justifique o Refute con el cálculo de la correlación de spearman y pearson para cada nivel educativo.\n",
        "\n"
      ]
    },
    {
      "cell_type": "code",
      "execution_count": null,
      "metadata": {
        "id": "1SjR_ftUUeh3"
      },
      "outputs": [],
      "source": [
        "# Respuesta"
      ]
    },
    {
      "cell_type": "markdown",
      "metadata": {
        "id": "sLm0IZnrUeiB"
      },
      "source": [
        "# Sección 2\n",
        "## Cafetería\n",
        "A usted se le solicita analizar las ventas de los distintos productos ofrecidos por una cafetería. Para ello usted deberá generar una descripción de dichas ventas,utilizando estadísticos descriptivos, gráficos  y además deberá incluir un análisis de la venta cruzada de los productos en cuestión."
      ]
    },
    {
      "cell_type": "code",
      "source": [
        "install.packages(\"arules\")"
      ],
      "metadata": {
        "id": "MFmB-2Hh49iz"
      },
      "execution_count": null,
      "outputs": []
    },
    {
      "cell_type": "code",
      "source": [
        "library(arules)\n",
        "library(dplyr)\n",
        "library(ggplot2)"
      ],
      "metadata": {
        "id": "nQmFNfCaTxtx"
      },
      "execution_count": null,
      "outputs": []
    },
    {
      "cell_type": "markdown",
      "metadata": {
        "id": "P24PefjTUeiF"
      },
      "source": [
        "El siguiente archivo contiene los registros de las ventas de una cafetería en un determinado período.\n",
        "Ustede deberá responder las siguientes preguntas con el objetivo de generar recomendaciones de ventas en distintos períodos de tiempo."
      ]
    },
    {
      "cell_type": "code",
      "source": [
        "trans_original <- read.csv(\"https://raw.githubusercontent.com/majorquev/DBDC_202507_Programacion_en_R_para_ciencia_de_datos/main/Evaluaciones/C3/datasets/cafeteria.csv\")\n",
        "summary(trans_original)\n",
        "\n",
        "# Notamos que el item NONE aparece 786 veces, por lo que se decide eliminar este registro.\n",
        "\n",
        "trans_original <- filter(trans_original, Item != \"NONE\")\n",
        "trans_original %>% arrange(Transaction) %>% head(10)"
      ],
      "metadata": {
        "id": "DgxXFy9rT2If"
      },
      "execution_count": null,
      "outputs": []
    },
    {
      "cell_type": "markdown",
      "source": [
        "**P1) (2pts)** Genere tres nuevas columnas, que contengan la hora, minutos  y segundos de la transacción registrada.\n",
        "A modo de referencia, su tabla debería contener al menos los siguientes campos (en la imagen se muestran sólo algunos registros de la tabla).\n",
        "\n",
        "![image.png](data:image/png;base64,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)\n",
        "\n",
        "De ser de utilidad, puede consultar la documentación de las funciones substr y separate de los packages base y tidyr respectivamente."
      ],
      "metadata": {
        "id": "4yQP9xm2g7UJ"
      }
    },
    {
      "cell_type": "code",
      "source": [
        "# Respuesta"
      ],
      "metadata": {
        "id": "e-SQhxWcg-a-"
      },
      "execution_count": null,
      "outputs": []
    },
    {
      "cell_type": "markdown",
      "metadata": {
        "id": "cjqFHVhSUeiL"
      },
      "source": [
        "**P2) (4pts)**  Genere una tabla resumen que contenga la siguiente información.\n",
        "\n",
        "* `hora`: Hora donde se registraron las transacciones. por ejemplo, el valor 09 indica el bloque horario comprendido entre las 09:00 y 09:59 hrs.\n",
        "* `total_trx` : total de transacciones distintas generadas en el bloque horario respectivo.\n",
        "* `total_items`: total de items vendidos en el bloque horario respectivo.\n",
        "* `total_items_unicos`: total de items únicos venidos en el bloque horario respectivo.\n"
      ]
    },
    {
      "cell_type": "code",
      "execution_count": null,
      "metadata": {
        "id": "RnRdIvyWUeiM",
        "scrolled": false
      },
      "outputs": [],
      "source": [
        "# Respuesta"
      ]
    },
    {
      "cell_type": "markdown",
      "metadata": {
        "id": "xnXu5F0zUeiN"
      },
      "source": [
        "**P3)** Con base en la tabla anterior, diremos que una hora pertenece al horario punta si la **cantidad de transacciones distintas** generadas en dicho bloque supera las 1000 transacciones.\n",
        "\n",
        "**a) (1pt)** ¿Qué horas comprende el horario punta?<br>\n",
        "**b) (2pt)** En promedio, ¿cuántas transacciones distintas por hora se dieron en horario punta?¿y en horario no punta?\n"
      ]
    },
    {
      "cell_type": "code",
      "execution_count": null,
      "metadata": {
        "id": "pDNl_EEgUeiO"
      },
      "outputs": [],
      "source": [
        "# Respuesta"
      ]
    },
    {
      "cell_type": "markdown",
      "metadata": {
        "id": "CwspcYjxUeiS"
      },
      "source": [
        "### Análisis de los productos vendidos.\n",
        "Con el objetivo de aumentar las ventas, se le solicita a usted analizar los itmes y las ventas cruzadas entre los productos ofrecidos. Para ello usted guía su análisis en función de las siguientes preguntas.\n",
        "\n",
        "**P4) (2pt)** ¿Cuáles son los 5 items más vendidos? Ilustre mediante un gráfico de barras o una tabla."
      ]
    },
    {
      "cell_type": "code",
      "execution_count": null,
      "metadata": {
        "id": "ynrdk3hwUeiS"
      },
      "outputs": [],
      "source": [
        "# Respuesta"
      ]
    },
    {
      "cell_type": "markdown",
      "metadata": {
        "id": "3X0GUI3KUeiZ"
      },
      "source": [
        "**P5) (4pts)** ¿Cambian estos 5 ítems según el horario de atención? Para ello muestre los 5 items más vendidos en los siguientes horarios.\n",
        "\n",
        "* 7:00-11:59\n",
        "* 12:00-16:59\n",
        "* 17:00-23:59"
      ]
    },
    {
      "cell_type": "code",
      "execution_count": null,
      "metadata": {
        "id": "50oGEztyUeiZ"
      },
      "outputs": [],
      "source": [
        "# Respuesta"
      ]
    },
    {
      "cell_type": "markdown",
      "metadata": {
        "id": "pY8OKf0FUeib"
      },
      "source": [
        "### Genereación de reglas\n",
        "\n",
        "**P6)** Considerando un **support mínimo de 0.02** , un  **confidence mínimo de 0.1** y teniendo en cuenta que **no se deben considerar reglas de asociación cuyo antecedente o consecuente sean vacíos**,\n",
        "\n",
        "**a) (2pts)** ¿Cuál es la regla de asociación más frecuente en cada uno de los horarios indicados en **P5)**?<br>\n",
        "**b) (2pts)** ¿Cuál es la regla de asociación con mayor confidence en cada uno de los horarios indicados en **P5)**? <br>\n",
        "**c) (2pts)** ¿Cuál es la regla de asociación con mayor lift en cada uno de los horarios indicados en **P5)**? <br>\n",
        "\n",
        "**NOTA:** En caso de no obtener reglas con los parámetros indicados, modifíquelos, pero tenga en consideración este hecho al momento de argumentar las preguntas posteriores."
      ]
    },
    {
      "cell_type": "code",
      "source": [
        "# Respuesta"
      ],
      "metadata": {
        "id": "I6CBGBCLVWNc"
      },
      "execution_count": null,
      "outputs": []
    },
    {
      "cell_type": "markdown",
      "metadata": {
        "id": "NiuFM9gwUeil"
      },
      "source": [
        "**P7)** Se quiere potenciar un segundo producto por la compra de un café en los tres horarios definidos previamente.\n",
        "\n",
        "**a) (3pts)** Genere tres listados (uno por cada rango horario) con todas las reglas que contengan el producto `Coffee` en el antecedente.<br>\n",
        "**b) (2pts)** ¿Qué promoción recomendaría en cada horario por la compra de un café?. Justifique su respuesta basándose en los indicadores support, confidence y lift."
      ]
    },
    {
      "cell_type": "code",
      "execution_count": null,
      "metadata": {
        "id": "zaEk7YLEUeim"
      },
      "outputs": [],
      "source": [
        "# Respuesta"
      ]
    }
  ],
  "metadata": {
    "colab": {
      "provenance": [],
      "include_colab_link": true
    },
    "kernelspec": {
      "display_name": "R",
      "name": "ir"
    }
  },
  "nbformat": 4,
  "nbformat_minor": 0
}